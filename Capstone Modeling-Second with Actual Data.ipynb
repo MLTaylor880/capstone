{
 "cells": [
  {
   "cell_type": "code",
   "execution_count": 1,
   "metadata": {
    "collapsed": true
   },
   "outputs": [],
   "source": [
    "import csv\n",
    "import pandas as pd\n",
    "import numpy as np\n",
    "import matplotlib.pyplot as plt\n",
    "%matplotlib inline\n",
    "import sys  \n",
    "\n",
    "#extraction and npl\n",
    "from sklearn.feature_extraction.text import CountVectorizer\n",
    "import nltk\n",
    "from nltk.stem.wordnet import WordNetLemmatizer\n",
    "from nltk.stem import PorterStemmer\n",
    "from nltk import word_tokenize\n",
    "from sklearn.feature_selection import SelectKBest\n",
    "from sklearn.feature_extraction import DictVectorizer\n",
    "from sklearn.feature_selection import RFE\n",
    "from sklearn.feature_extraction.text import TfidfVectorizer\n",
    "from sklearn import preprocessing\n",
    "\n",
    "from sklearn.cross_validation import train_test_split\n",
    "from sklearn.cross_validation import StratifiedShuffleSplit\n",
    "\n",
    "from sklearn.cluster import KMeans\n",
    "\n",
    "from sklearn.grid_search import GridSearchCV\n",
    "from sklearn.linear_model import LogisticRegression\n",
    "from sklearn.metrics import confusion_matrix, classification_report\n",
    "\n",
    "\n",
    "#forest\n",
    "from sklearn.tree import DecisionTreeClassifier\n",
    "from sklearn.tree import DecisionTreeRegressor\n",
    "#bagging\n",
    "from sklearn.ensemble import BaggingClassifier\n",
    "#forests\n",
    "from sklearn.ensemble import RandomForestClassifier, ExtraTreesClassifier\n",
    "from sklearn.datasets import make_classification\n",
    "\n",
    "#Knn\n",
    "from sklearn.neighbors import KNeighborsClassifier\n",
    "\n",
    "\n",
    "\n",
    "from sklearn.preprocessing import LabelEncoder\n",
    "\n",
    "\n",
    "from sklearn.cross_validation import cross_val_score, StratifiedKFold\n",
    "from sklearn import datasets\n",
    "\n",
    "import string\n",
    "\n",
    "from sklearn.decomposition import PCA\n",
    "\n",
    "from sklearn.naive_bayes import MultinomialNB\n",
    "\n",
    "from sklearn.datasets import make_blobs\n",
    "from sklearn.metrics import silhouette_samples,silhouette_score\n",
    "import matplotlib.cm as cm\n",
    "from sklearn.preprocessing import StandardScaler\n",
    "from sklearn.cluster import AgglomerativeClustering"
   ]
  },
  {
   "cell_type": "markdown",
   "metadata": {},
   "source": [
    "#  I scraped data in another workbook \n",
    "I scraped Indeed.com \n",
    "The search terms are my degrees. I only search my geographical region"
   ]
  },
  {
   "cell_type": "code",
   "execution_count": 2,
   "metadata": {
    "collapsed": false
   },
   "outputs": [
    {
     "data": {
      "text/plain": [
       "u'/Users/marthataylor/GA/Capstone'"
      ]
     },
     "execution_count": 2,
     "metadata": {},
     "output_type": "execute_result"
    }
   ],
   "source": [
    "pwd\n"
   ]
  },
  {
   "cell_type": "code",
   "execution_count": 3,
   "metadata": {
    "collapsed": false
   },
   "outputs": [],
   "source": [
    "#importing the CSV file from job description misc\n",
    "listingFile =pd.read_csv(\"jobListingSummary.csv\")\n",
    "                         #,encoding='utf-8')"
   ]
  },
  {
   "cell_type": "code",
   "execution_count": 4,
   "metadata": {
    "collapsed": false
   },
   "outputs": [
    {
     "data": {
      "text/plain": [
       "(45, 5)"
      ]
     },
     "execution_count": 4,
     "metadata": {},
     "output_type": "execute_result"
    }
   ],
   "source": [
    "listingFile.shape"
   ]
  },
  {
   "cell_type": "code",
   "execution_count": 5,
   "metadata": {
    "collapsed": true
   },
   "outputs": [],
   "source": [
    "listingFile.columns=[['Degree','Job Title', 'City Location', 'Description', 'Source']]"
   ]
  },
  {
   "cell_type": "code",
   "execution_count": 6,
   "metadata": {
    "collapsed": false
   },
   "outputs": [
    {
     "data": {
      "text/html": [
       "<div>\n",
       "<table border=\"1\" class=\"dataframe\">\n",
       "  <thead>\n",
       "    <tr style=\"text-align: right;\">\n",
       "      <th></th>\n",
       "      <th>Degree</th>\n",
       "      <th>Job Title</th>\n",
       "      <th>City Location</th>\n",
       "      <th>Description</th>\n",
       "      <th>Source</th>\n",
       "    </tr>\n",
       "  </thead>\n",
       "  <tbody>\n",
       "    <tr>\n",
       "      <th>0</th>\n",
       "      <td>software+development</td>\n",
       "      <td>Software Intern</td>\n",
       "      <td>Dayton, OH</td>\n",
       "      <td>Demonstrated ability to work as part of a team...</td>\n",
       "      <td>sent descriptions</td>\n",
       "    </tr>\n",
       "  </tbody>\n",
       "</table>\n",
       "</div>"
      ],
      "text/plain": [
       "                 Degree        Job Title City Location  \\\n",
       "0  software+development  Software Intern    Dayton, OH   \n",
       "\n",
       "                                         Description             Source  \n",
       "0  Demonstrated ability to work as part of a team...  sent descriptions  "
      ]
     },
     "execution_count": 6,
     "metadata": {},
     "output_type": "execute_result"
    }
   ],
   "source": [
    "listingFile.head(1)"
   ]
  },
  {
   "cell_type": "code",
   "execution_count": null,
   "metadata": {
    "collapsed": true
   },
   "outputs": [],
   "source": []
  },
  {
   "cell_type": "code",
   "execution_count": 7,
   "metadata": {
    "collapsed": false
   },
   "outputs": [
    {
     "data": {
      "text/plain": [
       "user+support            19\n",
       "software+development    15\n",
       "network+manager          4\n",
       "data+analysis            3\n",
       "dayton+science           1\n",
       "web+developer            1\n",
       "web+development          1\n",
       "dayton+analysis          1\n",
       "Name: Degree, dtype: int64"
      ]
     },
     "execution_count": 7,
     "metadata": {},
     "output_type": "execute_result"
    }
   ],
   "source": [
    "listingFile['Degree'].value_counts()"
   ]
  },
  {
   "cell_type": "markdown",
   "metadata": {},
   "source": [
    "# Data Cleaning"
   ]
  },
  {
   "cell_type": "code",
   "execution_count": 8,
   "metadata": {
    "collapsed": true
   },
   "outputs": [],
   "source": [
    "#now make all words in description lower case\n",
    "listingFile['CleanDescription']=listingFile['Description'].apply(lambda x: x.lower())"
   ]
  },
  {
   "cell_type": "code",
   "execution_count": 9,
   "metadata": {
    "collapsed": true
   },
   "outputs": [],
   "source": [
    "#removing numbers\n",
    "listingFile['CleanDescription']= listingFile['CleanDescription'].apply(lambda x: ''.join([i for i in x if not i.isdigit()]))"
   ]
  },
  {
   "cell_type": "code",
   "execution_count": 10,
   "metadata": {
    "collapsed": true
   },
   "outputs": [],
   "source": [
    "#remove punctuation - code could be more efficient\n",
    "listingFile['CleanDescription']= listingFile['CleanDescription'].apply(lambda x: x.strip(','))\n",
    "listingFile['CleanDescription']= listingFile['CleanDescription'].apply(lambda x: x.strip('.'))\n",
    "#listingFile['CleanDescription']= listingFile['CleanDescription'].apply(lambda x: x.replace('\\('))\n",
    "\n"
   ]
  },
  {
   "cell_type": "code",
   "execution_count": 11,
   "metadata": {
    "collapsed": true
   },
   "outputs": [],
   "source": [
    "#removing numbers from the descriptions\n",
    "listingFile['CleanDescription']= listingFile['CleanDescription'].apply(lambda x: x.lstrip().replace('\\n',''))"
   ]
  },
  {
   "cell_type": "code",
   "execution_count": 12,
   "metadata": {
    "collapsed": false
   },
   "outputs": [
    {
     "data": {
      "text/plain": [
       "Degree              0\n",
       "Job Title           0\n",
       "City Location       0\n",
       "Description         0\n",
       "Source              0\n",
       "CleanDescription    0\n",
       "dtype: int64"
      ]
     },
     "execution_count": 12,
     "metadata": {},
     "output_type": "execute_result"
    }
   ],
   "source": [
    "#checking to see if any null characters\n",
    "listingFile.isnull().sum()"
   ]
  },
  {
   "cell_type": "code",
   "execution_count": 13,
   "metadata": {
    "collapsed": false
   },
   "outputs": [
    {
     "name": "stdout",
     "output_type": "stream",
     "text": [
      "(45, 6)\n",
      "(45, 6)\n"
     ]
    }
   ],
   "source": [
    "#drop duplicates\n",
    "print listingFile.shape\n",
    "listingFile=listingFile.drop_duplicates()\n",
    "print listingFile.shape"
   ]
  },
  {
   "cell_type": "code",
   "execution_count": 14,
   "metadata": {
    "collapsed": false
   },
   "outputs": [],
   "source": [
    "# Removing certain words to see if this will improve my clustering. It did not."
   ]
  },
  {
   "cell_type": "code",
   "execution_count": 15,
   "metadata": {
    "collapsed": true
   },
   "outputs": [],
   "source": [
    "#listingFile['CleanDescription']= listingFile['CleanDescription'].apply(lambda x: x.replace('development',''))"
   ]
  },
  {
   "cell_type": "code",
   "execution_count": 16,
   "metadata": {
    "collapsed": false
   },
   "outputs": [
    {
     "data": {
      "text/plain": [
       "0     demonstrated ability to work as part of a team...\n",
       "1     visual studio experience, ver.  and/or .  .net...\n",
       "2     currently enrolled in a bachelor�s or master�s...\n",
       "3     in the position of software development co-op,...\n",
       "4     in the position of information technology (it)...\n",
       "5     knowledge of tcp/ip networking and the osi mod...\n",
       "6     takes, prioritizes and documents help desk cal...\n",
       "7     object oriented programming-knowledge of asp.n...\n",
       "8     - years� experience   proven track record of p...\n",
       "9     responds to requests for technical assistance ...\n",
       "10    achieving or working towards associate or bach...\n",
       "11    this is an entry level intern position requiri...\n",
       "12    customer oriented attitude, ability to communi...\n",
       "13    basic computer networking skills. + years expe...\n",
       "14    in the process of obtaining an it-related degr...\n",
       "15    typically requires a minimum one year of deskt...\n",
       "16    visual studio  automated testing unit/integrat...\n",
       "17    excellent verbal and written communication ski...\n",
       "18    excellent verbal and written communication ski...\n",
       "19    excellent verbal and written communication ski...\n",
       "20    gpa  planning on pursuing a career in informat...\n",
       "21    customer service  self-motivated  work indepen...\n",
       "22    experience in analyzing customer needs and dev...\n",
       "23    four-year degree in computer science or relate...\n",
       "24    minimum of a technical or associates degree in...\n",
       "25    cis  introduction to operating systemsor  cis ...\n",
       "26    experience with configuring and troubleshootin...\n",
       "27    ssist with network administration, pc repairs,...\n",
       "28    pc repair troubleshooting diagonostics and rep...\n",
       "29                 comptia a+ security+ cisco ccna mcse\n",
       "Name: CleanDescription, dtype: object"
      ]
     },
     "execution_count": 16,
     "metadata": {},
     "output_type": "execute_result"
    }
   ],
   "source": [
    "listingFile['CleanDescription'].head(30)"
   ]
  },
  {
   "cell_type": "code",
   "execution_count": 17,
   "metadata": {
    "collapsed": true
   },
   "outputs": [],
   "source": [
    "listingFile['CleanDescription']= listingFile['CleanDescription'].apply(lambda x: x.strip('?'))"
   ]
  },
  {
   "cell_type": "markdown",
   "metadata": {},
   "source": [
    "# Label encoder for degrees"
   ]
  },
  {
   "cell_type": "code",
   "execution_count": 18,
   "metadata": {
    "collapsed": false
   },
   "outputs": [
    {
     "data": {
      "text/plain": [
       "LabelEncoder()"
      ]
     },
     "execution_count": 18,
     "metadata": {},
     "output_type": "execute_result"
    }
   ],
   "source": [
    "label_encoder = preprocessing.LabelEncoder()\n",
    "# input_classes = ['user+support', 'software+development', 'web+development', 'network+manager',\n",
    "#         'network+engineer', 'cyber+security','data+science', 'data+analysis']\n",
    "label_encoder.fit(listingFile['Degree'])\n"
   ]
  },
  {
   "cell_type": "code",
   "execution_count": 21,
   "metadata": {
    "collapsed": false
   },
   "outputs": [],
   "source": [
    "encoded_labels = label_encoder.transform(listingFile['Degree'])\n",
    "# print \"\\nLabels =\", input_classes \n",
    "# print \"Encoded labels =\", list(encoded_labels)"
   ]
  },
  {
   "cell_type": "code",
   "execution_count": 22,
   "metadata": {
    "collapsed": false
   },
   "outputs": [],
   "source": [
    "#creating a column for encoded degree\n",
    "listingFile['encodedDegree']=label_encoder.transform(listingFile['Degree'])"
   ]
  },
  {
   "cell_type": "code",
   "execution_count": null,
   "metadata": {
    "collapsed": true
   },
   "outputs": [],
   "source": []
  },
  {
   "cell_type": "markdown",
   "metadata": {},
   "source": [
    "# count vectorizer of the cleanDescription"
   ]
  },
  {
   "cell_type": "code",
   "execution_count": 23,
   "metadata": {
    "collapsed": true
   },
   "outputs": [],
   "source": [
    "# will not limit the number of words\n",
    "cvec = CountVectorizer()\n",
    "v = CountVectorizer(\n",
    "    binary=True,  \n",
    "    stop_words='english')\n",
    "#,max_features=500\n"
   ]
  },
  {
   "cell_type": "code",
   "execution_count": 26,
   "metadata": {
    "collapsed": false
   },
   "outputs": [
    {
     "data": {
      "text/plain": [
       "(45, 877)"
      ]
     },
     "execution_count": 26,
     "metadata": {},
     "output_type": "execute_result"
    }
   ],
   "source": [
    "listingFile['CleanDescription'] = listingFile['CleanDescription'].apply(lambda x: x.decode(errors='ignore'))\n",
    "\n",
    "wordsDescription = v.fit_transform(listingFile['CleanDescription']).todense()\n",
    "wordsDescription = pd.DataFrame(wordsDescription, columns=v.get_feature_names())\n",
    "wordsDescription.shape"
   ]
  },
  {
   "cell_type": "code",
   "execution_count": 27,
   "metadata": {
    "collapsed": false
   },
   "outputs": [
    {
     "data": {
      "text/html": [
       "<div>\n",
       "<table border=\"1\" class=\"dataframe\">\n",
       "  <thead>\n",
       "    <tr style=\"text-align: right;\">\n",
       "      <th></th>\n",
       "      <th>abilities</th>\n",
       "      <th>ability</th>\n",
       "      <th>able</th>\n",
       "      <th>abreast</th>\n",
       "      <th>academic</th>\n",
       "      <th>access</th>\n",
       "      <th>accommodate</th>\n",
       "      <th>accordance</th>\n",
       "      <th>accordingly</th>\n",
       "      <th>accurate</th>\n",
       "      <th>...</th>\n",
       "      <th>workstations</th>\n",
       "      <th>write</th>\n",
       "      <th>writing</th>\n",
       "      <th>written</th>\n",
       "      <th>xml</th>\n",
       "      <th>xslt</th>\n",
       "      <th>yarn</th>\n",
       "      <th>year</th>\n",
       "      <th>years</th>\n",
       "      <th>youre</th>\n",
       "    </tr>\n",
       "  </thead>\n",
       "  <tbody>\n",
       "    <tr>\n",
       "      <th>0</th>\n",
       "      <td>0</td>\n",
       "      <td>1</td>\n",
       "      <td>0</td>\n",
       "      <td>0</td>\n",
       "      <td>0</td>\n",
       "      <td>0</td>\n",
       "      <td>0</td>\n",
       "      <td>0</td>\n",
       "      <td>0</td>\n",
       "      <td>0</td>\n",
       "      <td>...</td>\n",
       "      <td>0</td>\n",
       "      <td>0</td>\n",
       "      <td>0</td>\n",
       "      <td>0</td>\n",
       "      <td>1</td>\n",
       "      <td>0</td>\n",
       "      <td>0</td>\n",
       "      <td>0</td>\n",
       "      <td>0</td>\n",
       "      <td>0</td>\n",
       "    </tr>\n",
       "  </tbody>\n",
       "</table>\n",
       "<p>1 rows × 877 columns</p>\n",
       "</div>"
      ],
      "text/plain": [
       "   abilities  ability  able  abreast  academic  access  accommodate  \\\n",
       "0          0        1     0        0         0       0            0   \n",
       "\n",
       "   accordance  accordingly  accurate  ...    workstations  write  writing  \\\n",
       "0           0            0         0  ...               0      0        0   \n",
       "\n",
       "   written  xml  xslt  yarn  year  years  youre  \n",
       "0        0    1     0     0     0      0      0  \n",
       "\n",
       "[1 rows x 877 columns]"
      ]
     },
     "execution_count": 27,
     "metadata": {},
     "output_type": "execute_result"
    }
   ],
   "source": [
    "wordsDescription.head(1)"
   ]
  },
  {
   "cell_type": "markdown",
   "metadata": {},
   "source": [
    "# create dummies from the degree to see if words can predict degree"
   ]
  },
  {
   "cell_type": "code",
   "execution_count": 28,
   "metadata": {
    "collapsed": false
   },
   "outputs": [
    {
     "data": {
      "text/html": [
       "<div>\n",
       "<table border=\"1\" class=\"dataframe\">\n",
       "  <thead>\n",
       "    <tr style=\"text-align: right;\">\n",
       "      <th></th>\n",
       "      <th>abilities</th>\n",
       "      <th>ability</th>\n",
       "      <th>able</th>\n",
       "      <th>abreast</th>\n",
       "      <th>academic</th>\n",
       "      <th>access</th>\n",
       "      <th>accommodate</th>\n",
       "      <th>accordance</th>\n",
       "      <th>accordingly</th>\n",
       "      <th>accurate</th>\n",
       "      <th>...</th>\n",
       "      <th>years</th>\n",
       "      <th>youre</th>\n",
       "      <th>data+analysis</th>\n",
       "      <th>dayton+analysis</th>\n",
       "      <th>dayton+science</th>\n",
       "      <th>network+manager</th>\n",
       "      <th>software+development</th>\n",
       "      <th>user+support</th>\n",
       "      <th>web+developer</th>\n",
       "      <th>web+development</th>\n",
       "    </tr>\n",
       "  </thead>\n",
       "  <tbody>\n",
       "    <tr>\n",
       "      <th>0</th>\n",
       "      <td>0</td>\n",
       "      <td>1</td>\n",
       "      <td>0</td>\n",
       "      <td>0</td>\n",
       "      <td>0</td>\n",
       "      <td>0</td>\n",
       "      <td>0</td>\n",
       "      <td>0</td>\n",
       "      <td>0</td>\n",
       "      <td>0</td>\n",
       "      <td>...</td>\n",
       "      <td>0</td>\n",
       "      <td>0</td>\n",
       "      <td>0.0</td>\n",
       "      <td>0.0</td>\n",
       "      <td>0.0</td>\n",
       "      <td>0.0</td>\n",
       "      <td>1.0</td>\n",
       "      <td>0.0</td>\n",
       "      <td>0.0</td>\n",
       "      <td>0.0</td>\n",
       "    </tr>\n",
       "  </tbody>\n",
       "</table>\n",
       "<p>1 rows × 885 columns</p>\n",
       "</div>"
      ],
      "text/plain": [
       "   abilities  ability  able  abreast  academic  access  accommodate  \\\n",
       "0          0        1     0        0         0       0            0   \n",
       "\n",
       "   accordance  accordingly  accurate       ...         years  youre  \\\n",
       "0           0            0         0       ...             0      0   \n",
       "\n",
       "   data+analysis  dayton+analysis  dayton+science  network+manager  \\\n",
       "0            0.0              0.0             0.0              0.0   \n",
       "\n",
       "   software+development  user+support  web+developer  web+development  \n",
       "0                   1.0           0.0            0.0              0.0  \n",
       "\n",
       "[1 rows x 885 columns]"
      ]
     },
     "execution_count": 28,
     "metadata": {},
     "output_type": "execute_result"
    }
   ],
   "source": [
    "degreeDummies=pd.get_dummies(listingFile['Degree'])\n",
    "wordDescDegree=pd.DataFrame(wordsDescription).join(pd.DataFrame(degreeDummies))\n",
    "wordDescDegree.head(1)"
   ]
  },
  {
   "cell_type": "code",
   "execution_count": 29,
   "metadata": {
    "collapsed": true
   },
   "outputs": [],
   "source": [
    "allDegreeData=pd.DataFrame(listingFile['encodedDegree']).join(pd.DataFrame(listingFile['Degree'])).join(pd.DataFrame(degreeDummies))"
   ]
  },
  {
   "cell_type": "code",
   "execution_count": 30,
   "metadata": {
    "collapsed": false
   },
   "outputs": [
    {
     "data": {
      "text/html": [
       "<div>\n",
       "<table border=\"1\" class=\"dataframe\">\n",
       "  <thead>\n",
       "    <tr style=\"text-align: right;\">\n",
       "      <th></th>\n",
       "      <th>encodedDegree</th>\n",
       "      <th>Degree</th>\n",
       "      <th>data+analysis</th>\n",
       "      <th>dayton+analysis</th>\n",
       "      <th>dayton+science</th>\n",
       "      <th>network+manager</th>\n",
       "      <th>software+development</th>\n",
       "      <th>user+support</th>\n",
       "      <th>web+developer</th>\n",
       "      <th>web+development</th>\n",
       "    </tr>\n",
       "  </thead>\n",
       "  <tbody>\n",
       "    <tr>\n",
       "      <th>0</th>\n",
       "      <td>4</td>\n",
       "      <td>software+development</td>\n",
       "      <td>0.0</td>\n",
       "      <td>0.0</td>\n",
       "      <td>0.0</td>\n",
       "      <td>0.0</td>\n",
       "      <td>1.0</td>\n",
       "      <td>0.0</td>\n",
       "      <td>0.0</td>\n",
       "      <td>0.0</td>\n",
       "    </tr>\n",
       "  </tbody>\n",
       "</table>\n",
       "</div>"
      ],
      "text/plain": [
       "   encodedDegree                Degree  data+analysis  dayton+analysis  \\\n",
       "0              4  software+development            0.0              0.0   \n",
       "\n",
       "   dayton+science  network+manager  software+development  user+support  \\\n",
       "0             0.0              0.0                   1.0           0.0   \n",
       "\n",
       "   web+developer  web+development  \n",
       "0            0.0              0.0  "
      ]
     },
     "execution_count": 30,
     "metadata": {},
     "output_type": "execute_result"
    }
   ],
   "source": [
    "allDegreeData.head(1)"
   ]
  },
  {
   "cell_type": "code",
   "execution_count": null,
   "metadata": {
    "collapsed": true
   },
   "outputs": [],
   "source": []
  },
  {
   "cell_type": "markdown",
   "metadata": {},
   "source": [
    "# creating dimension reduction PCA on x"
   ]
  },
  {
   "cell_type": "code",
   "execution_count": null,
   "metadata": {
    "collapsed": false
   },
   "outputs": [],
   "source": [
    "# I tried a series of components  decided on 5"
   ]
  },
  {
   "cell_type": "code",
   "execution_count": 35,
   "metadata": {
    "collapsed": false
   },
   "outputs": [
    {
     "data": {
      "text/plain": [
       "array([[ -6.39734070e-01,   4.41654851e-01,  -7.54406491e-01,\n",
       "          8.85407683e-01,  -7.66922040e-01],\n",
       "       [ -1.37788041e+00,   2.96544875e-01,   2.20719021e-01,\n",
       "          6.62640067e-01,  -7.87230137e-01],\n",
       "       [  5.02554082e-01,  -1.96335130e-01,   7.55834228e-02,\n",
       "         -6.07522501e-02,  -6.17131801e-01],\n",
       "       [  5.40315692e-01,   8.31968974e-01,  -5.09564661e-01,\n",
       "          4.76309087e+00,   3.46445714e+00],\n",
       "       [ -7.91884520e-01,  -9.73253278e-01,   2.34613146e-01,\n",
       "         -7.85213423e-02,   1.56315992e+00],\n",
       "       [ -5.62429411e-01,   3.53102780e-01,   2.43877928e-01,\n",
       "         -4.58572424e-01,  -9.49117274e-01],\n",
       "       [ -1.84993998e+00,  -1.00804753e-01,   1.08331619e+00,\n",
       "          5.09963393e-01,  -1.11059329e-01],\n",
       "       [ -9.23685458e-01,   6.33868716e-01,  -1.10005059e-01,\n",
       "          8.99733315e-01,  -5.92775344e-01],\n",
       "       [ -1.33419462e-01,   9.44833798e-01,  -8.99847389e-01,\n",
       "          1.54003610e+00,  -2.98739524e-01],\n",
       "       [ -1.82255985e+00,  -2.59031514e-01,   1.29401930e+00,\n",
       "          4.89600710e-02,   2.24536618e-01],\n",
       "       [  1.04228594e+00,   7.39923608e-02,   1.38884257e+00,\n",
       "         -1.33132126e+00,  -1.44558463e+00],\n",
       "       [ -1.33405957e+00,   1.80863519e-01,   2.56276330e-01,\n",
       "          4.54202513e-01,  -6.17128693e-01],\n",
       "       [ -1.12494303e+00,   1.38310790e-01,   4.50668336e-01,\n",
       "          1.61900150e-01,  -7.92741597e-01],\n",
       "       [ -5.99501051e-01,   3.95947622e-01,  -8.10334412e-02,\n",
       "          1.39923328e-01,  -1.73032409e-01],\n",
       "       [ -6.89890504e-01,  -1.14747113e-01,   4.83214218e-01,\n",
       "         -4.51790961e-01,  -8.56865564e-01],\n",
       "       [ -1.92709908e-01,  -7.97609198e-01,   2.61033713e-01,\n",
       "         -1.04509320e+00,  -5.28715552e-01],\n",
       "       [ -1.18519028e+00,   5.91618534e-01,   1.79585857e-02,\n",
       "          1.34123476e+00,  -6.25695442e-01],\n",
       "       [  5.51847360e+00,   1.49856178e-02,   3.25287423e+00,\n",
       "         -2.62844413e-01,  -7.92190011e-01],\n",
       "       [  6.53587031e+00,   1.32136554e+00,   1.89408342e+00,\n",
       "          4.77519869e-01,  -6.41539661e-01],\n",
       "       [  6.24183677e+00,   1.30694707e+00,   1.91942614e+00,\n",
       "         -7.15628410e-02,  -6.72069997e-01],\n",
       "       [ -1.25862529e+00,   2.40767571e-01,   2.47193518e-01,\n",
       "         -6.22655507e-01,  -6.94221007e-01],\n",
       "       [ -1.44300911e+00,  -1.38532118e-01,   2.11452971e-01,\n",
       "          1.30364795e-01,  -4.55845667e-01],\n",
       "       [  5.03412623e-01,   2.08305836e-01,  -1.27819271e+00,\n",
       "          3.49132370e-01,  -2.44434638e-01],\n",
       "       [ -5.49895468e-01,   7.18294987e-01,  -1.40382438e-01,\n",
       "          3.24174191e-01,  -4.86298473e-01],\n",
       "       [  3.96684907e-01,   6.67102978e-01,  -3.14500340e-01,\n",
       "         -4.36855759e-01,  -2.42586771e-01],\n",
       "       [ -1.31357044e+00,   3.01357691e-01,   3.06723407e-01,\n",
       "          2.79883907e-01,  -8.10423929e-01],\n",
       "       [ -1.39854115e+00,  -1.83211978e-03,   3.16770196e-01,\n",
       "          1.16023024e-01,  -1.14606047e+00],\n",
       "       [ -1.72896727e+00,  -3.42809005e-02,   4.86995432e-01,\n",
       "          2.34653869e-01,  -3.79605780e-01],\n",
       "       [ -1.63630459e+00,   4.89335830e-02,   6.50343818e-01,\n",
       "          3.69935707e-01,  -4.66926479e-01],\n",
       "       [ -1.57062203e+00,   1.37259737e-01,   5.07313600e-01,\n",
       "          2.49447764e-01,  -6.97320697e-01],\n",
       "       [  2.15989451e+00,  -6.83304391e+00,  -2.33252025e+00,\n",
       "          1.45346922e-01,  -5.31094059e-02],\n",
       "       [  1.67589455e+00,  -6.79748940e+00,  -2.17573718e+00,\n",
       "          2.07084040e-01,  -1.79255651e-01],\n",
       "       [ -6.57814114e-02,  -4.00809328e-01,  -2.07724322e-01,\n",
       "         -9.67594394e-01,  -1.75692101e-01],\n",
       "       [ -1.68116957e+00,   1.60285736e-01,   7.97963152e-01,\n",
       "          3.88677655e-01,  -5.94910903e-01],\n",
       "       [ -4.61081929e-01,   7.54320913e-01,   1.48425949e-01,\n",
       "          1.24373376e+00,   8.20123531e-01],\n",
       "       [ -5.59989000e-01,  -1.26279776e+00,   3.09811433e-01,\n",
       "         -6.19630180e-01,   2.15883087e+00],\n",
       "       [ -8.09510779e-01,  -1.27407410e+00,   4.46127326e+00,\n",
       "         -9.45894360e-01,   6.62628678e+00],\n",
       "       [ -9.30198187e-01,   4.69701481e-01,  -2.86112316e-01,\n",
       "          8.90556205e-01,  -1.31814669e-01],\n",
       "       [  1.42342707e-01,   2.36733659e-01,   5.43844191e-02,\n",
       "         -4.21731702e-02,  -1.04928842e+00],\n",
       "       [  6.84367645e-02,  -3.95705162e-01,  -8.31778377e-01,\n",
       "         -9.42890087e-01,  -8.91483129e-01],\n",
       "       [  2.98277009e+00,   3.01384062e+00,  -5.82971261e+00,\n",
       "          2.86892701e+00,   2.15469292e+00],\n",
       "       [ -3.89442381e-01,   5.59347816e-01,  -2.60340936e-02,\n",
       "         -1.79078919e-01,  -1.81263678e-01],\n",
       "       [  4.59452834e-01,   1.70648617e+00,  -2.53441798e+00,\n",
       "         -5.10210650e+00,   1.76044765e+00],\n",
       "       [ -1.29690845e-01,   9.37875870e-01,  -5.25511285e-01,\n",
       "         -1.25482815e+00,  -7.97152291e-02],\n",
       "       [  3.84001562e-01,   1.89372609e+00,  -2.73767675e+00,\n",
       "         -4.80838761e+00,   1.45626066e+00]])"
      ]
     },
     "execution_count": 35,
     "metadata": {},
     "output_type": "execute_result"
    }
   ],
   "source": [
    "pca=PCA(n_components=5)\n",
    "pca.fit(x)\n",
    "pca.fit_transform(x)"
   ]
  },
  {
   "cell_type": "code",
   "execution_count": 36,
   "metadata": {
    "collapsed": false
   },
   "outputs": [
    {
     "data": {
      "text/plain": [
       "array([[ 0.70044347,  0.02507698,  0.00113402, ..., -0.0012957 ,\n",
       "        -0.00958799, -0.0008477 ],\n",
       "       [ 0.02507698,  0.77460683,  0.00143049, ..., -0.00879434,\n",
       "         0.05697125, -0.00627436],\n",
       "       [ 0.00113402,  0.00143049,  0.67184877, ..., -0.00137422,\n",
       "        -0.00154106, -0.00127815],\n",
       "       ..., \n",
       "       [-0.0012957 , -0.00879434, -0.00137422, ...,  0.67410177,\n",
       "        -0.00269848,  0.00426584],\n",
       "       [-0.00958799,  0.05697125, -0.00154106, ..., -0.00269848,\n",
       "         0.73204574, -0.00084339],\n",
       "       [-0.0008477 , -0.00627436, -0.00127815, ...,  0.00426584,\n",
       "        -0.00084339,  0.67621584]])"
      ]
     },
     "execution_count": 36,
     "metadata": {},
     "output_type": "execute_result"
    }
   ],
   "source": [
    "pca.get_covariance()"
   ]
  },
  {
   "cell_type": "code",
   "execution_count": 37,
   "metadata": {
    "collapsed": false
   },
   "outputs": [
    {
     "data": {
      "text/plain": [
       "array([ 3.73213026,  2.74215105,  2.39620935,  2.19587997,  1.9733959 ])"
      ]
     },
     "execution_count": 37,
     "metadata": {},
     "output_type": "execute_result"
    }
   ],
   "source": [
    "pca.explained_variance_"
   ]
  },
  {
   "cell_type": "code",
   "execution_count": 38,
   "metadata": {
    "collapsed": false
   },
   "outputs": [
    {
     "data": {
      "text/plain": [
       "array([  3.73213026,   6.47428132,   8.87049066,  11.06637063,  13.03976653])"
      ]
     },
     "execution_count": 38,
     "metadata": {},
     "output_type": "execute_result"
    }
   ],
   "source": [
    "np.cumsum(pca.explained_variance_)"
   ]
  },
  {
   "cell_type": "code",
   "execution_count": 39,
   "metadata": {
    "collapsed": false
   },
   "outputs": [],
   "source": [
    "train_features=pca.fit_transform(x)"
   ]
  },
  {
   "cell_type": "code",
   "execution_count": 40,
   "metadata": {
    "collapsed": false
   },
   "outputs": [
    {
     "data": {
      "text/plain": [
       "(45, 5)"
      ]
     },
     "execution_count": 40,
     "metadata": {},
     "output_type": "execute_result"
    }
   ],
   "source": [
    "train_features.shape"
   ]
  },
  {
   "cell_type": "markdown",
   "metadata": {},
   "source": [
    "# lets try random forest with full dataset and pca\n",
    "\n",
    "1. using full data set without train test.  I am only doing this to get a list of words for each degree\n",
    "2. using PCA  I did this to see if this predicts my degrees"
   ]
  },
  {
   "cell_type": "code",
   "execution_count": 41,
   "metadata": {
    "collapsed": false
   },
   "outputs": [
    {
     "name": "stdout",
     "output_type": "stream",
     "text": [
      "<type 'numpy.ndarray'> [4 4 4 4 5 3]\n",
      "<class 'pandas.core.frame.DataFrame'>\n"
     ]
    },
    {
     "name": "stderr",
     "output_type": "stream",
     "text": [
      "//anaconda/lib/python2.7/site-packages/sklearn/cross_validation.py:516: Warning: The least populated class in y has only 1 members, which is too few. The minimum number of labels for any class cannot be less than n_folds=4.\n",
      "  % (min_labels, self.n_folds)), Warning)\n"
     ]
    }
   ],
   "source": [
    "#full dataset \n",
    "y=LabelEncoder().fit_transform(listingFile['Degree'])\n",
    "cv = StratifiedKFold(y, n_folds=4, shuffle=True, random_state=41)\n",
    "print type(y), y[0:6]\n",
    "print type(x)"
   ]
  },
  {
   "cell_type": "code",
   "execution_count": 42,
   "metadata": {
    "collapsed": false
   },
   "outputs": [
    {
     "data": {
      "text/plain": [
       "((45, 877), (45,))"
      ]
     },
     "execution_count": 42,
     "metadata": {},
     "output_type": "execute_result"
    }
   ],
   "source": [
    "x.shape, y.shape\n"
   ]
  },
  {
   "cell_type": "code",
   "execution_count": 43,
   "metadata": {
    "collapsed": false
   },
   "outputs": [],
   "source": [
    "rf=RandomForestClassifier(class_weight ='balanced', n_jobs=-1)\n",
    "s=cross_val_score(rf,x.values,y,cv=cv, n_jobs=-1)\n"
   ]
  },
  {
   "cell_type": "code",
   "execution_count": 44,
   "metadata": {
    "collapsed": false
   },
   "outputs": [
    {
     "data": {
      "text/plain": [
       "array([ 0.83333333,  0.75      ,  0.63636364,  0.6       ])"
      ]
     },
     "execution_count": 44,
     "metadata": {},
     "output_type": "execute_result"
    }
   ],
   "source": [
    "s"
   ]
  },
  {
   "cell_type": "code",
   "execution_count": 45,
   "metadata": {
    "collapsed": false
   },
   "outputs": [],
   "source": [
    "rf.fit(x, y)\n",
    "importances = rf.feature_importances_\n",
    "std = np.std([tree.feature_importances_ for tree in rf.estimators_],\n",
    "             axis=0)\n",
    "indices = np.argsort(importances)[::-1]\n"
   ]
  },
  {
   "cell_type": "code",
   "execution_count": 46,
   "metadata": {
    "collapsed": false
   },
   "outputs": [
    {
     "data": {
      "text/plain": [
       "0.97777777777777775"
      ]
     },
     "execution_count": 46,
     "metadata": {},
     "output_type": "execute_result"
    }
   ],
   "source": [
    "#nice score of course it includes all data!\n",
    "rf.score(x, y)"
   ]
  },
  {
   "cell_type": "code",
   "execution_count": null,
   "metadata": {
    "collapsed": false
   },
   "outputs": [],
   "source": [
    "# for f in range(x.shape[1]):\n",
    "#     print(\"%d. feature %d (%f)\" % (f + 1, indices[f], importances[indices[f]]))"
   ]
  },
  {
   "cell_type": "code",
   "execution_count": 47,
   "metadata": {
    "collapsed": false
   },
   "outputs": [
    {
     "data": {
      "image/png": "[encoded data removed]",
      "text/plain": [
       "<matplotlib.figure.Figure at 0x118b33810>"
      ]
     },
     "metadata": {},
     "output_type": "display_data"
    }
   ],
   "source": [
    "plt.figure()\n",
    "plt.title(\"Feature importances\")\n",
    "plt.bar(range(x.shape[1]), importances[indices],\n",
    "       color=\"r\", yerr=std[indices], align=\"center\")\n",
    "plt.xticks(range(x.shape[1]), indices)\n",
    "plt.xlim([-1, x.shape[1]])\n",
    "plt.show()"
   ]
  },
  {
   "cell_type": "code",
   "execution_count": 48,
   "metadata": {
    "collapsed": true
   },
   "outputs": [],
   "source": [
    "feature_importancesRF = pd.DataFrame(rf.feature_importances_,\n",
    "                                   index = x.columns,\n",
    "                                    columns=['importance']).sort_values('importance',\n",
    "                                                                        ascending=False)"
   ]
  },
  {
   "cell_type": "code",
   "execution_count": 49,
   "metadata": {
    "collapsed": false
   },
   "outputs": [
    {
     "data": {
      "text/html": [
       "<div>\n",
       "<table border=\"1\" class=\"dataframe\">\n",
       "  <thead>\n",
       "    <tr style=\"text-align: right;\">\n",
       "      <th></th>\n",
       "      <th>importance</th>\n",
       "    </tr>\n",
       "  </thead>\n",
       "  <tbody>\n",
       "    <tr>\n",
       "      <th>including</th>\n",
       "      <td>0.042175</td>\n",
       "    </tr>\n",
       "    <tr>\n",
       "      <th>technology</th>\n",
       "      <td>0.041648</td>\n",
       "    </tr>\n",
       "    <tr>\n",
       "      <th>external</th>\n",
       "      <td>0.041523</td>\n",
       "    </tr>\n",
       "    <tr>\n",
       "      <th>apache</th>\n",
       "      <td>0.039171</td>\n",
       "    </tr>\n",
       "    <tr>\n",
       "      <th>grow</th>\n",
       "      <td>0.029155</td>\n",
       "    </tr>\n",
       "    <tr>\n",
       "      <th>bachelors</th>\n",
       "      <td>0.027884</td>\n",
       "    </tr>\n",
       "    <tr>\n",
       "      <th>big</th>\n",
       "      <td>0.027645</td>\n",
       "    </tr>\n",
       "    <tr>\n",
       "      <th>websphere</th>\n",
       "      <td>0.025451</td>\n",
       "    </tr>\n",
       "    <tr>\n",
       "      <th>enhance</th>\n",
       "      <td>0.025065</td>\n",
       "    </tr>\n",
       "    <tr>\n",
       "      <th>maintains</th>\n",
       "      <td>0.024956</td>\n",
       "    </tr>\n",
       "    <tr>\n",
       "      <th>scripting</th>\n",
       "      <td>0.024945</td>\n",
       "    </tr>\n",
       "    <tr>\n",
       "      <th>rest</th>\n",
       "      <td>0.023075</td>\n",
       "    </tr>\n",
       "    <tr>\n",
       "      <th>years</th>\n",
       "      <td>0.021315</td>\n",
       "    </tr>\n",
       "    <tr>\n",
       "      <th>css</th>\n",
       "      <td>0.020503</td>\n",
       "    </tr>\n",
       "    <tr>\n",
       "      <th>lead</th>\n",
       "      <td>0.017812</td>\n",
       "    </tr>\n",
       "    <tr>\n",
       "      <th>meet</th>\n",
       "      <td>0.017493</td>\n",
       "    </tr>\n",
       "    <tr>\n",
       "      <th>equivalent</th>\n",
       "      <td>0.017468</td>\n",
       "    </tr>\n",
       "    <tr>\n",
       "      <th>tools</th>\n",
       "      <td>0.017241</td>\n",
       "    </tr>\n",
       "    <tr>\n",
       "      <th>osi</th>\n",
       "      <td>0.017049</td>\n",
       "    </tr>\n",
       "    <tr>\n",
       "      <th>internal</th>\n",
       "      <td>0.016916</td>\n",
       "    </tr>\n",
       "  </tbody>\n",
       "</table>\n",
       "</div>"
      ],
      "text/plain": [
       "            importance\n",
       "including     0.042175\n",
       "technology    0.041648\n",
       "external      0.041523\n",
       "apache        0.039171\n",
       "grow          0.029155\n",
       "bachelors     0.027884\n",
       "big           0.027645\n",
       "websphere     0.025451\n",
       "enhance       0.025065\n",
       "maintains     0.024956\n",
       "scripting     0.024945\n",
       "rest          0.023075\n",
       "years         0.021315\n",
       "css           0.020503\n",
       "lead          0.017812\n",
       "meet          0.017493\n",
       "equivalent    0.017468\n",
       "tools         0.017241\n",
       "osi           0.017049\n",
       "internal      0.016916"
      ]
     },
     "execution_count": 49,
     "metadata": {},
     "output_type": "execute_result"
    }
   ],
   "source": [
    "#this is what I want to see\n",
    "feature_importancesRF.head(20)"
   ]
  },
  {
   "cell_type": "code",
   "execution_count": 50,
   "metadata": {
    "collapsed": false
   },
   "outputs": [],
   "source": [
    "predictionsRF=rf.predict(x)"
   ]
  },
  {
   "cell_type": "code",
   "execution_count": 51,
   "metadata": {
    "collapsed": false
   },
   "outputs": [
    {
     "name": "stdout",
     "output_type": "stream",
     "text": [
      "[[ 3  0  0  0  0  0  0  0]\n",
      " [ 0  1  0  0  0  0  0  0]\n",
      " [ 0  0  1  0  0  0  0  0]\n",
      " [ 0  0  0  4  0  0  0  0]\n",
      " [ 0  0  0  0 15  0  0  0]\n",
      " [ 0  0  0  0  0 19  0  0]\n",
      " [ 0  0  0  0  1  0  0  0]\n",
      " [ 0  0  0  0  0  0  0  1]]\n"
     ]
    }
   ],
   "source": [
    "print confusion_matrix(y, predictionsRF)"
   ]
  },
  {
   "cell_type": "code",
   "execution_count": 52,
   "metadata": {
    "collapsed": false
   },
   "outputs": [
    {
     "ename": "ValueError",
     "evalue": "Shape of passed values is (8, 8), indices imply (6, 6)",
     "output_type": "error",
     "traceback": [
      "\u001b[0;31m---------------------------------------------------------------------------\u001b[0m",
      "\u001b[0;31mValueError\u001b[0m                                Traceback (most recent call last)",
      "\u001b[0;32m<ipython-input-52-e9682ebc5444>\u001b[0m in \u001b[0;36m<module>\u001b[0;34m()\u001b[0m\n\u001b[1;32m      3\u001b[0m confusion = pd.DataFrame(conmat, index=['USSU', 'SODE', \n\u001b[1;32m      4\u001b[0m                          \u001b[0;34m'WEDE'\u001b[0m\u001b[0;34m,\u001b[0m \u001b[0;34m'NEMA'\u001b[0m\u001b[0;34m,\u001b[0m\u001b[0;34m'NEED'\u001b[0m\u001b[0;34m,\u001b[0m \u001b[0;34m'CYIT'\u001b[0m\u001b[0;34m]\u001b[0m\u001b[0;34m,\u001b[0m\u001b[0mcolumns\u001b[0m\u001b[0;34m=\u001b[0m\u001b[0;34m[\u001b[0m\u001b[0;34m'Pred USSU'\u001b[0m\u001b[0;34m,\u001b[0m \u001b[0;34m'Pred SODE'\u001b[0m\u001b[0;34m,\u001b[0m\u001b[0;34m\u001b[0m\u001b[0m\n\u001b[0;32m----> 5\u001b[0;31m                          'Pred WEDE', 'Pred NEMA','Pred NEED', 'Pred CYIT'])\n\u001b[0m\u001b[1;32m      6\u001b[0m \u001b[0;32mprint\u001b[0m \u001b[0mconfusion\u001b[0m\u001b[0;34m\u001b[0m\u001b[0m\n",
      "\u001b[0;32m//anaconda/lib/python2.7/site-packages/pandas/core/frame.pyc\u001b[0m in \u001b[0;36m__init__\u001b[0;34m(self, data, index, columns, dtype, copy)\u001b[0m\n\u001b[1;32m    253\u001b[0m             \u001b[0;32melse\u001b[0m\u001b[0;34m:\u001b[0m\u001b[0;34m\u001b[0m\u001b[0m\n\u001b[1;32m    254\u001b[0m                 mgr = self._init_ndarray(data, index, columns, dtype=dtype,\n\u001b[0;32m--> 255\u001b[0;31m                                          copy=copy)\n\u001b[0m\u001b[1;32m    256\u001b[0m         \u001b[0;32melif\u001b[0m \u001b[0misinstance\u001b[0m\u001b[0;34m(\u001b[0m\u001b[0mdata\u001b[0m\u001b[0;34m,\u001b[0m \u001b[0;34m(\u001b[0m\u001b[0mlist\u001b[0m\u001b[0;34m,\u001b[0m \u001b[0mtypes\u001b[0m\u001b[0;34m.\u001b[0m\u001b[0mGeneratorType\u001b[0m\u001b[0;34m)\u001b[0m\u001b[0;34m)\u001b[0m\u001b[0;34m:\u001b[0m\u001b[0;34m\u001b[0m\u001b[0m\n\u001b[1;32m    257\u001b[0m             \u001b[0;32mif\u001b[0m \u001b[0misinstance\u001b[0m\u001b[0;34m(\u001b[0m\u001b[0mdata\u001b[0m\u001b[0;34m,\u001b[0m \u001b[0mtypes\u001b[0m\u001b[0;34m.\u001b[0m\u001b[0mGeneratorType\u001b[0m\u001b[0;34m)\u001b[0m\u001b[0;34m:\u001b[0m\u001b[0;34m\u001b[0m\u001b[0m\n",
      "\u001b[0;32m//anaconda/lib/python2.7/site-packages/pandas/core/frame.pyc\u001b[0m in \u001b[0;36m_init_ndarray\u001b[0;34m(self, values, index, columns, dtype, copy)\u001b[0m\n\u001b[1;32m    430\u001b[0m             \u001b[0mvalues\u001b[0m \u001b[0;34m=\u001b[0m \u001b[0m_possibly_infer_to_datetimelike\u001b[0m\u001b[0;34m(\u001b[0m\u001b[0mvalues\u001b[0m\u001b[0;34m)\u001b[0m\u001b[0;34m\u001b[0m\u001b[0m\n\u001b[1;32m    431\u001b[0m \u001b[0;34m\u001b[0m\u001b[0m\n\u001b[0;32m--> 432\u001b[0;31m         \u001b[0;32mreturn\u001b[0m \u001b[0mcreate_block_manager_from_blocks\u001b[0m\u001b[0;34m(\u001b[0m\u001b[0;34m[\u001b[0m\u001b[0mvalues\u001b[0m\u001b[0;34m]\u001b[0m\u001b[0;34m,\u001b[0m \u001b[0;34m[\u001b[0m\u001b[0mcolumns\u001b[0m\u001b[0;34m,\u001b[0m \u001b[0mindex\u001b[0m\u001b[0;34m]\u001b[0m\u001b[0;34m)\u001b[0m\u001b[0;34m\u001b[0m\u001b[0m\n\u001b[0m\u001b[1;32m    433\u001b[0m \u001b[0;34m\u001b[0m\u001b[0m\n\u001b[1;32m    434\u001b[0m     \u001b[0;34m@\u001b[0m\u001b[0mproperty\u001b[0m\u001b[0;34m\u001b[0m\u001b[0m\n",
      "\u001b[0;32m//anaconda/lib/python2.7/site-packages/pandas/core/internals.pyc\u001b[0m in \u001b[0;36mcreate_block_manager_from_blocks\u001b[0;34m(blocks, axes)\u001b[0m\n\u001b[1;32m   3991\u001b[0m         \u001b[0mblocks\u001b[0m \u001b[0;34m=\u001b[0m \u001b[0;34m[\u001b[0m\u001b[0mgetattr\u001b[0m\u001b[0;34m(\u001b[0m\u001b[0mb\u001b[0m\u001b[0;34m,\u001b[0m \u001b[0;34m'values'\u001b[0m\u001b[0;34m,\u001b[0m \u001b[0mb\u001b[0m\u001b[0;34m)\u001b[0m \u001b[0;32mfor\u001b[0m \u001b[0mb\u001b[0m \u001b[0;32min\u001b[0m \u001b[0mblocks\u001b[0m\u001b[0;34m]\u001b[0m\u001b[0;34m\u001b[0m\u001b[0m\n\u001b[1;32m   3992\u001b[0m         \u001b[0mtot_items\u001b[0m \u001b[0;34m=\u001b[0m \u001b[0msum\u001b[0m\u001b[0;34m(\u001b[0m\u001b[0mb\u001b[0m\u001b[0;34m.\u001b[0m\u001b[0mshape\u001b[0m\u001b[0;34m[\u001b[0m\u001b[0;36m0\u001b[0m\u001b[0;34m]\u001b[0m \u001b[0;32mfor\u001b[0m \u001b[0mb\u001b[0m \u001b[0;32min\u001b[0m \u001b[0mblocks\u001b[0m\u001b[0;34m)\u001b[0m\u001b[0;34m\u001b[0m\u001b[0m\n\u001b[0;32m-> 3993\u001b[0;31m         \u001b[0mconstruction_error\u001b[0m\u001b[0;34m(\u001b[0m\u001b[0mtot_items\u001b[0m\u001b[0;34m,\u001b[0m \u001b[0mblocks\u001b[0m\u001b[0;34m[\u001b[0m\u001b[0;36m0\u001b[0m\u001b[0;34m]\u001b[0m\u001b[0;34m.\u001b[0m\u001b[0mshape\u001b[0m\u001b[0;34m[\u001b[0m\u001b[0;36m1\u001b[0m\u001b[0;34m:\u001b[0m\u001b[0;34m]\u001b[0m\u001b[0;34m,\u001b[0m \u001b[0maxes\u001b[0m\u001b[0;34m,\u001b[0m \u001b[0me\u001b[0m\u001b[0;34m)\u001b[0m\u001b[0;34m\u001b[0m\u001b[0m\n\u001b[0m\u001b[1;32m   3994\u001b[0m \u001b[0;34m\u001b[0m\u001b[0m\n\u001b[1;32m   3995\u001b[0m \u001b[0;34m\u001b[0m\u001b[0m\n",
      "\u001b[0;32m//anaconda/lib/python2.7/site-packages/pandas/core/internals.pyc\u001b[0m in \u001b[0;36mconstruction_error\u001b[0;34m(tot_items, block_shape, axes, e)\u001b[0m\n\u001b[1;32m   3968\u001b[0m         \u001b[0;32mraise\u001b[0m \u001b[0mValueError\u001b[0m\u001b[0;34m(\u001b[0m\u001b[0;34m\"Empty data passed with indices specified.\"\u001b[0m\u001b[0;34m)\u001b[0m\u001b[0;34m\u001b[0m\u001b[0m\n\u001b[1;32m   3969\u001b[0m     raise ValueError(\"Shape of passed values is {0}, indices imply {1}\".format(\n\u001b[0;32m-> 3970\u001b[0;31m         passed, implied))\n\u001b[0m\u001b[1;32m   3971\u001b[0m \u001b[0;34m\u001b[0m\u001b[0m\n\u001b[1;32m   3972\u001b[0m \u001b[0;34m\u001b[0m\u001b[0m\n",
      "\u001b[0;31mValueError\u001b[0m: Shape of passed values is (8, 8), indices imply (6, 6)"
     ]
    }
   ],
   "source": [
    "#this chart is very meaningfull miss-predictions show overlap of degrees\n",
    "conmat = np.array(confusion_matrix(y, predictionsRF))\n",
    "confusion = pd.DataFrame(conmat, index=['USSU', 'SODE', \n",
    "                         'WEDE', 'NEMA','NEED', 'CYIT'],columns=['Pred USSU', 'Pred SODE', \n",
    "                         'Pred WEDE', 'Pred NEMA','Pred NEED', 'Pred CYIT'])\n",
    "print confusion\n"
   ]
  },
  {
   "cell_type": "code",
   "execution_count": null,
   "metadata": {
    "collapsed": false
   },
   "outputs": [],
   "source": [
    "print  classification_report(y, predictionsRF)"
   ]
  },
  {
   "cell_type": "markdown",
   "metadata": {},
   "source": [
    "# random forest by degree - want feature importance\n",
    "this will help me understand the job market"
   ]
  },
  {
   "cell_type": "code",
   "execution_count": null,
   "metadata": {
    "collapsed": false
   },
   "outputs": [],
   "source": [
    "wordDescDegree.columns"
   ]
  },
  {
   "cell_type": "code",
   "execution_count": null,
   "metadata": {
    "collapsed": false
   },
   "outputs": [],
   "source": [
    "yCYIT=wordDescDegree['cyber+security']\n",
    "yNEEN=wordDescDegree['network+engineer']\n",
    "yNEMA=wordDescDegree['network+manager']\n",
    "ySODE=wordDescDegree['software+development']\n",
    "yUSSU=wordDescDegree['user+support']\n",
    "yWEDE=wordDescDegree['web+development']"
   ]
  },
  {
   "cell_type": "code",
   "execution_count": null,
   "metadata": {
    "collapsed": false
   },
   "outputs": [],
   "source": [
    "yDegree=yCYIT\n",
    "rf.fit(x, yDegree)\n",
    "rf.score(x, yDegree)\n",
    "importances = rf.feature_importances_\n",
    "feature_importancesRF = pd.DataFrame(rf.feature_importances_,\n",
    "                                   index = x.columns,\n",
    "                                    columns=['importance']).sort_values('importance',\n",
    "                                                                        ascending=False)\n",
    "print rf.score(x, yDegree)\n",
    "print feature_importancesRF.head(20)"
   ]
  },
  {
   "cell_type": "code",
   "execution_count": null,
   "metadata": {
    "collapsed": false
   },
   "outputs": [],
   "source": [
    "yDegree=yNEEN\n",
    "rf.fit(x, yDegree)\n",
    "rf.score(x, yDegree)\n",
    "importances = rf.feature_importances_\n",
    "feature_importancesRF = pd.DataFrame(rf.feature_importances_,\n",
    "                                   index = x.columns,\n",
    "                                    columns=['importance']).sort_values('importance',\n",
    "                                                                        ascending=False)\n",
    "print rf.score(x, yDegree)\n",
    "print feature_importancesRF.head(30)"
   ]
  },
  {
   "cell_type": "code",
   "execution_count": null,
   "metadata": {
    "collapsed": false
   },
   "outputs": [],
   "source": [
    "yDegree=yNEMA\n",
    "rf.fit(x, yDegree)\n",
    "rf.score(x, yDegree)\n",
    "importances = rf.feature_importances_\n",
    "feature_importancesRF = pd.DataFrame(rf.feature_importances_,\n",
    "                                   index = x.columns,\n",
    "                                    columns=['importance']).sort_values('importance',\n",
    "                                                                        ascending=False)\n",
    "print rf.score(x, yDegree)\n",
    "print feature_importancesRF.head(30)"
   ]
  },
  {
   "cell_type": "code",
   "execution_count": null,
   "metadata": {
    "collapsed": false
   },
   "outputs": [],
   "source": [
    "yDegree=ySODE\n",
    "rf.fit(x, yDegree)\n",
    "rf.score(x, yDegree)\n",
    "importances = rf.feature_importances_\n",
    "feature_importancesRF = pd.DataFrame(rf.feature_importances_,\n",
    "                                   index = x.columns,\n",
    "                                    columns=['importance']).sort_values('importance',\n",
    "                                                                        ascending=False)\n",
    "print rf.score(x, yDegree)\n",
    "print feature_importancesRF.head(30)"
   ]
  },
  {
   "cell_type": "code",
   "execution_count": null,
   "metadata": {
    "collapsed": false
   },
   "outputs": [],
   "source": [
    "yDegree=yUSSU\n",
    "rf.fit(x, yDegree)\n",
    "rf.score(x, yDegree)\n",
    "importances = rf.feature_importances_\n",
    "feature_importancesRF = pd.DataFrame(rf.feature_importances_,\n",
    "                                   index = x.columns,\n",
    "                                    columns=['importance']).sort_values('importance',\n",
    "                                                                        ascending=False)\n",
    "print rf.score(x, yDegree)\n",
    "print feature_importancesRF.head(20)"
   ]
  },
  {
   "cell_type": "code",
   "execution_count": null,
   "metadata": {
    "collapsed": false
   },
   "outputs": [],
   "source": [
    "yDegree=yWEDE\n",
    "rf.fit(x, yDegree)\n",
    "rf.score(x, yDegree)\n",
    "importances = rf.feature_importances_\n",
    "feature_importancesRF = pd.DataFrame(rf.feature_importances_,\n",
    "                                   index = x.columns,\n",
    "                                    columns=['importance']).sort_values('importance',\n",
    "                                                                        ascending=False)\n",
    "print rf.score(x, yDegree)\n",
    "print feature_importancesRF.head(20)"
   ]
  },
  {
   "cell_type": "markdown",
   "metadata": {},
   "source": [
    "# Random Forest on  train test"
   ]
  },
  {
   "cell_type": "code",
   "execution_count": null,
   "metadata": {
    "collapsed": true
   },
   "outputs": [],
   "source": [
    "train_features=pca.fit_transform(x_train)"
   ]
  },
  {
   "cell_type": "code",
   "execution_count": null,
   "metadata": {
    "collapsed": false
   },
   "outputs": [],
   "source": [
    "x_train.shape, train_features.shape,y_train.shape\n"
   ]
  },
  {
   "cell_type": "code",
   "execution_count": null,
   "metadata": {
    "collapsed": false
   },
   "outputs": [],
   "source": [
    "rfTTS=RandomForestClassifier(class_weight ='balanced', n_jobs=-1)\n"
   ]
  },
  {
   "cell_type": "code",
   "execution_count": null,
   "metadata": {
    "collapsed": false
   },
   "outputs": [],
   "source": [
    "listingFile.ix[2634]"
   ]
  },
  {
   "cell_type": "code",
   "execution_count": null,
   "metadata": {
    "collapsed": true
   },
   "outputs": [],
   "source": [
    "cv = StratifiedKFold(y_train, n_folds=4, shuffle=True, random_state=41)\n",
    "# print type(y), y[0:6]\n",
    "# print type(x)"
   ]
  },
  {
   "cell_type": "code",
   "execution_count": null,
   "metadata": {
    "collapsed": false
   },
   "outputs": [],
   "source": [
    "sTTS=cross_val_score(rfTTS,train_features,y_train,cv=cv, n_jobs=-1)"
   ]
  },
  {
   "cell_type": "code",
   "execution_count": null,
   "metadata": {
    "collapsed": false
   },
   "outputs": [],
   "source": [
    "# s"
   ]
  },
  {
   "cell_type": "code",
   "execution_count": null,
   "metadata": {
    "collapsed": false
   },
   "outputs": [],
   "source": [
    "rfTTS.fit(train_features, y_train)\n",
    "importances = rfTTS.feature_importances_\n",
    "std = np.std([tree.feature_importances_ for tree in rf.estimators_],\n",
    "             axis=0)\n",
    "indices = np.argsort(importances)[::-1]\n"
   ]
  },
  {
   "cell_type": "code",
   "execution_count": null,
   "metadata": {
    "collapsed": false
   },
   "outputs": [],
   "source": [
    "rfTTS.score(train_features, y_train)"
   ]
  },
  {
   "cell_type": "code",
   "execution_count": null,
   "metadata": {
    "collapsed": false
   },
   "outputs": [],
   "source": [
    "plt.figure()\n",
    "plt.title(\"Feature importances\")\n",
    "plt.bar(range(train_features.shape[1]), importances[indices],\n",
    "       color=\"r\", yerr=std[indices], align=\"center\")\n",
    "plt.xticks(range(train_features.shape[1]), indices)\n",
    "plt.xlim([-1, train_features.shape[1]])\n",
    "plt.show()"
   ]
  },
  {
   "cell_type": "markdown",
   "metadata": {
    "collapsed": true
   },
   "source": [
    "# RF model built with PCA test data"
   ]
  },
  {
   "cell_type": "code",
   "execution_count": null,
   "metadata": {
    "collapsed": false
   },
   "outputs": [],
   "source": [
    "train_features.shape, x_test.shape\n"
   ]
  },
  {
   "cell_type": "code",
   "execution_count": null,
   "metadata": {
    "collapsed": true
   },
   "outputs": [],
   "source": [
    "test_features=pca.transform(x_test)"
   ]
  },
  {
   "cell_type": "code",
   "execution_count": null,
   "metadata": {
    "collapsed": false
   },
   "outputs": [],
   "source": [
    "rfTTS.score(test_features, y_test)"
   ]
  },
  {
   "cell_type": "code",
   "execution_count": null,
   "metadata": {
    "collapsed": false
   },
   "outputs": [],
   "source": [
    "predictionsRF_test=rfTTS.predict(test_features)"
   ]
  },
  {
   "cell_type": "code",
   "execution_count": null,
   "metadata": {
    "collapsed": false
   },
   "outputs": [],
   "source": [
    "y_test.shape, predictionsRF_test.shape"
   ]
  },
  {
   "cell_type": "code",
   "execution_count": null,
   "metadata": {
    "collapsed": false
   },
   "outputs": [],
   "source": [
    "print confusion_matrix(y_test, predictionsRF_test)"
   ]
  },
  {
   "cell_type": "code",
   "execution_count": null,
   "metadata": {
    "collapsed": false
   },
   "outputs": [],
   "source": [
    "#this matrix is very telling\n",
    "conmat = np.array(confusion_matrix(y_test, predictionsRF_test))\n",
    "confusion = pd.DataFrame(conmat, index=['USSU', 'SODE', \n",
    "                         'WEDE', 'NEMA','NEED', 'CYIT'],columns=['Pred USSU', 'Pred SODE', \n",
    "                         'Pred WEDE', 'Pred NEMA','Pred NEED', 'Pred CYIT'])\n",
    "print confusion"
   ]
  },
  {
   "cell_type": "code",
   "execution_count": null,
   "metadata": {
    "collapsed": false
   },
   "outputs": [],
   "source": [
    "print  classification_report(y_test, predictionsRF_test)"
   ]
  },
  {
   "cell_type": "markdown",
   "metadata": {},
   "source": [
    "# K nearest neighbors entire dataset - first\n"
   ]
  },
  {
   "cell_type": "code",
   "execution_count": null,
   "metadata": {
    "collapsed": false
   },
   "outputs": [],
   "source": [
    "x=wordsDescription"
   ]
  },
  {
   "cell_type": "code",
   "execution_count": null,
   "metadata": {
    "collapsed": true
   },
   "outputs": [],
   "source": [
    "y=listingFile['encodedDegree']\n",
    "y.column='degree'"
   ]
  },
  {
   "cell_type": "code",
   "execution_count": null,
   "metadata": {
    "collapsed": true
   },
   "outputs": [],
   "source": [
    "knn=KNeighborsClassifier(n_neighbors=5)\n",
    "#5 closest neighbors"
   ]
  },
  {
   "cell_type": "code",
   "execution_count": null,
   "metadata": {
    "collapsed": false
   },
   "outputs": [],
   "source": [
    "knn.fit(x,y)"
   ]
  },
  {
   "cell_type": "code",
   "execution_count": null,
   "metadata": {
    "collapsed": false
   },
   "outputs": [],
   "source": [
    "knn.score(x,y)"
   ]
  },
  {
   "cell_type": "code",
   "execution_count": null,
   "metadata": {
    "collapsed": true
   },
   "outputs": [],
   "source": [
    "scores=cross_val_score(knn,x.values,y,cv=5,scoring = 'accuracy')"
   ]
  },
  {
   "cell_type": "code",
   "execution_count": null,
   "metadata": {
    "collapsed": true
   },
   "outputs": [],
   "source": [
    "predictionsKNN=knn.predict(x)"
   ]
  },
  {
   "cell_type": "code",
   "execution_count": null,
   "metadata": {
    "collapsed": false
   },
   "outputs": [],
   "source": [
    "print confusion_matrix(y, predictionsKNN)\n",
    "# conmat = np.array(confusion_matrix(y, predictionsKNN))\n",
    "# confusion = pd.DataFrame(conmat, index=['USSU', 'SODE', \n",
    "#                          'WEDE', 'NEMA','NEED', 'CYIT'],columns=['Pred USSU', 'Pred SODE', \n",
    "#                          'Pred WEDE', 'Pred NEMA','Pred NEED', 'Pred CYIT'])\n",
    "# print confusion"
   ]
  },
  {
   "cell_type": "code",
   "execution_count": null,
   "metadata": {
    "collapsed": false
   },
   "outputs": [],
   "source": [
    "conmat = np.array(confusion_matrix(y, predictionsKNN))\n",
    "confusion = pd.DataFrame(conmat, index=['USSU', 'SODE', \n",
    "                         'WEDE', 'NEMA','NEED', 'CYIT'],columns=['Pred USSU', 'Pred SODE', \n",
    "                         'Pred WEDE', 'Pred NEMA','Pred NEED', 'Pred CYIT'])\n",
    "print confusion"
   ]
  },
  {
   "cell_type": "code",
   "execution_count": null,
   "metadata": {
    "collapsed": false
   },
   "outputs": [],
   "source": [
    "print  classification_report(y, predictionsKNN)"
   ]
  },
  {
   "cell_type": "code",
   "execution_count": null,
   "metadata": {
    "collapsed": true
   },
   "outputs": [],
   "source": []
  },
  {
   "cell_type": "markdown",
   "metadata": {},
   "source": [
    "# Knn on PCA training set "
   ]
  },
  {
   "cell_type": "code",
   "execution_count": null,
   "metadata": {
    "collapsed": true
   },
   "outputs": [],
   "source": [
    "knnTTS=KNeighborsClassifier(n_neighbors=5)"
   ]
  },
  {
   "cell_type": "code",
   "execution_count": null,
   "metadata": {
    "collapsed": false
   },
   "outputs": [],
   "source": [
    "knnTTS.fit(train_features,y_train)"
   ]
  },
  {
   "cell_type": "code",
   "execution_count": null,
   "metadata": {
    "collapsed": false
   },
   "outputs": [],
   "source": [
    "knnTTS.score(train_features,y_train)"
   ]
  },
  {
   "cell_type": "code",
   "execution_count": null,
   "metadata": {
    "collapsed": true
   },
   "outputs": [],
   "source": [
    "predictionsKNN=knnTTS.predict(train_features)"
   ]
  },
  {
   "cell_type": "code",
   "execution_count": null,
   "metadata": {
    "collapsed": false
   },
   "outputs": [],
   "source": [
    "print confusion_matrix(y_train, predictionsKNN)"
   ]
  },
  {
   "cell_type": "code",
   "execution_count": null,
   "metadata": {
    "collapsed": true
   },
   "outputs": [],
   "source": []
  },
  {
   "cell_type": "markdown",
   "metadata": {},
   "source": [
    "# Knn on test data after being trained on training data"
   ]
  },
  {
   "cell_type": "code",
   "execution_count": null,
   "metadata": {
    "collapsed": true
   },
   "outputs": [],
   "source": [
    "test_featuresKNN_TTS=pca.transform(x_test)"
   ]
  },
  {
   "cell_type": "code",
   "execution_count": null,
   "metadata": {
    "collapsed": false
   },
   "outputs": [],
   "source": [
    "knnTTS.score(test_featuresKNN_TTS,y_test)"
   ]
  },
  {
   "cell_type": "code",
   "execution_count": null,
   "metadata": {
    "collapsed": true
   },
   "outputs": [],
   "source": [
    "predictionsKNN_TTS=knnTTS.predict(test_featuresKNN_TTS)"
   ]
  },
  {
   "cell_type": "code",
   "execution_count": null,
   "metadata": {
    "collapsed": false
   },
   "outputs": [],
   "source": [
    "print confusion_matrix(y_test, predictionsKNN_TTS)"
   ]
  },
  {
   "cell_type": "code",
   "execution_count": null,
   "metadata": {
    "collapsed": false
   },
   "outputs": [],
   "source": [
    "conmat = np.array(confusion_matrix(y_test, predictionsKNN_TTS))\n",
    "confusion = pd.DataFrame(conmat, index=['USSU', 'SODE', \n",
    "                         'WEDE', 'NEMA','NEED', 'CYIT'],columns=['Pred USSU', 'Pred SODE', \n",
    "                         'Pred WEDE', 'Pred NEMA','Pred NEED', 'Pred CYIT'])\n",
    "print confusion"
   ]
  },
  {
   "cell_type": "code",
   "execution_count": null,
   "metadata": {
    "collapsed": false
   },
   "outputs": [],
   "source": [
    "print  classification_report(y_test, predictionsKNN_TTS)"
   ]
  },
  {
   "cell_type": "code",
   "execution_count": null,
   "metadata": {
    "collapsed": true
   },
   "outputs": [],
   "source": []
  },
  {
   "cell_type": "markdown",
   "metadata": {},
   "source": [
    "# Naive Bayes for clustering not going to use"
   ]
  },
  {
   "cell_type": "code",
   "execution_count": null,
   "metadata": {
    "collapsed": true
   },
   "outputs": [],
   "source": [
    "mnb=MultinomialNB()"
   ]
  },
  {
   "cell_type": "code",
   "execution_count": null,
   "metadata": {
    "collapsed": false
   },
   "outputs": [],
   "source": [
    "mnb.fit(x,y)"
   ]
  },
  {
   "cell_type": "code",
   "execution_count": null,
   "metadata": {
    "collapsed": false
   },
   "outputs": [],
   "source": [
    "mnb.score(x,y)"
   ]
  },
  {
   "cell_type": "code",
   "execution_count": null,
   "metadata": {
    "collapsed": true
   },
   "outputs": [],
   "source": [
    "y_hat=mnb.predict(x)"
   ]
  },
  {
   "cell_type": "code",
   "execution_count": null,
   "metadata": {
    "collapsed": false
   },
   "outputs": [],
   "source": [
    "print classification_report(y, y_hat)"
   ]
  },
  {
   "cell_type": "code",
   "execution_count": null,
   "metadata": {
    "collapsed": false
   },
   "outputs": [],
   "source": [
    "confusion_matrix(y,y_hat)"
   ]
  },
  {
   "cell_type": "code",
   "execution_count": null,
   "metadata": {
    "collapsed": false
   },
   "outputs": [],
   "source": [
    "predicted_probabilities=mnb.predict_proba(x)\n",
    "predicted_probabilities[0:5]"
   ]
  },
  {
   "cell_type": "code",
   "execution_count": null,
   "metadata": {
    "collapsed": true
   },
   "outputs": [],
   "source": []
  },
  {
   "cell_type": "code",
   "execution_count": null,
   "metadata": {
    "collapsed": true
   },
   "outputs": [],
   "source": []
  },
  {
   "cell_type": "markdown",
   "metadata": {},
   "source": [
    "# K means"
   ]
  },
  {
   "cell_type": "code",
   "execution_count": null,
   "metadata": {
    "collapsed": true
   },
   "outputs": [],
   "source": [
    "#standarizing x  Richard made me do this. I liked my results from the non-transformed data\n",
    "#but he said for KMeans the data needs to be transformed\n",
    "#everything clustered together in to one cluster\n",
    "# I think when I enter data from job description I will be able to use this\n",
    "standardizedFeatures=StandardScaler().fit_transform(wordsDescription)"
   ]
  },
  {
   "cell_type": "code",
   "execution_count": null,
   "metadata": {
    "collapsed": true
   },
   "outputs": [],
   "source": [
    "kmeans=KMeans(6)\n",
    "kmeans.fit(standardizedFeatures)\n",
    "predicts=kmeans.predict(standardizedFeatures)"
   ]
  },
  {
   "cell_type": "code",
   "execution_count": null,
   "metadata": {
    "collapsed": false
   },
   "outputs": [],
   "source": [
    "distortions = []\n",
    "for i in range(1, 11):\n",
    "    km = KMeans(n_clusters=i, init='k-means++', n_init=10, max_iter=300, random_state=0)\n",
    "    km.fit(standardizedFeatures)\n",
    "    distortions.append(km.inertia_)\n",
    "plt.plot(range(1,11), distortions, marker='o')\n",
    "plt.xlabel('Number of clusters')\n",
    "plt.ylabel('Distortion')\n",
    "plt.show()"
   ]
  },
  {
   "cell_type": "code",
   "execution_count": null,
   "metadata": {
    "collapsed": false
   },
   "outputs": [],
   "source": [
    "df = pd.DataFrame(standardizedFeatures, columns=wordsDescription.columns)\n",
    "\n",
    "# df.development.describe()\n",
    "# df.head()"
   ]
  },
  {
   "cell_type": "code",
   "execution_count": null,
   "metadata": {
    "collapsed": false
   },
   "outputs": [],
   "source": [
    "wordsDescription.sum().sort_values().plot(kind='hist')"
   ]
  },
  {
   "cell_type": "code",
   "execution_count": null,
   "metadata": {
    "collapsed": false
   },
   "outputs": [],
   "source": [
    "\n",
    "type(listingFile)"
   ]
  },
  {
   "cell_type": "code",
   "execution_count": null,
   "metadata": {
    "collapsed": false
   },
   "outputs": [],
   "source": [
    "df.shape"
   ]
  },
  {
   "cell_type": "code",
   "execution_count": null,
   "metadata": {
    "collapsed": false
   },
   "outputs": [],
   "source": [
    "df = listingFile.join(pd.DataFrame(kmeans.predict(standardizedFeatures), \n",
    "                 columns=['with standardized wordsDescription']))"
   ]
  },
  {
   "cell_type": "code",
   "execution_count": null,
   "metadata": {
    "collapsed": false
   },
   "outputs": [],
   "source": [
    "df.tail()"
   ]
  },
  {
   "cell_type": "code",
   "execution_count": null,
   "metadata": {
    "collapsed": false
   },
   "outputs": [],
   "source": [
    "# resultsOFClustering=df[['Degree','Search Criteria','encodedDegree','predictions_k6']]"
   ]
  },
  {
   "cell_type": "code",
   "execution_count": null,
   "metadata": {
    "collapsed": false
   },
   "outputs": [],
   "source": [
    "#resultsOFClustering.head(1)"
   ]
  },
  {
   "cell_type": "code",
   "execution_count": null,
   "metadata": {
    "collapsed": true
   },
   "outputs": [],
   "source": [
    "# for n_clusters in range(0,6):\n",
    "#     fig, (ax1, ax2)=plt.subplots(1,2)\n",
    "#     fig.set_size_inches(18,7)"
   ]
  },
  {
   "cell_type": "code",
   "execution_count": null,
   "metadata": {
    "collapsed": false
   },
   "outputs": [],
   "source": [
    "clusterer = AgglomerativeClustering(n_clusters=2)\n",
    "cluster_labels = clusterer.fit_predict(standardizedFeatures)"
   ]
  },
  {
   "cell_type": "code",
   "execution_count": null,
   "metadata": {
    "collapsed": false
   },
   "outputs": [],
   "source": []
  },
  {
   "cell_type": "code",
   "execution_count": null,
   "metadata": {
    "collapsed": false
   },
   "outputs": [],
   "source": [
    "#new_df = listingFile.join(pd.DataFrame(cluster_labels, columns=['labels']))\n",
    "#new_df.loc[(new_df['labels'] == 1), 'CleanDescription'].values # to see the actual description\n",
    "#new_df.loc[(new_df['labels'] == 1)]"
   ]
  },
  {
   "cell_type": "code",
   "execution_count": null,
   "metadata": {
    "collapsed": false
   },
   "outputs": [],
   "source": [
    "#new_df.tail()"
   ]
  },
  {
   "cell_type": "code",
   "execution_count": null,
   "metadata": {
    "collapsed": false
   },
   "outputs": [],
   "source": [
    "# from sklearn.cluster import AgglomerativeClustering\n",
    "\n",
    "range_n_clusters = range(2, 5)\n",
    "\n",
    "for n_clusters in range_n_clusters:\n",
    "    # Create a subplot with 1 row and 2 columns\n",
    "    fig, ax1 = plt.subplots(1)\n",
    "    fig.set_size_inches(18, 7)\n",
    "\n",
    "    # The 1st subplot is the silhouette plot\n",
    "    # The silhouette coefficient can range from -1, 1 but in this example all\n",
    "    # lie within [-0.1, 1]\n",
    "    ax1.set_xlim([-0.1, 1])\n",
    "    # The (n_clusters+1)*10 is for inserting blank space between silhouette\n",
    "    # plots of individual clusters, to demarcate them clearly.\n",
    "    ax1.set_ylim([0, len(standardizedFeatures) + (n_clusters + 1) * 10])\n",
    "\n",
    "    # Initialize the clusterer with n_clusters value and a random generator\n",
    "    # seed of 10 for reproducibility.\n",
    "    clusterer = AgglomerativeClustering(n_clusters=n_clusters)\n",
    "    cluster_labels = clusterer.fit_predict(standardizedFeatures)\n",
    "\n",
    "    # The silhouette_score gives the average value for all the samples.\n",
    "    # This gives a perspective into the density and separation of the formed\n",
    "    # clusters\n",
    "    silhouette_avg = silhouette_score(standardizedFeatures, cluster_labels)\n",
    "    print(\"For n_clusters =\", n_clusters,\n",
    "          \"The average silhouette_score is :\", silhouette_avg)\n",
    "\n",
    "    # Compute the silhouette scores for each sample\n",
    "    sample_silhouette_values = silhouette_samples(standardizedFeatures, cluster_labels)\n",
    "\n",
    "    y_lower = 10\n",
    "    for i in range(n_clusters):\n",
    "        # Aggregate the silhouette scores for samples belonging to\n",
    "        # cluster i, and sort them\n",
    "        ith_cluster_silhouette_values = \\\n",
    "            sample_silhouette_values[cluster_labels == i]\n",
    "\n",
    "        ith_cluster_silhouette_values.sort()\n",
    "\n",
    "        size_cluster_i = ith_cluster_silhouette_values.shape[0]\n",
    "        y_upper = y_lower + size_cluster_i\n",
    "\n",
    "        color = cm.spectral(float(i) / n_clusters)\n",
    "        ax1.fill_betweenx(np.arange(y_lower, y_upper),\n",
    "                          0, ith_cluster_silhouette_values,\n",
    "                          facecolor=color, edgecolor=color, alpha=0.7)\n",
    "\n",
    "        # Label the silhouette plots with their cluster numbers at the middle\n",
    "        ax1.text(-0.05, y_lower + 0.5 * size_cluster_i, str(i))\n",
    "\n",
    "        # Compute the new y_lower for next plot\n",
    "        y_lower = y_upper + 10  # 10 for the 0 samples\n",
    "\n",
    "    ax1.set_title(\"The silhouette plot for the various clusters.\")\n",
    "    ax1.set_xlabel(\"The silhouette coefficient values\")\n",
    "    ax1.set_ylabel(\"Cluster label\")\n",
    "\n",
    "    # The vertical line for average silhouette score of all the values\n",
    "    ax1.axvline(x=silhouette_avg, color=\"red\", linestyle=\"--\")\n",
    "\n",
    "    ax1.set_yticks([])  # Clear the yaxis labels / ticks\n",
    "    ax1.set_xticks([-0.1, 0, 0.2, 0.4, 0.6, 0.8, 1])\n",
    "\n",
    "    plt.show()"
   ]
  },
  {
   "cell_type": "markdown",
   "metadata": {
    "collapsed": true
   },
   "source": [
    "# without scaler so the following code is worthless - too bad\n",
    "because I like the results\n"
   ]
  },
  {
   "cell_type": "code",
   "execution_count": null,
   "metadata": {
    "collapsed": true
   },
   "outputs": [],
   "source": [
    "kmeans=KMeans(6)\n",
    "kmeans.fit(x)\n",
    "predicts=kmeans.predict(x)"
   ]
  },
  {
   "cell_type": "code",
   "execution_count": null,
   "metadata": {
    "collapsed": false
   },
   "outputs": [],
   "source": [
    "distortions = []\n",
    "for i in range(1, 11):\n",
    "    km = KMeans(n_clusters=i, init='k-means++', n_init=10, max_iter=300, random_state=0)\n",
    "    km.fit(x)\n",
    "    distortions.append(km.inertia_)\n",
    "plt.plot(range(1,11), distortions, marker='o')\n",
    "plt.xlabel('Number of clusters')\n",
    "plt.ylabel('Distortion')\n",
    "plt.show()"
   ]
  },
  {
   "cell_type": "code",
   "execution_count": null,
   "metadata": {
    "collapsed": true
   },
   "outputs": [],
   "source": [
    "df = listingFile.join(\n",
    "    pd.DataFrame(kmeans.predict(x), \n",
    "                 columns=['predictions_k6'])\n",
    ")"
   ]
  },
  {
   "cell_type": "code",
   "execution_count": null,
   "metadata": {
    "collapsed": false
   },
   "outputs": [],
   "source": [
    "df.head()"
   ]
  },
  {
   "cell_type": "code",
   "execution_count": null,
   "metadata": {
    "collapsed": true
   },
   "outputs": [],
   "source": [
    "resultsOFClustering=df[['Degree','Search Criteria','encodedDegree','predictions_k6']]"
   ]
  },
  {
   "cell_type": "code",
   "execution_count": null,
   "metadata": {
    "collapsed": false
   },
   "outputs": [],
   "source": [
    "resultsOFClustering.head(1)"
   ]
  },
  {
   "cell_type": "code",
   "execution_count": null,
   "metadata": {
    "collapsed": true
   },
   "outputs": [],
   "source": []
  },
  {
   "cell_type": "code",
   "execution_count": null,
   "metadata": {
    "collapsed": false
   },
   "outputs": [],
   "source": [
    "range_n_clusters = range(4, 12)\n",
    "\n",
    "for n_clusters in range_n_clusters:\n",
    "    # Create a subplot with 1 row and 2 columns\n",
    "    fig, ax1 = plt.subplots(1)\n",
    "    fig.set_size_inches(18, 7)\n",
    "\n",
    "    # The 1st subplot is the silhouette plot\n",
    "    # The silhouette coefficient can range from -1, 1 but in this example all\n",
    "    # lie within [-0.1, 1]\n",
    "    ax1.set_xlim([-0.1, 1])\n",
    "    # The (n_clusters+1)*10 is for inserting blank space between silhouette\n",
    "    # plots of individual clusters, to demarcate them clearly.\n",
    "    ax1.set_ylim([0, len(x) + (n_clusters + 1) * 10])\n",
    "\n",
    "    # Initialize the clusterer with n_clusters value and a random generator\n",
    "    # seed of 10 for reproducibility.\n",
    "    clusterer = KMeans(n_clusters=n_clusters, random_state=10)\n",
    "    cluster_labels = clusterer.fit_predict(x)\n",
    "\n",
    "    # The silhouette_score gives the average value for all the samples.\n",
    "    # This gives a perspective into the density and separation of the formed\n",
    "    # clusters\n",
    "    silhouette_avg = silhouette_score(x, cluster_labels)\n",
    "    print(\"For n_clusters =\", n_clusters,\n",
    "          \"The average silhouette_score is :\", silhouette_avg)\n",
    "\n",
    "    # Compute the silhouette scores for each sample\n",
    "    sample_silhouette_values = silhouette_samples(x, cluster_labels)\n",
    "\n",
    "    y_lower = 10\n",
    "    for i in range(n_clusters):\n",
    "        # Aggregate the silhouette scores for samples belonging to\n",
    "        # cluster i, and sort them\n",
    "        ith_cluster_silhouette_values = \\\n",
    "            sample_silhouette_values[cluster_labels == i]\n",
    "\n",
    "        ith_cluster_silhouette_values.sort()\n",
    "\n",
    "        size_cluster_i = ith_cluster_silhouette_values.shape[0]\n",
    "        y_upper = y_lower + size_cluster_i\n",
    "\n",
    "        color = cm.spectral(float(i) / n_clusters)\n",
    "        ax1.fill_betweenx(np.arange(y_lower, y_upper),\n",
    "                          0, ith_cluster_silhouette_values,\n",
    "                          facecolor=color, edgecolor=color, alpha=0.7)\n",
    "\n",
    "        # Label the silhouette plots with their cluster numbers at the middle\n",
    "        ax1.text(-0.05, y_lower + 0.5 * size_cluster_i, str(i))\n",
    "\n",
    "        # Compute the new y_lower for next plot\n",
    "        y_lower = y_upper + 10  # 10 for the 0 samples\n",
    "\n",
    "    ax1.set_title(\"The silhouette plot for the various clusters.\")\n",
    "    ax1.set_xlabel(\"The silhouette coefficient values\")\n",
    "    ax1.set_ylabel(\"Cluster label\")\n",
    "\n",
    "    # The vertical line for average silhouette score of all the values\n",
    "    ax1.axvline(x=silhouette_avg, color=\"red\", linestyle=\"--\")\n",
    "\n",
    "    ax1.set_yticks([])  # Clear the yaxis labels / ticks\n",
    "    ax1.set_xticks([-0.1, 0, 0.2, 0.4, 0.6, 0.8, 1])\n",
    "\n",
    "    plt.show()"
   ]
  },
  {
   "cell_type": "code",
   "execution_count": null,
   "metadata": {
    "collapsed": true
   },
   "outputs": [],
   "source": []
  },
  {
   "cell_type": "code",
   "execution_count": null,
   "metadata": {
    "collapsed": true
   },
   "outputs": [],
   "source": []
  },
  {
   "cell_type": "code",
   "execution_count": null,
   "metadata": {
    "collapsed": true
   },
   "outputs": [],
   "source": []
  },
  {
   "cell_type": "code",
   "execution_count": null,
   "metadata": {
    "collapsed": true
   },
   "outputs": [],
   "source": []
  },
  {
   "cell_type": "code",
   "execution_count": null,
   "metadata": {
    "collapsed": true
   },
   "outputs": [],
   "source": []
  },
  {
   "cell_type": "markdown",
   "metadata": {},
   "source": [
    "# Visualizing the data with TSNE so sad I cannot use it \n",
    "# since the data was not standardized"
   ]
  },
  {
   "cell_type": "code",
   "execution_count": null,
   "metadata": {
    "collapsed": false
   },
   "outputs": [],
   "source": [
    "from sklearn.manifold import TSNE"
   ]
  },
  {
   "cell_type": "code",
   "execution_count": null,
   "metadata": {
    "collapsed": true
   },
   "outputs": [],
   "source": [
    "tsne = TSNE()"
   ]
  },
  {
   "cell_type": "code",
   "execution_count": null,
   "metadata": {
    "collapsed": true
   },
   "outputs": [],
   "source": [
    "graphing_data = tsne.fit_transform(x)"
   ]
  },
  {
   "cell_type": "code",
   "execution_count": null,
   "metadata": {
    "collapsed": false
   },
   "outputs": [],
   "source": [
    "graphing_data[0:5]"
   ]
  },
  {
   "cell_type": "code",
   "execution_count": null,
   "metadata": {
    "collapsed": false
   },
   "outputs": [],
   "source": [
    "plt.scatter(graphing_data[:,0], graphing_data[:,1])"
   ]
  },
  {
   "cell_type": "code",
   "execution_count": null,
   "metadata": {
    "collapsed": false
   },
   "outputs": [],
   "source": [
    "plt.scatter(graphing_data[:,0], graphing_data[:,1],\n",
    "           c=kmeans.predict(x)) "
   ]
  },
  {
   "cell_type": "code",
   "execution_count": null,
   "metadata": {
    "collapsed": true
   },
   "outputs": [],
   "source": []
  }
 ],
 "metadata": {
  "kernelspec": {
   "display_name": "Python [Root]",
   "language": "python",
   "name": "Python [Root]"
  },
  "language_info": {
   "codemirror_mode": {
    "name": "ipython",
    "version": 2
   },
   "file_extension": ".py",
   "mimetype": "text/x-python",
   "name": "python",
   "nbconvert_exporter": "python",
   "pygments_lexer": "ipython2",
   "version": "2.7.12"
  }
 },
 "nbformat": 4,
 "nbformat_minor": 0
}
