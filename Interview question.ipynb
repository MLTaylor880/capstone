{
 "cells": [
  {
   "cell_type": "code",
   "execution_count": 2,
   "metadata": {
    "collapsed": false
   },
   "outputs": [],
   "source": [
    "import string\n",
    "import pandas as pd\n",
    "import numpy as np"
   ]
  },
  {
   "cell_type": "code",
   "execution_count": 93,
   "metadata": {
    "collapsed": false
   },
   "outputs": [
    {
     "data": {
      "text/plain": [
       "'a'"
      ]
     },
     "execution_count": 93,
     "metadata": {},
     "output_type": "execute_result"
    }
   ],
   "source": [
    "string1='baabccccaaaddee'\n",
    "string1[10]"
   ]
  },
  {
   "cell_type": "code",
   "execution_count": 94,
   "metadata": {
    "collapsed": false
   },
   "outputs": [
    {
     "data": {
      "text/plain": [
       "15"
      ]
     },
     "execution_count": 94,
     "metadata": {},
     "output_type": "execute_result"
    }
   ],
   "source": [
    "lenString=len(string1)\n",
    "lenString"
   ]
  },
  {
   "cell_type": "code",
   "execution_count": 102,
   "metadata": {
    "collapsed": false
   },
   "outputs": [
    {
     "name": "stdout",
     "output_type": "stream",
     "text": [
      "b1a2b1c5a3d2e2\n",
      "this compression works, the len is 14\n",
      "the length of the original is 16\n"
     ]
    }
   ],
   "source": [
    "#this is case sensitive since A does not == a\n",
    "#to make it not case sensitive make when comparing make it lower case.\n",
    "\n",
    "string1='baabcccccaaaddee'\n",
    "lenString=len(string1)\n",
    "counter = 1\n",
    "i=1\n",
    "s=''\n",
    "while i <=(lenString):\n",
    "    while string1[i]==string1[i-1]:\n",
    "        counter = counter +1\n",
    "        stringPrint=string1[i]\n",
    "        i=i+1\n",
    "        if i >= lenString:\n",
    "            break\n",
    "        \n",
    "    else:\n",
    "        stringPrint=string1[i-1]\n",
    "        i=i+1\n",
    "\n",
    "    s =s+stringPrint + str(counter)\n",
    "    if i >= lenString:\n",
    "        print s\n",
    "        break\n",
    "    counter = 1   \n",
    "    \n",
    "if len(s)<len(string1):\n",
    "    print \"this compression works, the length is \" + str(len(s))\n",
    "    print \"the length of the original is \"+ str(len(string1))\n",
    "else:\n",
    "    print \"the compression program did not shorten it\"\n",
    "    print \"the original is \" + string1    "
   ]
  },
  {
   "cell_type": "markdown",
   "metadata": {},
   "source": [
    "#richard looked at character  forward\n",
    "for x in string:\n",
    "    counter =0\n",
    "    compressed streing = ''\n",
    "    currentLetterCount=0\n",
    "    if x !=string(counter +1)\n",
    "    \n",
    "    he used 2 counters one to iterate through and then one for number of letters"
   ]
  },
  {
   "cell_type": "code",
   "execution_count": 103,
   "metadata": {
    "collapsed": false
   },
   "outputs": [
    {
     "data": {
      "text/plain": [
       "'a2sdad4e3g2W3'"
      ]
     },
     "execution_count": 103,
     "metadata": {},
     "output_type": "execute_result"
    }
   ],
   "source": [
    "def compress(l):\n",
    "    l = list(l)\n",
    "    count = 1\n",
    "    i = 1\n",
    "    while i < len(l):\n",
    "        if l[i] == l[i-1]:\n",
    "            count += 1\n",
    "            del l[i]\n",
    "        elif l[i] != l[i-1] and count > 1:\n",
    "            l.insert(i, str(count))\n",
    "            count = 1\n",
    "            i += 2\n",
    "        else:\n",
    "            i += 1\n",
    "#             l.insert(i, str(count))\n",
    "#             i += 2\n",
    "        if i == len(l) and count > 1:\n",
    "            l.insert(i, str(count))\n",
    "            break\n",
    "    return ''.join(l)\n",
    "\n",
    "compress(\"aasdaddddeeeggWWW\")"
   ]
  },
  {
   "cell_type": "code",
   "execution_count": null,
   "metadata": {
    "collapsed": true
   },
   "outputs": [],
   "source": []
  }
 ],
 "metadata": {
  "kernelspec": {
   "display_name": "Python [Root]",
   "language": "python",
   "name": "Python [Root]"
  },
  "language_info": {
   "codemirror_mode": {
    "name": "ipython",
    "version": 2
   },
   "file_extension": ".py",
   "mimetype": "text/x-python",
   "name": "python",
   "nbconvert_exporter": "python",
   "pygments_lexer": "ipython2",
   "version": "2.7.12"
  }
 },
 "nbformat": 4,
 "nbformat_minor": 0
}
