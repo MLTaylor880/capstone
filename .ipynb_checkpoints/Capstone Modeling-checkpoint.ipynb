{
 "cells": [
  {
   "cell_type": "code",
   "execution_count": 1,
   "metadata": {
    "collapsed": true
   },
   "outputs": [],
   "source": [
    "import csv\n",
    "import pandas as pd\n",
    "import numpy as np\n",
    "import matplotlib.pyplot as plt\n",
    "%matplotlib inline\n",
    "import sys  \n",
    "\n",
    "#extraction and npl\n",
    "from sklearn.feature_extraction.text import CountVectorizer\n",
    "import nltk\n",
    "from nltk.stem.wordnet import WordNetLemmatizer\n",
    "from nltk.stem import PorterStemmer\n",
    "from nltk import word_tokenize\n",
    "from sklearn.feature_selection import SelectKBest\n",
    "from sklearn.feature_extraction import DictVectorizer\n",
    "from sklearn.feature_selection import RFE\n",
    "from sklearn.feature_extraction.text import TfidfVectorizer\n",
    "from sklearn import preprocessing\n",
    "\n",
    "from sklearn.cross_validation import train_test_split\n",
    "from sklearn.cross_validation import StratifiedShuffleSplit\n",
    "\n",
    "from sklearn.cluster import KMeans\n",
    "\n",
    "from sklearn.grid_search import GridSearchCV\n",
    "from sklearn.linear_model import LogisticRegression\n",
    "from sklearn.metrics import confusion_matrix, classification_report\n",
    "\n",
    "\n",
    "#forest\n",
    "from sklearn.tree import DecisionTreeClassifier\n",
    "from sklearn.tree import DecisionTreeRegressor\n",
    "#bagging\n",
    "from sklearn.ensemble import BaggingClassifier\n",
    "#forests\n",
    "from sklearn.ensemble import RandomForestClassifier, ExtraTreesClassifier\n",
    "from sklearn.datasets import make_classification\n",
    "\n",
    "#Knn\n",
    "from sklearn.neighbors import KNeighborsClassifier\n",
    "\n",
    "\n",
    "\n",
    "from sklearn.preprocessing import LabelEncoder\n",
    "\n",
    "\n",
    "from sklearn.cross_validation import cross_val_score, StratifiedKFold\n",
    "from sklearn import datasets\n",
    "\n",
    "import string\n",
    "\n",
    "from sklearn.decomposition import PCA\n",
    "\n",
    "from sklearn.naive_bayes import MultinomialNB\n"
   ]
  },
  {
   "cell_type": "code",
   "execution_count": 2,
   "metadata": {
    "collapsed": true
   },
   "outputs": [],
   "source": [
    "#importing the CSV file with the data\n",
    "listingFile =pd.read_csv(\"Listings7.csv\",encoding='utf-8')"
   ]
  },
  {
   "cell_type": "code",
   "execution_count": 3,
   "metadata": {
    "collapsed": false
   },
   "outputs": [
    {
     "data": {
      "text/plain": [
       "(4390, 8)"
      ]
     },
     "execution_count": 3,
     "metadata": {},
     "output_type": "execute_result"
    }
   ],
   "source": [
    "listingFile.shape"
   ]
  },
  {
   "cell_type": "code",
   "execution_count": 4,
   "metadata": {
    "collapsed": false
   },
   "outputs": [
    {
     "data": {
      "text/html": [
       "<div>\n",
       "<table border=\"1\" class=\"dataframe\">\n",
       "  <thead>\n",
       "    <tr style=\"text-align: right;\">\n",
       "      <th></th>\n",
       "      <th>Unnamed: 0</th>\n",
       "      <th>City Location</th>\n",
       "      <th>Company Name</th>\n",
       "      <th>Degree</th>\n",
       "      <th>Description</th>\n",
       "      <th>Job Title</th>\n",
       "      <th>Search Criteria</th>\n",
       "      <th>Source</th>\n",
       "    </tr>\n",
       "  </thead>\n",
       "  <tbody>\n",
       "    <tr>\n",
       "      <th>0</th>\n",
       "      <td>0</td>\n",
       "      <td>Cincinnati, OH</td>\n",
       "      <td>Pro4ia, Inc.</td>\n",
       "      <td>user+support</td>\n",
       "      <td>Day-to-day desktop support. Input all service ...</td>\n",
       "      <td>Level 1/2 Desktop Support</td>\n",
       "      <td>user+support</td>\n",
       "      <td>Indeed</td>\n",
       "    </tr>\n",
       "  </tbody>\n",
       "</table>\n",
       "</div>"
      ],
      "text/plain": [
       "   Unnamed: 0   City Location  Company Name        Degree  \\\n",
       "0           0  Cincinnati, OH  Pro4ia, Inc.  user+support   \n",
       "\n",
       "                                         Description  \\\n",
       "0  Day-to-day desktop support. Input all service ...   \n",
       "\n",
       "                   Job Title Search Criteria  Source  \n",
       "0  Level 1/2 Desktop Support    user+support  Indeed  "
      ]
     },
     "execution_count": 4,
     "metadata": {},
     "output_type": "execute_result"
    }
   ],
   "source": [
    "listingFile.head(1)"
   ]
  },
  {
   "cell_type": "code",
   "execution_count": 5,
   "metadata": {
    "collapsed": false
   },
   "outputs": [
    {
     "data": {
      "text/plain": [
       "software+development    928\n",
       "user+support            899\n",
       "network+manager         872\n",
       "web+development         864\n",
       "network+engineer        552\n",
       "cyber+security          275\n",
       "Name: Degree, dtype: int64"
      ]
     },
     "execution_count": 5,
     "metadata": {},
     "output_type": "execute_result"
    }
   ],
   "source": [
    "listingFile['Degree'].value_counts()"
   ]
  },
  {
   "cell_type": "markdown",
   "metadata": {},
   "source": [
    "# Data Cleaning"
   ]
  },
  {
   "cell_type": "code",
   "execution_count": 6,
   "metadata": {
    "collapsed": true
   },
   "outputs": [],
   "source": [
    "#now make all words in description lower case\n",
    "listingFile['CleanDescription']=listingFile['Description'].apply(lambda x: x.lower())"
   ]
  },
  {
   "cell_type": "code",
   "execution_count": 7,
   "metadata": {
    "collapsed": true
   },
   "outputs": [],
   "source": [
    "#removing numbers\n",
    "listingFile['CleanDescription']= listingFile['CleanDescription'].apply(lambda x: ''.join([i for i in x if not i.isdigit()]))"
   ]
  },
  {
   "cell_type": "code",
   "execution_count": 8,
   "metadata": {
    "collapsed": true
   },
   "outputs": [],
   "source": [
    "#remove punctuation - code could be more efficient\n",
    "listingFile['CleanDescription']= listingFile['CleanDescription'].apply(lambda x: x.replace(',',''))\n",
    "listingFile['CleanDescription']= listingFile['CleanDescription'].apply(lambda x: x.replace('.',''))\n",
    "listingFile['CleanDescription']= listingFile['CleanDescription'].apply(lambda x: x.replace('\\(',''))\n",
    "listingFile['CleanDescription']= listingFile['CleanDescription'].apply(lambda x: x.replace('\\)',''))\n"
   ]
  },
  {
   "cell_type": "code",
   "execution_count": 9,
   "metadata": {
    "collapsed": true
   },
   "outputs": [],
   "source": [
    "#removing numbers from the descriptions\n",
    "listingFile['CleanDescription']= listingFile['CleanDescription'].apply(lambda x: x.lstrip().replace('\\n',''))"
   ]
  },
  {
   "cell_type": "code",
   "execution_count": 10,
   "metadata": {
    "collapsed": false
   },
   "outputs": [
    {
     "data": {
      "text/plain": [
       "Unnamed: 0          0\n",
       "City Location       0\n",
       "Company Name        0\n",
       "Degree              0\n",
       "Description         0\n",
       "Job Title           0\n",
       "Search Criteria     0\n",
       "Source              0\n",
       "CleanDescription    0\n",
       "dtype: int64"
      ]
     },
     "execution_count": 10,
     "metadata": {},
     "output_type": "execute_result"
    }
   ],
   "source": [
    "#checking to see if any null characters\n",
    "listingFile.isnull().sum()"
   ]
  },
  {
   "cell_type": "code",
   "execution_count": 11,
   "metadata": {
    "collapsed": false
   },
   "outputs": [
    {
     "name": "stdout",
     "output_type": "stream",
     "text": [
      "(4390, 9)\n",
      "(4390, 9)\n"
     ]
    },
    {
     "name": "stderr",
     "output_type": "stream",
     "text": [
      "/anaconda/lib/python2.7/site-packages/ipykernel/__main__.py:3: FutureWarning: the take_last=True keyword is deprecated, use keep='last' instead\n",
      "  app.launch_new_instance()\n"
     ]
    }
   ],
   "source": [
    "#drop duplicates\n",
    "print listingFile.shape\n",
    "listingFile=listingFile.drop_duplicates(take_last=True)\n",
    "print listingFile.shape"
   ]
  },
  {
   "cell_type": "code",
   "execution_count": 12,
   "metadata": {
    "collapsed": false
   },
   "outputs": [
    {
     "data": {
      "text/plain": [
       "0       day-to-day desktop support input all service r...\n",
       "1       is seeking a *yardi voyager support specialist...\n",
       "2       knowledge/experience supporting mobile users s...\n",
       "3       produce detailed specifications for software r...\n",
       "4       software development and hardware integration ...\n",
       "5       advanced html/css development (responsive desi...\n",
       "6       we are looking for a front-end web designer/de...\n",
       "7       blue laser design is actively looking to add a...\n",
       "8       development of enterprise web  applications • ...\n",
       "9       advanced or formal training in network technol...\n",
       "10      network services manager support and develop c...\n",
       "11      as head of ops tech network engineering you wi...\n",
       "12      field network engineer* integrate with other s...\n",
       "13      due to our rapid growth lang company is lookin...\n",
       "14      assists in the development implementation and ...\n",
       "15      apply knowledge of latest cyber security indus...\n",
       "16      ability to obtain and maintain a secret securi...\n",
       "17      the network information security analyst will ...\n",
       "18      provides internal consulting technical guidanc...\n",
       "19      windows systems that support the administrativ...\n",
       "20      to develop intuitive user interfaces support a...\n",
       "21      in addition to providing direct end-user suppo...\n",
       "22      communicating with users to understand issues ...\n",
       "23      the it help desk technician will be responsibl...\n",
       "24      manages customer support analyst workload by r...\n",
       "25      supervisor system support ensure outstanding e...\n",
       "26      this position will work with other members of ...\n",
       "27      active participation in user acceptance testin...\n",
       "28      proactively provides support to children servi...\n",
       "29      the it support assistant will provide support ...\n",
       "                              ...                        \n",
       "4360    the web developer will work closely with the s...\n",
       "4361    marketing campaign development and management ...\n",
       "4362    business development manager job responsibilit...\n",
       "4363    experience design technology development visua...\n",
       "4364    state of the art development tools; experience...\n",
       "4365    ios and/or android development preferred prepa...\n",
       "4366    facilitate requirements analysis development a...\n",
       "4367    ability to manage all levels of projects from ...\n",
       "4368    insures retention of talent and proper trainin...\n",
       "4369    ms office suite internet resourcing web based ...\n",
       "4370    minimum of  years of experience in enterprise ...\n",
       "4371    as a member of a microsoft-centric team this p...\n",
       "4372    reports to manager network operations cisco ce...\n",
       "4373    logistics/supply network operations you can ma...\n",
       "4374    network protocols and security standards work ...\n",
       "4375    work closely with departmental managers to det...\n",
       "4376    prior experience in the role as an it manager ...\n",
       "4377    manager network and security engineering the m...\n",
       "4378    + years as a manager and leader actively manag...\n",
       "4379    general summary works under the supervision of...\n",
       "4380    business banking relationship manager  hunting...\n",
       "4381    software/hardware skills and network familiari...\n",
       "4382    supports provider data requests for the clinic...\n",
       "4383    use project deliverables to develop the work b...\n",
       "4384    risk assurance manager risk assurance manager ...\n",
       "4385    corporate audit manager - job description: str...\n",
       "4386    reports directly to the administrative directo...\n",
       "4387    compliance group manager - deposit products & ...\n",
       "4388    collaborate with hospital account manager to d...\n",
       "4389    certified case manager (ccm) rns provide consu...\n",
       "Name: CleanDescription, dtype: object"
      ]
     },
     "execution_count": 12,
     "metadata": {},
     "output_type": "execute_result"
    }
   ],
   "source": [
    "listingFile['CleanDescription']"
   ]
  },
  {
   "cell_type": "markdown",
   "metadata": {},
   "source": [
    "# looking at degrees and graduates"
   ]
  },
  {
   "cell_type": "code",
   "execution_count": 13,
   "metadata": {
    "collapsed": false
   },
   "outputs": [
    {
     "data": {
      "text/html": [
       "<div>\n",
       "<table border=\"1\" class=\"dataframe\">\n",
       "  <thead>\n",
       "    <tr style=\"text-align: right;\">\n",
       "      <th></th>\n",
       "      <th>Degree</th>\n",
       "      <th>Number of Grads</th>\n",
       "      <th>Number Listings</th>\n",
       "      <th>pctGradsToListing</th>\n",
       "    </tr>\n",
       "  </thead>\n",
       "  <tbody>\n",
       "    <tr>\n",
       "      <th>0</th>\n",
       "      <td>user+support</td>\n",
       "      <td>30</td>\n",
       "      <td>899</td>\n",
       "      <td>0.033370</td>\n",
       "    </tr>\n",
       "    <tr>\n",
       "      <th>1</th>\n",
       "      <td>software+development</td>\n",
       "      <td>71</td>\n",
       "      <td>928</td>\n",
       "      <td>0.076509</td>\n",
       "    </tr>\n",
       "    <tr>\n",
       "      <th>2</th>\n",
       "      <td>web+development</td>\n",
       "      <td>31</td>\n",
       "      <td>864</td>\n",
       "      <td>0.035880</td>\n",
       "    </tr>\n",
       "    <tr>\n",
       "      <th>3</th>\n",
       "      <td>network+manager</td>\n",
       "      <td>77</td>\n",
       "      <td>872</td>\n",
       "      <td>0.088303</td>\n",
       "    </tr>\n",
       "    <tr>\n",
       "      <th>4</th>\n",
       "      <td>network+engineer</td>\n",
       "      <td>79</td>\n",
       "      <td>552</td>\n",
       "      <td>0.143116</td>\n",
       "    </tr>\n",
       "    <tr>\n",
       "      <th>5</th>\n",
       "      <td>cyber+security</td>\n",
       "      <td>8</td>\n",
       "      <td>275</td>\n",
       "      <td>0.029091</td>\n",
       "    </tr>\n",
       "  </tbody>\n",
       "</table>\n",
       "</div>"
      ],
      "text/plain": [
       "                 Degree  Number of Grads  Number Listings  pctGradsToListing\n",
       "0          user+support               30              899           0.033370\n",
       "1  software+development               71              928           0.076509\n",
       "2       web+development               31              864           0.035880\n",
       "3       network+manager               77              872           0.088303\n",
       "4      network+engineer               79              552           0.143116\n",
       "5        cyber+security                8              275           0.029091"
      ]
     },
     "execution_count": 13,
     "metadata": {},
     "output_type": "execute_result"
    }
   ],
   "source": [
    "#creating a table of actual degrees and certificates the college awarded per degree\n",
    "#this is public information\n",
    "#degree included short term certificates\n",
    "tempFile =listingFile.groupby('Degree').count()\n",
    "tempFile=pd.DataFrame(tempFile['Unnamed: 0'])\n",
    "tempFile.reset_index(inplace=True)\n",
    "\n",
    "collegeDegreesVSJobs=pd.DataFrame({'DegreeArea': ['user+support', 'software+development', \n",
    "                         'web+development', 'network+manager', 'network+engineer', \n",
    "                         'cyber+security'],'Number of': [30,71,31,77,79,8]})\n",
    "collegeDegreesVSJobs.columns=[['Degree', 'Number of Grads']]\n",
    "collegeDF= pd.merge(collegeDegreesVSJobs, tempFile, on='Degree')\n",
    "collegeDF.columns=[['Degree', 'Number of Grads', 'Number Listings']]\n",
    "collegeDF['pctGradsToListing']=collegeDF['Number of Grads']/collegeDF['Number Listings']\n",
    "collegeDF"
   ]
  },
  {
   "cell_type": "code",
   "execution_count": 14,
   "metadata": {
    "collapsed": false
   },
   "outputs": [
    {
     "data": {
      "image/png": "[encoded data removed]",
      "text/plain": [
       "<matplotlib.figure.Figure at 0x118d3ea10>"
      ]
     },
     "metadata": {},
     "output_type": "display_data"
    }
   ],
   "source": [
    "#bar chart\n",
    "yCollege=collegeDF['Number of Grads']\n",
    "xCollege=collegeDF['Degree']\n",
    "plt.bar(range(0, len(xCollege)) ,yCollege)\n",
    "labels=['user+support', 'software+development', \n",
    "                         'web+development', 'network+manager', 'network+engineer', \n",
    "                         'cyber+security']\n",
    "\n",
    "plt.xticks(range(6), labels, rotation='vertical')\n",
    "plt.title('Number of Degrees and Certificates');\n",
    "\n"
   ]
  },
  {
   "cell_type": "code",
   "execution_count": 15,
   "metadata": {
    "collapsed": false
   },
   "outputs": [
    {
     "data": {
      "image/png": "[encoded data removed]",
      "text/plain": [
       "<matplotlib.figure.Figure at 0x119187110>"
      ]
     },
     "metadata": {},
     "output_type": "display_data"
    }
   ],
   "source": [
    "#bar chart\n",
    "yCollege=collegeDF['pctGradsToListing']\n",
    "xCollege=collegeDF['Degree']\n",
    "plt.bar(range(0, len(xCollege)) ,yCollege)\n",
    "labels=['user+support', 'software+development', \n",
    "                         'web+development', 'network+manager', 'network+engineer', \n",
    "                         'cyber+security']\n",
    "\n",
    "plt.xticks(range(6), labels, rotation='vertical')\n",
    "plt.title('Percent Grads to Listings');"
   ]
  },
  {
   "cell_type": "markdown",
   "metadata": {},
   "source": [
    "# this is where I would add stemmers lammers\n",
    "talk with Richard"
   ]
  },
  {
   "cell_type": "code",
   "execution_count": null,
   "metadata": {
    "collapsed": true
   },
   "outputs": [],
   "source": []
  },
  {
   "cell_type": "markdown",
   "metadata": {},
   "source": [
    "# Label encoder for degrees"
   ]
  },
  {
   "cell_type": "code",
   "execution_count": 16,
   "metadata": {
    "collapsed": false
   },
   "outputs": [
    {
     "data": {
      "text/plain": [
       "LabelEncoder()"
      ]
     },
     "execution_count": 16,
     "metadata": {},
     "output_type": "execute_result"
    }
   ],
   "source": [
    "label_encoder = preprocessing.LabelEncoder()\n",
    "input_classes = ['user+support', 'software+development', 'web+development', 'network+manager',\n",
    "        'network+engineer', 'cyber+security']\n",
    "label_encoder.fit(input_classes)\n"
   ]
  },
  {
   "cell_type": "code",
   "execution_count": 17,
   "metadata": {
    "collapsed": false
   },
   "outputs": [
    {
     "name": "stdout",
     "output_type": "stream",
     "text": [
      "\n",
      "Labels = ['user+support', 'software+development', 'web+development', 'network+manager', 'network+engineer', 'cyber+security']\n",
      "Encoded labels = [4, 3, 5, 2, 1, 0]\n"
     ]
    }
   ],
   "source": [
    "encoded_labels = label_encoder.transform(input_classes)\n",
    "print \"\\nLabels =\", input_classes \n",
    "print \"Encoded labels =\", list(encoded_labels)"
   ]
  },
  {
   "cell_type": "code",
   "execution_count": 18,
   "metadata": {
    "collapsed": true
   },
   "outputs": [],
   "source": [
    "listingFile['encodedDegree']=label_encoder.transform(listingFile['Degree'])"
   ]
  },
  {
   "cell_type": "code",
   "execution_count": null,
   "metadata": {
    "collapsed": true
   },
   "outputs": [],
   "source": []
  },
  {
   "cell_type": "markdown",
   "metadata": {},
   "source": [
    "# count vectorizer of the cleanDescription"
   ]
  },
  {
   "cell_type": "code",
   "execution_count": 19,
   "metadata": {
    "collapsed": true
   },
   "outputs": [],
   "source": [
    "#will use all words\n",
    "cvec = CountVectorizer()\n",
    "v = CountVectorizer(\n",
    "    binary=True,  \n",
    "    stop_words='english')\n",
    "#,max_features=500\n"
   ]
  },
  {
   "cell_type": "code",
   "execution_count": 20,
   "metadata": {
    "collapsed": false
   },
   "outputs": [
    {
     "data": {
      "text/plain": [
       "(4390, 5588)"
      ]
     },
     "execution_count": 20,
     "metadata": {},
     "output_type": "execute_result"
    }
   ],
   "source": [
    "wordsDescription = v.fit_transform(listingFile['CleanDescription']).todense()\n",
    "wordsDescription = pd.DataFrame(wordsDescription, columns=v.get_feature_names())\n",
    "wordsDescription.shape"
   ]
  },
  {
   "cell_type": "code",
   "execution_count": 21,
   "metadata": {
    "collapsed": false
   },
   "outputs": [
    {
     "data": {
      "text/html": [
       "<div>\n",
       "<table border=\"1\" class=\"dataframe\">\n",
       "  <thead>\n",
       "    <tr style=\"text-align: right;\">\n",
       "      <th></th>\n",
       "      <th>_adaptive</th>\n",
       "      <th>aam</th>\n",
       "      <th>aarp</th>\n",
       "      <th>abb</th>\n",
       "      <th>abbott</th>\n",
       "      <th>abc</th>\n",
       "      <th>abide</th>\n",
       "      <th>abilities</th>\n",
       "      <th>ability</th>\n",
       "      <th>able</th>\n",
       "      <th>...</th>\n",
       "      <th>yes</th>\n",
       "      <th>young</th>\n",
       "      <th>youth</th>\n",
       "      <th>yp</th>\n",
       "      <th>yrs</th>\n",
       "      <th>yslow</th>\n",
       "      <th>zero</th>\n",
       "      <th>zone</th>\n",
       "      <th>zoning</th>\n",
       "      <th>zycron</th>\n",
       "    </tr>\n",
       "  </thead>\n",
       "  <tbody>\n",
       "    <tr>\n",
       "      <th>0</th>\n",
       "      <td>0</td>\n",
       "      <td>0</td>\n",
       "      <td>0</td>\n",
       "      <td>0</td>\n",
       "      <td>0</td>\n",
       "      <td>0</td>\n",
       "      <td>0</td>\n",
       "      <td>0</td>\n",
       "      <td>0</td>\n",
       "      <td>0</td>\n",
       "      <td>...</td>\n",
       "      <td>0</td>\n",
       "      <td>0</td>\n",
       "      <td>0</td>\n",
       "      <td>0</td>\n",
       "      <td>0</td>\n",
       "      <td>0</td>\n",
       "      <td>0</td>\n",
       "      <td>0</td>\n",
       "      <td>0</td>\n",
       "      <td>0</td>\n",
       "    </tr>\n",
       "  </tbody>\n",
       "</table>\n",
       "<p>1 rows × 5588 columns</p>\n",
       "</div>"
      ],
      "text/plain": [
       "   _adaptive  aam  aarp  abb  abbott  abc  abide  abilities  ability  able  \\\n",
       "0          0    0     0    0       0    0      0          0        0     0   \n",
       "\n",
       "    ...    yes  young  youth  yp  yrs  yslow  zero  zone  zoning  zycron  \n",
       "0   ...      0      0      0   0    0      0     0     0       0       0  \n",
       "\n",
       "[1 rows x 5588 columns]"
      ]
     },
     "execution_count": 21,
     "metadata": {},
     "output_type": "execute_result"
    }
   ],
   "source": [
    "wordsDescription.head(1)"
   ]
  },
  {
   "cell_type": "markdown",
   "metadata": {},
   "source": [
    "# create dummies from the degree to see if words can predict degree"
   ]
  },
  {
   "cell_type": "code",
   "execution_count": 22,
   "metadata": {
    "collapsed": false
   },
   "outputs": [
    {
     "data": {
      "text/html": [
       "<div>\n",
       "<table border=\"1\" class=\"dataframe\">\n",
       "  <thead>\n",
       "    <tr style=\"text-align: right;\">\n",
       "      <th></th>\n",
       "      <th>_adaptive</th>\n",
       "      <th>aam</th>\n",
       "      <th>aarp</th>\n",
       "      <th>abb</th>\n",
       "      <th>abbott</th>\n",
       "      <th>abc</th>\n",
       "      <th>abide</th>\n",
       "      <th>abilities</th>\n",
       "      <th>ability</th>\n",
       "      <th>able</th>\n",
       "      <th>...</th>\n",
       "      <th>zero</th>\n",
       "      <th>zone</th>\n",
       "      <th>zoning</th>\n",
       "      <th>zycron</th>\n",
       "      <th>cyber+security</th>\n",
       "      <th>network+engineer</th>\n",
       "      <th>network+manager</th>\n",
       "      <th>software+development</th>\n",
       "      <th>user+support</th>\n",
       "      <th>web+development</th>\n",
       "    </tr>\n",
       "  </thead>\n",
       "  <tbody>\n",
       "    <tr>\n",
       "      <th>0</th>\n",
       "      <td>0</td>\n",
       "      <td>0</td>\n",
       "      <td>0</td>\n",
       "      <td>0</td>\n",
       "      <td>0</td>\n",
       "      <td>0</td>\n",
       "      <td>0</td>\n",
       "      <td>0</td>\n",
       "      <td>0</td>\n",
       "      <td>0</td>\n",
       "      <td>...</td>\n",
       "      <td>0</td>\n",
       "      <td>0</td>\n",
       "      <td>0</td>\n",
       "      <td>0</td>\n",
       "      <td>0.0</td>\n",
       "      <td>0.0</td>\n",
       "      <td>0.0</td>\n",
       "      <td>0.0</td>\n",
       "      <td>1.0</td>\n",
       "      <td>0.0</td>\n",
       "    </tr>\n",
       "  </tbody>\n",
       "</table>\n",
       "<p>1 rows × 5594 columns</p>\n",
       "</div>"
      ],
      "text/plain": [
       "   _adaptive  aam  aarp  abb  abbott  abc  abide  abilities  ability  able  \\\n",
       "0          0    0     0    0       0    0      0          0        0     0   \n",
       "\n",
       "        ...         zero  zone  zoning  zycron  cyber+security  \\\n",
       "0       ...            0     0       0       0             0.0   \n",
       "\n",
       "   network+engineer  network+manager  software+development  user+support  \\\n",
       "0               0.0              0.0                   0.0           1.0   \n",
       "\n",
       "   web+development  \n",
       "0              0.0  \n",
       "\n",
       "[1 rows x 5594 columns]"
      ]
     },
     "execution_count": 22,
     "metadata": {},
     "output_type": "execute_result"
    }
   ],
   "source": [
    "degreeDummies=pd.get_dummies(listingFile['Degree'])\n",
    "wordDescDegree=pd.DataFrame(wordsDescription).join(pd.DataFrame(degreeDummies))\n",
    "wordDescDegree.head(1)"
   ]
  },
  {
   "cell_type": "code",
   "execution_count": 23,
   "metadata": {
    "collapsed": true
   },
   "outputs": [],
   "source": [
    "allDegreeData=pd.DataFrame(listingFile['encodedDegree']).join(pd.DataFrame(listingFile['Degree'])).join(pd.DataFrame(degreeDummies))"
   ]
  },
  {
   "cell_type": "code",
   "execution_count": 24,
   "metadata": {
    "collapsed": false
   },
   "outputs": [
    {
     "data": {
      "text/html": [
       "<div>\n",
       "<table border=\"1\" class=\"dataframe\">\n",
       "  <thead>\n",
       "    <tr style=\"text-align: right;\">\n",
       "      <th></th>\n",
       "      <th>encodedDegree</th>\n",
       "      <th>Degree</th>\n",
       "      <th>cyber+security</th>\n",
       "      <th>network+engineer</th>\n",
       "      <th>network+manager</th>\n",
       "      <th>software+development</th>\n",
       "      <th>user+support</th>\n",
       "      <th>web+development</th>\n",
       "    </tr>\n",
       "  </thead>\n",
       "  <tbody>\n",
       "    <tr>\n",
       "      <th>0</th>\n",
       "      <td>4</td>\n",
       "      <td>user+support</td>\n",
       "      <td>0.0</td>\n",
       "      <td>0.0</td>\n",
       "      <td>0.0</td>\n",
       "      <td>0.0</td>\n",
       "      <td>1.0</td>\n",
       "      <td>0.0</td>\n",
       "    </tr>\n",
       "  </tbody>\n",
       "</table>\n",
       "</div>"
      ],
      "text/plain": [
       "   encodedDegree        Degree  cyber+security  network+engineer  \\\n",
       "0              4  user+support             0.0               0.0   \n",
       "\n",
       "   network+manager  software+development  user+support  web+development  \n",
       "0              0.0                   0.0           1.0              0.0  "
      ]
     },
     "execution_count": 24,
     "metadata": {},
     "output_type": "execute_result"
    }
   ],
   "source": [
    "allDegreeData.head(1)"
   ]
  },
  {
   "cell_type": "code",
   "execution_count": null,
   "metadata": {
    "collapsed": true
   },
   "outputs": [],
   "source": []
  },
  {
   "cell_type": "markdown",
   "metadata": {},
   "source": [
    "# create train test"
   ]
  },
  {
   "cell_type": "code",
   "execution_count": 25,
   "metadata": {
    "collapsed": false
   },
   "outputs": [
    {
     "data": {
      "text/plain": [
       "((4390, 5588), (4390,))"
      ]
     },
     "execution_count": 25,
     "metadata": {},
     "output_type": "execute_result"
    }
   ],
   "source": [
    "wordsDescription.shape , listingFile['encodedDegree'].shape"
   ]
  },
  {
   "cell_type": "code",
   "execution_count": 26,
   "metadata": {
    "collapsed": true
   },
   "outputs": [],
   "source": [
    "x=wordsDescription\n",
    "y=listingFile['encodedDegree']"
   ]
  },
  {
   "cell_type": "code",
   "execution_count": 27,
   "metadata": {
    "collapsed": true
   },
   "outputs": [],
   "source": [
    "x_train, x_test, y_train, y_test= train_test_split(x.values,y.values, test_size=.4, stratify=y )"
   ]
  },
  {
   "cell_type": "code",
   "execution_count": 28,
   "metadata": {
    "collapsed": false
   },
   "outputs": [
    {
     "data": {
      "text/plain": [
       "((2633, 5588), (1757, 5588), (2633,), (1757,))"
      ]
     },
     "execution_count": 28,
     "metadata": {},
     "output_type": "execute_result"
    }
   ],
   "source": [
    "x_train.shape, x_test.shape, y_train.shape, y_test.shape"
   ]
  },
  {
   "cell_type": "code",
   "execution_count": null,
   "metadata": {
    "collapsed": false
   },
   "outputs": [],
   "source": []
  },
  {
   "cell_type": "code",
   "execution_count": null,
   "metadata": {
    "collapsed": true
   },
   "outputs": [],
   "source": []
  },
  {
   "cell_type": "code",
   "execution_count": null,
   "metadata": {
    "collapsed": true
   },
   "outputs": [],
   "source": []
  },
  {
   "cell_type": "markdown",
   "metadata": {},
   "source": [
    "# creating dimension reduction PCA on Train Dataset"
   ]
  },
  {
   "cell_type": "code",
   "execution_count": null,
   "metadata": {
    "collapsed": false
   },
   "outputs": [],
   "source": []
  },
  {
   "cell_type": "code",
   "execution_count": 29,
   "metadata": {
    "collapsed": false
   },
   "outputs": [
    {
     "data": {
      "text/plain": [
       "array([[-0.76209898,  0.04508528, -0.72629199,  0.34833435, -0.17491112,\n",
       "         0.04918638],\n",
       "       [ 0.34324202, -0.23524551, -0.07558991,  0.14764239, -0.06879898,\n",
       "        -0.23325961],\n",
       "       [ 0.25748387,  0.87064823,  0.42835624, -0.88113791, -0.08044495,\n",
       "         0.10682663],\n",
       "       ..., \n",
       "       [ 0.45276716,  0.57082194,  0.02817608,  0.10701471,  0.24890205,\n",
       "        -0.09839718],\n",
       "       [-0.5498452 , -0.16398803,  0.18554333,  0.02967691, -0.23449336,\n",
       "         0.05364998],\n",
       "       [-0.68075136, -0.11160762,  0.59415525,  0.74686955,  0.36333696,\n",
       "        -0.00738691]])"
      ]
     },
     "execution_count": 29,
     "metadata": {},
     "output_type": "execute_result"
    }
   ],
   "source": [
    "pca=PCA(n_components=6)\n",
    "pca.fit(x_train)\n",
    "pca.fit_transform(x_train)"
   ]
  },
  {
   "cell_type": "code",
   "execution_count": 30,
   "metadata": {
    "collapsed": false
   },
   "outputs": [
    {
     "data": {
      "text/plain": [
       "array([[  4.11273713e-03,  -3.55705382e-19,  -4.20833881e-19, ...,\n",
       "         -2.22688469e-07,  -2.24594565e-07,  -3.78373205e-07],\n",
       "       [ -3.55705382e-19,   4.10934550e-03,   1.58508306e-31, ...,\n",
       "         -5.57123308e-20,  -3.93390719e-20,  -1.05232513e-19],\n",
       "       [ -4.20833881e-19,   1.58508306e-31,   4.10934550e-03, ...,\n",
       "         -1.46383566e-20,   2.02848185e-20,   4.04582699e-20],\n",
       "       ..., \n",
       "       [ -2.22688469e-07,  -5.57123308e-20,  -1.46383566e-20, ...,\n",
       "          4.10988141e-03,   2.12352896e-07,   6.22447947e-07],\n",
       "       [ -2.24594565e-07,  -3.93390719e-20,   2.02848185e-20, ...,\n",
       "          2.12352896e-07,   4.10970290e-03,   3.03892214e-07],\n",
       "       [ -3.78373205e-07,  -1.05232513e-19,   4.04582699e-20, ...,\n",
       "          6.22447947e-07,   3.03892214e-07,   4.11011976e-03]])"
      ]
     },
     "execution_count": 30,
     "metadata": {},
     "output_type": "execute_result"
    }
   ],
   "source": [
    "pca.get_covariance()"
   ]
  },
  {
   "cell_type": "code",
   "execution_count": 31,
   "metadata": {
    "collapsed": false
   },
   "outputs": [
    {
     "data": {
      "text/plain": [
       "array([ 0.43758618,  0.25329731,  0.19705428,  0.16678309,  0.13422703,\n",
       "        0.1232178 ])"
      ]
     },
     "execution_count": 31,
     "metadata": {},
     "output_type": "execute_result"
    }
   ],
   "source": [
    "pca.explained_variance_"
   ]
  },
  {
   "cell_type": "code",
   "execution_count": 32,
   "metadata": {
    "collapsed": true
   },
   "outputs": [],
   "source": [
    "train_features=pca.fit_transform(x_train)"
   ]
  },
  {
   "cell_type": "code",
   "execution_count": null,
   "metadata": {
    "collapsed": true
   },
   "outputs": [],
   "source": []
  },
  {
   "cell_type": "markdown",
   "metadata": {},
   "source": [
    "# lets try random forest with full dataset and pca\n",
    "on train test data\n",
    "1. using full data set without train test\n",
    "2. using PCA"
   ]
  },
  {
   "cell_type": "code",
   "execution_count": 33,
   "metadata": {
    "collapsed": false
   },
   "outputs": [
    {
     "name": "stdout",
     "output_type": "stream",
     "text": [
      "<type 'numpy.ndarray'> [4 4 4 3 3 3]\n",
      "<class 'pandas.core.frame.DataFrame'>\n"
     ]
    }
   ],
   "source": [
    "y=LabelEncoder().fit_transform(listingFile['Degree'])\n",
    "cv = StratifiedKFold(y, n_folds=4, shuffle=True, random_state=41)\n",
    "print type(y), y[0:6]\n",
    "print type(x)"
   ]
  },
  {
   "cell_type": "code",
   "execution_count": 34,
   "metadata": {
    "collapsed": false
   },
   "outputs": [
    {
     "data": {
      "text/plain": [
       "((4390, 5588), (4390,))"
      ]
     },
     "execution_count": 34,
     "metadata": {},
     "output_type": "execute_result"
    }
   ],
   "source": [
    "x.shape, y.shape\n"
   ]
  },
  {
   "cell_type": "code",
   "execution_count": 35,
   "metadata": {
    "collapsed": false
   },
   "outputs": [],
   "source": [
    "rf=RandomForestClassifier(class_weight ='balanced', n_jobs=-1)\n",
    "s=cross_val_score(rf,x.values,y,cv=cv, n_jobs=-1)\n"
   ]
  },
  {
   "cell_type": "code",
   "execution_count": 36,
   "metadata": {
    "collapsed": false
   },
   "outputs": [
    {
     "data": {
      "text/plain": [
       "array([ 0.81147541,  0.81785064,  0.80601093,  0.79105839])"
      ]
     },
     "execution_count": 36,
     "metadata": {},
     "output_type": "execute_result"
    }
   ],
   "source": [
    "s"
   ]
  },
  {
   "cell_type": "code",
   "execution_count": 37,
   "metadata": {
    "collapsed": false
   },
   "outputs": [],
   "source": [
    "rf.fit(x, y)\n",
    "importances = rf.feature_importances_\n",
    "std = np.std([tree.feature_importances_ for tree in rf.estimators_],\n",
    "             axis=0)\n",
    "indices = np.argsort(importances)[::-1]\n"
   ]
  },
  {
   "cell_type": "code",
   "execution_count": 130,
   "metadata": {
    "collapsed": false
   },
   "outputs": [
    {
     "data": {
      "text/plain": [
       "0.97722095671981779"
      ]
     },
     "execution_count": 130,
     "metadata": {},
     "output_type": "execute_result"
    }
   ],
   "source": [
    "rf.score(x, y)"
   ]
  },
  {
   "cell_type": "code",
   "execution_count": 38,
   "metadata": {
    "collapsed": false
   },
   "outputs": [],
   "source": [
    "# for f in range(x.shape[1]):\n",
    "#     print(\"%d. feature %d (%f)\" % (f + 1, indices[f], importances[indices[f]]))"
   ]
  },
  {
   "cell_type": "code",
   "execution_count": 39,
   "metadata": {
    "collapsed": false
   },
   "outputs": [
    {
     "data": {
      "image/png": "[encoded data removed]",
      "text/plain": [
       "<matplotlib.figure.Figure at 0x119187c50>"
      ]
     },
     "metadata": {},
     "output_type": "display_data"
    }
   ],
   "source": [
    "plt.figure()\n",
    "plt.title(\"Feature importances\")\n",
    "plt.bar(range(x.shape[1]), importances[indices],\n",
    "       color=\"r\", yerr=std[indices], align=\"center\")\n",
    "plt.xticks(range(x.shape[1]), indices)\n",
    "plt.xlim([-1, x.shape[1]])\n",
    "plt.show()"
   ]
  },
  {
   "cell_type": "code",
   "execution_count": 40,
   "metadata": {
    "collapsed": true
   },
   "outputs": [],
   "source": [
    "feature_importancesRF = pd.DataFrame(rf.feature_importances_,\n",
    "                                   index = x.columns,\n",
    "                                    columns=['importance']).sort_values('importance',\n",
    "                                                                        ascending=False)"
   ]
  },
  {
   "cell_type": "code",
   "execution_count": 41,
   "metadata": {
    "collapsed": false
   },
   "outputs": [
    {
     "data": {
      "text/html": [
       "<div>\n",
       "<table border=\"1\" class=\"dataframe\">\n",
       "  <thead>\n",
       "    <tr style=\"text-align: right;\">\n",
       "      <th></th>\n",
       "      <th>importance</th>\n",
       "    </tr>\n",
       "  </thead>\n",
       "  <tbody>\n",
       "    <tr>\n",
       "      <th>security</th>\n",
       "      <td>0.060706</td>\n",
       "    </tr>\n",
       "    <tr>\n",
       "      <th>software</th>\n",
       "      <td>0.048000</td>\n",
       "    </tr>\n",
       "    <tr>\n",
       "      <th>development</th>\n",
       "      <td>0.046300</td>\n",
       "    </tr>\n",
       "    <tr>\n",
       "      <th>support</th>\n",
       "      <td>0.041832</td>\n",
       "    </tr>\n",
       "    <tr>\n",
       "      <th>web</th>\n",
       "      <td>0.031086</td>\n",
       "    </tr>\n",
       "    <tr>\n",
       "      <th>manager</th>\n",
       "      <td>0.030535</td>\n",
       "    </tr>\n",
       "    <tr>\n",
       "      <th>network</th>\n",
       "      <td>0.022137</td>\n",
       "    </tr>\n",
       "    <tr>\n",
       "      <th>user</th>\n",
       "      <td>0.020494</td>\n",
       "    </tr>\n",
       "    <tr>\n",
       "      <th>users</th>\n",
       "      <td>0.015374</td>\n",
       "    </tr>\n",
       "    <tr>\n",
       "      <th>cyber</th>\n",
       "      <td>0.014218</td>\n",
       "    </tr>\n",
       "  </tbody>\n",
       "</table>\n",
       "</div>"
      ],
      "text/plain": [
       "             importance\n",
       "security       0.060706\n",
       "software       0.048000\n",
       "development    0.046300\n",
       "support        0.041832\n",
       "web            0.031086\n",
       "manager        0.030535\n",
       "network        0.022137\n",
       "user           0.020494\n",
       "users          0.015374\n",
       "cyber          0.014218"
      ]
     },
     "execution_count": 41,
     "metadata": {},
     "output_type": "execute_result"
    }
   ],
   "source": [
    "feature_importancesRF.head(10)"
   ]
  },
  {
   "cell_type": "code",
   "execution_count": 42,
   "metadata": {
    "collapsed": false
   },
   "outputs": [],
   "source": [
    "predictionsRF=rf.predict(x)"
   ]
  },
  {
   "cell_type": "code",
   "execution_count": 43,
   "metadata": {
    "collapsed": false
   },
   "outputs": [
    {
     "name": "stdout",
     "output_type": "stream",
     "text": [
      "[[274   1   0   0   0   0]\n",
      " [  0 542   6   3   1   0]\n",
      " [  1  20 850   0   1   0]\n",
      " [  1   0   0 902   1  24]\n",
      " [  0   0   0   2 897   0]\n",
      " [  2   0   2  34   1 825]]\n"
     ]
    }
   ],
   "source": [
    "print confusion_matrix(y, predictionsRF)"
   ]
  },
  {
   "cell_type": "code",
   "execution_count": 44,
   "metadata": {
    "collapsed": false
   },
   "outputs": [
    {
     "name": "stdout",
     "output_type": "stream",
     "text": [
      "      Pred USSU  Pred SODE  Pred WEDE  Pred NEMA  Pred NEED  Pred CYIT\n",
      "USSU        274          1          0          0          0          0\n",
      "SODE          0        542          6          3          1          0\n",
      "WEDE          1         20        850          0          1          0\n",
      "NEMA          1          0          0        902          1         24\n",
      "NEED          0          0          0          2        897          0\n",
      "CYIT          2          0          2         34          1        825\n"
     ]
    }
   ],
   "source": [
    "conmat = np.array(confusion_matrix(y, predictionsRF))\n",
    "confusion = pd.DataFrame(conmat, index=['USSU', 'SODE', \n",
    "                         'WEDE', 'NEMA','NEED', 'CYIT'],columns=['Pred USSU', 'Pred SODE', \n",
    "                         'Pred WEDE', 'Pred NEMA','Pred NEED', 'Pred CYIT'])\n",
    "print confusion\n"
   ]
  },
  {
   "cell_type": "code",
   "execution_count": 45,
   "metadata": {
    "collapsed": false
   },
   "outputs": [
    {
     "name": "stdout",
     "output_type": "stream",
     "text": [
      "             precision    recall  f1-score   support\n",
      "\n",
      "          0       0.99      1.00      0.99       275\n",
      "          1       0.96      0.98      0.97       552\n",
      "          2       0.99      0.97      0.98       872\n",
      "          3       0.96      0.97      0.97       928\n",
      "          4       1.00      1.00      1.00       899\n",
      "          5       0.97      0.95      0.96       864\n",
      "\n",
      "avg / total       0.98      0.98      0.98      4390\n",
      "\n"
     ]
    }
   ],
   "source": [
    "print  classification_report(y, predictionsRF)"
   ]
  },
  {
   "cell_type": "markdown",
   "metadata": {},
   "source": [
    "# random forest by degree - want feature importance"
   ]
  },
  {
   "cell_type": "code",
   "execution_count": 146,
   "metadata": {
    "collapsed": false
   },
   "outputs": [
    {
     "data": {
      "text/plain": [
       "Index([u'_adaptive', u'aam', u'aarp', u'abb', u'abbott', u'abc', u'abide',\n",
       "       u'abilities', u'ability', u'able',\n",
       "       ...\n",
       "       u'zero', u'zone', u'zoning', u'zycron', u'cyber+security',\n",
       "       u'network+engineer', u'network+manager', u'software+development',\n",
       "       u'user+support', u'web+development'],\n",
       "      dtype='object', length=5594)"
      ]
     },
     "execution_count": 146,
     "metadata": {},
     "output_type": "execute_result"
    }
   ],
   "source": [
    "wordDescDegree.columns"
   ]
  },
  {
   "cell_type": "code",
   "execution_count": 150,
   "metadata": {
    "collapsed": false
   },
   "outputs": [],
   "source": [
    "yCYIT=wordDescDegree['cyber+security']\n",
    "yNEEN=wordDescDegree['network+engineer']\n",
    "yNEMA=wordDescDegree['network+manager']\n",
    "ySODE=wordDescDegree['software+development']\n",
    "yUSSU=wordDescDegree['user+support']\n",
    "yWEDE=wordDescDegree['web+development']"
   ]
  },
  {
   "cell_type": "code",
   "execution_count": 152,
   "metadata": {
    "collapsed": false
   },
   "outputs": [
    {
     "name": "stdout",
     "output_type": "stream",
     "text": [
      "0.997038724374\n",
      "              importance\n",
      "security        0.189719\n",
      "cyber           0.066780\n",
      "development     0.028334\n",
      "information     0.024714\n",
      "software        0.023879\n",
      "web             0.019224\n",
      "support         0.014368\n",
      "privately       0.011276\n",
      "cissp           0.010145\n",
      "intelligence    0.009916\n"
     ]
    }
   ],
   "source": []
  },
  {
   "cell_type": "code",
   "execution_count": 159,
   "metadata": {
    "collapsed": false
   },
   "outputs": [
    {
     "name": "stdout",
     "output_type": "stream",
     "text": [
      "0.98701594533\n",
      "                importance\n",
      "network           0.112507\n",
      "engineer          0.041250\n",
      "manager           0.031904\n",
      "engineers         0.031448\n",
      "implementation    0.026109\n",
      "networks          0.025230\n",
      "development       0.021122\n",
      "web               0.016949\n",
      "user              0.016167\n",
      "software          0.009821\n",
      "support           0.007564\n",
      "controls          0.004900\n",
      "users             0.004416\n",
      "infrastructure    0.004247\n",
      "storage           0.004067\n",
      "technical         0.003837\n",
      "systems           0.003756\n",
      "possibility       0.003635\n",
      "provides          0.003616\n",
      "applications      0.003500\n"
     ]
    }
   ],
   "source": [
    "yDegree=yNEEN\n",
    "rf.fit(x, yDegree)\n",
    "rf.score(x, yDegree)\n",
    "importances = rf.feature_importances_\n",
    "feature_importancesRF = pd.DataFrame(rf.feature_importances_,\n",
    "                                   index = x.columns,\n",
    "                                    columns=['importance']).sort_values('importance',\n",
    "                                                                        ascending=False)\n",
    "print rf.score(x, yDegree)\n",
    "print feature_importancesRF.head(20)"
   ]
  },
  {
   "cell_type": "code",
   "execution_count": 154,
   "metadata": {
    "collapsed": false
   },
   "outputs": [
    {
     "name": "stdout",
     "output_type": "stream",
     "text": [
      "0.991571753986\n",
      "             importance\n",
      "manager        0.165712\n",
      "network        0.075594\n",
      "development    0.056612\n",
      "web            0.020033\n",
      "managers       0.018360\n",
      "experience     0.015571\n",
      "user           0.015559\n",
      "support        0.014955\n",
      "software       0.012433\n",
      "engineer       0.011336\n"
     ]
    }
   ],
   "source": [
    "yDegree=yNEMA\n",
    "rf.fit(x, yDegree)\n",
    "rf.score(x, yDegree)\n",
    "importances = rf.feature_importances_\n",
    "feature_importancesRF = pd.DataFrame(rf.feature_importances_,\n",
    "                                   index = x.columns,\n",
    "                                    columns=['importance']).sort_values('importance',\n",
    "                                                                        ascending=False)\n",
    "print rf.score(x, yDegree)\n",
    "print feature_importancesRF.head(10)"
   ]
  },
  {
   "cell_type": "code",
   "execution_count": 155,
   "metadata": {
    "collapsed": false
   },
   "outputs": [
    {
     "name": "stdout",
     "output_type": "stream",
     "text": [
      "0.984965831435\n",
      "             importance\n",
      "development    0.133971\n",
      "software       0.076869\n",
      "manager        0.044995\n",
      "network        0.039563\n",
      "web            0.030268\n",
      "experience     0.013661\n",
      "support        0.011621\n",
      "security       0.011494\n",
      "networks       0.010241\n",
      "users          0.010124\n"
     ]
    }
   ],
   "source": [
    "yDegree=ySODE\n",
    "rf.fit(x, yDegree)\n",
    "rf.score(x, yDegree)\n",
    "importances = rf.feature_importances_\n",
    "feature_importancesRF = pd.DataFrame(rf.feature_importances_,\n",
    "                                   index = x.columns,\n",
    "                                    columns=['importance']).sort_values('importance',\n",
    "                                                                        ascending=False)\n",
    "print rf.score(x, yDegree)\n",
    "print feature_importancesRF.head(10)"
   ]
  },
  {
   "cell_type": "code",
   "execution_count": 156,
   "metadata": {
    "collapsed": false
   },
   "outputs": [
    {
     "name": "stdout",
     "output_type": "stream",
     "text": [
      "0.997949886105\n",
      "             importance\n",
      "support        0.283741\n",
      "user           0.083932\n",
      "development    0.041507\n",
      "users          0.031067\n",
      "manager        0.019090\n",
      "software       0.015296\n",
      "web            0.014177\n",
      "provide        0.012543\n",
      "network        0.011964\n",
      "supports       0.010110\n"
     ]
    }
   ],
   "source": [
    "yDegree=yUSSU\n",
    "rf.fit(x, yDegree)\n",
    "rf.score(x, yDegree)\n",
    "importances = rf.feature_importances_\n",
    "feature_importancesRF = pd.DataFrame(rf.feature_importances_,\n",
    "                                   index = x.columns,\n",
    "                                    columns=['importance']).sort_values('importance',\n",
    "                                                                        ascending=False)\n",
    "print rf.score(x, yDegree)\n",
    "print feature_importancesRF.head(10)"
   ]
  },
  {
   "cell_type": "code",
   "execution_count": 158,
   "metadata": {
    "collapsed": false
   },
   "outputs": [
    {
     "name": "stdout",
     "output_type": "stream",
     "text": [
      "0.984510250569\n",
      "             importance\n",
      "web            0.157577\n",
      "development    0.132000\n",
      "software       0.022475\n",
      "network        0.020562\n",
      "experience     0.020235\n",
      "manager        0.014050\n",
      "engineer       0.009273\n",
      "support        0.008071\n",
      "application    0.007535\n",
      "hardware       0.007420\n"
     ]
    }
   ],
   "source": [
    "yDegree=yWEDE\n",
    "rf.fit(x, yDegree)\n",
    "rf.score(x, yDegree)\n",
    "importances = rf.feature_importances_\n",
    "feature_importancesRF = pd.DataFrame(rf.feature_importances_,\n",
    "                                   index = x.columns,\n",
    "                                    columns=['importance']).sort_values('importance',\n",
    "                                                                        ascending=False)\n",
    "print rf.score(x, yDegree)\n",
    "print feature_importancesRF.head(10)"
   ]
  },
  {
   "cell_type": "markdown",
   "metadata": {},
   "source": [
    "# RF to train test"
   ]
  },
  {
   "cell_type": "code",
   "execution_count": null,
   "metadata": {
    "collapsed": true
   },
   "outputs": [],
   "source": [
    "# x = train_features=pca.fit_transform(x_train)"
   ]
  },
  {
   "cell_type": "code",
   "execution_count": null,
   "metadata": {
    "collapsed": true
   },
   "outputs": [],
   "source": [
    "train_features=pca.fit_transform(x_train)"
   ]
  },
  {
   "cell_type": "code",
   "execution_count": 134,
   "metadata": {
    "collapsed": false
   },
   "outputs": [
    {
     "data": {
      "text/plain": [
       "((2633, 5588), (2633, 6), (2633,))"
      ]
     },
     "execution_count": 134,
     "metadata": {},
     "output_type": "execute_result"
    }
   ],
   "source": [
    "x_train.shape, train_features.shape,y_train.shape\n"
   ]
  },
  {
   "cell_type": "code",
   "execution_count": 135,
   "metadata": {
    "collapsed": false
   },
   "outputs": [],
   "source": [
    "rfTTS=RandomForestClassifier(class_weight ='balanced', n_jobs=-1)\n",
    "sTTS=cross_val_score(rf,train_features,y_train,cv=cv, n_jobs=-1)"
   ]
  },
  {
   "cell_type": "code",
   "execution_count": 136,
   "metadata": {
    "collapsed": true
   },
   "outputs": [],
   "source": [
    "cv = StratifiedKFold(y_train, n_folds=4, shuffle=True, random_state=41)"
   ]
  },
  {
   "cell_type": "code",
   "execution_count": 137,
   "metadata": {
    "collapsed": false
   },
   "outputs": [
    {
     "data": {
      "text/plain": [
       "array([ 0.80786687,  0.77996965,  0.77355623,  0.77099237])"
      ]
     },
     "execution_count": 137,
     "metadata": {},
     "output_type": "execute_result"
    }
   ],
   "source": [
    "s"
   ]
  },
  {
   "cell_type": "code",
   "execution_count": 138,
   "metadata": {
    "collapsed": false
   },
   "outputs": [],
   "source": [
    "rfTTS.fit(train_features, y_train)\n",
    "importances = rfTTS.feature_importances_\n",
    "std = np.std([tree.feature_importances_ for tree in rf.estimators_],\n",
    "             axis=0)\n",
    "indices = np.argsort(importances)[::-1]\n"
   ]
  },
  {
   "cell_type": "code",
   "execution_count": 139,
   "metadata": {
    "collapsed": false
   },
   "outputs": [
    {
     "data": {
      "text/plain": [
       "0.97683251044436004"
      ]
     },
     "execution_count": 139,
     "metadata": {},
     "output_type": "execute_result"
    }
   ],
   "source": [
    "rfTTS.score(train_features, y_train)"
   ]
  },
  {
   "cell_type": "code",
   "execution_count": 140,
   "metadata": {
    "collapsed": false
   },
   "outputs": [
    {
     "data": {
      "image/png": "[encoded data removed]",
      "text/plain": [
       "<matplotlib.figure.Figure at 0x198ef9c10>"
      ]
     },
     "metadata": {},
     "output_type": "display_data"
    }
   ],
   "source": [
    "plt.figure()\n",
    "plt.title(\"Feature importances\")\n",
    "plt.bar(range(train_features.shape[1]), importances[indices],\n",
    "       color=\"r\", yerr=std[indices], align=\"center\")\n",
    "plt.xticks(range(train_features.shape[1]), indices)\n",
    "plt.xlim([-1, train_features.shape[1]])\n",
    "plt.show()"
   ]
  },
  {
   "cell_type": "markdown",
   "metadata": {
    "collapsed": true
   },
   "source": [
    "# RF model built with PCA test data"
   ]
  },
  {
   "cell_type": "code",
   "execution_count": 59,
   "metadata": {
    "collapsed": false
   },
   "outputs": [
    {
     "data": {
      "text/plain": [
       "((2633, 6), (1757, 5588))"
      ]
     },
     "execution_count": 59,
     "metadata": {},
     "output_type": "execute_result"
    }
   ],
   "source": [
    "train_features.shape, x_test.shape\n"
   ]
  },
  {
   "cell_type": "code",
   "execution_count": 64,
   "metadata": {
    "collapsed": true
   },
   "outputs": [],
   "source": [
    "test_features=pca.transform(x_test)"
   ]
  },
  {
   "cell_type": "code",
   "execution_count": 141,
   "metadata": {
    "collapsed": false
   },
   "outputs": [
    {
     "data": {
      "text/plain": [
       "0.79282868525896411"
      ]
     },
     "execution_count": 141,
     "metadata": {},
     "output_type": "execute_result"
    }
   ],
   "source": [
    "rfTTS.score(test_features, y_test)"
   ]
  },
  {
   "cell_type": "code",
   "execution_count": 65,
   "metadata": {
    "collapsed": false
   },
   "outputs": [],
   "source": [
    "predictionsRF_test=rfTTS.predict(test_features)"
   ]
  },
  {
   "cell_type": "code",
   "execution_count": 66,
   "metadata": {
    "collapsed": false
   },
   "outputs": [
    {
     "data": {
      "text/plain": [
       "((1757,), (1757,))"
      ]
     },
     "execution_count": 66,
     "metadata": {},
     "output_type": "execute_result"
    }
   ],
   "source": [
    "y_test.shape, predictionsRF_test.shape"
   ]
  },
  {
   "cell_type": "code",
   "execution_count": 67,
   "metadata": {
    "collapsed": false
   },
   "outputs": [
    {
     "name": "stdout",
     "output_type": "stream",
     "text": [
      "[[ 86   8   7   4   3   2]\n",
      " [ 14 143  32  10  14   8]\n",
      " [  5  34 303   2   1   4]\n",
      " [  3   4   4 292  12  56]\n",
      " [  3   9  14   8 320   6]\n",
      " [  1   4   7  70   5 259]]\n"
     ]
    }
   ],
   "source": [
    "print confusion_matrix(y_test, predictionsRF_test)"
   ]
  },
  {
   "cell_type": "code",
   "execution_count": 68,
   "metadata": {
    "collapsed": false
   },
   "outputs": [
    {
     "name": "stdout",
     "output_type": "stream",
     "text": [
      "      Pred USSU  Pred SODE  Pred WEDE  Pred NEMA  Pred NEED  Pred CYIT\n",
      "USSU         86          8          7          4          3          2\n",
      "SODE         14        143         32         10         14          8\n",
      "WEDE          5         34        303          2          1          4\n",
      "NEMA          3          4          4        292         12         56\n",
      "NEED          3          9         14          8        320          6\n",
      "CYIT          1          4          7         70          5        259\n"
     ]
    }
   ],
   "source": [
    "conmat = np.array(confusion_matrix(y_test, predictionsRF_test))\n",
    "confusion = pd.DataFrame(conmat, index=['USSU', 'SODE', \n",
    "                         'WEDE', 'NEMA','NEED', 'CYIT'],columns=['Pred USSU', 'Pred SODE', \n",
    "                         'Pred WEDE', 'Pred NEMA','Pred NEED', 'Pred CYIT'])\n",
    "print confusion"
   ]
  },
  {
   "cell_type": "code",
   "execution_count": null,
   "metadata": {
    "collapsed": true
   },
   "outputs": [],
   "source": []
  },
  {
   "cell_type": "code",
   "execution_count": null,
   "metadata": {
    "collapsed": true
   },
   "outputs": [],
   "source": []
  },
  {
   "cell_type": "markdown",
   "metadata": {},
   "source": [
    "# KNn  entire dataset\n"
   ]
  },
  {
   "cell_type": "code",
   "execution_count": 69,
   "metadata": {
    "collapsed": false
   },
   "outputs": [],
   "source": [
    "x=wordsDescription"
   ]
  },
  {
   "cell_type": "code",
   "execution_count": 70,
   "metadata": {
    "collapsed": true
   },
   "outputs": [],
   "source": [
    "y=listingFile['encodedDegree']\n",
    "y.column='degree'"
   ]
  },
  {
   "cell_type": "code",
   "execution_count": 71,
   "metadata": {
    "collapsed": true
   },
   "outputs": [],
   "source": [
    "knn=KNeighborsClassifier(n_neighbors=5)\n",
    "#5 closest neighbors"
   ]
  },
  {
   "cell_type": "code",
   "execution_count": 72,
   "metadata": {
    "collapsed": false
   },
   "outputs": [
    {
     "data": {
      "text/plain": [
       "KNeighborsClassifier(algorithm='auto', leaf_size=30, metric='minkowski',\n",
       "           metric_params=None, n_jobs=1, n_neighbors=5, p=2,\n",
       "           weights='uniform')"
      ]
     },
     "execution_count": 72,
     "metadata": {},
     "output_type": "execute_result"
    }
   ],
   "source": [
    "knn.fit(x,y)"
   ]
  },
  {
   "cell_type": "code",
   "execution_count": 73,
   "metadata": {
    "collapsed": false
   },
   "outputs": [
    {
     "data": {
      "text/plain": [
       "0.81435079726651483"
      ]
     },
     "execution_count": 73,
     "metadata": {},
     "output_type": "execute_result"
    }
   ],
   "source": [
    "knn.score(x,y)"
   ]
  },
  {
   "cell_type": "code",
   "execution_count": 74,
   "metadata": {
    "collapsed": true
   },
   "outputs": [],
   "source": [
    "scores=cross_val_score(knn,x.values,y,cv=5,scoring = 'accuracy')"
   ]
  },
  {
   "cell_type": "code",
   "execution_count": 75,
   "metadata": {
    "collapsed": true
   },
   "outputs": [],
   "source": [
    "predictionsKNN=knn.predict(x)"
   ]
  },
  {
   "cell_type": "code",
   "execution_count": 76,
   "metadata": {
    "collapsed": false
   },
   "outputs": [
    {
     "name": "stdout",
     "output_type": "stream",
     "text": [
      "[[249   3  10   8   1   4]\n",
      " [ 37 420  42  40  11   2]\n",
      " [ 21  51 774  11   6   9]\n",
      " [  4   2   7 860   8  47]\n",
      " [ 25  16  59  92 698   9]\n",
      " [  9   5  11 257   8 574]]\n"
     ]
    }
   ],
   "source": [
    "print confusion_matrix(y, predictionsKNN)"
   ]
  },
  {
   "cell_type": "code",
   "execution_count": 77,
   "metadata": {
    "collapsed": false
   },
   "outputs": [
    {
     "name": "stdout",
     "output_type": "stream",
     "text": [
      "      Pred USSU  Pred SODE  Pred WEDE  Pred NEMA  Pred NEED  Pred CYIT\n",
      "USSU        249          3         10          8          1          4\n",
      "SODE         37        420         42         40         11          2\n",
      "WEDE         21         51        774         11          6          9\n",
      "NEMA          4          2          7        860          8         47\n",
      "NEED         25         16         59         92        698          9\n",
      "CYIT          9          5         11        257          8        574\n"
     ]
    }
   ],
   "source": [
    "conmat = np.array(confusion_matrix(y, predictionsKNN))\n",
    "confusion = pd.DataFrame(conmat, index=['USSU', 'SODE', \n",
    "                         'WEDE', 'NEMA','NEED', 'CYIT'],columns=['Pred USSU', 'Pred SODE', \n",
    "                         'Pred WEDE', 'Pred NEMA','Pred NEED', 'Pred CYIT'])\n",
    "print confusion"
   ]
  },
  {
   "cell_type": "code",
   "execution_count": 78,
   "metadata": {
    "collapsed": false
   },
   "outputs": [
    {
     "name": "stdout",
     "output_type": "stream",
     "text": [
      "             precision    recall  f1-score   support\n",
      "\n",
      "          0       0.72      0.91      0.80       275\n",
      "          1       0.85      0.76      0.80       552\n",
      "          2       0.86      0.89      0.87       872\n",
      "          3       0.68      0.93      0.78       928\n",
      "          4       0.95      0.78      0.86       899\n",
      "          5       0.89      0.66      0.76       864\n",
      "\n",
      "avg / total       0.84      0.81      0.81      4390\n",
      "\n"
     ]
    }
   ],
   "source": [
    "print  classification_report(y, predictionsKNN)"
   ]
  },
  {
   "cell_type": "code",
   "execution_count": null,
   "metadata": {
    "collapsed": true
   },
   "outputs": [],
   "source": []
  },
  {
   "cell_type": "markdown",
   "metadata": {},
   "source": [
    "# Knn on PCA training set "
   ]
  },
  {
   "cell_type": "code",
   "execution_count": 81,
   "metadata": {
    "collapsed": true
   },
   "outputs": [],
   "source": [
    "knnTTS=KNeighborsClassifier(n_neighbors=5)"
   ]
  },
  {
   "cell_type": "code",
   "execution_count": 82,
   "metadata": {
    "collapsed": false
   },
   "outputs": [
    {
     "data": {
      "text/plain": [
       "KNeighborsClassifier(algorithm='auto', leaf_size=30, metric='minkowski',\n",
       "           metric_params=None, n_jobs=1, n_neighbors=5, p=2,\n",
       "           weights='uniform')"
      ]
     },
     "execution_count": 82,
     "metadata": {},
     "output_type": "execute_result"
    }
   ],
   "source": [
    "knnTTS.fit(train_features,y_train)"
   ]
  },
  {
   "cell_type": "code",
   "execution_count": 83,
   "metadata": {
    "collapsed": false
   },
   "outputs": [
    {
     "data": {
      "text/plain": [
       "0.85225977971895173"
      ]
     },
     "execution_count": 83,
     "metadata": {},
     "output_type": "execute_result"
    }
   ],
   "source": [
    "knnTTS.score(train_features,y_train)"
   ]
  },
  {
   "cell_type": "code",
   "execution_count": 84,
   "metadata": {
    "collapsed": true
   },
   "outputs": [],
   "source": [
    "predictionsKNN=knnTTS.predict(train_features)"
   ]
  },
  {
   "cell_type": "code",
   "execution_count": 85,
   "metadata": {
    "collapsed": false
   },
   "outputs": [
    {
     "name": "stdout",
     "output_type": "stream",
     "text": [
      "[[125  11  11   5   9   4]\n",
      " [ 11 240  45  15  15   5]\n",
      " [  5  31 470   6   7   4]\n",
      " [  5   6   4 474  10  58]\n",
      " [  4   7  10  17 490  11]\n",
      " [  1   5   5  58   4 445]]\n"
     ]
    }
   ],
   "source": [
    "print confusion_matrix(y_train, predictionsKNN)"
   ]
  },
  {
   "cell_type": "code",
   "execution_count": null,
   "metadata": {
    "collapsed": true
   },
   "outputs": [],
   "source": []
  },
  {
   "cell_type": "markdown",
   "metadata": {},
   "source": [
    "# Knn on test data after being trained on training data"
   ]
  },
  {
   "cell_type": "code",
   "execution_count": 86,
   "metadata": {
    "collapsed": true
   },
   "outputs": [],
   "source": [
    "test_featuresKNN_TTS=pca.transform(x_test)"
   ]
  },
  {
   "cell_type": "code",
   "execution_count": 143,
   "metadata": {
    "collapsed": false
   },
   "outputs": [
    {
     "data": {
      "text/plain": [
       "0.78429140580535006"
      ]
     },
     "execution_count": 143,
     "metadata": {},
     "output_type": "execute_result"
    }
   ],
   "source": [
    "knnTTS.score(test_features,y_test)"
   ]
  },
  {
   "cell_type": "code",
   "execution_count": 89,
   "metadata": {
    "collapsed": true
   },
   "outputs": [],
   "source": [
    "predictionsKNN_TTS=knnTTS.predict(test_featuresKNN_TTS)"
   ]
  },
  {
   "cell_type": "code",
   "execution_count": 91,
   "metadata": {
    "collapsed": false
   },
   "outputs": [
    {
     "name": "stdout",
     "output_type": "stream",
     "text": [
      "[[ 86   7   8   5   2   2]\n",
      " [ 11 137  39  15  14   5]\n",
      " [  3  36 298   2   5   5]\n",
      " [  5   7   4 288  10  57]\n",
      " [  6  11  11   9 308  15]\n",
      " [  0   9   8  61   7 261]]\n"
     ]
    }
   ],
   "source": [
    "print confusion_matrix(y_test, predictionsKNN_TTS)"
   ]
  },
  {
   "cell_type": "code",
   "execution_count": null,
   "metadata": {
    "collapsed": true
   },
   "outputs": [],
   "source": []
  },
  {
   "cell_type": "code",
   "execution_count": null,
   "metadata": {
    "collapsed": true
   },
   "outputs": [],
   "source": []
  },
  {
   "cell_type": "markdown",
   "metadata": {},
   "source": [
    "# Naive Bayes for clustering not going to use"
   ]
  },
  {
   "cell_type": "code",
   "execution_count": null,
   "metadata": {
    "collapsed": true
   },
   "outputs": [],
   "source": [
    "mnb=MultinomialNB()"
   ]
  },
  {
   "cell_type": "code",
   "execution_count": null,
   "metadata": {
    "collapsed": false
   },
   "outputs": [],
   "source": [
    "mnb.fit(x,y)"
   ]
  },
  {
   "cell_type": "code",
   "execution_count": null,
   "metadata": {
    "collapsed": false
   },
   "outputs": [],
   "source": [
    "mnb.score(x,y)"
   ]
  },
  {
   "cell_type": "code",
   "execution_count": null,
   "metadata": {
    "collapsed": true
   },
   "outputs": [],
   "source": [
    "y_hat=mnb.predict(x)"
   ]
  },
  {
   "cell_type": "code",
   "execution_count": null,
   "metadata": {
    "collapsed": false
   },
   "outputs": [],
   "source": [
    "print classification_report(y, y_hat)"
   ]
  },
  {
   "cell_type": "code",
   "execution_count": null,
   "metadata": {
    "collapsed": false
   },
   "outputs": [],
   "source": [
    "confusion_matrix(y,y_hat)"
   ]
  },
  {
   "cell_type": "code",
   "execution_count": null,
   "metadata": {
    "collapsed": false
   },
   "outputs": [],
   "source": [
    "predicted_probabilities=mnb.predict_proba(x)\n",
    "predicted_probabilities[0:5]"
   ]
  },
  {
   "cell_type": "code",
   "execution_count": null,
   "metadata": {
    "collapsed": true
   },
   "outputs": [],
   "source": []
  },
  {
   "cell_type": "code",
   "execution_count": null,
   "metadata": {
    "collapsed": true
   },
   "outputs": [],
   "source": []
  },
  {
   "cell_type": "markdown",
   "metadata": {},
   "source": [
    "# K means"
   ]
  },
  {
   "cell_type": "code",
   "execution_count": 95,
   "metadata": {
    "collapsed": true
   },
   "outputs": [],
   "source": [
    "kmeans=KMeans(6)\n",
    "kmeans.fit(x)\n",
    "predicts=kmeans.predict(x)"
   ]
  },
  {
   "cell_type": "code",
   "execution_count": 97,
   "metadata": {
    "collapsed": false
   },
   "outputs": [
    {
     "data": {
      "image/png": "[encoded data removed]",
      "text/plain": [
       "<matplotlib.figure.Figure at 0x118498350>"
      ]
     },
     "metadata": {},
     "output_type": "display_data"
    }
   ],
   "source": [
    "distortions = []\n",
    "for i in range(1, 11):\n",
    "    km = KMeans(n_clusters=i, init='k-means++', n_init=10, max_iter=300, random_state=0)\n",
    "    km.fit(x)\n",
    "    distortions.append(km.inertia_)\n",
    "plt.plot(range(1,11), distortions, marker='o')\n",
    "plt.xlabel('Number of clusters')\n",
    "plt.ylabel('Distortion')\n",
    "plt.show()"
   ]
  },
  {
   "cell_type": "code",
   "execution_count": 118,
   "metadata": {
    "collapsed": false
   },
   "outputs": [
    {
     "data": {
      "text/html": [
       "<div>\n",
       "<table border=\"1\" class=\"dataframe\">\n",
       "  <thead>\n",
       "    <tr style=\"text-align: right;\">\n",
       "      <th></th>\n",
       "      <th>_adaptive</th>\n",
       "      <th>aam</th>\n",
       "      <th>aarp</th>\n",
       "      <th>abb</th>\n",
       "      <th>abbott</th>\n",
       "      <th>abc</th>\n",
       "      <th>abide</th>\n",
       "      <th>abilities</th>\n",
       "      <th>ability</th>\n",
       "      <th>able</th>\n",
       "      <th>...</th>\n",
       "      <th>yes</th>\n",
       "      <th>young</th>\n",
       "      <th>youth</th>\n",
       "      <th>yp</th>\n",
       "      <th>yrs</th>\n",
       "      <th>yslow</th>\n",
       "      <th>zero</th>\n",
       "      <th>zone</th>\n",
       "      <th>zoning</th>\n",
       "      <th>zycron</th>\n",
       "    </tr>\n",
       "  </thead>\n",
       "  <tbody>\n",
       "    <tr>\n",
       "      <th>0</th>\n",
       "      <td>0</td>\n",
       "      <td>0</td>\n",
       "      <td>0</td>\n",
       "      <td>0</td>\n",
       "      <td>0</td>\n",
       "      <td>0</td>\n",
       "      <td>0</td>\n",
       "      <td>0</td>\n",
       "      <td>0</td>\n",
       "      <td>0</td>\n",
       "      <td>...</td>\n",
       "      <td>0</td>\n",
       "      <td>0</td>\n",
       "      <td>0</td>\n",
       "      <td>0</td>\n",
       "      <td>0</td>\n",
       "      <td>0</td>\n",
       "      <td>0</td>\n",
       "      <td>0</td>\n",
       "      <td>0</td>\n",
       "      <td>0</td>\n",
       "    </tr>\n",
       "    <tr>\n",
       "      <th>1</th>\n",
       "      <td>0</td>\n",
       "      <td>0</td>\n",
       "      <td>0</td>\n",
       "      <td>0</td>\n",
       "      <td>0</td>\n",
       "      <td>0</td>\n",
       "      <td>0</td>\n",
       "      <td>0</td>\n",
       "      <td>0</td>\n",
       "      <td>0</td>\n",
       "      <td>...</td>\n",
       "      <td>0</td>\n",
       "      <td>0</td>\n",
       "      <td>0</td>\n",
       "      <td>0</td>\n",
       "      <td>0</td>\n",
       "      <td>0</td>\n",
       "      <td>0</td>\n",
       "      <td>0</td>\n",
       "      <td>0</td>\n",
       "      <td>0</td>\n",
       "    </tr>\n",
       "    <tr>\n",
       "      <th>2</th>\n",
       "      <td>0</td>\n",
       "      <td>0</td>\n",
       "      <td>0</td>\n",
       "      <td>0</td>\n",
       "      <td>0</td>\n",
       "      <td>0</td>\n",
       "      <td>0</td>\n",
       "      <td>0</td>\n",
       "      <td>0</td>\n",
       "      <td>0</td>\n",
       "      <td>...</td>\n",
       "      <td>0</td>\n",
       "      <td>0</td>\n",
       "      <td>0</td>\n",
       "      <td>0</td>\n",
       "      <td>0</td>\n",
       "      <td>0</td>\n",
       "      <td>0</td>\n",
       "      <td>0</td>\n",
       "      <td>0</td>\n",
       "      <td>0</td>\n",
       "    </tr>\n",
       "    <tr>\n",
       "      <th>3</th>\n",
       "      <td>0</td>\n",
       "      <td>0</td>\n",
       "      <td>0</td>\n",
       "      <td>0</td>\n",
       "      <td>0</td>\n",
       "      <td>0</td>\n",
       "      <td>0</td>\n",
       "      <td>0</td>\n",
       "      <td>0</td>\n",
       "      <td>0</td>\n",
       "      <td>...</td>\n",
       "      <td>0</td>\n",
       "      <td>0</td>\n",
       "      <td>0</td>\n",
       "      <td>0</td>\n",
       "      <td>0</td>\n",
       "      <td>0</td>\n",
       "      <td>0</td>\n",
       "      <td>0</td>\n",
       "      <td>0</td>\n",
       "      <td>0</td>\n",
       "    </tr>\n",
       "    <tr>\n",
       "      <th>4</th>\n",
       "      <td>0</td>\n",
       "      <td>0</td>\n",
       "      <td>0</td>\n",
       "      <td>0</td>\n",
       "      <td>0</td>\n",
       "      <td>0</td>\n",
       "      <td>0</td>\n",
       "      <td>0</td>\n",
       "      <td>0</td>\n",
       "      <td>0</td>\n",
       "      <td>...</td>\n",
       "      <td>0</td>\n",
       "      <td>0</td>\n",
       "      <td>0</td>\n",
       "      <td>0</td>\n",
       "      <td>0</td>\n",
       "      <td>0</td>\n",
       "      <td>0</td>\n",
       "      <td>0</td>\n",
       "      <td>0</td>\n",
       "      <td>0</td>\n",
       "    </tr>\n",
       "  </tbody>\n",
       "</table>\n",
       "<p>5 rows × 5588 columns</p>\n",
       "</div>"
      ],
      "text/plain": [
       "   _adaptive  aam  aarp  abb  abbott  abc  abide  abilities  ability  able  \\\n",
       "0          0    0     0    0       0    0      0          0        0     0   \n",
       "1          0    0     0    0       0    0      0          0        0     0   \n",
       "2          0    0     0    0       0    0      0          0        0     0   \n",
       "3          0    0     0    0       0    0      0          0        0     0   \n",
       "4          0    0     0    0       0    0      0          0        0     0   \n",
       "\n",
       "    ...    yes  young  youth  yp  yrs  yslow  zero  zone  zoning  zycron  \n",
       "0   ...      0      0      0   0    0      0     0     0       0       0  \n",
       "1   ...      0      0      0   0    0      0     0     0       0       0  \n",
       "2   ...      0      0      0   0    0      0     0     0       0       0  \n",
       "3   ...      0      0      0   0    0      0     0     0       0       0  \n",
       "4   ...      0      0      0   0    0      0     0     0       0       0  \n",
       "\n",
       "[5 rows x 5588 columns]"
      ]
     },
     "execution_count": 118,
     "metadata": {},
     "output_type": "execute_result"
    }
   ],
   "source": [
    "df = pd.DataFrame(x, columns=wordsDescription.columns)\n",
    "df.head()"
   ]
  },
  {
   "cell_type": "code",
   "execution_count": 124,
   "metadata": {
    "collapsed": false
   },
   "outputs": [
    {
     "data": {
      "text/plain": [
       "pandas.core.frame.DataFrame"
      ]
     },
     "execution_count": 124,
     "metadata": {},
     "output_type": "execute_result"
    }
   ],
   "source": [
    "type(listingFile)"
   ]
  },
  {
   "cell_type": "code",
   "execution_count": 123,
   "metadata": {
    "collapsed": false
   },
   "outputs": [
    {
     "data": {
      "text/plain": [
       "(4390, 5589)"
      ]
     },
     "execution_count": 123,
     "metadata": {},
     "output_type": "execute_result"
    }
   ],
   "source": [
    "df.shape"
   ]
  },
  {
   "cell_type": "code",
   "execution_count": 128,
   "metadata": {
    "collapsed": false
   },
   "outputs": [],
   "source": [
    "df = listingFile.join(\n",
    "    pd.DataFrame(kmeans.predict(x), \n",
    "                 columns=['predictions_k6'])\n",
    ")"
   ]
  },
  {
   "cell_type": "code",
   "execution_count": 129,
   "metadata": {
    "collapsed": false
   },
   "outputs": [
    {
     "data": {
      "text/html": [
       "<div>\n",
       "<table border=\"1\" class=\"dataframe\">\n",
       "  <thead>\n",
       "    <tr style=\"text-align: right;\">\n",
       "      <th></th>\n",
       "      <th>Unnamed: 0</th>\n",
       "      <th>City Location</th>\n",
       "      <th>Company Name</th>\n",
       "      <th>Degree</th>\n",
       "      <th>Description</th>\n",
       "      <th>Job Title</th>\n",
       "      <th>Search Criteria</th>\n",
       "      <th>Source</th>\n",
       "      <th>CleanDescription</th>\n",
       "      <th>encodedDegree</th>\n",
       "      <th>predictions_k6</th>\n",
       "    </tr>\n",
       "  </thead>\n",
       "  <tbody>\n",
       "    <tr>\n",
       "      <th>0</th>\n",
       "      <td>0</td>\n",
       "      <td>Cincinnati, OH</td>\n",
       "      <td>Pro4ia, Inc.</td>\n",
       "      <td>user+support</td>\n",
       "      <td>Day-to-day desktop support. Input all service ...</td>\n",
       "      <td>Level 1/2 Desktop Support</td>\n",
       "      <td>user+support</td>\n",
       "      <td>Indeed</td>\n",
       "      <td>day-to-day desktop support input all service r...</td>\n",
       "      <td>4</td>\n",
       "      <td>5</td>\n",
       "    </tr>\n",
       "    <tr>\n",
       "      <th>1</th>\n",
       "      <td>1</td>\n",
       "      <td>Columbus, OH 43215</td>\n",
       "      <td>The Woda Group, Inc.</td>\n",
       "      <td>user+support</td>\n",
       "      <td>, is seeking a *Yardi Voyager Support Speciali...</td>\n",
       "      <td>Yardi Voyager Support Specialist</td>\n",
       "      <td>user+support</td>\n",
       "      <td>Indeed</td>\n",
       "      <td>is seeking a *yardi voyager support specialist...</td>\n",
       "      <td>4</td>\n",
       "      <td>5</td>\n",
       "    </tr>\n",
       "    <tr>\n",
       "      <th>2</th>\n",
       "      <td>2</td>\n",
       "      <td>Fort Wayne, IN</td>\n",
       "      <td>ENS Group, Inc.</td>\n",
       "      <td>user+support</td>\n",
       "      <td>Knowledge/experience supporting mobile users. ...</td>\n",
       "      <td>Service Desk Technician</td>\n",
       "      <td>user+support</td>\n",
       "      <td>Indeed</td>\n",
       "      <td>knowledge/experience supporting mobile users s...</td>\n",
       "      <td>4</td>\n",
       "      <td>5</td>\n",
       "    </tr>\n",
       "    <tr>\n",
       "      <th>3</th>\n",
       "      <td>12</td>\n",
       "      <td>Dayton, OH</td>\n",
       "      <td>Riverside Research</td>\n",
       "      <td>software+development</td>\n",
       "      <td>Produce detailed specifications for software r...</td>\n",
       "      <td>Software Developer</td>\n",
       "      <td>software+development</td>\n",
       "      <td>Indeed</td>\n",
       "      <td>produce detailed specifications for software r...</td>\n",
       "      <td>3</td>\n",
       "      <td>1</td>\n",
       "    </tr>\n",
       "    <tr>\n",
       "      <th>4</th>\n",
       "      <td>13</td>\n",
       "      <td>Wright-Patterson AFB, OH</td>\n",
       "      <td>Riverside Research</td>\n",
       "      <td>software+development</td>\n",
       "      <td>Software development and hardware integration ...</td>\n",
       "      <td>Software Engineer</td>\n",
       "      <td>software+development</td>\n",
       "      <td>Indeed</td>\n",
       "      <td>software development and hardware integration ...</td>\n",
       "      <td>3</td>\n",
       "      <td>3</td>\n",
       "    </tr>\n",
       "  </tbody>\n",
       "</table>\n",
       "</div>"
      ],
      "text/plain": [
       "   Unnamed: 0             City Location          Company Name  \\\n",
       "0           0            Cincinnati, OH          Pro4ia, Inc.   \n",
       "1           1        Columbus, OH 43215  The Woda Group, Inc.   \n",
       "2           2            Fort Wayne, IN       ENS Group, Inc.   \n",
       "3          12                Dayton, OH    Riverside Research   \n",
       "4          13  Wright-Patterson AFB, OH    Riverside Research   \n",
       "\n",
       "                 Degree                                        Description  \\\n",
       "0          user+support  Day-to-day desktop support. Input all service ...   \n",
       "1          user+support  , is seeking a *Yardi Voyager Support Speciali...   \n",
       "2          user+support  Knowledge/experience supporting mobile users. ...   \n",
       "3  software+development  Produce detailed specifications for software r...   \n",
       "4  software+development  Software development and hardware integration ...   \n",
       "\n",
       "                          Job Title       Search Criteria  Source  \\\n",
       "0         Level 1/2 Desktop Support          user+support  Indeed   \n",
       "1  Yardi Voyager Support Specialist          user+support  Indeed   \n",
       "2           Service Desk Technician          user+support  Indeed   \n",
       "3                Software Developer  software+development  Indeed   \n",
       "4                 Software Engineer  software+development  Indeed   \n",
       "\n",
       "                                    CleanDescription  encodedDegree  \\\n",
       "0  day-to-day desktop support input all service r...              4   \n",
       "1  is seeking a *yardi voyager support specialist...              4   \n",
       "2  knowledge/experience supporting mobile users s...              4   \n",
       "3  produce detailed specifications for software r...              3   \n",
       "4  software development and hardware integration ...              3   \n",
       "\n",
       "   predictions_k6  \n",
       "0               5  \n",
       "1               5  \n",
       "2               5  \n",
       "3               1  \n",
       "4               3  "
      ]
     },
     "execution_count": 129,
     "metadata": {},
     "output_type": "execute_result"
    }
   ],
   "source": [
    "df.head()"
   ]
  },
  {
   "cell_type": "code",
   "execution_count": 162,
   "metadata": {
    "collapsed": true
   },
   "outputs": [],
   "source": [
    "resultsOFClustering=df[['Degree','Search Criteria','encodedDegree','predictions_k6']]"
   ]
  },
  {
   "cell_type": "code",
   "execution_count": 164,
   "metadata": {
    "collapsed": false
   },
   "outputs": [
    {
     "data": {
      "text/html": [
       "<div>\n",
       "<table border=\"1\" class=\"dataframe\">\n",
       "  <thead>\n",
       "    <tr style=\"text-align: right;\">\n",
       "      <th></th>\n",
       "      <th>Degree</th>\n",
       "      <th>Search Criteria</th>\n",
       "      <th>encodedDegree</th>\n",
       "      <th>predictions_k6</th>\n",
       "    </tr>\n",
       "  </thead>\n",
       "  <tbody>\n",
       "    <tr>\n",
       "      <th>0</th>\n",
       "      <td>user+support</td>\n",
       "      <td>user+support</td>\n",
       "      <td>4</td>\n",
       "      <td>5</td>\n",
       "    </tr>\n",
       "  </tbody>\n",
       "</table>\n",
       "</div>"
      ],
      "text/plain": [
       "         Degree Search Criteria  encodedDegree  predictions_k6\n",
       "0  user+support    user+support              4               5"
      ]
     },
     "execution_count": 164,
     "metadata": {},
     "output_type": "execute_result"
    }
   ],
   "source": [
    "resultsOFClustering.head(1)"
   ]
  },
  {
   "cell_type": "code",
   "execution_count": null,
   "metadata": {
    "collapsed": true
   },
   "outputs": [],
   "source": []
  },
  {
   "cell_type": "code",
   "execution_count": null,
   "metadata": {
    "collapsed": true
   },
   "outputs": [],
   "source": []
  },
  {
   "cell_type": "code",
   "execution_count": null,
   "metadata": {
    "collapsed": true
   },
   "outputs": [],
   "source": []
  },
  {
   "cell_type": "code",
   "execution_count": null,
   "metadata": {
    "collapsed": true
   },
   "outputs": [],
   "source": []
  },
  {
   "cell_type": "markdown",
   "metadata": {},
   "source": [
    "# Visualizing the data with TSNE"
   ]
  },
  {
   "cell_type": "code",
   "execution_count": 109,
   "metadata": {
    "collapsed": false
   },
   "outputs": [
    {
     "name": "stdout",
     "output_type": "stream",
     "text": [
      "\n"
     ]
    }
   ],
   "source": [
    "from sklearn.manifold import TSNE"
   ]
  },
  {
   "cell_type": "code",
   "execution_count": 110,
   "metadata": {
    "collapsed": true
   },
   "outputs": [],
   "source": [
    "tsne = TSNE()"
   ]
  },
  {
   "cell_type": "code",
   "execution_count": 111,
   "metadata": {
    "collapsed": true
   },
   "outputs": [],
   "source": [
    "graphing_data = tsne.fit_transform(x)"
   ]
  },
  {
   "cell_type": "code",
   "execution_count": 112,
   "metadata": {
    "collapsed": false
   },
   "outputs": [
    {
     "data": {
      "text/plain": [
       "array([[ 0.44831419, -4.61897474],\n",
       "       [-1.58269683, -8.14145554],\n",
       "       [ 4.30389753, -8.03383633],\n",
       "       [ 7.34888463,  1.67914779],\n",
       "       [ 9.3656817 ,  3.38267913]])"
      ]
     },
     "execution_count": 112,
     "metadata": {},
     "output_type": "execute_result"
    }
   ],
   "source": [
    "graphing_data[0:5]"
   ]
  },
  {
   "cell_type": "code",
   "execution_count": 113,
   "metadata": {
    "collapsed": false
   },
   "outputs": [
    {
     "data": {
      "text/plain": [
       "<matplotlib.collections.PathCollection at 0x11bcb9fd0>"
      ]
     },
     "execution_count": 113,
     "metadata": {},
     "output_type": "execute_result"
    },
    {
     "data": {
      "image/png": "[encoded data removed]",
      "text/plain": [
       "<matplotlib.figure.Figure at 0x11bb76450>"
      ]
     },
     "metadata": {},
     "output_type": "display_data"
    }
   ],
   "source": [
    "plt.scatter(graphing_data[:,0], graphing_data[:,1])"
   ]
  },
  {
   "cell_type": "code",
   "execution_count": 115,
   "metadata": {
    "collapsed": false
   },
   "outputs": [
    {
     "data": {
      "text/plain": [
       "<matplotlib.collections.PathCollection at 0x198e99090>"
      ]
     },
     "execution_count": 115,
     "metadata": {},
     "output_type": "execute_result"
    },
    {
     "data": {
      "image/png": "[encoded data removed]",
      "text/plain": [
       "<matplotlib.figure.Figure at 0x196fb67d0>"
      ]
     },
     "metadata": {},
     "output_type": "display_data"
    }
   ],
   "source": [
    "plt.scatter(graphing_data[:,0], graphing_data[:,1],\n",
    "           c=kmeans.predict(x)) "
   ]
  },
  {
   "cell_type": "code",
   "execution_count": null,
   "metadata": {
    "collapsed": true
   },
   "outputs": [],
   "source": []
  }
 ],
 "metadata": {
  "kernelspec": {
   "display_name": "Python [Root]",
   "language": "python",
   "name": "Python [Root]"
  },
  "language_info": {
   "codemirror_mode": {
    "name": "ipython",
    "version": 2
   },
   "file_extension": ".py",
   "mimetype": "text/x-python",
   "name": "python",
   "nbconvert_exporter": "python",
   "pygments_lexer": "ipython2",
   "version": "2.7.12"
  }
 },
 "nbformat": 4,
 "nbformat_minor": 0
}
