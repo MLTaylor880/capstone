{
 "cells": [
  {
   "cell_type": "code",
   "execution_count": 1,
   "metadata": {
    "collapsed": true
   },
   "outputs": [],
   "source": [
    "import numpy as np\n",
    "import pandas as pd\n",
    "import seaborn as sns\n",
    "import urllib2\n",
    "import requests\n",
    "\n",
    "import bs4\n",
    "from bs4 import BeautifulSoup\n",
    "import json\n",
    "import csv\n",
    "import time\n",
    "from sklearn.feature_extraction.text import CountVectorizer"
   ]
  },
  {
   "cell_type": "markdown",
   "metadata": {
    "collapsed": true
   },
   "source": [
    "# scraping jobs 100 miles radius of Dayton\n",
    "Sinclair students like to stay close to home or move someplace like Texas. Within a 100 mile radius is Cincinnati, Columbus and Indianapolis \n",
    "Majors = user support, software development, web development, network manager, network engineer, cyber security\n",
    "Searched for all salaries"
   ]
  },
  {
   "cell_type": "markdown",
   "metadata": {},
   "source": [
    "Setting up lists to hold scraped data. Only need certain data\n",
    "searchCriteria is the degree\n",
    "jobTitle\n",
    "companyName\n",
    "cityLocation\n",
    "description\n",
    "\n",
    "source is where the listing was obtained.  For example, Indeed.com, USA Jobs, manual input (Sinclair data) "
   ]
  },
  {
   "cell_type": "code",
   "execution_count": 28,
   "metadata": {
    "collapsed": false
   },
   "outputs": [],
   "source": [
    "pd.set_option('max_colwidth',500)    # to remove column limit (Otherwise, we'll lose some info)\n",
    "df = pd.DataFrame()   # create a new data frame\n",
    "\n",
    "searchCriteria=[]\n",
    "jobTitle = []\n",
    "companyName=[]\n",
    "cityLocation=[]\n",
    "description=[]\n",
    "source=[]\n",
    "SCCdegree=[]\n",
    "\n"
   ]
  },
  {
   "cell_type": "code",
   "execution_count": 29,
   "metadata": {
    "collapsed": true
   },
   "outputs": [],
   "source": [
    "#I backed up data after each stage because I am paranoid\n",
    "BackupsearchCriteria=[]\n",
    "BackupjobTitle = []\n",
    "BackupcompanyName=[]\n",
    "BackupcityLocation=[]\n",
    "Backupdescription=[]\n",
    "BackupSCCDegree=[]\n",
    "BackupDescription=[]"
   ]
  },
  {
   "cell_type": "code",
   "execution_count": 30,
   "metadata": {
    "collapsed": true
   },
   "outputs": [],
   "source": [
    "#list of Sinclair degrees\n",
    "degrees=['user+support', 'software+development', 'web+development', \n",
    "         'network+manager', 'network+engineer', 'cyber+security']"
   ]
  },
  {
   "cell_type": "code",
   "execution_count": null,
   "metadata": {
    "collapsed": true
   },
   "outputs": [],
   "source": []
  },
  {
   "cell_type": "code",
   "execution_count": 31,
   "metadata": {
    "collapsed": false
   },
   "outputs": [],
   "source": [
    "\n",
    "    \n",
    "for degree in degrees:\n",
    "    base_url = 'http://www.indeed.com/jobs?q='+degree+'&l=dayton+oh&radius=100'\n",
    "#   http://www.indeed.com/jobs?q=user+support&l=dayton+oh&radius=100&start=10&pp=#\n",
    "    soup = BeautifulSoup(urllib2.urlopen(base_url).read())\n",
    "    gData = soup.find_all(\"div\",{\"class\":\"row result\"})\n",
    "\n",
    "    time.sleep(1)\n",
    "    for item in gData:\n",
    "            searchCriteria.append(degree)\n",
    "            jobTitle.append(item.find_all(\"a\",{\"data-tn-element\":\"jobTitle\"})[0].text)\n",
    "            companyName.append((item.find_all(\"span\",{\"class\":\"company\"})[0].text).lstrip().replace('\\n',''))\n",
    "            cityLocation.append(item.find_all(\"span\",{\"class\":\"location\"})[0].text)\n",
    "            description.append(item.find_all(\"span\",{\"class\":\"summary\"})[0].text)\n",
    "            source.append('Indeed')\n",
    "            SCCdegree.append(degree)\n",
    "    \n",
    "    gData = soup.find_all(\"div\",{\"class\":\" row result\"})\n",
    "    for item in gData:\n",
    "            searchCriteria.append(degree)\n",
    "            jobTitle.append(item.find_all(\"a\",{\"data-tn-element\":\"jobTitle\"})[0].text)\n",
    "            companyName.append((item.find_all(\"span\",{\"class\":\"company\"})[0].text).lstrip().replace('\\n',''))\n",
    "            cityLocation.append(item.find_all(\"span\",{\"class\":\"location\"})[0].text)\n",
    "            description.append(item.find_all(\"span\",{\"class\":\"summary\"})[0].text)\n",
    "            source.append('Indeed')\n",
    "            SCCdegree.append(degree)\n",
    "           "
   ]
  },
  {
   "cell_type": "code",
   "execution_count": 32,
   "metadata": {
    "collapsed": false
   },
   "outputs": [
    {
     "name": "stdout",
     "output_type": "stream",
     "text": [
      "72\n",
      "72\n",
      "72\n",
      "72\n",
      "72\n",
      "72\n",
      "72\n"
     ]
    }
   ],
   "source": [
    "print len(searchCriteria)\n",
    "print len(jobTitle)\n",
    "print len(companyName)\n",
    "print len(cityLocation)\n",
    "print len(description)\n",
    "print len(source)\n",
    "print len(SCCdegree)"
   ]
  },
  {
   "cell_type": "code",
   "execution_count": 33,
   "metadata": {
    "collapsed": true
   },
   "outputs": [],
   "source": [
    "#backing up so if the lengths are different I haven't lost everything\n",
    "BackupsearchCriteria =searchCriteria \n",
    "BackupjobTitle =jobTitle\n",
    "BackupcompanyName=companyName\n",
    "BackupcityLocation=cityLocation\n",
    "Backupdescription=description\n",
    "BackupSCCDegree=SCCdegree\n",
    "BackupSource=source"
   ]
  },
  {
   "cell_type": "code",
   "execution_count": 81,
   "metadata": {
    "collapsed": false
   },
   "outputs": [
    {
     "name": "stdout",
     "output_type": "stream",
     "text": [
      "70\n",
      "user+support\n",
      "user+support\n",
      "user+support\n",
      "user+support\n",
      "user+support\n",
      "user+support\n",
      "user+support\n",
      "user+support\n",
      "user+support\n",
      "71\n",
      "user+support\n",
      "user+support\n",
      "user+support\n",
      "user+support\n",
      "user+support\n",
      "user+support\n",
      "user+support\n",
      "user+support\n",
      "user+support\n",
      "72\n",
      "user+support\n",
      "user+support\n",
      "user+support\n",
      "user+support\n",
      "user+support\n",
      "user+support\n",
      "user+support\n",
      "user+support\n",
      "user+support\n",
      "73\n",
      "user+support\n",
      "user+support\n",
      "user+support\n",
      "user+support\n",
      "user+support\n",
      "user+support\n",
      "user+support\n",
      "user+support\n",
      "user+support\n",
      "74\n",
      "user+support\n",
      "user+support\n",
      "user+support\n",
      "user+support\n",
      "user+support\n",
      "user+support\n",
      "user+support\n",
      "user+support\n",
      "user+support\n",
      "75\n",
      "user+support\n",
      "user+support\n",
      "user+support\n",
      "user+support\n",
      "user+support\n",
      "user+support\n",
      "user+support\n",
      "user+support\n",
      "user+support\n",
      "76\n",
      "user+support\n",
      "user+support\n",
      "user+support\n",
      "user+support\n",
      "user+support\n",
      "user+support\n",
      "user+support\n",
      "user+support\n",
      "user+support\n",
      "77\n",
      "user+support\n",
      "user+support\n",
      "user+support\n",
      "user+support\n",
      "user+support\n",
      "user+support\n",
      "user+support\n",
      "user+support\n",
      "user+support\n",
      "78\n",
      "user+support\n",
      "user+support\n",
      "user+support\n",
      "user+support\n",
      "user+support\n",
      "user+support\n",
      "user+support\n",
      "user+support\n",
      "user+support\n",
      "79\n",
      "user+support\n",
      "user+support\n",
      "user+support\n",
      "user+support\n",
      "user+support\n",
      "user+support\n",
      "user+support\n",
      "user+support\n",
      "user+support\n",
      "70\n",
      "software+development\n",
      "software+development\n",
      "software+development\n",
      "software+development\n",
      "software+development\n",
      "software+development\n",
      "software+development\n",
      "software+development\n",
      "software+development\n",
      "71\n",
      "software+development\n",
      "software+development\n",
      "software+development\n",
      "software+development\n",
      "software+development\n",
      "software+development\n",
      "software+development\n",
      "software+development\n",
      "software+development\n",
      "72\n",
      "software+development\n",
      "software+development\n",
      "software+development\n",
      "software+development\n",
      "software+development\n",
      "software+development\n",
      "software+development\n",
      "software+development\n",
      "software+development\n",
      "73\n",
      "software+development\n",
      "software+development\n",
      "software+development\n",
      "software+development\n",
      "software+development\n",
      "software+development\n",
      "software+development\n",
      "software+development\n",
      "software+development\n",
      "74\n",
      "software+development\n",
      "software+development\n",
      "software+development\n",
      "software+development\n",
      "software+development\n",
      "software+development\n",
      "software+development\n",
      "software+development\n",
      "software+development\n",
      "75\n",
      "software+development\n",
      "software+development\n",
      "software+development\n",
      "software+development\n",
      "software+development\n",
      "software+development\n",
      "software+development\n",
      "software+development\n",
      "software+development\n",
      "76\n",
      "software+development\n",
      "software+development\n",
      "software+development\n",
      "software+development\n",
      "software+development\n",
      "software+development\n",
      "software+development\n",
      "software+development\n",
      "software+development\n",
      "77\n",
      "software+development\n",
      "software+development\n",
      "software+development\n",
      "software+development\n",
      "software+development\n",
      "software+development\n",
      "software+development\n",
      "software+development\n",
      "software+development\n",
      "78\n",
      "software+development\n",
      "software+development\n",
      "software+development\n",
      "software+development\n",
      "software+development\n",
      "software+development\n",
      "software+development\n",
      "software+development\n",
      "software+development\n",
      "79\n",
      "software+development\n",
      "software+development\n",
      "software+development\n",
      "software+development\n",
      "software+development\n",
      "software+development\n",
      "software+development\n",
      "software+development\n",
      "software+development\n",
      "70\n",
      "web+development\n",
      "web+development\n",
      "web+development\n",
      "web+development\n",
      "web+development\n",
      "web+development\n",
      "web+development\n",
      "web+development\n",
      "web+development\n",
      "71\n",
      "web+development\n",
      "web+development\n",
      "web+development\n",
      "web+development\n",
      "web+development\n",
      "web+development\n",
      "web+development\n",
      "web+development\n",
      "web+development\n",
      "72\n",
      "web+development\n",
      "web+development\n",
      "web+development\n",
      "web+development\n",
      "web+development\n",
      "web+development\n",
      "web+development\n",
      "web+development\n",
      "web+development\n",
      "73\n",
      "web+development\n",
      "web+development\n",
      "web+development\n",
      "web+development\n",
      "web+development\n",
      "web+development\n",
      "web+development\n",
      "web+development\n",
      "web+development\n",
      "74\n",
      "web+development\n",
      "web+development\n",
      "web+development\n",
      "web+development\n",
      "web+development\n",
      "web+development\n",
      "web+development\n",
      "web+development\n",
      "web+development\n",
      "75\n",
      "web+development\n",
      "web+development\n",
      "web+development\n",
      "web+development\n",
      "web+development\n",
      "web+development\n",
      "web+development\n",
      "web+development\n",
      "web+development\n",
      "76\n",
      "web+development\n",
      "web+development\n",
      "web+development\n",
      "web+development\n",
      "web+development\n",
      "web+development\n",
      "web+development\n",
      "web+development\n",
      "web+development\n",
      "77\n",
      "web+development\n",
      "web+development\n",
      "web+development\n",
      "web+development\n",
      "web+development\n",
      "web+development\n",
      "web+development\n",
      "web+development\n",
      "web+development\n",
      "78\n",
      "web+development\n",
      "web+development\n",
      "web+development\n",
      "web+development\n",
      "web+development\n",
      "web+development\n",
      "web+development\n",
      "web+development\n",
      "web+development\n",
      "79\n",
      "web+development\n",
      "web+development\n",
      "web+development\n",
      "web+development\n",
      "web+development\n",
      "web+development\n",
      "web+development\n",
      "web+development\n",
      "web+development\n",
      "70\n",
      "network+manager\n",
      "network+manager\n",
      "network+manager\n",
      "network+manager\n",
      "network+manager\n",
      "network+manager\n",
      "network+manager\n",
      "network+manager\n",
      "network+manager\n",
      "71\n",
      "network+manager\n",
      "network+manager\n",
      "network+manager\n",
      "network+manager\n",
      "network+manager\n",
      "network+manager\n",
      "network+manager\n",
      "network+manager\n",
      "network+manager\n",
      "72\n",
      "network+manager\n",
      "network+manager\n",
      "network+manager\n",
      "network+manager\n",
      "network+manager\n",
      "network+manager\n",
      "network+manager\n",
      "network+manager\n",
      "network+manager\n",
      "73\n",
      "network+manager\n",
      "network+manager\n",
      "network+manager\n",
      "network+manager\n",
      "network+manager\n",
      "network+manager\n",
      "network+manager\n",
      "network+manager\n",
      "network+manager\n",
      "74\n",
      "network+manager\n",
      "network+manager\n",
      "network+manager\n",
      "network+manager\n",
      "network+manager\n",
      "network+manager\n",
      "network+manager\n",
      "network+manager\n",
      "network+manager\n",
      "75\n",
      "network+manager\n",
      "network+manager\n",
      "network+manager\n",
      "network+manager\n",
      "network+manager\n",
      "network+manager\n",
      "network+manager\n",
      "network+manager\n",
      "network+manager\n",
      "76\n",
      "network+manager\n",
      "network+manager\n",
      "network+manager\n",
      "network+manager\n",
      "network+manager\n",
      "network+manager\n",
      "network+manager\n",
      "network+manager\n",
      "network+manager\n",
      "77\n",
      "network+manager\n",
      "network+manager\n",
      "network+manager\n",
      "network+manager\n",
      "network+manager\n",
      "network+manager\n",
      "network+manager\n",
      "network+manager\n",
      "network+manager\n",
      "78\n",
      "network+manager\n",
      "network+manager\n",
      "network+manager\n",
      "network+manager\n",
      "network+manager\n",
      "network+manager\n",
      "network+manager\n",
      "network+manager\n",
      "network+manager\n",
      "79\n",
      "network+manager\n",
      "network+manager\n",
      "network+manager\n",
      "network+manager\n",
      "network+manager\n",
      "network+manager\n",
      "network+manager\n",
      "network+manager\n",
      "network+manager\n"
     ]
    }
   ],
   "source": [
    "# to pull pages after the first page\n",
    "\n",
    "degrees=['user+support', 'software+development', 'web+development', \n",
    "         'network+manager']\n",
    "# degrees=['user+support', 'software+development', 'web+development', \n",
    "#          'network+manager', 'network+engineer', 'cyber+security']\n",
    "    \n",
    "for degree in degrees:\n",
    "    pVariableNu=10\n",
    "    totalPages=80\n",
    "    #pagesPerDegree=[208, 400, 180, 179, 70, 50]\n",
    "    \n",
    "#     if degree == 'user+support':\n",
    "#         totalPages=208\n",
    "#     elif degree == 'software+development':\n",
    "#         totalPages=149\n",
    "#     elif degree == 'web+development':\n",
    "#         totalPages=179\n",
    "#     elif degree ==  'network+manager':\n",
    "#         totalPages=179\n",
    "#     elif degree ==  'network+engineer':\n",
    "#         totalPages=73\n",
    "#     elif degree ==  'cyber+security':\n",
    "#         totalPages=53   \n",
    "   \n",
    "       \n",
    "    \n",
    "    for pages in range(70,totalPages):\n",
    "        time.sleep(1) \n",
    "        pVariableNu=10*pages\n",
    "        pVariable=str(pVariableNu)\n",
    "        time.sleep(1)\n",
    "    \n",
    "        base_url = 'http://www.indeed.com/jobs?q='+degree+'&l=dayton+oh&radius=100&start='+pVariable\n",
    "        soup = BeautifulSoup(urllib2.urlopen(base_url).read())\n",
    "        gData = soup.find_all(\"div\",{\"class\":\"row result\"})\n",
    "        print pages\n",
    "        \n",
    "        for item in gData:\n",
    "            searchCriteria.append(degree)\n",
    "            jobTitle.append(item.find_all(\"a\",{\"data-tn-element\":\"jobTitle\"})[0].text)\n",
    "            companyName.append((item.find_all(\"span\",{\"class\":\"company\"})[0].text).lstrip().replace('\\n',''))\n",
    "            cityLocation.append(item.find_all(\"span\",{\"class\":\"location\"})[0].text)\n",
    "            description.append(item.find_all(\"span\",{\"class\":\"summary\"})[0].text)\n",
    "            source.append('Indeed')\n",
    "            SCCdegree.append(degree)\n",
    "            print degree\n",
    "            if len(searchCriteria) != len(jobTitle):\n",
    "                jobTitle.append('')\n",
    "            if len(searchCriteria) != len(companyName):\n",
    "                jobTitle.append('')\n",
    "            if len(searchCriteria) != len(cityLocation):\n",
    "                jobTitle.append('')\n",
    "            if len(searchCriteria) != len(description):\n",
    "                jobTitle.append('')\n",
    "            if len(searchCriteria) != len(source):\n",
    "                jobTitle.append('')  \n",
    "            if len(searchCriteria) != len(SCCdegree):\n",
    "                jobTitle.append('')\n",
    "        gData = soup.find_all(\"div\",{\"class\":\" row result\"})\n",
    "        for item in gData:\n",
    "            searchCriteria.append(degree)\n",
    "            jobTitle.append(item.find_all(\"a\",{\"data-tn-element\":\"jobTitle\"})[0].text)\n",
    "            companyName.append((item.find_all(\"span\",{\"class\":\"company\"})[0].text).lstrip().replace('\\n',''))\n",
    "            cityLocation.append(item.find_all(\"span\",{\"class\":\"location\"})[0].text)\n",
    "            description.append(item.find_all(\"span\",{\"class\":\"summary\"})[0].text)\n",
    "            source.append('Indeed')\n",
    "            SCCdegree.append(degree)\n",
    "            if len(searchCriteria) != len(jobTitle):\n",
    "                jobTitle.append('')\n",
    "            if len(searchCriteria) != len(companyName):\n",
    "                jobTitle.append('')\n",
    "            if len(searchCriteria) != len(cityLocation):\n",
    "                jobTitle.append('')\n",
    "            if len(searchCriteria) != len(description):\n",
    "                jobTitle.append('')\n",
    "            if len(searchCriteria) != len(source):\n",
    "                jobTitle.append('')  \n",
    "            if len(searchCriteria) != len(SCCdegree):\n",
    "                jobTitle.append('')\n",
    "            print degree"
   ]
  },
  {
   "cell_type": "code",
   "execution_count": 82,
   "metadata": {
    "collapsed": false
   },
   "outputs": [
    {
     "name": "stdout",
     "output_type": "stream",
     "text": [
      "4195\n",
      "4195\n",
      "4195\n",
      "4195\n",
      "4195\n",
      "4195\n",
      "4195\n"
     ]
    }
   ],
   "source": [
    "print len(searchCriteria)\n",
    "print len(jobTitle)\n",
    "print len(companyName)\n",
    "print len(cityLocation)\n",
    "print len(description)\n",
    "print len(source)\n",
    "print len(SCCdegree)"
   ]
  },
  {
   "cell_type": "code",
   "execution_count": 37,
   "metadata": {
    "collapsed": true
   },
   "outputs": [],
   "source": [
    "#only use this if the index is off\n",
    "\n",
    "# searchCriteria = BackupsearchCriteria\n",
    "# jobTitle =BackupjobTitle\n",
    "# companyName=BackupcompanyName\n",
    "# cityLocation=BackupcityLocation\n",
    "# description =Backupdescription\n",
    "# SCCdegree=BackupSCCDegree\n",
    "# source=BackupSource\n"
   ]
  },
  {
   "cell_type": "code",
   "execution_count": 76,
   "metadata": {
    "collapsed": false
   },
   "outputs": [
    {
     "name": "stdout",
     "output_type": "stream",
     "text": [
      "3475\n",
      "3475\n",
      "3475\n",
      "3475\n",
      "3475\n",
      "3475\n",
      "3475\n"
     ]
    }
   ],
   "source": [
    "print len(BackupsearchCriteria)\n",
    "print len(BackupjobTitle)\n",
    "print len(BackupcompanyName)\n",
    "print len(BackupcityLocation)\n",
    "print len(Backupdescription)\n",
    "print len(BackupSource)\n",
    "print len(BackupSCCDegree)"
   ]
  },
  {
   "cell_type": "code",
   "execution_count": 55,
   "metadata": {
    "collapsed": true
   },
   "outputs": [],
   "source": [
    "TBackupsearchCriteria=[]\n",
    "TBackupjobTitle = []\n",
    "TBackupcompanyName=[]\n",
    "TBackupcityLocation=[]\n",
    "TBackupdescription=[]\n",
    "TBackupSCCDegree=[]\n",
    "TBackupDescription=[]"
   ]
  },
  {
   "cell_type": "code",
   "execution_count": 56,
   "metadata": {
    "collapsed": true
   },
   "outputs": [],
   "source": [
    "TBackupsearchCriteria =searchCriteria \n",
    "TBackupjobTitle =jobTitle\n",
    "TBackupcompanyName=companyName\n",
    "TBackupcityLocation=cityLocation\n",
    "TBackupdescription=description\n",
    "TBackupSCCDegree=SCCdegree\n",
    "TBackupSource=source"
   ]
  },
  {
   "cell_type": "code",
   "execution_count": 77,
   "metadata": {
    "collapsed": false
   },
   "outputs": [
    {
     "data": {
      "text/plain": [
       "3475"
      ]
     },
     "execution_count": 77,
     "metadata": {},
     "output_type": "execute_result"
    }
   ],
   "source": [
    "len(TBackupdescription)\n"
   ]
  },
  {
   "cell_type": "code",
   "execution_count": null,
   "metadata": {
    "collapsed": true
   },
   "outputs": [],
   "source": [
    "\n",
    "\n",
    "    \n"
   ]
  },
  {
   "cell_type": "code",
   "execution_count": 83,
   "metadata": {
    "collapsed": false
   },
   "outputs": [
    {
     "name": "stdout",
     "output_type": "stream",
     "text": [
      "(4195, 7)\n",
      "(3664, 7)\n"
     ]
    },
    {
     "name": "stderr",
     "output_type": "stream",
     "text": [
      "/anaconda/lib/python2.7/site-packages/ipykernel/__main__.py:11: FutureWarning: the take_last=True keyword is deprecated, use keep='last' instead\n"
     ]
    }
   ],
   "source": [
    "dictPostingsTEMP={'Search Criteria':searchCriteria,\n",
    "              'Job Title':jobTitle,\n",
    "              'Company Name':companyName,\n",
    "              'City Location':cityLocation,\n",
    "              'Description':description,\n",
    "              'Source':source,\n",
    "              'Degree': SCCdegree}\n",
    "\n",
    "searchListingsTEMP = pd.DataFrame(dictPostingsTEMP)\n",
    "print searchListingsTEMP.shape\n",
    "searchListingsTEMP=searchListingsTEMP.drop_duplicates(take_last=True)\n",
    "print searchListingsTEMP.shape"
   ]
  },
  {
   "cell_type": "code",
   "execution_count": 84,
   "metadata": {
    "collapsed": true
   },
   "outputs": [],
   "source": [
    "searchListingsTEMP.to_csv(\"Listings5.csv\", encoding ='utf-8')"
   ]
  },
  {
   "cell_type": "raw",
   "metadata": {},
   "source": []
  },
  {
   "cell_type": "code",
   "execution_count": 85,
   "metadata": {
    "collapsed": false
   },
   "outputs": [
    {
     "data": {
      "text/html": [
       "<div>\n",
       "<table border=\"1\" class=\"dataframe\">\n",
       "  <thead>\n",
       "    <tr style=\"text-align: right;\">\n",
       "      <th></th>\n",
       "      <th>City Location</th>\n",
       "      <th>Company Name</th>\n",
       "      <th>Degree</th>\n",
       "      <th>Description</th>\n",
       "      <th>Job Title</th>\n",
       "      <th>Search Criteria</th>\n",
       "      <th>Source</th>\n",
       "    </tr>\n",
       "  </thead>\n",
       "  <tbody>\n",
       "    <tr>\n",
       "      <th>4185</th>\n",
       "      <td>Cincinnati, OH</td>\n",
       "      <td>Stewart Title Guaranty Company</td>\n",
       "      <td>network+manager</td>\n",
       "      <td>\\nReport business development and sales activity as required by sales manager. Update job knowledge by participating in educational opportunities, reading...</td>\n",
       "      <td>Business Development Officer I</td>\n",
       "      <td>network+manager</td>\n",
       "      <td>Indeed</td>\n",
       "    </tr>\n",
       "    <tr>\n",
       "      <th>4186</th>\n",
       "      <td>Kettering, OH</td>\n",
       "      <td>Kettering Health Network</td>\n",
       "      <td>network+manager</td>\n",
       "      <td>\\nUnder the direction of the Dietary Manager, is responsible for the set-up, the meal service and the after-service clean-up for all meal services....</td>\n",
       "      <td>COOK</td>\n",
       "      <td>network+manager</td>\n",
       "      <td>Indeed</td>\n",
       "    </tr>\n",
       "    <tr>\n",
       "      <th>4187</th>\n",
       "      <td>Indianapolis, IN 46219</td>\n",
       "      <td>Community Health Network</td>\n",
       "      <td>network+manager</td>\n",
       "      <td>\\nUnderstanding of network human resource policies; Call rotated with peer managers when not on duty; Under the direction of the Network Director, Sleep/Wake...</td>\n",
       "      <td>Sleep Lab Manager</td>\n",
       "      <td>network+manager</td>\n",
       "      <td>Indeed</td>\n",
       "    </tr>\n",
       "    <tr>\n",
       "      <th>4188</th>\n",
       "      <td>Bellefontaine, OH 43311</td>\n",
       "      <td>Scioto Services</td>\n",
       "      <td>network+manager</td>\n",
       "      <td>\\nManager in Training. Accessibility to knowledgeable, experienced network of leaders. As a Manager in Training, you will learn the Account Manager position in...</td>\n",
       "      <td>80- Manager in Training</td>\n",
       "      <td>network+manager</td>\n",
       "      <td>Indeed</td>\n",
       "    </tr>\n",
       "    <tr>\n",
       "      <th>4189</th>\n",
       "      <td>Cincinnati, OH 45246</td>\n",
       "      <td>AcceptanceNOW</td>\n",
       "      <td>network+manager</td>\n",
       "      <td>\\nNetwork with partnership store coworkers to gain referrals. Now hiring sales assistant managers AcceptanceNow provides opportunity for millions....</td>\n",
       "      <td>Assistant Sales Manager</td>\n",
       "      <td>network+manager</td>\n",
       "      <td>Indeed</td>\n",
       "    </tr>\n",
       "    <tr>\n",
       "      <th>4190</th>\n",
       "      <td>Lima, OH</td>\n",
       "      <td>Mercy Health</td>\n",
       "      <td>network+manager</td>\n",
       "      <td>\\nOversee the management of the Random Drug Screen Consortium, as administered by Total Compliance Network (TCN)....</td>\n",
       "      <td>Coord Occupational Health Sales</td>\n",
       "      <td>network+manager</td>\n",
       "      <td>Indeed</td>\n",
       "    </tr>\n",
       "    <tr>\n",
       "      <th>4191</th>\n",
       "      <td>Cincinnati, OH</td>\n",
       "      <td>Fifth Third Bank</td>\n",
       "      <td>network+manager</td>\n",
       "      <td>\\nNetwork externally with industry and international experts to facilitate effective strategic intelligence. Assist the business manager and legal in negotiating...</td>\n",
       "      <td>Category Manager, Sourcing.</td>\n",
       "      <td>network+manager</td>\n",
       "      <td>Indeed</td>\n",
       "    </tr>\n",
       "    <tr>\n",
       "      <th>4192</th>\n",
       "      <td>Milroy, IN</td>\n",
       "      <td>Acosta Sales &amp; Marketing</td>\n",
       "      <td>network+manager</td>\n",
       "      <td>\\nReports accurate information into Acosta’s proprietary network and transmitted on a daily basis. Reports observations to Unit manager regarding outdated product...</td>\n",
       "      <td>Retail Sales Representative (Convenience Stores-MR)</td>\n",
       "      <td>network+manager</td>\n",
       "      <td>Indeed</td>\n",
       "    </tr>\n",
       "    <tr>\n",
       "      <th>4193</th>\n",
       "      <td>Columbus, OH</td>\n",
       "      <td>Williams-Sonoma-Supply Chain</td>\n",
       "      <td>network+manager</td>\n",
       "      <td>\\nWork with ops manager to achieve all departmental goals and service metrics. The Supply Chain environment is dynamic and fast-paced, and the network is...</td>\n",
       "      <td>Furniture Hub Lead</td>\n",
       "      <td>network+manager</td>\n",
       "      <td>Indeed</td>\n",
       "    </tr>\n",
       "    <tr>\n",
       "      <th>4194</th>\n",
       "      <td>West Chester, OH</td>\n",
       "      <td>Logicalis Group</td>\n",
       "      <td>network+manager</td>\n",
       "      <td>\\nNetwork and server monitoring tools (Nimsoft, Solar Winds). Understands network and server monitoring tools and technologies....</td>\n",
       "      <td>Manager, Managed Services Operations</td>\n",
       "      <td>network+manager</td>\n",
       "      <td>Indeed</td>\n",
       "    </tr>\n",
       "  </tbody>\n",
       "</table>\n",
       "</div>"
      ],
      "text/plain": [
       "                City Location                    Company Name  \\\n",
       "4185           Cincinnati, OH  Stewart Title Guaranty Company   \n",
       "4186            Kettering, OH        Kettering Health Network   \n",
       "4187   Indianapolis, IN 46219        Community Health Network   \n",
       "4188  Bellefontaine, OH 43311                 Scioto Services   \n",
       "4189     Cincinnati, OH 45246                   AcceptanceNOW   \n",
       "4190                 Lima, OH                    Mercy Health   \n",
       "4191           Cincinnati, OH                Fifth Third Bank   \n",
       "4192               Milroy, IN        Acosta Sales & Marketing   \n",
       "4193             Columbus, OH    Williams-Sonoma-Supply Chain   \n",
       "4194         West Chester, OH                 Logicalis Group   \n",
       "\n",
       "               Degree  \\\n",
       "4185  network+manager   \n",
       "4186  network+manager   \n",
       "4187  network+manager   \n",
       "4188  network+manager   \n",
       "4189  network+manager   \n",
       "4190  network+manager   \n",
       "4191  network+manager   \n",
       "4192  network+manager   \n",
       "4193  network+manager   \n",
       "4194  network+manager   \n",
       "\n",
       "                                                                                                                                                                Description  \\\n",
       "4185          \\nReport business development and sales activity as required by sales manager. Update job knowledge by participating in educational opportunities, reading...   \n",
       "4186                 \\nUnder the direction of the Dietary Manager, is responsible for the set-up, the meal service and the after-service clean-up for all meal services....   \n",
       "4187       \\nUnderstanding of network human resource policies; Call rotated with peer managers when not on duty; Under the direction of the Network Director, Sleep/Wake...   \n",
       "4188     \\nManager in Training. Accessibility to knowledgeable, experienced network of leaders. As a Manager in Training, you will learn the Account Manager position in...   \n",
       "4189                  \\nNetwork with partnership store coworkers to gain referrals. Now hiring sales assistant managers AcceptanceNow provides opportunity for millions....   \n",
       "4190                                                   \\nOversee the management of the Random Drug Screen Consortium, as administered by Total Compliance Network (TCN)....   \n",
       "4191   \\nNetwork externally with industry and international experts to facilitate effective strategic intelligence. Assist the business manager and legal in negotiating...   \n",
       "4192  \\nReports accurate information into Acosta’s proprietary network and transmitted on a daily basis. Reports observations to Unit manager regarding outdated product...   \n",
       "4193           \\nWork with ops manager to achieve all departmental goals and service metrics. The Supply Chain environment is dynamic and fast-paced, and the network is...   \n",
       "4194                                     \\nNetwork and server monitoring tools (Nimsoft, Solar Winds). Understands network and server monitoring tools and technologies....   \n",
       "\n",
       "                                                Job Title  Search Criteria  \\\n",
       "4185                       Business Development Officer I  network+manager   \n",
       "4186                                                 COOK  network+manager   \n",
       "4187                                    Sleep Lab Manager  network+manager   \n",
       "4188                              80- Manager in Training  network+manager   \n",
       "4189                              Assistant Sales Manager  network+manager   \n",
       "4190                      Coord Occupational Health Sales  network+manager   \n",
       "4191                          Category Manager, Sourcing.  network+manager   \n",
       "4192  Retail Sales Representative (Convenience Stores-MR)  network+manager   \n",
       "4193                                   Furniture Hub Lead  network+manager   \n",
       "4194                 Manager, Managed Services Operations  network+manager   \n",
       "\n",
       "      Source  \n",
       "4185  Indeed  \n",
       "4186  Indeed  \n",
       "4187  Indeed  \n",
       "4188  Indeed  \n",
       "4189  Indeed  \n",
       "4190  Indeed  \n",
       "4191  Indeed  \n",
       "4192  Indeed  \n",
       "4193  Indeed  \n",
       "4194  Indeed  "
      ]
     },
     "execution_count": 85,
     "metadata": {},
     "output_type": "execute_result"
    }
   ],
   "source": [
    "searchListingsTEMP.tail(10)"
   ]
  },
  {
   "cell_type": "code",
   "execution_count": null,
   "metadata": {
    "collapsed": false
   },
   "outputs": [],
   "source": [
    "searchListingsTEMP['Search Criteria'].value_counts()"
   ]
  },
  {
   "cell_type": "code",
   "execution_count": null,
   "metadata": {
    "collapsed": true
   },
   "outputs": [],
   "source": []
  },
  {
   "cell_type": "code",
   "execution_count": null,
   "metadata": {
    "collapsed": true
   },
   "outputs": [],
   "source": []
  },
  {
   "cell_type": "code",
   "execution_count": null,
   "metadata": {
    "collapsed": true
   },
   "outputs": [],
   "source": [
    "dfDescription = pd.DataFrame(description)"
   ]
  },
  {
   "cell_type": "code",
   "execution_count": null,
   "metadata": {
    "collapsed": true
   },
   "outputs": [],
   "source": [
    "from sklearn.feature_extraction.text import CountVectorizer\n",
    "from nltk.stem import PorterStemmer\n",
    "from nltk.tokenize import word_tokenize"
   ]
  },
  {
   "cell_type": "code",
   "execution_count": null,
   "metadata": {
    "collapsed": true
   },
   "outputs": [],
   "source": [
    "v = CountVectorizer(\n",
    "    binary=True,  # Create binary features\n",
    "    stop_words='english', # Ignore common words such as 'the', 'and'\n",
    "    max_features=200, # Only use the top 50 most common words\n",
    ")\n"
   ]
  },
  {
   "cell_type": "code",
   "execution_count": null,
   "metadata": {
    "collapsed": true
   },
   "outputs": [],
   "source": [
    "wordsDescription = v.fit_transform(dfDescription[0]).todense()     #no difference between data.title and data['title]\n",
    "wordsDescription = pd.DataFrame(wordsDescription, columns=v.get_feature_names())"
   ]
  },
  {
   "cell_type": "code",
   "execution_count": null,
   "metadata": {
    "collapsed": false
   },
   "outputs": [],
   "source": [
    "print wordsDescription.sum().sort_values(ascending=False)"
   ]
  },
  {
   "cell_type": "code",
   "execution_count": null,
   "metadata": {
    "collapsed": true
   },
   "outputs": [],
   "source": []
  },
  {
   "cell_type": "code",
   "execution_count": null,
   "metadata": {
    "collapsed": true
   },
   "outputs": [],
   "source": [
    "urlCB='http://www.careerbuilder.com/jobs-data-engineer-in-chicago,il?keywords=Data+Engineer&location=Chicago%2C+IL'"
   ]
  },
  {
   "cell_type": "code",
   "execution_count": null,
   "metadata": {
    "collapsed": false
   },
   "outputs": [],
   "source": [
    "\n",
    "soupCB = BeautifulSoup(urllib2.urlopen(urlCB).read())\n",
    "    \n",
    "            \n",
    "gDataCB = soupCB.find_all(\"div\",{\"class\":\"row\"})"
   ]
  },
  {
   "cell_type": "code",
   "execution_count": null,
   "metadata": {
    "collapsed": false
   },
   "outputs": [],
   "source": [
    "gDataCB"
   ]
  },
  {
   "cell_type": "code",
   "execution_count": null,
   "metadata": {
    "collapsed": false
   },
   "outputs": [],
   "source": [
    "print soupCB.prettify()"
   ]
  },
  {
   "cell_type": "code",
   "execution_count": null,
   "metadata": {
    "collapsed": true
   },
   "outputs": [],
   "source": []
  }
 ],
 "metadata": {
  "anaconda-cloud": {},
  "kernelspec": {
   "display_name": "Python [Root]",
   "language": "python",
   "name": "Python [Root]"
  },
  "language_info": {
   "codemirror_mode": {
    "name": "ipython",
    "version": 2
   },
   "file_extension": ".py",
   "mimetype": "text/x-python",
   "name": "python",
   "nbconvert_exporter": "python",
   "pygments_lexer": "ipython2",
   "version": "2.7.12"
  }
 },
 "nbformat": 4,
 "nbformat_minor": 0
}
