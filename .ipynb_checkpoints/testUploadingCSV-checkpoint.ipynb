{
 "cells": [
  {
   "cell_type": "code",
   "execution_count": 88,
   "metadata": {
    "collapsed": false
   },
   "outputs": [],
   "source": [
    "import csv\n",
    "import pandas as pd\n",
    "import pandas as pd\n",
    "from sklearn.feature_extraction.text import CountVectorizer\n",
    "import nltk\n",
    "from nltk.stem.wordnet import WordNetLemmatizer\n",
    "from nltk.stem import PorterStemmer\n",
    "from nltk import word_tokenize\n",
    "import matplotlib.pyplot as plt\n",
    "%matplotlib inline\n",
    "import sys  \n",
    "from sklearn.cluster import KMeans\n",
    "\n",
    "from sklearn.grid_search import GridSearchCV\n",
    "from sklearn.linear_model import LogisticRegression\n",
    "from sklearn.metrics import confusion_matrix, classification_report\n",
    "from sklearn.cross_validation import train_test_split\n",
    "from sklearn.cross_validation import StratifiedShuffleSplit\n",
    "\n",
    "from sklearn.feature_selection import SelectKBest\n",
    "from sklearn import preprocessing"
   ]
  },
  {
   "cell_type": "code",
   "execution_count": 2,
   "metadata": {
    "collapsed": false
   },
   "outputs": [],
   "source": [
    "listingFile =pd.read_csv(\"Listings7.csv\",encoding='utf-8')"
   ]
  },
  {
   "cell_type": "code",
   "execution_count": 3,
   "metadata": {
    "collapsed": false
   },
   "outputs": [
    {
     "data": {
      "text/plain": [
       "(4390, 8)"
      ]
     },
     "execution_count": 3,
     "metadata": {},
     "output_type": "execute_result"
    }
   ],
   "source": [
    "listingFile.shape"
   ]
  },
  {
   "cell_type": "code",
   "execution_count": 4,
   "metadata": {
    "collapsed": false
   },
   "outputs": [
    {
     "data": {
      "text/html": [
       "<div>\n",
       "<table border=\"1\" class=\"dataframe\">\n",
       "  <thead>\n",
       "    <tr style=\"text-align: right;\">\n",
       "      <th></th>\n",
       "      <th>Unnamed: 0</th>\n",
       "      <th>City Location</th>\n",
       "      <th>Company Name</th>\n",
       "      <th>Degree</th>\n",
       "      <th>Description</th>\n",
       "      <th>Job Title</th>\n",
       "      <th>Search Criteria</th>\n",
       "      <th>Source</th>\n",
       "    </tr>\n",
       "  </thead>\n",
       "  <tbody>\n",
       "    <tr>\n",
       "      <th>0</th>\n",
       "      <td>0</td>\n",
       "      <td>Cincinnati, OH</td>\n",
       "      <td>Pro4ia, Inc.</td>\n",
       "      <td>user+support</td>\n",
       "      <td>Day-to-day desktop support. Input all service ...</td>\n",
       "      <td>Level 1/2 Desktop Support</td>\n",
       "      <td>user+support</td>\n",
       "      <td>Indeed</td>\n",
       "    </tr>\n",
       "  </tbody>\n",
       "</table>\n",
       "</div>"
      ],
      "text/plain": [
       "   Unnamed: 0   City Location  Company Name        Degree  \\\n",
       "0           0  Cincinnati, OH  Pro4ia, Inc.  user+support   \n",
       "\n",
       "                                         Description  \\\n",
       "0  Day-to-day desktop support. Input all service ...   \n",
       "\n",
       "                   Job Title Search Criteria  Source  \n",
       "0  Level 1/2 Desktop Support    user+support  Indeed  "
      ]
     },
     "execution_count": 4,
     "metadata": {},
     "output_type": "execute_result"
    }
   ],
   "source": [
    "listingFile.head(1)"
   ]
  },
  {
   "cell_type": "code",
   "execution_count": 5,
   "metadata": {
    "collapsed": false
   },
   "outputs": [
    {
     "data": {
      "text/plain": [
       "software+development    928\n",
       "user+support            899\n",
       "network+manager         872\n",
       "web+development         864\n",
       "network+engineer        552\n",
       "cyber+security          275\n",
       "Name: Degree, dtype: int64"
      ]
     },
     "execution_count": 5,
     "metadata": {},
     "output_type": "execute_result"
    }
   ],
   "source": [
    "listingFile['Degree'].value_counts()"
   ]
  },
  {
   "cell_type": "markdown",
   "metadata": {},
   "source": [
    "# Data Cleaning"
   ]
  },
  {
   "cell_type": "code",
   "execution_count": 6,
   "metadata": {
    "collapsed": true
   },
   "outputs": [],
   "source": [
    "#now make everything lower case\n",
    "listingFile['Description']=listingFile['Description'].apply(lambda x: x.lower())"
   ]
  },
  {
   "cell_type": "code",
   "execution_count": 7,
   "metadata": {
    "collapsed": false
   },
   "outputs": [],
   "source": [
    "#removing numbers\n",
    "\n",
    "listingFile['NoNumbers']= listingFile['Description'].apply(lambda x: ''.join([i for i in x if not i.isdigit()]))"
   ]
  },
  {
   "cell_type": "code",
   "execution_count": null,
   "metadata": {
    "collapsed": false
   },
   "outputs": [],
   "source": []
  },
  {
   "cell_type": "code",
   "execution_count": 8,
   "metadata": {
    "collapsed": false
   },
   "outputs": [
    {
     "data": {
      "text/plain": [
       "'!\"#$%&\\'()*+,-./:;<=>?@[\\\\]^_`{|}~'"
      ]
     },
     "execution_count": 8,
     "metadata": {},
     "output_type": "execute_result"
    }
   ],
   "source": [
    "import string\n",
    "string.punctuation"
   ]
  },
  {
   "cell_type": "code",
   "execution_count": 9,
   "metadata": {
    "collapsed": true
   },
   "outputs": [],
   "source": [
    "listingFile['NoNumbers']= listingFile['NoNumbers'].apply(lambda x: x.replace(',',''))\n",
    "listingFile['NoNumbers']= listingFile['NoNumbers'].apply(lambda x: x.replace('.',''))\n",
    "listingFile['NoNumbers']= listingFile['NoNumbers'].apply(lambda x: x.replace('\\(',''))\n",
    "listingFile['NoNumbers']= listingFile['NoNumbers'].apply(lambda x: x.replace('\\)',''))\n",
    "\n",
    "#str.rstrip?"
   ]
  },
  {
   "cell_type": "code",
   "execution_count": 10,
   "metadata": {
    "collapsed": true
   },
   "outputs": [],
   "source": [
    "listingFile['NoNumbers']= listingFile['NoNumbers'].apply(lambda x: x.lstrip().replace('\\n',''))"
   ]
  },
  {
   "cell_type": "code",
   "execution_count": 11,
   "metadata": {
    "collapsed": false
   },
   "outputs": [
    {
     "data": {
      "text/plain": [
       "0       day-to-day desktop support input all service r...\n",
       "1       is seeking a *yardi voyager support specialist...\n",
       "2       knowledge/experience supporting mobile users s...\n",
       "3       produce detailed specifications for software r...\n",
       "4       software development and hardware integration ...\n",
       "5       advanced html/css development (responsive desi...\n",
       "6       we are looking for a front-end web designer/de...\n",
       "7       blue laser design is actively looking to add a...\n",
       "8       development of enterprise web  applications • ...\n",
       "9       advanced or formal training in network technol...\n",
       "10      network services manager support and develop c...\n",
       "11      as head of ops tech network engineering you wi...\n",
       "12      field network engineer* integrate with other s...\n",
       "13      due to our rapid growth lang company is lookin...\n",
       "14      assists in the development implementation and ...\n",
       "15      apply knowledge of latest cyber security indus...\n",
       "16      ability to obtain and maintain a secret securi...\n",
       "17      the network information security analyst will ...\n",
       "18      provides internal consulting technical guidanc...\n",
       "19      windows systems that support the administrativ...\n",
       "20      to develop intuitive user interfaces support a...\n",
       "21      in addition to providing direct end-user suppo...\n",
       "22      communicating with users to understand issues ...\n",
       "23      the it help desk technician will be responsibl...\n",
       "24      manages customer support analyst workload by r...\n",
       "25      supervisor system support ensure outstanding e...\n",
       "26      this position will work with other members of ...\n",
       "27      active participation in user acceptance testin...\n",
       "28      proactively provides support to children servi...\n",
       "29      the it support assistant will provide support ...\n",
       "                              ...                        \n",
       "4360    the web developer will work closely with the s...\n",
       "4361    marketing campaign development and management ...\n",
       "4362    business development manager job responsibilit...\n",
       "4363    experience design technology development visua...\n",
       "4364    state of the art development tools; experience...\n",
       "4365    ios and/or android development preferred prepa...\n",
       "4366    facilitate requirements analysis development a...\n",
       "4367    ability to manage all levels of projects from ...\n",
       "4368    insures retention of talent and proper trainin...\n",
       "4369    ms office suite internet resourcing web based ...\n",
       "4370    minimum of  years of experience in enterprise ...\n",
       "4371    as a member of a microsoft-centric team this p...\n",
       "4372    reports to manager network operations cisco ce...\n",
       "4373    logistics/supply network operations you can ma...\n",
       "4374    network protocols and security standards work ...\n",
       "4375    work closely with departmental managers to det...\n",
       "4376    prior experience in the role as an it manager ...\n",
       "4377    manager network and security engineering the m...\n",
       "4378    + years as a manager and leader actively manag...\n",
       "4379    general summary works under the supervision of...\n",
       "4380    business banking relationship manager  hunting...\n",
       "4381    software/hardware skills and network familiari...\n",
       "4382    supports provider data requests for the clinic...\n",
       "4383    use project deliverables to develop the work b...\n",
       "4384    risk assurance manager risk assurance manager ...\n",
       "4385    corporate audit manager - job description: str...\n",
       "4386    reports directly to the administrative directo...\n",
       "4387    compliance group manager - deposit products & ...\n",
       "4388    collaborate with hospital account manager to d...\n",
       "4389    certified case manager (ccm) rns provide consu...\n",
       "Name: NoNumbers, dtype: object"
      ]
     },
     "execution_count": 11,
     "metadata": {},
     "output_type": "execute_result"
    }
   ],
   "source": [
    "listingFile['NoNumbers']"
   ]
  },
  {
   "cell_type": "code",
   "execution_count": 12,
   "metadata": {
    "collapsed": false
   },
   "outputs": [
    {
     "data": {
      "text/html": [
       "<div>\n",
       "<table border=\"1\" class=\"dataframe\">\n",
       "  <thead>\n",
       "    <tr style=\"text-align: right;\">\n",
       "      <th></th>\n",
       "      <th>Degree</th>\n",
       "      <th>Unnamed: 0</th>\n",
       "    </tr>\n",
       "  </thead>\n",
       "  <tbody>\n",
       "    <tr>\n",
       "      <th>0</th>\n",
       "      <td>cyber+security</td>\n",
       "      <td>275</td>\n",
       "    </tr>\n",
       "    <tr>\n",
       "      <th>1</th>\n",
       "      <td>network+engineer</td>\n",
       "      <td>552</td>\n",
       "    </tr>\n",
       "    <tr>\n",
       "      <th>2</th>\n",
       "      <td>network+manager</td>\n",
       "      <td>872</td>\n",
       "    </tr>\n",
       "    <tr>\n",
       "      <th>3</th>\n",
       "      <td>software+development</td>\n",
       "      <td>928</td>\n",
       "    </tr>\n",
       "    <tr>\n",
       "      <th>4</th>\n",
       "      <td>user+support</td>\n",
       "      <td>899</td>\n",
       "    </tr>\n",
       "    <tr>\n",
       "      <th>5</th>\n",
       "      <td>web+development</td>\n",
       "      <td>864</td>\n",
       "    </tr>\n",
       "  </tbody>\n",
       "</table>\n",
       "</div>"
      ],
      "text/plain": [
       "                 Degree  Unnamed: 0\n",
       "0        cyber+security         275\n",
       "1      network+engineer         552\n",
       "2       network+manager         872\n",
       "3  software+development         928\n",
       "4          user+support         899\n",
       "5       web+development         864"
      ]
     },
     "execution_count": 12,
     "metadata": {},
     "output_type": "execute_result"
    }
   ],
   "source": [
    "tempFile =listingFile.groupby('Degree').count()\n",
    "tempFile=pd.DataFrame(tempFile['Unnamed: 0'])\n",
    "tempFile.reset_index(inplace=True)\n",
    "tempFile"
   ]
  },
  {
   "cell_type": "code",
   "execution_count": 13,
   "metadata": {
    "collapsed": false
   },
   "outputs": [
    {
     "data": {
      "text/html": [
       "<div>\n",
       "<table border=\"1\" class=\"dataframe\">\n",
       "  <thead>\n",
       "    <tr style=\"text-align: right;\">\n",
       "      <th></th>\n",
       "      <th>Degree</th>\n",
       "      <th>Number of Grads</th>\n",
       "    </tr>\n",
       "  </thead>\n",
       "  <tbody>\n",
       "    <tr>\n",
       "      <th>0</th>\n",
       "      <td>user+support</td>\n",
       "      <td>30</td>\n",
       "    </tr>\n",
       "    <tr>\n",
       "      <th>1</th>\n",
       "      <td>software+development</td>\n",
       "      <td>71</td>\n",
       "    </tr>\n",
       "    <tr>\n",
       "      <th>2</th>\n",
       "      <td>web+development</td>\n",
       "      <td>31</td>\n",
       "    </tr>\n",
       "    <tr>\n",
       "      <th>3</th>\n",
       "      <td>network+manager</td>\n",
       "      <td>77</td>\n",
       "    </tr>\n",
       "    <tr>\n",
       "      <th>4</th>\n",
       "      <td>network+engineer</td>\n",
       "      <td>79</td>\n",
       "    </tr>\n",
       "    <tr>\n",
       "      <th>5</th>\n",
       "      <td>cyber+security</td>\n",
       "      <td>8</td>\n",
       "    </tr>\n",
       "  </tbody>\n",
       "</table>\n",
       "</div>"
      ],
      "text/plain": [
       "                 Degree  Number of Grads\n",
       "0          user+support               30\n",
       "1  software+development               71\n",
       "2       web+development               31\n",
       "3       network+manager               77\n",
       "4      network+engineer               79\n",
       "5        cyber+security                8"
      ]
     },
     "execution_count": 13,
     "metadata": {},
     "output_type": "execute_result"
    }
   ],
   "source": [
    "#creating a table of actual degrees and certificates Sinclair awarded per degree\n",
    "#this is public information\n",
    "sinclairDegreesVSJobs=pd.DataFrame({'DegreeArea': ['user+support', 'software+development', \n",
    "                         'web+development', 'network+manager', 'network+engineer', \n",
    "                         'cyber+security'],'Number of': [30,71,31,77,79,8]})\n",
    "sinclairDegreesVSJobs.columns=[['Degree', 'Number of Grads']]\n",
    "sinclairDegreesVSJobs"
   ]
  },
  {
   "cell_type": "code",
   "execution_count": 14,
   "metadata": {
    "collapsed": true
   },
   "outputs": [],
   "source": [
    "#merging the two tables"
   ]
  },
  {
   "cell_type": "code",
   "execution_count": 15,
   "metadata": {
    "collapsed": false
   },
   "outputs": [
    {
     "name": "stdout",
     "output_type": "stream",
     "text": [
      "(6, 2)\n",
      "(6, 2)\n"
     ]
    }
   ],
   "source": [
    "print sinclairDegreesVSJobs.shape\n",
    "print tempFile.shape"
   ]
  },
  {
   "cell_type": "code",
   "execution_count": 16,
   "metadata": {
    "collapsed": false,
    "scrolled": true
   },
   "outputs": [
    {
     "data": {
      "text/html": [
       "<div>\n",
       "<table border=\"1\" class=\"dataframe\">\n",
       "  <thead>\n",
       "    <tr style=\"text-align: right;\">\n",
       "      <th></th>\n",
       "      <th>Degree</th>\n",
       "      <th>Number of Grads</th>\n",
       "      <th>Number Listings</th>\n",
       "      <th>pctGradsToListing</th>\n",
       "    </tr>\n",
       "  </thead>\n",
       "  <tbody>\n",
       "    <tr>\n",
       "      <th>0</th>\n",
       "      <td>user+support</td>\n",
       "      <td>30</td>\n",
       "      <td>899</td>\n",
       "      <td>0.033370</td>\n",
       "    </tr>\n",
       "    <tr>\n",
       "      <th>1</th>\n",
       "      <td>software+development</td>\n",
       "      <td>71</td>\n",
       "      <td>928</td>\n",
       "      <td>0.076509</td>\n",
       "    </tr>\n",
       "    <tr>\n",
       "      <th>2</th>\n",
       "      <td>web+development</td>\n",
       "      <td>31</td>\n",
       "      <td>864</td>\n",
       "      <td>0.035880</td>\n",
       "    </tr>\n",
       "    <tr>\n",
       "      <th>3</th>\n",
       "      <td>network+manager</td>\n",
       "      <td>77</td>\n",
       "      <td>872</td>\n",
       "      <td>0.088303</td>\n",
       "    </tr>\n",
       "    <tr>\n",
       "      <th>4</th>\n",
       "      <td>network+engineer</td>\n",
       "      <td>79</td>\n",
       "      <td>552</td>\n",
       "      <td>0.143116</td>\n",
       "    </tr>\n",
       "    <tr>\n",
       "      <th>5</th>\n",
       "      <td>cyber+security</td>\n",
       "      <td>8</td>\n",
       "      <td>275</td>\n",
       "      <td>0.029091</td>\n",
       "    </tr>\n",
       "  </tbody>\n",
       "</table>\n",
       "</div>"
      ],
      "text/plain": [
       "                 Degree  Number of Grads  Number Listings  pctGradsToListing\n",
       "0          user+support               30              899           0.033370\n",
       "1  software+development               71              928           0.076509\n",
       "2       web+development               31              864           0.035880\n",
       "3       network+manager               77              872           0.088303\n",
       "4      network+engineer               79              552           0.143116\n",
       "5        cyber+security                8              275           0.029091"
      ]
     },
     "execution_count": 16,
     "metadata": {},
     "output_type": "execute_result"
    }
   ],
   "source": [
    "#creating a table with \n",
    "SinclairDF= pd.merge(sinclairDegreesVSJobs, tempFile, on='Degree')\n",
    "SinclairDF.columns=[['Degree', 'Number of Grads', 'Number Listings']]\n",
    "SinclairDF['pctGradsToListing']=SinclairDF['Number of Grads']/SinclairDF['Number Listings']\n",
    "SinclairDF"
   ]
  },
  {
   "cell_type": "code",
   "execution_count": 17,
   "metadata": {
    "collapsed": false
   },
   "outputs": [
    {
     "data": {
      "text/plain": [
       "count     6.000000\n",
       "mean     49.333333\n",
       "std      30.110906\n",
       "min       8.000000\n",
       "25%      30.250000\n",
       "50%      51.000000\n",
       "75%      75.500000\n",
       "max      79.000000\n",
       "Name: Number of Grads, dtype: float64"
      ]
     },
     "execution_count": 17,
     "metadata": {},
     "output_type": "execute_result"
    }
   ],
   "source": [
    "SinclairDF['Number of Grads'].describe()"
   ]
  },
  {
   "cell_type": "code",
   "execution_count": 18,
   "metadata": {
    "collapsed": false
   },
   "outputs": [
    {
     "data": {
      "text/plain": [
       "<Container object of 6 artists>"
      ]
     },
     "execution_count": 18,
     "metadata": {},
     "output_type": "execute_result"
    },
    {
     "data": {
      "image/png": "[encoded data removed]",
      "text/plain": [
       "<matplotlib.figure.Figure at 0x103ed9050>"
      ]
     },
     "metadata": {},
     "output_type": "display_data"
    }
   ],
   "source": [
    "#bar chart\n",
    "y=SinclairDF['Number of Grads']\n",
    "x=SinclairDF['Degree']\n",
    "plt.bar(range(0, len(x)) ,y)"
   ]
  },
  {
   "cell_type": "code",
   "execution_count": null,
   "metadata": {
    "collapsed": true
   },
   "outputs": [],
   "source": []
  },
  {
   "cell_type": "code",
   "execution_count": null,
   "metadata": {
    "collapsed": true
   },
   "outputs": [],
   "source": []
  },
  {
   "cell_type": "code",
   "execution_count": null,
   "metadata": {
    "collapsed": true
   },
   "outputs": [],
   "source": []
  },
  {
   "cell_type": "code",
   "execution_count": 19,
   "metadata": {
    "collapsed": false
   },
   "outputs": [
    {
     "data": {
      "image/png": "[encoded data removed]",
      "text/plain": [
       "<matplotlib.figure.Figure at 0x1194a88d0>"
      ]
     },
     "metadata": {},
     "output_type": "display_data"
    }
   ],
   "source": [
    "#graph to show numbers of derees and certificates\n",
    "#since Richard loves pie charts\n",
    "y=sinclairDegreesVSJobs['Number of Grads']\n",
    "x=sinclairDegreesVSJobs['Degree']\n",
    "plt.pie(y, labels=x,startangle=90);\n"
   ]
  },
  {
   "cell_type": "code",
   "execution_count": 20,
   "metadata": {
    "collapsed": false
   },
   "outputs": [
    {
     "data": {
      "text/plain": [
       "software+development    928\n",
       "user+support            899\n",
       "network+manager         872\n",
       "web+development         864\n",
       "network+engineer        552\n",
       "cyber+security          275\n",
       "Name: Degree, dtype: int64"
      ]
     },
     "execution_count": 20,
     "metadata": {},
     "output_type": "execute_result"
    }
   ],
   "source": [
    "\n",
    "listingFile['Degree'].value_counts()"
   ]
  },
  {
   "cell_type": "code",
   "execution_count": 21,
   "metadata": {
    "collapsed": false
   },
   "outputs": [
    {
     "data": {
      "text/plain": [
       "Index([     u'Unnamed: 0',   u'City Location',    u'Company Name',\n",
       "                u'Degree',     u'Description',       u'Job Title',\n",
       "       u'Search Criteria',          u'Source',       u'NoNumbers'],\n",
       "      dtype='object')"
      ]
     },
     "execution_count": 21,
     "metadata": {},
     "output_type": "execute_result"
    }
   ],
   "source": [
    "listingFile.columns\n"
   ]
  },
  {
   "cell_type": "code",
   "execution_count": 22,
   "metadata": {
    "collapsed": false
   },
   "outputs": [
    {
     "data": {
      "text/html": [
       "<div>\n",
       "<table border=\"1\" class=\"dataframe\">\n",
       "  <thead>\n",
       "    <tr style=\"text-align: right;\">\n",
       "      <th></th>\n",
       "      <th>Unnamed: 0</th>\n",
       "      <th>City Location</th>\n",
       "      <th>Company Name</th>\n",
       "      <th>Degree</th>\n",
       "      <th>Description</th>\n",
       "      <th>Job Title</th>\n",
       "      <th>Search Criteria</th>\n",
       "      <th>Source</th>\n",
       "      <th>NoNumbers</th>\n",
       "    </tr>\n",
       "  </thead>\n",
       "  <tbody>\n",
       "    <tr>\n",
       "      <th>4385</th>\n",
       "      <td>5990</td>\n",
       "      <td>Covington, KY</td>\n",
       "      <td>Pro Mach, Inc.</td>\n",
       "      <td>network+manager</td>\n",
       "      <td>\\ncorporate audit manager - job description:. ...</td>\n",
       "      <td>Corporate Audit Manager</td>\n",
       "      <td>network+manager</td>\n",
       "      <td>Indeed</td>\n",
       "      <td>corporate audit manager - job description: str...</td>\n",
       "    </tr>\n",
       "    <tr>\n",
       "      <th>4386</th>\n",
       "      <td>5991</td>\n",
       "      <td>Dayton, OH</td>\n",
       "      <td>Kettering Health Network</td>\n",
       "      <td>network+manager</td>\n",
       "      <td>\\nreports directly to the administrative direc...</td>\n",
       "      <td>PHYSICAL THERAPIST</td>\n",
       "      <td>network+manager</td>\n",
       "      <td>Indeed</td>\n",
       "      <td>reports directly to the administrative directo...</td>\n",
       "    </tr>\n",
       "    <tr>\n",
       "      <th>4387</th>\n",
       "      <td>5992</td>\n",
       "      <td>Columbus, OH</td>\n",
       "      <td>Huntington</td>\n",
       "      <td>network+manager</td>\n",
       "      <td>\\ncompliance group manager - deposit products ...</td>\n",
       "      <td>Compliance Group Manager - Deposit Products &amp; ...</td>\n",
       "      <td>network+manager</td>\n",
       "      <td>Indeed</td>\n",
       "      <td>compliance group manager - deposit products &amp; ...</td>\n",
       "    </tr>\n",
       "    <tr>\n",
       "      <th>4388</th>\n",
       "      <td>5993</td>\n",
       "      <td>Springfield, OH</td>\n",
       "      <td>AMERICAN CANCER SOCIETY</td>\n",
       "      <td>network+manager</td>\n",
       "      <td>\\ncollaborate with hospital account manager to...</td>\n",
       "      <td>Patient Navigator</td>\n",
       "      <td>network+manager</td>\n",
       "      <td>Indeed</td>\n",
       "      <td>collaborate with hospital account manager to d...</td>\n",
       "    </tr>\n",
       "    <tr>\n",
       "      <th>4389</th>\n",
       "      <td>5994</td>\n",
       "      <td>Columbus, OH</td>\n",
       "      <td>Molina Healthcare</td>\n",
       "      <td>network+manager</td>\n",
       "      <td>\\ncertified case manager (ccm). rns provide co...</td>\n",
       "      <td>Case Manager (RN)</td>\n",
       "      <td>network+manager</td>\n",
       "      <td>Indeed</td>\n",
       "      <td>certified case manager (ccm) rns provide consu...</td>\n",
       "    </tr>\n",
       "  </tbody>\n",
       "</table>\n",
       "</div>"
      ],
      "text/plain": [
       "      Unnamed: 0    City Location              Company Name           Degree  \\\n",
       "4385        5990    Covington, KY            Pro Mach, Inc.  network+manager   \n",
       "4386        5991       Dayton, OH  Kettering Health Network  network+manager   \n",
       "4387        5992     Columbus, OH                Huntington  network+manager   \n",
       "4388        5993  Springfield, OH   AMERICAN CANCER SOCIETY  network+manager   \n",
       "4389        5994     Columbus, OH         Molina Healthcare  network+manager   \n",
       "\n",
       "                                            Description  \\\n",
       "4385  \\ncorporate audit manager - job description:. ...   \n",
       "4386  \\nreports directly to the administrative direc...   \n",
       "4387  \\ncompliance group manager - deposit products ...   \n",
       "4388  \\ncollaborate with hospital account manager to...   \n",
       "4389  \\ncertified case manager (ccm). rns provide co...   \n",
       "\n",
       "                                              Job Title  Search Criteria  \\\n",
       "4385                            Corporate Audit Manager  network+manager   \n",
       "4386                                 PHYSICAL THERAPIST  network+manager   \n",
       "4387  Compliance Group Manager - Deposit Products & ...  network+manager   \n",
       "4388                                  Patient Navigator  network+manager   \n",
       "4389                                  Case Manager (RN)  network+manager   \n",
       "\n",
       "      Source                                          NoNumbers  \n",
       "4385  Indeed  corporate audit manager - job description: str...  \n",
       "4386  Indeed  reports directly to the administrative directo...  \n",
       "4387  Indeed  compliance group manager - deposit products & ...  \n",
       "4388  Indeed  collaborate with hospital account manager to d...  \n",
       "4389  Indeed  certified case manager (ccm) rns provide consu...  "
      ]
     },
     "execution_count": 22,
     "metadata": {},
     "output_type": "execute_result"
    }
   ],
   "source": [
    "listingFile.tail()"
   ]
  },
  {
   "cell_type": "code",
   "execution_count": 23,
   "metadata": {
    "collapsed": false
   },
   "outputs": [
    {
     "name": "stdout",
     "output_type": "stream",
     "text": [
      "(4390, 9)\n",
      "(4390, 9)\n"
     ]
    },
    {
     "name": "stderr",
     "output_type": "stream",
     "text": [
      "/anaconda/lib/python2.7/site-packages/ipykernel/__main__.py:2: FutureWarning: the take_last=True keyword is deprecated, use keep='last' instead\n",
      "  from ipykernel import kernelapp as app\n"
     ]
    }
   ],
   "source": [
    "print listingFile.shape\n",
    "listingFile=listingFile.drop_duplicates(take_last=True)\n",
    "print listingFile.shape"
   ]
  },
  {
   "cell_type": "code",
   "execution_count": 24,
   "metadata": {
    "collapsed": false
   },
   "outputs": [
    {
     "data": {
      "text/html": [
       "<div>\n",
       "<table border=\"1\" class=\"dataframe\">\n",
       "  <thead>\n",
       "    <tr style=\"text-align: right;\">\n",
       "      <th></th>\n",
       "      <th>Unnamed: 0</th>\n",
       "    </tr>\n",
       "  </thead>\n",
       "  <tbody>\n",
       "    <tr>\n",
       "      <th>count</th>\n",
       "      <td>4390.000000</td>\n",
       "    </tr>\n",
       "    <tr>\n",
       "      <th>mean</th>\n",
       "      <td>2443.337585</td>\n",
       "    </tr>\n",
       "    <tr>\n",
       "      <th>std</th>\n",
       "      <td>1457.314860</td>\n",
       "    </tr>\n",
       "    <tr>\n",
       "      <th>min</th>\n",
       "      <td>0.000000</td>\n",
       "    </tr>\n",
       "    <tr>\n",
       "      <th>25%</th>\n",
       "      <td>1223.250000</td>\n",
       "    </tr>\n",
       "    <tr>\n",
       "      <th>50%</th>\n",
       "      <td>2330.500000</td>\n",
       "    </tr>\n",
       "    <tr>\n",
       "      <th>75%</th>\n",
       "      <td>3840.750000</td>\n",
       "    </tr>\n",
       "    <tr>\n",
       "      <th>max</th>\n",
       "      <td>5994.000000</td>\n",
       "    </tr>\n",
       "  </tbody>\n",
       "</table>\n",
       "</div>"
      ],
      "text/plain": [
       "        Unnamed: 0\n",
       "count  4390.000000\n",
       "mean   2443.337585\n",
       "std    1457.314860\n",
       "min       0.000000\n",
       "25%    1223.250000\n",
       "50%    2330.500000\n",
       "75%    3840.750000\n",
       "max    5994.000000"
      ]
     },
     "execution_count": 24,
     "metadata": {},
     "output_type": "execute_result"
    }
   ],
   "source": [
    "listingFile.describe()"
   ]
  },
  {
   "cell_type": "code",
   "execution_count": 25,
   "metadata": {
    "collapsed": true
   },
   "outputs": [],
   "source": [
    "#clean out new line code in description  dont need this \n",
    "#listingFile['Description']=listingFile['Description'].apply(lambda x: x.lstrip('\\n'))"
   ]
  },
  {
   "cell_type": "code",
   "execution_count": 26,
   "metadata": {
    "collapsed": false
   },
   "outputs": [
    {
     "data": {
      "text/html": [
       "<div>\n",
       "<table border=\"1\" class=\"dataframe\">\n",
       "  <thead>\n",
       "    <tr style=\"text-align: right;\">\n",
       "      <th></th>\n",
       "      <th>Unnamed: 0</th>\n",
       "      <th>City Location</th>\n",
       "      <th>Company Name</th>\n",
       "      <th>Degree</th>\n",
       "      <th>Description</th>\n",
       "      <th>Job Title</th>\n",
       "      <th>Search Criteria</th>\n",
       "      <th>Source</th>\n",
       "      <th>NoNumbers</th>\n",
       "    </tr>\n",
       "  </thead>\n",
       "  <tbody>\n",
       "    <tr>\n",
       "      <th>4385</th>\n",
       "      <td>5990</td>\n",
       "      <td>Covington, KY</td>\n",
       "      <td>Pro Mach, Inc.</td>\n",
       "      <td>network+manager</td>\n",
       "      <td>\\ncorporate audit manager - job description:. ...</td>\n",
       "      <td>Corporate Audit Manager</td>\n",
       "      <td>network+manager</td>\n",
       "      <td>Indeed</td>\n",
       "      <td>corporate audit manager - job description: str...</td>\n",
       "    </tr>\n",
       "    <tr>\n",
       "      <th>4386</th>\n",
       "      <td>5991</td>\n",
       "      <td>Dayton, OH</td>\n",
       "      <td>Kettering Health Network</td>\n",
       "      <td>network+manager</td>\n",
       "      <td>\\nreports directly to the administrative direc...</td>\n",
       "      <td>PHYSICAL THERAPIST</td>\n",
       "      <td>network+manager</td>\n",
       "      <td>Indeed</td>\n",
       "      <td>reports directly to the administrative directo...</td>\n",
       "    </tr>\n",
       "    <tr>\n",
       "      <th>4387</th>\n",
       "      <td>5992</td>\n",
       "      <td>Columbus, OH</td>\n",
       "      <td>Huntington</td>\n",
       "      <td>network+manager</td>\n",
       "      <td>\\ncompliance group manager - deposit products ...</td>\n",
       "      <td>Compliance Group Manager - Deposit Products &amp; ...</td>\n",
       "      <td>network+manager</td>\n",
       "      <td>Indeed</td>\n",
       "      <td>compliance group manager - deposit products &amp; ...</td>\n",
       "    </tr>\n",
       "    <tr>\n",
       "      <th>4388</th>\n",
       "      <td>5993</td>\n",
       "      <td>Springfield, OH</td>\n",
       "      <td>AMERICAN CANCER SOCIETY</td>\n",
       "      <td>network+manager</td>\n",
       "      <td>\\ncollaborate with hospital account manager to...</td>\n",
       "      <td>Patient Navigator</td>\n",
       "      <td>network+manager</td>\n",
       "      <td>Indeed</td>\n",
       "      <td>collaborate with hospital account manager to d...</td>\n",
       "    </tr>\n",
       "    <tr>\n",
       "      <th>4389</th>\n",
       "      <td>5994</td>\n",
       "      <td>Columbus, OH</td>\n",
       "      <td>Molina Healthcare</td>\n",
       "      <td>network+manager</td>\n",
       "      <td>\\ncertified case manager (ccm). rns provide co...</td>\n",
       "      <td>Case Manager (RN)</td>\n",
       "      <td>network+manager</td>\n",
       "      <td>Indeed</td>\n",
       "      <td>certified case manager (ccm) rns provide consu...</td>\n",
       "    </tr>\n",
       "  </tbody>\n",
       "</table>\n",
       "</div>"
      ],
      "text/plain": [
       "      Unnamed: 0    City Location              Company Name           Degree  \\\n",
       "4385        5990    Covington, KY            Pro Mach, Inc.  network+manager   \n",
       "4386        5991       Dayton, OH  Kettering Health Network  network+manager   \n",
       "4387        5992     Columbus, OH                Huntington  network+manager   \n",
       "4388        5993  Springfield, OH   AMERICAN CANCER SOCIETY  network+manager   \n",
       "4389        5994     Columbus, OH         Molina Healthcare  network+manager   \n",
       "\n",
       "                                            Description  \\\n",
       "4385  \\ncorporate audit manager - job description:. ...   \n",
       "4386  \\nreports directly to the administrative direc...   \n",
       "4387  \\ncompliance group manager - deposit products ...   \n",
       "4388  \\ncollaborate with hospital account manager to...   \n",
       "4389  \\ncertified case manager (ccm). rns provide co...   \n",
       "\n",
       "                                              Job Title  Search Criteria  \\\n",
       "4385                            Corporate Audit Manager  network+manager   \n",
       "4386                                 PHYSICAL THERAPIST  network+manager   \n",
       "4387  Compliance Group Manager - Deposit Products & ...  network+manager   \n",
       "4388                                  Patient Navigator  network+manager   \n",
       "4389                                  Case Manager (RN)  network+manager   \n",
       "\n",
       "      Source                                          NoNumbers  \n",
       "4385  Indeed  corporate audit manager - job description: str...  \n",
       "4386  Indeed  reports directly to the administrative directo...  \n",
       "4387  Indeed  compliance group manager - deposit products & ...  \n",
       "4388  Indeed  collaborate with hospital account manager to d...  \n",
       "4389  Indeed  certified case manager (ccm) rns provide consu...  "
      ]
     },
     "execution_count": 26,
     "metadata": {},
     "output_type": "execute_result"
    }
   ],
   "source": [
    "listingFile.tail()"
   ]
  },
  {
   "cell_type": "code",
   "execution_count": 27,
   "metadata": {
    "collapsed": false
   },
   "outputs": [],
   "source": [
    "#now make everything lower case\n",
    "#listingFile['Description']=listingFile['Description'].apply(lambda x: x.lower())"
   ]
  },
  {
   "cell_type": "code",
   "execution_count": 28,
   "metadata": {
    "collapsed": false
   },
   "outputs": [
    {
     "data": {
      "text/plain": [
       "Unnamed: 0         0\n",
       "City Location      0\n",
       "Company Name       0\n",
       "Degree             0\n",
       "Description        0\n",
       "Job Title          0\n",
       "Search Criteria    0\n",
       "Source             0\n",
       "NoNumbers          0\n",
       "dtype: int64"
      ]
     },
     "execution_count": 28,
     "metadata": {},
     "output_type": "execute_result"
    }
   ],
   "source": [
    "#checking to see if any null characters\n",
    "listingFile.isnull().sum()"
   ]
  },
  {
   "cell_type": "markdown",
   "metadata": {},
   "source": [
    "# label encoder for degrees"
   ]
  },
  {
   "cell_type": "code",
   "execution_count": 63,
   "metadata": {
    "collapsed": true
   },
   "outputs": [],
   "source": [
    "label_encoder = preprocessing.LabelEncoder()"
   ]
  },
  {
   "cell_type": "code",
   "execution_count": 64,
   "metadata": {
    "collapsed": false
   },
   "outputs": [
    {
     "data": {
      "text/plain": [
       "LabelEncoder()"
      ]
     },
     "execution_count": 64,
     "metadata": {},
     "output_type": "execute_result"
    }
   ],
   "source": [
    "input_classes = ['user+support', 'software+development', 'web+development', 'network+manager',\n",
    "        'network+engineer', 'cyber+security']\n",
    "label_encoder.fit(input_classes)\n",
    "# encoded_labels = label_encoder.transform(labels)\n",
    "# print \"\\nLabels =\", labels \n",
    "# print \"Encoded labels =\", list(encoded_labels)\n"
   ]
  },
  {
   "cell_type": "code",
   "execution_count": 68,
   "metadata": {
    "collapsed": false
   },
   "outputs": [
    {
     "name": "stdout",
     "output_type": "stream",
     "text": [
      "\n",
      "Labels = ['user+support', 'software+development', 'web+development', 'network+manager', 'network+engineer', 'cyber+security']\n",
      "Encoded labels = [4, 3, 5, 2, 1, 0]\n"
     ]
    }
   ],
   "source": [
    "encoded_labels = label_encoder.transform(input_classes)\n",
    "print \"\\nLabels =\", input_classes \n",
    "print \"Encoded labels =\", list(encoded_labels)"
   ]
  },
  {
   "cell_type": "code",
   "execution_count": 69,
   "metadata": {
    "collapsed": true
   },
   "outputs": [],
   "source": [
    "listingFile['encodedDegree']=label_encoder.transform(listingFile['Degree'])"
   ]
  },
  {
   "cell_type": "code",
   "execution_count": null,
   "metadata": {
    "collapsed": false
   },
   "outputs": [],
   "source": []
  },
  {
   "cell_type": "code",
   "execution_count": null,
   "metadata": {
    "collapsed": true
   },
   "outputs": [],
   "source": []
  },
  {
   "cell_type": "code",
   "execution_count": null,
   "metadata": {
    "collapsed": true
   },
   "outputs": [],
   "source": []
  },
  {
   "cell_type": "code",
   "execution_count": null,
   "metadata": {
    "collapsed": true
   },
   "outputs": [],
   "source": []
  },
  {
   "cell_type": "code",
   "execution_count": null,
   "metadata": {
    "collapsed": true
   },
   "outputs": [],
   "source": []
  },
  {
   "cell_type": "code",
   "execution_count": null,
   "metadata": {
    "collapsed": true
   },
   "outputs": [],
   "source": []
  },
  {
   "cell_type": "code",
   "execution_count": null,
   "metadata": {
    "collapsed": true
   },
   "outputs": [],
   "source": []
  },
  {
   "cell_type": "markdown",
   "metadata": {
    "collapsed": false
   },
   "source": [
    "# doing count vectorizor"
   ]
  },
  {
   "cell_type": "code",
   "execution_count": 70,
   "metadata": {
    "collapsed": true
   },
   "outputs": [],
   "source": [
    "cvec = CountVectorizer()\n",
    "v = CountVectorizer(\n",
    "    binary=True,  \n",
    "    stop_words='english')\n",
    "#,max_features=500\n"
   ]
  },
  {
   "cell_type": "code",
   "execution_count": 71,
   "metadata": {
    "collapsed": false
   },
   "outputs": [
    {
     "data": {
      "text/plain": [
       "(4390, 5588)"
      ]
     },
     "execution_count": 71,
     "metadata": {},
     "output_type": "execute_result"
    }
   ],
   "source": [
    "wordsDescription = v.fit_transform(listingFile['NoNumbers']).todense()\n",
    "wordsDescription = pd.DataFrame(wordsDescription, columns=v.get_feature_names())\n",
    "wordsDescription.shape"
   ]
  },
  {
   "cell_type": "code",
   "execution_count": 72,
   "metadata": {
    "collapsed": false
   },
   "outputs": [
    {
     "data": {
      "text/html": [
       "<div>\n",
       "<table border=\"1\" class=\"dataframe\">\n",
       "  <thead>\n",
       "    <tr style=\"text-align: right;\">\n",
       "      <th></th>\n",
       "      <th>_adaptive</th>\n",
       "      <th>aam</th>\n",
       "      <th>aarp</th>\n",
       "      <th>abb</th>\n",
       "      <th>abbott</th>\n",
       "      <th>abc</th>\n",
       "      <th>abide</th>\n",
       "      <th>abilities</th>\n",
       "      <th>ability</th>\n",
       "      <th>able</th>\n",
       "      <th>...</th>\n",
       "      <th>yes</th>\n",
       "      <th>young</th>\n",
       "      <th>youth</th>\n",
       "      <th>yp</th>\n",
       "      <th>yrs</th>\n",
       "      <th>yslow</th>\n",
       "      <th>zero</th>\n",
       "      <th>zone</th>\n",
       "      <th>zoning</th>\n",
       "      <th>zycron</th>\n",
       "    </tr>\n",
       "  </thead>\n",
       "  <tbody>\n",
       "    <tr>\n",
       "      <th>0</th>\n",
       "      <td>0</td>\n",
       "      <td>0</td>\n",
       "      <td>0</td>\n",
       "      <td>0</td>\n",
       "      <td>0</td>\n",
       "      <td>0</td>\n",
       "      <td>0</td>\n",
       "      <td>0</td>\n",
       "      <td>0</td>\n",
       "      <td>0</td>\n",
       "      <td>...</td>\n",
       "      <td>0</td>\n",
       "      <td>0</td>\n",
       "      <td>0</td>\n",
       "      <td>0</td>\n",
       "      <td>0</td>\n",
       "      <td>0</td>\n",
       "      <td>0</td>\n",
       "      <td>0</td>\n",
       "      <td>0</td>\n",
       "      <td>0</td>\n",
       "    </tr>\n",
       "  </tbody>\n",
       "</table>\n",
       "<p>1 rows × 5588 columns</p>\n",
       "</div>"
      ],
      "text/plain": [
       "   _adaptive  aam  aarp  abb  abbott  abc  abide  abilities  ability  able  \\\n",
       "0          0    0     0    0       0    0      0          0        0     0   \n",
       "\n",
       "    ...    yes  young  youth  yp  yrs  yslow  zero  zone  zoning  zycron  \n",
       "0   ...      0      0      0   0    0      0     0     0       0       0  \n",
       "\n",
       "[1 rows x 5588 columns]"
      ]
     },
     "execution_count": 72,
     "metadata": {},
     "output_type": "execute_result"
    }
   ],
   "source": [
    "wordsDescription.head(1)"
   ]
  },
  {
   "cell_type": "code",
   "execution_count": null,
   "metadata": {
    "collapsed": true
   },
   "outputs": [],
   "source": [
    "create dummies from the degree see if words can predict degree"
   ]
  },
  {
   "cell_type": "code",
   "execution_count": null,
   "metadata": {
    "collapsed": true
   },
   "outputs": [],
   "source": []
  },
  {
   "cell_type": "code",
   "execution_count": 91,
   "metadata": {
    "collapsed": true
   },
   "outputs": [],
   "source": [
    "degreeDummies=pd.get_dummies(listingFile['Degree'])"
   ]
  },
  {
   "cell_type": "code",
   "execution_count": 92,
   "metadata": {
    "collapsed": false
   },
   "outputs": [
    {
     "data": {
      "text/html": [
       "<div>\n",
       "<table border=\"1\" class=\"dataframe\">\n",
       "  <thead>\n",
       "    <tr style=\"text-align: right;\">\n",
       "      <th></th>\n",
       "      <th>_adaptive</th>\n",
       "      <th>aam</th>\n",
       "      <th>aarp</th>\n",
       "      <th>abb</th>\n",
       "      <th>abbott</th>\n",
       "      <th>abc</th>\n",
       "      <th>abide</th>\n",
       "      <th>abilities</th>\n",
       "      <th>ability</th>\n",
       "      <th>able</th>\n",
       "      <th>...</th>\n",
       "      <th>zero</th>\n",
       "      <th>zone</th>\n",
       "      <th>zoning</th>\n",
       "      <th>zycron</th>\n",
       "      <th>cyber+security</th>\n",
       "      <th>network+engineer</th>\n",
       "      <th>network+manager</th>\n",
       "      <th>software+development</th>\n",
       "      <th>user+support</th>\n",
       "      <th>web+development</th>\n",
       "    </tr>\n",
       "  </thead>\n",
       "  <tbody>\n",
       "    <tr>\n",
       "      <th>0</th>\n",
       "      <td>0</td>\n",
       "      <td>0</td>\n",
       "      <td>0</td>\n",
       "      <td>0</td>\n",
       "      <td>0</td>\n",
       "      <td>0</td>\n",
       "      <td>0</td>\n",
       "      <td>0</td>\n",
       "      <td>0</td>\n",
       "      <td>0</td>\n",
       "      <td>...</td>\n",
       "      <td>0</td>\n",
       "      <td>0</td>\n",
       "      <td>0</td>\n",
       "      <td>0</td>\n",
       "      <td>0.0</td>\n",
       "      <td>0.0</td>\n",
       "      <td>0.0</td>\n",
       "      <td>0.0</td>\n",
       "      <td>1.0</td>\n",
       "      <td>0.0</td>\n",
       "    </tr>\n",
       "  </tbody>\n",
       "</table>\n",
       "<p>1 rows × 5594 columns</p>\n",
       "</div>"
      ],
      "text/plain": [
       "   _adaptive  aam  aarp  abb  abbott  abc  abide  abilities  ability  able  \\\n",
       "0          0    0     0    0       0    0      0          0        0     0   \n",
       "\n",
       "        ...         zero  zone  zoning  zycron  cyber+security  \\\n",
       "0       ...            0     0       0       0             0.0   \n",
       "\n",
       "   network+engineer  network+manager  software+development  user+support  \\\n",
       "0               0.0              0.0                   0.0           1.0   \n",
       "\n",
       "   web+development  \n",
       "0              0.0  \n",
       "\n",
       "[1 rows x 5594 columns]"
      ]
     },
     "execution_count": 92,
     "metadata": {},
     "output_type": "execute_result"
    }
   ],
   "source": [
    "listingFileWithDummies=pd.DataFrame(wordsDescription).join(pd.DataFrame(degreeDummies))\n",
    "listingFileWithDummies.head(1)"
   ]
  },
  {
   "cell_type": "code",
   "execution_count": null,
   "metadata": {
    "collapsed": true
   },
   "outputs": [],
   "source": [
    "#creating a y table that is just degrees\n",
    "\n"
   ]
  },
  {
   "cell_type": "code",
   "execution_count": 101,
   "metadata": {
    "collapsed": false
   },
   "outputs": [],
   "source": [
    "allDegreeData=pd.DataFrame(listingFile['encodedDegree']).join(pd.DataFrame(listingFile['Degree'])).join(pd.DataFrame(degreeDummies))"
   ]
  },
  {
   "cell_type": "code",
   "execution_count": 102,
   "metadata": {
    "collapsed": false
   },
   "outputs": [
    {
     "data": {
      "text/html": [
       "<div>\n",
       "<table border=\"1\" class=\"dataframe\">\n",
       "  <thead>\n",
       "    <tr style=\"text-align: right;\">\n",
       "      <th></th>\n",
       "      <th>encodedDegree</th>\n",
       "      <th>Degree</th>\n",
       "      <th>cyber+security</th>\n",
       "      <th>network+engineer</th>\n",
       "      <th>network+manager</th>\n",
       "      <th>software+development</th>\n",
       "      <th>user+support</th>\n",
       "      <th>web+development</th>\n",
       "    </tr>\n",
       "  </thead>\n",
       "  <tbody>\n",
       "    <tr>\n",
       "      <th>0</th>\n",
       "      <td>4</td>\n",
       "      <td>user+support</td>\n",
       "      <td>0.0</td>\n",
       "      <td>0.0</td>\n",
       "      <td>0.0</td>\n",
       "      <td>0.0</td>\n",
       "      <td>1.0</td>\n",
       "      <td>0.0</td>\n",
       "    </tr>\n",
       "    <tr>\n",
       "      <th>1</th>\n",
       "      <td>4</td>\n",
       "      <td>user+support</td>\n",
       "      <td>0.0</td>\n",
       "      <td>0.0</td>\n",
       "      <td>0.0</td>\n",
       "      <td>0.0</td>\n",
       "      <td>1.0</td>\n",
       "      <td>0.0</td>\n",
       "    </tr>\n",
       "    <tr>\n",
       "      <th>2</th>\n",
       "      <td>4</td>\n",
       "      <td>user+support</td>\n",
       "      <td>0.0</td>\n",
       "      <td>0.0</td>\n",
       "      <td>0.0</td>\n",
       "      <td>0.0</td>\n",
       "      <td>1.0</td>\n",
       "      <td>0.0</td>\n",
       "    </tr>\n",
       "    <tr>\n",
       "      <th>3</th>\n",
       "      <td>3</td>\n",
       "      <td>software+development</td>\n",
       "      <td>0.0</td>\n",
       "      <td>0.0</td>\n",
       "      <td>0.0</td>\n",
       "      <td>1.0</td>\n",
       "      <td>0.0</td>\n",
       "      <td>0.0</td>\n",
       "    </tr>\n",
       "    <tr>\n",
       "      <th>4</th>\n",
       "      <td>3</td>\n",
       "      <td>software+development</td>\n",
       "      <td>0.0</td>\n",
       "      <td>0.0</td>\n",
       "      <td>0.0</td>\n",
       "      <td>1.0</td>\n",
       "      <td>0.0</td>\n",
       "      <td>0.0</td>\n",
       "    </tr>\n",
       "  </tbody>\n",
       "</table>\n",
       "</div>"
      ],
      "text/plain": [
       "   encodedDegree                Degree  cyber+security  network+engineer  \\\n",
       "0              4          user+support             0.0               0.0   \n",
       "1              4          user+support             0.0               0.0   \n",
       "2              4          user+support             0.0               0.0   \n",
       "3              3  software+development             0.0               0.0   \n",
       "4              3  software+development             0.0               0.0   \n",
       "\n",
       "   network+manager  software+development  user+support  web+development  \n",
       "0              0.0                   0.0           1.0              0.0  \n",
       "1              0.0                   0.0           1.0              0.0  \n",
       "2              0.0                   0.0           1.0              0.0  \n",
       "3              0.0                   1.0           0.0              0.0  \n",
       "4              0.0                   1.0           0.0              0.0  "
      ]
     },
     "execution_count": 102,
     "metadata": {},
     "output_type": "execute_result"
    }
   ],
   "source": [
    "allDegreeData.head()"
   ]
  },
  {
   "cell_type": "markdown",
   "metadata": {},
   "source": [
    "# all tables\n",
    "wordDescription = count vectorizer for description\n",
    "listingFileWithDummies - listing description (words) + degree dummies\n",
    "y table = degree dummies + encoded label + degrees"
   ]
  },
  {
   "cell_type": "markdown",
   "metadata": {},
   "source": [
    "# Create train test\n",
    "## the total data set will be split with each degree "
   ]
  },
  {
   "cell_type": "code",
   "execution_count": 117,
   "metadata": {
    "collapsed": false
   },
   "outputs": [
    {
     "name": "stdout",
     "output_type": "stream",
     "text": [
      "(4390,)\n"
     ]
    }
   ],
   "source": [
    "print listingFile['encodedDegree'].shape"
   ]
  },
  {
   "cell_type": "code",
   "execution_count": 114,
   "metadata": {
    "collapsed": false
   },
   "outputs": [
    {
     "data": {
      "text/plain": [
       "((4390, 5588), (4390,))"
      ]
     },
     "execution_count": 114,
     "metadata": {},
     "output_type": "execute_result"
    }
   ],
   "source": [
    "wordsDescription.shape , listingFile['encodedDegree'].shape"
   ]
  },
  {
   "cell_type": "code",
   "execution_count": 124,
   "metadata": {
    "collapsed": false
   },
   "outputs": [],
   "source": [
    "x=wordsDescription\n",
    "y=allDegreeData[['encodedDegree','user+support', 'software+development', \n",
    "                         'web+development', 'network+manager', 'network+engineer', \n",
    "                         'cyber+security']]"
   ]
  },
  {
   "cell_type": "code",
   "execution_count": 125,
   "metadata": {
    "collapsed": false
   },
   "outputs": [
    {
     "data": {
      "text/plain": [
       "((2634, 5588), (1756, 5588), (2634, 7), (1756, 7))"
      ]
     },
     "execution_count": 125,
     "metadata": {},
     "output_type": "execute_result"
    }
   ],
   "source": [
    "x_train, x_test, y_train, y_test= train_test_split(x.values,y.values, test_size=.4)\n",
    "x_train.shape, x_test.shape, y_train.shape, y_test.shape"
   ]
  },
  {
   "cell_type": "code",
   "execution_count": 127,
   "metadata": {
    "collapsed": false
   },
   "outputs": [
    {
     "data": {
      "text/plain": [
       "array([[ 4.,  1.,  0., ...,  0.,  0.,  0.],\n",
       "       [ 0.,  0.,  0., ...,  0.,  0.,  1.],\n",
       "       [ 3.,  0.,  1., ...,  0.,  0.,  0.],\n",
       "       ..., \n",
       "       [ 4.,  1.,  0., ...,  0.,  0.,  0.],\n",
       "       [ 2.,  0.,  0., ...,  1.,  0.,  0.],\n",
       "       [ 1.,  0.,  0., ...,  0.,  1.,  0.]])"
      ]
     },
     "execution_count": 127,
     "metadata": {},
     "output_type": "execute_result"
    }
   ],
   "source": [
    "y_train"
   ]
  },
  {
   "cell_type": "code",
   "execution_count": 145,
   "metadata": {
    "collapsed": false
   },
   "outputs": [
    {
     "data": {
      "text/plain": [
       "array([ 4.,  0.,  3., ...,  4.,  2.,  1.])"
      ]
     },
     "execution_count": 145,
     "metadata": {},
     "output_type": "execute_result"
    }
   ],
   "source": [
    "y_train[:,0]"
   ]
  },
  {
   "cell_type": "markdown",
   "metadata": {},
   "source": [
    "# logistic analysis without feature reduction\n",
    "\n",
    "see if words can predict degree"
   ]
  },
  {
   "cell_type": "code",
   "execution_count": 73,
   "metadata": {
    "collapsed": false
   },
   "outputs": [],
   "source": [
    "\n"
   ]
  },
  {
   "cell_type": "code",
   "execution_count": 74,
   "metadata": {
    "collapsed": false
   },
   "outputs": [
    {
     "data": {
      "text/html": [
       "<div>\n",
       "<table border=\"1\" class=\"dataframe\">\n",
       "  <thead>\n",
       "    <tr style=\"text-align: right;\">\n",
       "      <th></th>\n",
       "      <th>_adaptive</th>\n",
       "      <th>aam</th>\n",
       "      <th>aarp</th>\n",
       "      <th>abb</th>\n",
       "      <th>abbott</th>\n",
       "      <th>abc</th>\n",
       "      <th>abide</th>\n",
       "      <th>abilities</th>\n",
       "      <th>ability</th>\n",
       "      <th>able</th>\n",
       "      <th>...</th>\n",
       "      <th>zero</th>\n",
       "      <th>zone</th>\n",
       "      <th>zoning</th>\n",
       "      <th>zycron</th>\n",
       "      <th>cyber+security</th>\n",
       "      <th>network+engineer</th>\n",
       "      <th>network+manager</th>\n",
       "      <th>software+development</th>\n",
       "      <th>user+support</th>\n",
       "      <th>web+development</th>\n",
       "    </tr>\n",
       "  </thead>\n",
       "  <tbody>\n",
       "    <tr>\n",
       "      <th>0</th>\n",
       "      <td>0</td>\n",
       "      <td>0</td>\n",
       "      <td>0</td>\n",
       "      <td>0</td>\n",
       "      <td>0</td>\n",
       "      <td>0</td>\n",
       "      <td>0</td>\n",
       "      <td>0</td>\n",
       "      <td>0</td>\n",
       "      <td>0</td>\n",
       "      <td>...</td>\n",
       "      <td>0</td>\n",
       "      <td>0</td>\n",
       "      <td>0</td>\n",
       "      <td>0</td>\n",
       "      <td>0.0</td>\n",
       "      <td>0.0</td>\n",
       "      <td>0.0</td>\n",
       "      <td>0.0</td>\n",
       "      <td>1.0</td>\n",
       "      <td>0.0</td>\n",
       "    </tr>\n",
       "  </tbody>\n",
       "</table>\n",
       "<p>1 rows × 5594 columns</p>\n",
       "</div>"
      ],
      "text/plain": [
       "   _adaptive  aam  aarp  abb  abbott  abc  abide  abilities  ability  able  \\\n",
       "0          0    0     0    0       0    0      0          0        0     0   \n",
       "\n",
       "        ...         zero  zone  zoning  zycron  cyber+security  \\\n",
       "0       ...            0     0       0       0             0.0   \n",
       "\n",
       "   network+engineer  network+manager  software+development  user+support  \\\n",
       "0               0.0              0.0                   0.0           1.0   \n",
       "\n",
       "   web+development  \n",
       "0              0.0  \n",
       "\n",
       "[1 rows x 5594 columns]"
      ]
     },
     "execution_count": 74,
     "metadata": {},
     "output_type": "execute_result"
    }
   ],
   "source": []
  },
  {
   "cell_type": "code",
   "execution_count": 75,
   "metadata": {
    "collapsed": true
   },
   "outputs": [],
   "source": [
    "DegreeColumnNames= ['user+support', 'software+development', \n",
    "                         'web+development', 'network+manager', 'network+engineer', \n",
    "                         'cyber+security']"
   ]
  },
  {
   "cell_type": "code",
   "execution_count": 147,
   "metadata": {
    "collapsed": false
   },
   "outputs": [
    {
     "name": "stdout",
     "output_type": "stream",
     "text": [
      "With training data 0.978739559605\n",
      "With test data 0.979498861048\n"
     ]
    }
   ],
   "source": [
    "#predicting all degrees without dummy data\n",
    "# x=x_train\n",
    "# y=y_train[:,0]\n",
    "model=LogisticRegression()\n",
    "model.fit(x_train,y_train[:,0])\n",
    "y_prediction=model.predict(x_train)\n",
    "print \"With training data \" + str(model.score(x_train,y_train[:,0]))\n",
    "x=x_test\n",
    "y=y_test[:,0]\n",
    "model=LogisticRegression()\n",
    "model.fit(x_test,y_test[:,0])\n",
    "y_prediction=model.predict(x_test)\n",
    "print \"With test data \" + str(model.score(x_test,y_test[:,0]))"
   ]
  },
  {
   "cell_type": "markdown",
   "metadata": {
    "collapsed": true
   },
   "source": [
    "key\n",
    "'encodedDegree' 0\n",
    "'user+support'1\n",
    "'software+development'2\n",
    "'web+development' 3\n",
    "'network+manager' 4\n",
    "'network+engineer'5 \n",
    "'cyber+security'6"
   ]
  },
  {
   "cell_type": "code",
   "execution_count": 151,
   "metadata": {
    "collapsed": false
   },
   "outputs": [
    {
     "name": "stdout",
     "output_type": "stream",
     "text": [
      "With training data 0.997342444951\n",
      "With test data 1 0.99715261959\n",
      "\n",
      "\n",
      "With training data 0.978739559605\n",
      "With test data 2 0.980637813212\n",
      "\n",
      "\n",
      "With training data 0.98291571754\n",
      "With test data 3 0.98291571754\n",
      "\n",
      "\n",
      "With training data 0.994684889901\n",
      "With test data 4 0.992596810934\n",
      "\n",
      "\n",
      "With training data 0.992786636295\n",
      "With test data 5 0.993735763098\n",
      "\n",
      "\n",
      "With training data 0.998101746393\n",
      "With test data 6 0.997722095672\n",
      "\n",
      "\n"
     ]
    }
   ],
   "source": [
    "#seeing if each degree can be predicted using dummy variables\n",
    "\n",
    "for i in range(1,7):\n",
    "    model=LogisticRegression()\n",
    "    model.fit(x_train,y_train[:,i])\n",
    "    y_prediction=model.predict(x_train)\n",
    "    print \"With training data \" + str(model.score(x_train,y_train[:,i]))\n",
    "   \n",
    "    model=LogisticRegression()\n",
    "    model.fit(x_test,y_test[:,i])\n",
    "    y_prediction=model.predict(x_test)\n",
    "    print \"With test data \" + str(i) + ' ' +str(model.score(x_test,y_test[:,i]))\n",
    "    print '\\n'"
   ]
  },
  {
   "cell_type": "code",
   "execution_count": null,
   "metadata": {
    "collapsed": false
   },
   "outputs": [],
   "source": []
  },
  {
   "cell_type": "code",
   "execution_count": null,
   "metadata": {
    "collapsed": true
   },
   "outputs": [],
   "source": []
  },
  {
   "cell_type": "markdown",
   "metadata": {},
   "source": [
    "# Feature selection and reduction and logistic\n"
   ]
  },
  {
   "cell_type": "code",
   "execution_count": 78,
   "metadata": {
    "collapsed": false
   },
   "outputs": [],
   "source": [
    "#kmeans\n",
    "kbest=SelectKBest(k=100)"
   ]
  },
  {
   "cell_type": "code",
   "execution_count": 79,
   "metadata": {
    "collapsed": false
   },
   "outputs": [],
   "source": [
    "y=listingFile['encodedDegree']\n",
    "x=wordsDescription\n"
   ]
  },
  {
   "cell_type": "code",
   "execution_count": 80,
   "metadata": {
    "collapsed": false
   },
   "outputs": [
    {
     "name": "stdout",
     "output_type": "stream",
     "text": [
      "[ 1.63395864  0.80670305  0.77644292 ...,  0.80670305  1.39119943\n",
      "  1.39119943]\n"
     ]
    }
   ],
   "source": [
    "results_of_kbest5 = kbest.fit_transform(x, y)\n",
    "results_of_kbest5\n",
    "print kbest.scores_"
   ]
  },
  {
   "cell_type": "code",
   "execution_count": 81,
   "metadata": {
    "collapsed": true
   },
   "outputs": [],
   "source": [
    "# model_for_kbest_5_columns = LogisticRegression()\n",
    "# model_for_kbest_5_columns.fit(results_of_kbest5, y)\n",
    "# model_for_kbest_5_columns.score(results_of_kbest5, y)"
   ]
  },
  {
   "cell_type": "code",
   "execution_count": 82,
   "metadata": {
    "collapsed": false
   },
   "outputs": [],
   "source": [
    "#using KBest in logistic regression\n",
    "logRegWithKBest=LogisticRegression()"
   ]
  },
  {
   "cell_type": "code",
   "execution_count": 83,
   "metadata": {
    "collapsed": false
   },
   "outputs": [
    {
     "name": "stdout",
     "output_type": "stream",
     "text": [
      "0.85854214123\n"
     ]
    }
   ],
   "source": [
    "logRegWithKBest.fit(results_of_kbest5,y)\n",
    "print logRegWithKBest.score(results_of_kbest5, y)"
   ]
  },
  {
   "cell_type": "code",
   "execution_count": 84,
   "metadata": {
    "collapsed": false
   },
   "outputs": [
    {
     "name": "stdout",
     "output_type": "stream",
     "text": [
      "For model user+support  the score is \n",
      "0.9715261959\n",
      "\n",
      "\n",
      "For model software+development  the score is \n",
      "0.925056947608\n",
      "\n",
      "\n",
      "For model web+development  the score is \n",
      "0.9284738041\n",
      "\n",
      "\n",
      "For model network+manager  the score is \n",
      "0.955808656036\n",
      "\n",
      "\n",
      "For model network+engineer  the score is \n",
      "0.948291571754\n",
      "\n",
      "\n",
      "For model cyber+security  the score is \n",
      "0.981776765376\n",
      "\n",
      "\n"
     ]
    }
   ],
   "source": [
    "#seeing if each degree can be predicted using dummy variables\n",
    "for degree in DegreeColumnNames:\n",
    "    x=wordsDescription\n",
    "    y=degreeDummies[degree]\n",
    "    model=LogisticRegression()\n",
    "    model.fit(results_of_kbest5,y)\n",
    "    y_prediction=model.predict(results_of_kbest5)\n",
    "    print \"For model \"+ degree + \"  the score is \"\n",
    "    print  model.score(results_of_kbest5,y)\n",
    "    print '\\n'"
   ]
  },
  {
   "cell_type": "code",
   "execution_count": null,
   "metadata": {
    "collapsed": true
   },
   "outputs": [],
   "source": []
  },
  {
   "cell_type": "code",
   "execution_count": null,
   "metadata": {
    "collapsed": true
   },
   "outputs": [],
   "source": []
  },
  {
   "cell_type": "code",
   "execution_count": null,
   "metadata": {
    "collapsed": true
   },
   "outputs": [],
   "source": []
  },
  {
   "cell_type": "code",
   "execution_count": null,
   "metadata": {
    "collapsed": true
   },
   "outputs": [],
   "source": [
    "\n"
   ]
  },
  {
   "cell_type": "code",
   "execution_count": null,
   "metadata": {
    "collapsed": true
   },
   "outputs": [],
   "source": [
    "\n"
   ]
  },
  {
   "cell_type": "code",
   "execution_count": null,
   "metadata": {
    "collapsed": true
   },
   "outputs": [],
   "source": []
  },
  {
   "cell_type": "code",
   "execution_count": null,
   "metadata": {
    "collapsed": true
   },
   "outputs": [],
   "source": []
  },
  {
   "cell_type": "code",
   "execution_count": null,
   "metadata": {
    "collapsed": true
   },
   "outputs": [],
   "source": []
  },
  {
   "cell_type": "code",
   "execution_count": null,
   "metadata": {
    "collapsed": true
   },
   "outputs": [],
   "source": []
  },
  {
   "cell_type": "code",
   "execution_count": null,
   "metadata": {
    "collapsed": true
   },
   "outputs": [],
   "source": []
  },
  {
   "cell_type": "code",
   "execution_count": null,
   "metadata": {
    "collapsed": true
   },
   "outputs": [],
   "source": []
  },
  {
   "cell_type": "code",
   "execution_count": null,
   "metadata": {
    "collapsed": false
   },
   "outputs": [],
   "source": []
  },
  {
   "cell_type": "code",
   "execution_count": 37,
   "metadata": {
    "collapsed": false
   },
   "outputs": [],
   "source": [
    "lmtzr=WordNetLemmatizer()\n"
   ]
  },
  {
   "cell_type": "code",
   "execution_count": 38,
   "metadata": {
    "collapsed": true
   },
   "outputs": [],
   "source": [
    "#initializing stemmer\n",
    "stemmer=PorterStemmer()"
   ]
  },
  {
   "cell_type": "code",
   "execution_count": 39,
   "metadata": {
    "collapsed": false
   },
   "outputs": [],
   "source": [
    "#now make everything \n",
    "\n",
    "#listingFile['stemmedDescription']=listingFile['Description'].apply(lambda x: stemmers.stem(word) for word in x.split(\" \"))"
   ]
  },
  {
   "cell_type": "code",
   "execution_count": 40,
   "metadata": {
    "collapsed": false
   },
   "outputs": [],
   "source": [
    "listingFile['stemmedDesc']= listingFile['Description'].apply(lambda x: ' '.join([stemmer.stem(word) for word in x.split()]))\n"
   ]
  },
  {
   "cell_type": "code",
   "execution_count": 41,
   "metadata": {
    "collapsed": false
   },
   "outputs": [
    {
     "data": {
      "text/html": [
       "<div>\n",
       "<table border=\"1\" class=\"dataframe\">\n",
       "  <thead>\n",
       "    <tr style=\"text-align: right;\">\n",
       "      <th></th>\n",
       "      <th>Unnamed: 0</th>\n",
       "      <th>City Location</th>\n",
       "      <th>Company Name</th>\n",
       "      <th>Degree</th>\n",
       "      <th>Description</th>\n",
       "      <th>Job Title</th>\n",
       "      <th>Search Criteria</th>\n",
       "      <th>Source</th>\n",
       "      <th>NoNumbers</th>\n",
       "      <th>stemmedDesc</th>\n",
       "    </tr>\n",
       "  </thead>\n",
       "  <tbody>\n",
       "    <tr>\n",
       "      <th>0</th>\n",
       "      <td>0</td>\n",
       "      <td>Cincinnati, OH</td>\n",
       "      <td>Pro4ia, Inc.</td>\n",
       "      <td>user+support</td>\n",
       "      <td>day-to-day desktop support. input all service ...</td>\n",
       "      <td>Level 1/2 Desktop Support</td>\n",
       "      <td>user+support</td>\n",
       "      <td>Indeed</td>\n",
       "      <td>day-to-day desktop support input all service r...</td>\n",
       "      <td>day-to-day desktop support. input all servic r...</td>\n",
       "    </tr>\n",
       "    <tr>\n",
       "      <th>1</th>\n",
       "      <td>1</td>\n",
       "      <td>Columbus, OH 43215</td>\n",
       "      <td>The Woda Group, Inc.</td>\n",
       "      <td>user+support</td>\n",
       "      <td>, is seeking a *yardi voyager support speciali...</td>\n",
       "      <td>Yardi Voyager Support Specialist</td>\n",
       "      <td>user+support</td>\n",
       "      <td>Indeed</td>\n",
       "      <td>is seeking a *yardi voyager support specialist...</td>\n",
       "      <td>, is seek a *yardi voyag support specialist*. ...</td>\n",
       "    </tr>\n",
       "    <tr>\n",
       "      <th>2</th>\n",
       "      <td>2</td>\n",
       "      <td>Fort Wayne, IN</td>\n",
       "      <td>ENS Group, Inc.</td>\n",
       "      <td>user+support</td>\n",
       "      <td>knowledge/experience supporting mobile users. ...</td>\n",
       "      <td>Service Desk Technician</td>\n",
       "      <td>user+support</td>\n",
       "      <td>Indeed</td>\n",
       "      <td>knowledge/experience supporting mobile users s...</td>\n",
       "      <td>knowledge/experi support mobil users. support ...</td>\n",
       "    </tr>\n",
       "    <tr>\n",
       "      <th>3</th>\n",
       "      <td>12</td>\n",
       "      <td>Dayton, OH</td>\n",
       "      <td>Riverside Research</td>\n",
       "      <td>software+development</td>\n",
       "      <td>produce detailed specifications for software r...</td>\n",
       "      <td>Software Developer</td>\n",
       "      <td>software+development</td>\n",
       "      <td>Indeed</td>\n",
       "      <td>produce detailed specifications for software r...</td>\n",
       "      <td>produc detail specif for softwar requirements....</td>\n",
       "    </tr>\n",
       "    <tr>\n",
       "      <th>4</th>\n",
       "      <td>13</td>\n",
       "      <td>Wright-Patterson AFB, OH</td>\n",
       "      <td>Riverside Research</td>\n",
       "      <td>software+development</td>\n",
       "      <td>software development and hardware integration ...</td>\n",
       "      <td>Software Engineer</td>\n",
       "      <td>software+development</td>\n",
       "      <td>Indeed</td>\n",
       "      <td>software development and hardware integration ...</td>\n",
       "      <td>softwar develop and hardwar integr experience....</td>\n",
       "    </tr>\n",
       "  </tbody>\n",
       "</table>\n",
       "</div>"
      ],
      "text/plain": [
       "   Unnamed: 0             City Location          Company Name  \\\n",
       "0           0            Cincinnati, OH          Pro4ia, Inc.   \n",
       "1           1        Columbus, OH 43215  The Woda Group, Inc.   \n",
       "2           2            Fort Wayne, IN       ENS Group, Inc.   \n",
       "3          12                Dayton, OH    Riverside Research   \n",
       "4          13  Wright-Patterson AFB, OH    Riverside Research   \n",
       "\n",
       "                 Degree                                        Description  \\\n",
       "0          user+support  day-to-day desktop support. input all service ...   \n",
       "1          user+support  , is seeking a *yardi voyager support speciali...   \n",
       "2          user+support  knowledge/experience supporting mobile users. ...   \n",
       "3  software+development  produce detailed specifications for software r...   \n",
       "4  software+development  software development and hardware integration ...   \n",
       "\n",
       "                          Job Title       Search Criteria  Source  \\\n",
       "0         Level 1/2 Desktop Support          user+support  Indeed   \n",
       "1  Yardi Voyager Support Specialist          user+support  Indeed   \n",
       "2           Service Desk Technician          user+support  Indeed   \n",
       "3                Software Developer  software+development  Indeed   \n",
       "4                 Software Engineer  software+development  Indeed   \n",
       "\n",
       "                                           NoNumbers  \\\n",
       "0  day-to-day desktop support input all service r...   \n",
       "1  is seeking a *yardi voyager support specialist...   \n",
       "2  knowledge/experience supporting mobile users s...   \n",
       "3  produce detailed specifications for software r...   \n",
       "4  software development and hardware integration ...   \n",
       "\n",
       "                                         stemmedDesc  \n",
       "0  day-to-day desktop support. input all servic r...  \n",
       "1  , is seek a *yardi voyag support specialist*. ...  \n",
       "2  knowledge/experi support mobil users. support ...  \n",
       "3  produc detail specif for softwar requirements....  \n",
       "4  softwar develop and hardwar integr experience....  "
      ]
     },
     "execution_count": 41,
     "metadata": {},
     "output_type": "execute_result"
    }
   ],
   "source": [
    "listingFile.head()"
   ]
  },
  {
   "cell_type": "code",
   "execution_count": 42,
   "metadata": {
    "collapsed": false
   },
   "outputs": [
    {
     "data": {
      "text/plain": [
       "u', is seek a *yardi voyag support specialist*. \\\\*the woda group doe not hire tobacco user in thi state. the woda group, inc.*....'"
      ]
     },
     "execution_count": 42,
     "metadata": {},
     "output_type": "execute_result"
    }
   ],
   "source": [
    "listingFile['stemmedDesc'][1]"
   ]
  },
  {
   "cell_type": "code",
   "execution_count": 43,
   "metadata": {
    "collapsed": true
   },
   "outputs": [],
   "source": [
    "listingFile['lemmerDesc']= listingFile['Description'].apply(lambda x: ' '.join([lmtzr.lemmatize(word) for word in x.split()]))"
   ]
  },
  {
   "cell_type": "code",
   "execution_count": 44,
   "metadata": {
    "collapsed": false
   },
   "outputs": [
    {
     "data": {
      "text/plain": [
       "u', is seeking a *yardi voyager support specialist*. \\\\*the woda group doe not hire tobacco user in this state. the woda group, inc.*....'"
      ]
     },
     "execution_count": 44,
     "metadata": {},
     "output_type": "execute_result"
    }
   ],
   "source": [
    "listingFile['lemmerDesc'][1]"
   ]
  },
  {
   "cell_type": "code",
   "execution_count": 45,
   "metadata": {
    "collapsed": false
   },
   "outputs": [
    {
     "data": {
      "text/plain": [
       "u', is seeking a *yardi voyager support specialist*. \\\\*the woda group does not hire tobacco users in this state. the woda group, inc.*....'"
      ]
     },
     "execution_count": 45,
     "metadata": {},
     "output_type": "execute_result"
    }
   ],
   "source": [
    "listingFile['Description'][1]"
   ]
  },
  {
   "cell_type": "code",
   "execution_count": 46,
   "metadata": {
    "collapsed": false
   },
   "outputs": [
    {
     "data": {
      "text/plain": [
       "u'produce detailed specifications for software requirements. expertise in current computer hardware and software systems....'"
      ]
     },
     "execution_count": 46,
     "metadata": {},
     "output_type": "execute_result"
    }
   ],
   "source": [
    "listingFile['Description'][3]"
   ]
  },
  {
   "cell_type": "code",
   "execution_count": 47,
   "metadata": {
    "collapsed": false
   },
   "outputs": [
    {
     "data": {
      "text/plain": [
       "u'produc detail specif for softwar requirements. expertis in current comput hardwar and softwar systems....'"
      ]
     },
     "execution_count": 47,
     "metadata": {},
     "output_type": "execute_result"
    }
   ],
   "source": [
    "listingFile['stemmedDesc'][3]"
   ]
  },
  {
   "cell_type": "code",
   "execution_count": 48,
   "metadata": {
    "collapsed": false
   },
   "outputs": [
    {
     "data": {
      "text/plain": [
       "u'produce detailed specification for software requirements. expertise in current computer hardware and software systems....'"
      ]
     },
     "execution_count": 48,
     "metadata": {},
     "output_type": "execute_result"
    }
   ],
   "source": [
    "listingFile['lemmerDesc'][3]"
   ]
  },
  {
   "cell_type": "code",
   "execution_count": 49,
   "metadata": {
    "collapsed": false
   },
   "outputs": [
    {
     "ename": "SyntaxError",
     "evalue": "invalid syntax (<ipython-input-49-7a8bedf5d335>, line 1)",
     "output_type": "error",
     "traceback": [
      "\u001b[0;36m  File \u001b[0;32m\"<ipython-input-49-7a8bedf5d335>\"\u001b[0;36m, line \u001b[0;32m1\u001b[0m\n\u001b[0;31m    'DegreeArea': ['user+support', 'software+development',\u001b[0m\n\u001b[0m                ^\u001b[0m\n\u001b[0;31mSyntaxError\u001b[0m\u001b[0;31m:\u001b[0m invalid syntax\n"
     ]
    }
   ],
   "source": []
  },
  {
   "cell_type": "markdown",
   "metadata": {
    "collapsed": true
   },
   "source": []
  },
  {
   "cell_type": "code",
   "execution_count": null,
   "metadata": {
    "collapsed": false
   },
   "outputs": [],
   "source": []
  },
  {
   "cell_type": "code",
   "execution_count": null,
   "metadata": {
    "collapsed": true
   },
   "outputs": [],
   "source": []
  },
  {
   "cell_type": "code",
   "execution_count": null,
   "metadata": {
    "collapsed": false
   },
   "outputs": [],
   "source": [
    "\n"
   ]
  },
  {
   "cell_type": "code",
   "execution_count": null,
   "metadata": {
    "collapsed": false
   },
   "outputs": [],
   "source": []
  },
  {
   "cell_type": "code",
   "execution_count": null,
   "metadata": {
    "collapsed": false
   },
   "outputs": [],
   "source": [
    "\n"
   ]
  },
  {
   "cell_type": "code",
   "execution_count": null,
   "metadata": {
    "collapsed": true
   },
   "outputs": [],
   "source": [
    "#feature extraction"
   ]
  },
  {
   "cell_type": "code",
   "execution_count": null,
   "metadata": {
    "collapsed": true
   },
   "outputs": [],
   "source": []
  },
  {
   "cell_type": "code",
   "execution_count": null,
   "metadata": {
    "collapsed": true
   },
   "outputs": [],
   "source": []
  },
  {
   "cell_type": "code",
   "execution_count": null,
   "metadata": {
    "collapsed": true
   },
   "outputs": [],
   "source": []
  },
  {
   "cell_type": "code",
   "execution_count": null,
   "metadata": {
    "collapsed": true
   },
   "outputs": [],
   "source": []
  },
  {
   "cell_type": "code",
   "execution_count": null,
   "metadata": {
    "collapsed": true
   },
   "outputs": [],
   "source": []
  },
  {
   "cell_type": "code",
   "execution_count": null,
   "metadata": {
    "collapsed": true
   },
   "outputs": [],
   "source": []
  },
  {
   "cell_type": "markdown",
   "metadata": {},
   "source": []
  },
  {
   "cell_type": "code",
   "execution_count": null,
   "metadata": {
    "collapsed": true
   },
   "outputs": [],
   "source": []
  },
  {
   "cell_type": "code",
   "execution_count": null,
   "metadata": {
    "collapsed": false
   },
   "outputs": [],
   "source": []
  },
  {
   "cell_type": "code",
   "execution_count": null,
   "metadata": {
    "collapsed": true
   },
   "outputs": [],
   "source": []
  },
  {
   "cell_type": "code",
   "execution_count": null,
   "metadata": {
    "collapsed": false
   },
   "outputs": [],
   "source": []
  },
  {
   "cell_type": "code",
   "execution_count": null,
   "metadata": {
    "collapsed": true
   },
   "outputs": [],
   "source": []
  },
  {
   "cell_type": "code",
   "execution_count": null,
   "metadata": {
    "collapsed": true
   },
   "outputs": [],
   "source": []
  },
  {
   "cell_type": "code",
   "execution_count": null,
   "metadata": {
    "collapsed": true
   },
   "outputs": [],
   "source": []
  },
  {
   "cell_type": "code",
   "execution_count": null,
   "metadata": {
    "collapsed": true
   },
   "outputs": [],
   "source": []
  },
  {
   "cell_type": "code",
   "execution_count": null,
   "metadata": {
    "collapsed": true
   },
   "outputs": [],
   "source": [
    "#try 6 clusters -one for each degree\n",
    "kmeans=KMeans(6)"
   ]
  },
  {
   "cell_type": "code",
   "execution_count": null,
   "metadata": {
    "collapsed": false
   },
   "outputs": [],
   "source": [
    "kmeans.fit(wordsDescription)\n",
    "predictions=kmeans.predict(wordsDescription)"
   ]
  },
  {
   "cell_type": "code",
   "execution_count": null,
   "metadata": {
    "collapsed": false
   },
   "outputs": [],
   "source": [
    "finalWords=wordsDescription.join(pd.DataFrame(predictions, columns=['six_classes']))"
   ]
  },
  {
   "cell_type": "code",
   "execution_count": null,
   "metadata": {
    "collapsed": false
   },
   "outputs": [],
   "source": [
    "finalWords.tail(1)"
   ]
  },
  {
   "cell_type": "code",
   "execution_count": null,
   "metadata": {
    "collapsed": true
   },
   "outputs": [],
   "source": []
  },
  {
   "cell_type": "code",
   "execution_count": null,
   "metadata": {
    "collapsed": true
   },
   "outputs": [],
   "source": []
  },
  {
   "cell_type": "code",
   "execution_count": null,
   "metadata": {
    "collapsed": true
   },
   "outputs": [],
   "source": []
  },
  {
   "cell_type": "markdown",
   "metadata": {},
   "source": [
    "# Playing with NLTK \n",
    "creating a dataframe with just description and degree\n"
   ]
  },
  {
   "cell_type": "code",
   "execution_count": null,
   "metadata": {
    "collapsed": false
   },
   "outputs": [],
   "source": [
    "dataset=listingFile[['Description','Degree']]\n"
   ]
  },
  {
   "cell_type": "code",
   "execution_count": null,
   "metadata": {
    "collapsed": false
   },
   "outputs": [],
   "source": [
    "dataset['Description']=dataset['Description'].apply(lambda x: x.lower())"
   ]
  },
  {
   "cell_type": "code",
   "execution_count": null,
   "metadata": {
    "collapsed": false
   },
   "outputs": [],
   "source": [
    "dataset.head()"
   ]
  },
  {
   "cell_type": "code",
   "execution_count": null,
   "metadata": {
    "collapsed": false
   },
   "outputs": [],
   "source": [
    "all_words=[]\n",
    "\n",
    "len(dataset)"
   ]
  },
  {
   "cell_type": "code",
   "execution_count": null,
   "metadata": {
    "collapsed": false
   },
   "outputs": [],
   "source": [
    "splitWords=dataset['Description'].str.split(' ')"
   ]
  },
  {
   "cell_type": "code",
   "execution_count": null,
   "metadata": {
    "collapsed": true
   },
   "outputs": [],
   "source": [
    "splitWordsAll=[]"
   ]
  },
  {
   "cell_type": "code",
   "execution_count": null,
   "metadata": {
    "collapsed": false
   },
   "outputs": [],
   "source": [
    "for w in splitWords:\n",
    "    splitWordsAll.append(w)"
   ]
  },
  {
   "cell_type": "code",
   "execution_count": null,
   "metadata": {
    "collapsed": false
   },
   "outputs": [],
   "source": [
    "splitWordsAll"
   ]
  },
  {
   "cell_type": "code",
   "execution_count": null,
   "metadata": {
    "collapsed": true
   },
   "outputs": [],
   "source": []
  },
  {
   "cell_type": "code",
   "execution_count": null,
   "metadata": {
    "collapsed": false
   },
   "outputs": [],
   "source": [
    "all_wordsAll=nltk.FreqDist(all_words)\n",
    "print all_wordsAll.most_common(15) "
   ]
  },
  {
   "cell_type": "code",
   "execution_count": null,
   "metadata": {
    "collapsed": true
   },
   "outputs": [],
   "source": []
  },
  {
   "cell_type": "code",
   "execution_count": null,
   "metadata": {
    "collapsed": true
   },
   "outputs": [],
   "source": []
  },
  {
   "cell_type": "code",
   "execution_count": null,
   "metadata": {
    "collapsed": true
   },
   "outputs": [],
   "source": []
  },
  {
   "cell_type": "code",
   "execution_count": null,
   "metadata": {
    "collapsed": true
   },
   "outputs": [],
   "source": []
  }
 ],
 "metadata": {
  "anaconda-cloud": {},
  "kernelspec": {
   "display_name": "Python [Root]",
   "language": "python",
   "name": "Python [Root]"
  },
  "language_info": {
   "codemirror_mode": {
    "name": "ipython",
    "version": 2
   },
   "file_extension": ".py",
   "mimetype": "text/x-python",
   "name": "python",
   "nbconvert_exporter": "python",
   "pygments_lexer": "ipython2",
   "version": "2.7.12"
  }
 },
 "nbformat": 4,
 "nbformat_minor": 0
}
