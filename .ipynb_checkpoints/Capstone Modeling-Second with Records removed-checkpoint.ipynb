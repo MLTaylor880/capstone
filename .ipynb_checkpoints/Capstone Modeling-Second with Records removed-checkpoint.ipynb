{
 "cells": [
  {
   "cell_type": "code",
   "execution_count": 1,
   "metadata": {
    "collapsed": true
   },
   "outputs": [],
   "source": [
    "import csv\n",
    "import pandas as pd\n",
    "import numpy as np\n",
    "import matplotlib.pyplot as plt\n",
    "%matplotlib inline\n",
    "import sys  \n",
    "\n",
    "#extraction and npl\n",
    "from sklearn.feature_extraction.text import CountVectorizer\n",
    "import nltk\n",
    "from nltk.stem.wordnet import WordNetLemmatizer\n",
    "from nltk.stem import PorterStemmer\n",
    "from nltk import word_tokenize\n",
    "from sklearn.feature_selection import SelectKBest\n",
    "from sklearn.feature_extraction import DictVectorizer\n",
    "from sklearn.feature_selection import RFE\n",
    "from sklearn.feature_extraction.text import TfidfVectorizer\n",
    "from sklearn import preprocessing\n",
    "\n",
    "from sklearn.cross_validation import train_test_split\n",
    "from sklearn.cross_validation import StratifiedShuffleSplit\n",
    "\n",
    "from sklearn.cluster import KMeans\n",
    "\n",
    "from sklearn.grid_search import GridSearchCV\n",
    "from sklearn.linear_model import LogisticRegression\n",
    "from sklearn.metrics import confusion_matrix, classification_report\n",
    "\n",
    "\n",
    "#forest\n",
    "from sklearn.tree import DecisionTreeClassifier\n",
    "from sklearn.tree import DecisionTreeRegressor\n",
    "#bagging\n",
    "from sklearn.ensemble import BaggingClassifier\n",
    "#forests\n",
    "from sklearn.ensemble import RandomForestClassifier, ExtraTreesClassifier\n",
    "from sklearn.datasets import make_classification\n",
    "\n",
    "#Knn\n",
    "from sklearn.neighbors import KNeighborsClassifier\n",
    "\n",
    "\n",
    "\n",
    "from sklearn.preprocessing import LabelEncoder\n",
    "\n",
    "\n",
    "from sklearn.cross_validation import cross_val_score, StratifiedKFold\n",
    "from sklearn import datasets\n",
    "\n",
    "import string\n",
    "\n",
    "from sklearn.decomposition import PCA\n",
    "\n",
    "from sklearn.naive_bayes import MultinomialNB\n",
    "\n",
    "from sklearn.datasets import make_blobs\n",
    "from sklearn.metrics import silhouette_samples,silhouette_score\n",
    "import matplotlib.cm as cm\n",
    "from sklearn.preprocessing import StandardScaler\n",
    "from sklearn.cluster import AgglomerativeClustering"
   ]
  },
  {
   "cell_type": "markdown",
   "metadata": {},
   "source": [
    "#  I scraped data in another workbook \n",
    "I scraped Indeed.com \n",
    "The search terms are my degrees. I only search my geographical region"
   ]
  },
  {
   "cell_type": "code",
   "execution_count": 2,
   "metadata": {
    "collapsed": true
   },
   "outputs": [],
   "source": [
    "#importing the CSV file with the data from Indeed\n",
    "listingFile =pd.read_csv(\"Listings7.csv\",encoding='utf-8')"
   ]
  },
  {
   "cell_type": "code",
   "execution_count": 3,
   "metadata": {
    "collapsed": false
   },
   "outputs": [
    {
     "data": {
      "text/plain": [
       "(4390, 8)"
      ]
     },
     "execution_count": 3,
     "metadata": {},
     "output_type": "execute_result"
    }
   ],
   "source": [
    "listingFile.shape"
   ]
  },
  {
   "cell_type": "code",
   "execution_count": 4,
   "metadata": {
    "collapsed": false
   },
   "outputs": [
    {
     "data": {
      "text/html": [
       "<div>\n",
       "<table border=\"1\" class=\"dataframe\">\n",
       "  <thead>\n",
       "    <tr style=\"text-align: right;\">\n",
       "      <th></th>\n",
       "      <th>Unnamed: 0</th>\n",
       "      <th>City Location</th>\n",
       "      <th>Company Name</th>\n",
       "      <th>Degree</th>\n",
       "      <th>Description</th>\n",
       "      <th>Job Title</th>\n",
       "      <th>Search Criteria</th>\n",
       "      <th>Source</th>\n",
       "    </tr>\n",
       "  </thead>\n",
       "  <tbody>\n",
       "    <tr>\n",
       "      <th>0</th>\n",
       "      <td>0</td>\n",
       "      <td>Cincinnati, OH</td>\n",
       "      <td>Pro4ia, Inc.</td>\n",
       "      <td>user+support</td>\n",
       "      <td>Day-to-day desktop support. Input all service ...</td>\n",
       "      <td>Level 1/2 Desktop Support</td>\n",
       "      <td>user+support</td>\n",
       "      <td>Indeed</td>\n",
       "    </tr>\n",
       "    <tr>\n",
       "      <th>1</th>\n",
       "      <td>1</td>\n",
       "      <td>Columbus, OH 43215</td>\n",
       "      <td>The Woda Group, Inc.</td>\n",
       "      <td>user+support</td>\n",
       "      <td>, is seeking a *Yardi Voyager Support Speciali...</td>\n",
       "      <td>Yardi Voyager Support Specialist</td>\n",
       "      <td>user+support</td>\n",
       "      <td>Indeed</td>\n",
       "    </tr>\n",
       "    <tr>\n",
       "      <th>2</th>\n",
       "      <td>2</td>\n",
       "      <td>Fort Wayne, IN</td>\n",
       "      <td>ENS Group, Inc.</td>\n",
       "      <td>user+support</td>\n",
       "      <td>Knowledge/experience supporting mobile users. ...</td>\n",
       "      <td>Service Desk Technician</td>\n",
       "      <td>user+support</td>\n",
       "      <td>Indeed</td>\n",
       "    </tr>\n",
       "    <tr>\n",
       "      <th>3</th>\n",
       "      <td>12</td>\n",
       "      <td>Dayton, OH</td>\n",
       "      <td>Riverside Research</td>\n",
       "      <td>software+development</td>\n",
       "      <td>Produce detailed specifications for software r...</td>\n",
       "      <td>Software Developer</td>\n",
       "      <td>software+development</td>\n",
       "      <td>Indeed</td>\n",
       "    </tr>\n",
       "    <tr>\n",
       "      <th>4</th>\n",
       "      <td>13</td>\n",
       "      <td>Wright-Patterson AFB, OH</td>\n",
       "      <td>Riverside Research</td>\n",
       "      <td>software+development</td>\n",
       "      <td>Software development and hardware integration ...</td>\n",
       "      <td>Software Engineer</td>\n",
       "      <td>software+development</td>\n",
       "      <td>Indeed</td>\n",
       "    </tr>\n",
       "  </tbody>\n",
       "</table>\n",
       "</div>"
      ],
      "text/plain": [
       "   Unnamed: 0             City Location          Company Name  \\\n",
       "0           0            Cincinnati, OH          Pro4ia, Inc.   \n",
       "1           1        Columbus, OH 43215  The Woda Group, Inc.   \n",
       "2           2            Fort Wayne, IN       ENS Group, Inc.   \n",
       "3          12                Dayton, OH    Riverside Research   \n",
       "4          13  Wright-Patterson AFB, OH    Riverside Research   \n",
       "\n",
       "                 Degree                                        Description  \\\n",
       "0          user+support  Day-to-day desktop support. Input all service ...   \n",
       "1          user+support  , is seeking a *Yardi Voyager Support Speciali...   \n",
       "2          user+support  Knowledge/experience supporting mobile users. ...   \n",
       "3  software+development  Produce detailed specifications for software r...   \n",
       "4  software+development  Software development and hardware integration ...   \n",
       "\n",
       "                          Job Title       Search Criteria  Source  \n",
       "0         Level 1/2 Desktop Support          user+support  Indeed  \n",
       "1  Yardi Voyager Support Specialist          user+support  Indeed  \n",
       "2           Service Desk Technician          user+support  Indeed  \n",
       "3                Software Developer  software+development  Indeed  \n",
       "4                 Software Engineer  software+development  Indeed  "
      ]
     },
     "execution_count": 4,
     "metadata": {},
     "output_type": "execute_result"
    }
   ],
   "source": [
    "listingFile.head()"
   ]
  },
  {
   "cell_type": "code",
   "execution_count": 5,
   "metadata": {
    "collapsed": true
   },
   "outputs": [],
   "source": [
    "#Richard tried this.  You will see at the end when we tried unstructured clustering. It\n",
    "#was a disaster so he thought there might be some foreign language listings. Not so.  I tried to \n",
    "#remove words (see below). Also did not work\n",
    "from guess_language import guessLanguage"
   ]
  },
  {
   "cell_type": "code",
   "execution_count": 6,
   "metadata": {
    "collapsed": true
   },
   "outputs": [],
   "source": [
    "listingFile['english']=listingFile['Description'].apply(lambda x: guessLanguage(x))"
   ]
  },
  {
   "cell_type": "code",
   "execution_count": 7,
   "metadata": {
    "collapsed": false
   },
   "outputs": [
    {
     "data": {
      "text/plain": [
       "en     4198\n",
       "fr       91\n",
       "ca       39\n",
       "la       16\n",
       "af        9\n",
       "da        9\n",
       "it        6\n",
       "de        5\n",
       "nb        4\n",
       "pt        4\n",
       "es        3\n",
       "nl        2\n",
       "ro        2\n",
       "sv        1\n",
       "ceb       1\n",
       "Name: english, dtype: int64"
      ]
     },
     "execution_count": 7,
     "metadata": {},
     "output_type": "execute_result"
    }
   ],
   "source": [
    "listingFile['english'].value_counts()"
   ]
  },
  {
   "cell_type": "code",
   "execution_count": null,
   "metadata": {
    "collapsed": true
   },
   "outputs": [],
   "source": []
  },
  {
   "cell_type": "code",
   "execution_count": 8,
   "metadata": {
    "collapsed": false
   },
   "outputs": [
    {
     "data": {
      "text/plain": [
       "software+development    928\n",
       "user+support            899\n",
       "network+manager         872\n",
       "web+development         864\n",
       "network+engineer        552\n",
       "cyber+security          275\n",
       "Name: Degree, dtype: int64"
      ]
     },
     "execution_count": 8,
     "metadata": {},
     "output_type": "execute_result"
    }
   ],
   "source": [
    "listingFile['Degree'].value_counts()"
   ]
  },
  {
   "cell_type": "markdown",
   "metadata": {},
   "source": [
    "# Data Cleaning"
   ]
  },
  {
   "cell_type": "code",
   "execution_count": 9,
   "metadata": {
    "collapsed": true
   },
   "outputs": [],
   "source": [
    "#now make all words in description lower case\n",
    "listingFile['CleanDescription']=listingFile['Description'].apply(lambda x: x.lower())"
   ]
  },
  {
   "cell_type": "code",
   "execution_count": 10,
   "metadata": {
    "collapsed": true
   },
   "outputs": [],
   "source": [
    "#removing numbers\n",
    "listingFile['CleanDescription']= listingFile['CleanDescription'].apply(lambda x: ''.join([i for i in x if not i.isdigit()]))"
   ]
  },
  {
   "cell_type": "code",
   "execution_count": 11,
   "metadata": {
    "collapsed": true
   },
   "outputs": [],
   "source": [
    "#remove punctuation - code could be more efficient\n",
    "listingFile['CleanDescription']= listingFile['CleanDescription'].apply(lambda x: x.strip(','))\n",
    "listingFile['CleanDescription']= listingFile['CleanDescription'].apply(lambda x: x.strip('.'))\n",
    "#listingFile['CleanDescription']= listingFile['CleanDescription'].apply(lambda x: x.replace('\\('))\n",
    "\n"
   ]
  },
  {
   "cell_type": "code",
   "execution_count": 12,
   "metadata": {
    "collapsed": true
   },
   "outputs": [],
   "source": [
    "#removing numbers from the descriptions\n",
    "listingFile['CleanDescription']= listingFile['CleanDescription'].apply(lambda x: x.lstrip().replace('\\n',''))"
   ]
  },
  {
   "cell_type": "code",
   "execution_count": 13,
   "metadata": {
    "collapsed": false
   },
   "outputs": [
    {
     "data": {
      "text/plain": [
       "Unnamed: 0          0\n",
       "City Location       0\n",
       "Company Name        0\n",
       "Degree              0\n",
       "Description         0\n",
       "Job Title           0\n",
       "Search Criteria     0\n",
       "Source              0\n",
       "english             0\n",
       "CleanDescription    0\n",
       "dtype: int64"
      ]
     },
     "execution_count": 13,
     "metadata": {},
     "output_type": "execute_result"
    }
   ],
   "source": [
    "#checking to see if any null characters\n",
    "listingFile.isnull().sum()"
   ]
  },
  {
   "cell_type": "code",
   "execution_count": 14,
   "metadata": {
    "collapsed": false
   },
   "outputs": [
    {
     "name": "stdout",
     "output_type": "stream",
     "text": [
      "(4390, 10)\n",
      "(4390, 10)\n"
     ]
    }
   ],
   "source": [
    "#drop duplicates\n",
    "print listingFile.shape\n",
    "listingFile=listingFile.drop_duplicates()\n",
    "print listingFile.shape"
   ]
  },
  {
   "cell_type": "code",
   "execution_count": 15,
   "metadata": {
    "collapsed": false
   },
   "outputs": [],
   "source": [
    "# Removing certain words to see if this will improve my clustering. It did not."
   ]
  },
  {
   "cell_type": "code",
   "execution_count": 16,
   "metadata": {
    "collapsed": true
   },
   "outputs": [],
   "source": [
    "listingFile['CleanDescription']= listingFile['CleanDescription'].apply(lambda x: x.replace('development',''))"
   ]
  },
  {
   "cell_type": "code",
   "execution_count": 17,
   "metadata": {
    "collapsed": true
   },
   "outputs": [],
   "source": [
    "listingFile['CleanDescription']= listingFile['CleanDescription'].apply(lambda x: x.replace('manager',''))"
   ]
  },
  {
   "cell_type": "code",
   "execution_count": 18,
   "metadata": {
    "collapsed": true
   },
   "outputs": [],
   "source": [
    "listingFile['CleanDescription']= listingFile['CleanDescription'].apply(lambda x: x.replace('*',''))"
   ]
  },
  {
   "cell_type": "code",
   "execution_count": 19,
   "metadata": {
    "collapsed": false
   },
   "outputs": [],
   "source": [
    "\n",
    "# listingFile['CleanDescription']=listingFile['CleanDescription'].apply(lambda x: x.strip('development'))"
   ]
  },
  {
   "cell_type": "code",
   "execution_count": 20,
   "metadata": {
    "collapsed": true
   },
   "outputs": [],
   "source": [
    "# listingFile['CleanDescription']=listingFile['CleanDescription'].apply(lambda x: x.strip('manager'))"
   ]
  },
  {
   "cell_type": "code",
   "execution_count": 21,
   "metadata": {
    "collapsed": false
   },
   "outputs": [
    {
     "data": {
      "text/plain": [
       "0     day-to-day desktop support. input all service ...\n",
       "1     is seeking a yardi voyager support specialist....\n",
       "2     knowledge/experience supporting mobile users. ...\n",
       "3     produce detailed specifications for software r...\n",
       "4     software  and hardware integration experience....\n",
       "5     advanced html/css  (responsive design/mobile f...\n",
       "6     we are looking for a front-end web designer/de...\n",
       "7     blue laser design is actively looking to add a...\n",
       "8      of enterprise web . applications • database d...\n",
       "9     advanced or formal training in network technol...\n",
       "10    network services . support and develop corpora...\n",
       "11    as head of ops tech network engineering, you w...\n",
       "12    field network engineer. integrate with other s...\n",
       "13    due to our rapid growth, lang company is looki...\n",
       "14    assists in the , implementation and maintenanc...\n",
       "15    apply knowledge of latest cyber security indus...\n",
       "16    ability to obtain and maintain a secret securi...\n",
       "17    the network information security analyst will ...\n",
       "18    provides internal consulting, technical guidan...\n",
       "19    windows systems that support the administrativ...\n",
       "20    to develop intuitive user interfaces. support ...\n",
       "21    in addition to providing direct end-user suppo...\n",
       "22    communicating with users to understand issues ...\n",
       "23    the it help desk technician will be responsibl...\n",
       "24    manages customer support analyst workload by r...\n",
       "25    supervisor, system support. ensure outstanding...\n",
       "26    this position will work with other members of ...\n",
       "27    active participation in user acceptance testin...\n",
       "28    proactively provides support to children, serv...\n",
       "29    the it support assistant will provide support ...\n",
       "Name: CleanDescription, dtype: object"
      ]
     },
     "execution_count": 21,
     "metadata": {},
     "output_type": "execute_result"
    }
   ],
   "source": [
    "listingFile['CleanDescription'].head(30)"
   ]
  },
  {
   "cell_type": "markdown",
   "metadata": {},
   "source": [
    "# looking at degrees and graduates"
   ]
  },
  {
   "cell_type": "code",
   "execution_count": 22,
   "metadata": {
    "collapsed": false
   },
   "outputs": [
    {
     "data": {
      "text/html": [
       "<div>\n",
       "<table border=\"1\" class=\"dataframe\">\n",
       "  <thead>\n",
       "    <tr style=\"text-align: right;\">\n",
       "      <th></th>\n",
       "      <th>Degree</th>\n",
       "      <th>Number of Grads</th>\n",
       "      <th>Number Listings</th>\n",
       "      <th>pctGradsToListing</th>\n",
       "    </tr>\n",
       "  </thead>\n",
       "  <tbody>\n",
       "    <tr>\n",
       "      <th>0</th>\n",
       "      <td>user+support</td>\n",
       "      <td>30</td>\n",
       "      <td>899</td>\n",
       "      <td>0.033370</td>\n",
       "    </tr>\n",
       "    <tr>\n",
       "      <th>1</th>\n",
       "      <td>software+development</td>\n",
       "      <td>71</td>\n",
       "      <td>928</td>\n",
       "      <td>0.076509</td>\n",
       "    </tr>\n",
       "    <tr>\n",
       "      <th>2</th>\n",
       "      <td>web+development</td>\n",
       "      <td>31</td>\n",
       "      <td>864</td>\n",
       "      <td>0.035880</td>\n",
       "    </tr>\n",
       "    <tr>\n",
       "      <th>3</th>\n",
       "      <td>network+manager</td>\n",
       "      <td>77</td>\n",
       "      <td>872</td>\n",
       "      <td>0.088303</td>\n",
       "    </tr>\n",
       "    <tr>\n",
       "      <th>4</th>\n",
       "      <td>network+engineer</td>\n",
       "      <td>79</td>\n",
       "      <td>552</td>\n",
       "      <td>0.143116</td>\n",
       "    </tr>\n",
       "    <tr>\n",
       "      <th>5</th>\n",
       "      <td>cyber+security</td>\n",
       "      <td>8</td>\n",
       "      <td>275</td>\n",
       "      <td>0.029091</td>\n",
       "    </tr>\n",
       "  </tbody>\n",
       "</table>\n",
       "</div>"
      ],
      "text/plain": [
       "                 Degree  Number of Grads  Number Listings  pctGradsToListing\n",
       "0          user+support               30              899           0.033370\n",
       "1  software+development               71              928           0.076509\n",
       "2       web+development               31              864           0.035880\n",
       "3       network+manager               77              872           0.088303\n",
       "4      network+engineer               79              552           0.143116\n",
       "5        cyber+security                8              275           0.029091"
      ]
     },
     "execution_count": 22,
     "metadata": {},
     "output_type": "execute_result"
    }
   ],
   "source": [
    "#creating a table of actual degrees and certificates the college awarded per degree\n",
    "#this is public information and was manually entered\n",
    "#degree included short term certificates\n",
    "tempFile =listingFile.groupby('Degree').count()\n",
    "tempFile=pd.DataFrame(tempFile['Unnamed: 0'])\n",
    "tempFile.reset_index(inplace=True)\n",
    "\n",
    "collegeDegreesVSJobs=pd.DataFrame({'DegreeArea': ['user+support', 'software+development', \n",
    "                         'web+development', 'network+manager', 'network+engineer', \n",
    "                         'cyber+security'],'Number of': [30,71,31,77,79,8]})\n",
    "collegeDegreesVSJobs.columns=[['Degree', 'Number of Grads']]\n",
    "collegeDF= pd.merge(collegeDegreesVSJobs, tempFile, on='Degree')\n",
    "collegeDF.columns=[['Degree', 'Number of Grads', 'Number Listings']]\n",
    "collegeDF['pctGradsToListing']=collegeDF['Number of Grads']/collegeDF['Number Listings']\n",
    "collegeDF"
   ]
  },
  {
   "cell_type": "code",
   "execution_count": 23,
   "metadata": {
    "collapsed": false
   },
   "outputs": [
    {
     "data": {
      "image/png": "[encoded data removed]",
      "text/plain": [
       "<matplotlib.figure.Figure at 0x1184d6350>"
      ]
     },
     "metadata": {},
     "output_type": "display_data"
    }
   ],
   "source": [
    "#bar chart\n",
    "yCollege=collegeDF['Number of Grads']\n",
    "xCollege=collegeDF['Degree']\n",
    "plt.bar(range(0, len(xCollege)) ,yCollege)\n",
    "labels=['user+support', 'software+development', \n",
    "                         'web+development', 'network+manager', 'network+engineer', \n",
    "                         'cyber+security']\n",
    "\n",
    "plt.xticks(range(6), labels, rotation='vertical')\n",
    "plt.title('Number of Degrees and Certificates');\n",
    "\n"
   ]
  },
  {
   "cell_type": "code",
   "execution_count": 24,
   "metadata": {
    "collapsed": false
   },
   "outputs": [
    {
     "data": {
      "image/png": "[encoded data removed]",
      "text/plain": [
       "<matplotlib.figure.Figure at 0x1191dedd0>"
      ]
     },
     "metadata": {},
     "output_type": "display_data"
    }
   ],
   "source": [
    "#bar chart\n",
    "yCollege=collegeDF['pctGradsToListing']\n",
    "xCollege=collegeDF['Degree']\n",
    "plt.bar(range(0, len(xCollege)) ,yCollege)\n",
    "labels=['user+support', 'software+development', \n",
    "                         'web+development', 'network+manager', 'network+engineer', \n",
    "                         'cyber+security']\n",
    "\n",
    "plt.xticks(range(6), labels, rotation='vertical')\n",
    "plt.title('Percent Grads to Listings');"
   ]
  },
  {
   "cell_type": "markdown",
   "metadata": {},
   "source": [
    "# this is where I would add stemmers lammers\n",
    "talk with Richard  not enough time!"
   ]
  },
  {
   "cell_type": "code",
   "execution_count": null,
   "metadata": {
    "collapsed": true
   },
   "outputs": [],
   "source": []
  },
  {
   "cell_type": "markdown",
   "metadata": {},
   "source": [
    "# Label encoder for degrees"
   ]
  },
  {
   "cell_type": "code",
   "execution_count": 25,
   "metadata": {
    "collapsed": false
   },
   "outputs": [
    {
     "data": {
      "text/plain": [
       "LabelEncoder()"
      ]
     },
     "execution_count": 25,
     "metadata": {},
     "output_type": "execute_result"
    }
   ],
   "source": [
    "label_encoder = preprocessing.LabelEncoder()\n",
    "input_classes = ['user+support', 'software+development', 'web+development', 'network+manager',\n",
    "        'network+engineer', 'cyber+security']\n",
    "label_encoder.fit(input_classes)\n"
   ]
  },
  {
   "cell_type": "code",
   "execution_count": 26,
   "metadata": {
    "collapsed": false
   },
   "outputs": [
    {
     "name": "stdout",
     "output_type": "stream",
     "text": [
      "\n",
      "Labels = ['user+support', 'software+development', 'web+development', 'network+manager', 'network+engineer', 'cyber+security']\n",
      "Encoded labels = [4, 3, 5, 2, 1, 0]\n"
     ]
    }
   ],
   "source": [
    "encoded_labels = label_encoder.transform(input_classes)\n",
    "print \"\\nLabels =\", input_classes \n",
    "print \"Encoded labels =\", list(encoded_labels)"
   ]
  },
  {
   "cell_type": "code",
   "execution_count": 27,
   "metadata": {
    "collapsed": true
   },
   "outputs": [],
   "source": [
    "#creating a column for encoded degree\n",
    "listingFile['encodedDegree']=label_encoder.transform(listingFile['Degree'])"
   ]
  },
  {
   "cell_type": "code",
   "execution_count": null,
   "metadata": {
    "collapsed": true
   },
   "outputs": [],
   "source": []
  },
  {
   "cell_type": "markdown",
   "metadata": {},
   "source": [
    "# count vectorizer of the cleanDescription"
   ]
  },
  {
   "cell_type": "code",
   "execution_count": 28,
   "metadata": {
    "collapsed": true
   },
   "outputs": [],
   "source": [
    "# will not limit the number of words\n",
    "cvec = CountVectorizer()\n",
    "v = CountVectorizer(\n",
    "    binary=True,  \n",
    "    stop_words='english')\n",
    "#,max_features=500\n"
   ]
  },
  {
   "cell_type": "code",
   "execution_count": 29,
   "metadata": {
    "collapsed": false
   },
   "outputs": [
    {
     "data": {
      "text/plain": [
       "(4390, 5552)"
      ]
     },
     "execution_count": 29,
     "metadata": {},
     "output_type": "execute_result"
    }
   ],
   "source": [
    "wordsDescription = v.fit_transform(listingFile['CleanDescription']).todense()\n",
    "wordsDescription = pd.DataFrame(wordsDescription, columns=v.get_feature_names())\n",
    "wordsDescription.shape"
   ]
  },
  {
   "cell_type": "code",
   "execution_count": 30,
   "metadata": {
    "collapsed": false
   },
   "outputs": [
    {
     "data": {
      "text/html": [
       "<div>\n",
       "<table border=\"1\" class=\"dataframe\">\n",
       "  <thead>\n",
       "    <tr style=\"text-align: right;\">\n",
       "      <th></th>\n",
       "      <th>_adaptive</th>\n",
       "      <th>_care</th>\n",
       "      <th>aam</th>\n",
       "      <th>aarp</th>\n",
       "      <th>abb</th>\n",
       "      <th>abbott</th>\n",
       "      <th>abc</th>\n",
       "      <th>abide</th>\n",
       "      <th>abilities</th>\n",
       "      <th>ability</th>\n",
       "      <th>...</th>\n",
       "      <th>yes</th>\n",
       "      <th>young</th>\n",
       "      <th>youth</th>\n",
       "      <th>yp</th>\n",
       "      <th>yrs</th>\n",
       "      <th>yslow</th>\n",
       "      <th>zero</th>\n",
       "      <th>zone</th>\n",
       "      <th>zoning</th>\n",
       "      <th>zycron</th>\n",
       "    </tr>\n",
       "  </thead>\n",
       "  <tbody>\n",
       "    <tr>\n",
       "      <th>0</th>\n",
       "      <td>0</td>\n",
       "      <td>0</td>\n",
       "      <td>0</td>\n",
       "      <td>0</td>\n",
       "      <td>0</td>\n",
       "      <td>0</td>\n",
       "      <td>0</td>\n",
       "      <td>0</td>\n",
       "      <td>0</td>\n",
       "      <td>0</td>\n",
       "      <td>...</td>\n",
       "      <td>0</td>\n",
       "      <td>0</td>\n",
       "      <td>0</td>\n",
       "      <td>0</td>\n",
       "      <td>0</td>\n",
       "      <td>0</td>\n",
       "      <td>0</td>\n",
       "      <td>0</td>\n",
       "      <td>0</td>\n",
       "      <td>0</td>\n",
       "    </tr>\n",
       "  </tbody>\n",
       "</table>\n",
       "<p>1 rows × 5552 columns</p>\n",
       "</div>"
      ],
      "text/plain": [
       "   _adaptive  _care  aam  aarp  abb  abbott  abc  abide  abilities  ability  \\\n",
       "0          0      0    0     0    0       0    0      0          0        0   \n",
       "\n",
       "    ...    yes  young  youth  yp  yrs  yslow  zero  zone  zoning  zycron  \n",
       "0   ...      0      0      0   0    0      0     0     0       0       0  \n",
       "\n",
       "[1 rows x 5552 columns]"
      ]
     },
     "execution_count": 30,
     "metadata": {},
     "output_type": "execute_result"
    }
   ],
   "source": [
    "wordsDescription.head(1)"
   ]
  },
  {
   "cell_type": "markdown",
   "metadata": {},
   "source": [
    "# create dummies from the degree to see if words can predict degree"
   ]
  },
  {
   "cell_type": "code",
   "execution_count": 31,
   "metadata": {
    "collapsed": false
   },
   "outputs": [
    {
     "data": {
      "text/html": [
       "<div>\n",
       "<table border=\"1\" class=\"dataframe\">\n",
       "  <thead>\n",
       "    <tr style=\"text-align: right;\">\n",
       "      <th></th>\n",
       "      <th>_adaptive</th>\n",
       "      <th>_care</th>\n",
       "      <th>aam</th>\n",
       "      <th>aarp</th>\n",
       "      <th>abb</th>\n",
       "      <th>abbott</th>\n",
       "      <th>abc</th>\n",
       "      <th>abide</th>\n",
       "      <th>abilities</th>\n",
       "      <th>ability</th>\n",
       "      <th>...</th>\n",
       "      <th>zero</th>\n",
       "      <th>zone</th>\n",
       "      <th>zoning</th>\n",
       "      <th>zycron</th>\n",
       "      <th>cyber+security</th>\n",
       "      <th>network+engineer</th>\n",
       "      <th>network+manager</th>\n",
       "      <th>software+development</th>\n",
       "      <th>user+support</th>\n",
       "      <th>web+development</th>\n",
       "    </tr>\n",
       "  </thead>\n",
       "  <tbody>\n",
       "    <tr>\n",
       "      <th>0</th>\n",
       "      <td>0</td>\n",
       "      <td>0</td>\n",
       "      <td>0</td>\n",
       "      <td>0</td>\n",
       "      <td>0</td>\n",
       "      <td>0</td>\n",
       "      <td>0</td>\n",
       "      <td>0</td>\n",
       "      <td>0</td>\n",
       "      <td>0</td>\n",
       "      <td>...</td>\n",
       "      <td>0</td>\n",
       "      <td>0</td>\n",
       "      <td>0</td>\n",
       "      <td>0</td>\n",
       "      <td>0.0</td>\n",
       "      <td>0.0</td>\n",
       "      <td>0.0</td>\n",
       "      <td>0.0</td>\n",
       "      <td>1.0</td>\n",
       "      <td>0.0</td>\n",
       "    </tr>\n",
       "  </tbody>\n",
       "</table>\n",
       "<p>1 rows × 5558 columns</p>\n",
       "</div>"
      ],
      "text/plain": [
       "   _adaptive  _care  aam  aarp  abb  abbott  abc  abide  abilities  ability  \\\n",
       "0          0      0    0     0    0       0    0      0          0        0   \n",
       "\n",
       "        ...         zero  zone  zoning  zycron  cyber+security  \\\n",
       "0       ...            0     0       0       0             0.0   \n",
       "\n",
       "   network+engineer  network+manager  software+development  user+support  \\\n",
       "0               0.0              0.0                   0.0           1.0   \n",
       "\n",
       "   web+development  \n",
       "0              0.0  \n",
       "\n",
       "[1 rows x 5558 columns]"
      ]
     },
     "execution_count": 31,
     "metadata": {},
     "output_type": "execute_result"
    }
   ],
   "source": [
    "degreeDummies=pd.get_dummies(listingFile['Degree'])\n",
    "wordDescDegree=pd.DataFrame(wordsDescription).join(pd.DataFrame(degreeDummies))\n",
    "wordDescDegree.head(1)"
   ]
  },
  {
   "cell_type": "code",
   "execution_count": 32,
   "metadata": {
    "collapsed": true
   },
   "outputs": [],
   "source": [
    "allDegreeData=pd.DataFrame(listingFile['encodedDegree']).join(pd.DataFrame(listingFile['Degree'])).join(pd.DataFrame(degreeDummies))"
   ]
  },
  {
   "cell_type": "code",
   "execution_count": 33,
   "metadata": {
    "collapsed": false
   },
   "outputs": [
    {
     "data": {
      "text/html": [
       "<div>\n",
       "<table border=\"1\" class=\"dataframe\">\n",
       "  <thead>\n",
       "    <tr style=\"text-align: right;\">\n",
       "      <th></th>\n",
       "      <th>encodedDegree</th>\n",
       "      <th>Degree</th>\n",
       "      <th>cyber+security</th>\n",
       "      <th>network+engineer</th>\n",
       "      <th>network+manager</th>\n",
       "      <th>software+development</th>\n",
       "      <th>user+support</th>\n",
       "      <th>web+development</th>\n",
       "    </tr>\n",
       "  </thead>\n",
       "  <tbody>\n",
       "    <tr>\n",
       "      <th>0</th>\n",
       "      <td>4</td>\n",
       "      <td>user+support</td>\n",
       "      <td>0.0</td>\n",
       "      <td>0.0</td>\n",
       "      <td>0.0</td>\n",
       "      <td>0.0</td>\n",
       "      <td>1.0</td>\n",
       "      <td>0.0</td>\n",
       "    </tr>\n",
       "  </tbody>\n",
       "</table>\n",
       "</div>"
      ],
      "text/plain": [
       "   encodedDegree        Degree  cyber+security  network+engineer  \\\n",
       "0              4  user+support             0.0               0.0   \n",
       "\n",
       "   network+manager  software+development  user+support  web+development  \n",
       "0              0.0                   0.0           1.0              0.0  "
      ]
     },
     "execution_count": 33,
     "metadata": {},
     "output_type": "execute_result"
    }
   ],
   "source": [
    "allDegreeData.head(1)"
   ]
  },
  {
   "cell_type": "code",
   "execution_count": null,
   "metadata": {
    "collapsed": true
   },
   "outputs": [],
   "source": []
  },
  {
   "cell_type": "markdown",
   "metadata": {},
   "source": [
    "# create train test"
   ]
  },
  {
   "cell_type": "code",
   "execution_count": 34,
   "metadata": {
    "collapsed": false
   },
   "outputs": [
    {
     "data": {
      "text/plain": [
       "((4390, 5552), (4390,))"
      ]
     },
     "execution_count": 34,
     "metadata": {},
     "output_type": "execute_result"
    }
   ],
   "source": [
    "wordsDescription.shape , listingFile['encodedDegree'].shape"
   ]
  },
  {
   "cell_type": "markdown",
   "metadata": {},
   "source": [
    "## setting the x and y"
   ]
  },
  {
   "cell_type": "code",
   "execution_count": 35,
   "metadata": {
    "collapsed": true
   },
   "outputs": [],
   "source": [
    "x=wordsDescription\n",
    "y=listingFile['encodedDegree']"
   ]
  },
  {
   "cell_type": "code",
   "execution_count": 36,
   "metadata": {
    "collapsed": true
   },
   "outputs": [],
   "source": [
    "x_train, x_test, y_train, y_test= train_test_split(x.values,y.values, test_size=.4, stratify=y )"
   ]
  },
  {
   "cell_type": "code",
   "execution_count": 37,
   "metadata": {
    "collapsed": false
   },
   "outputs": [
    {
     "data": {
      "text/plain": [
       "((2633, 5552), (1757, 5552), (2633,), (1757,))"
      ]
     },
     "execution_count": 37,
     "metadata": {},
     "output_type": "execute_result"
    }
   ],
   "source": [
    "x_train.shape, x_test.shape, y_train.shape, y_test.shape"
   ]
  },
  {
   "cell_type": "markdown",
   "metadata": {},
   "source": [
    "# creating dimension reduction PCA on Train Dataset"
   ]
  },
  {
   "cell_type": "code",
   "execution_count": 38,
   "metadata": {
    "collapsed": false
   },
   "outputs": [],
   "source": [
    "# I tried a series of components  decided on 5"
   ]
  },
  {
   "cell_type": "code",
   "execution_count": 39,
   "metadata": {
    "collapsed": false
   },
   "outputs": [
    {
     "data": {
      "text/plain": [
       "array([[-0.29591691,  0.81221433, -0.04705597,  0.19532329, -0.27947096],\n",
       "       [-0.40666137, -0.41990136, -0.14145304, -0.00319991, -0.07742377],\n",
       "       [-0.85530821, -0.67235069,  0.13983027,  0.10923677, -0.07060556],\n",
       "       ..., \n",
       "       [ 0.43952949,  0.52728977,  0.37862064,  1.14146486,  0.07892559],\n",
       "       [-0.35773869,  0.81458871, -0.03550783,  0.27318718, -0.22442999],\n",
       "       [-0.38179903, -0.19503332,  0.17309209, -0.11951882,  0.24341254]])"
      ]
     },
     "execution_count": 39,
     "metadata": {},
     "output_type": "execute_result"
    }
   ],
   "source": [
    "pca=PCA(n_components=5)\n",
    "pca.fit(x_train)\n",
    "pca.fit_transform(x_train)"
   ]
  },
  {
   "cell_type": "code",
   "execution_count": 40,
   "metadata": {
    "collapsed": false
   },
   "outputs": [
    {
     "data": {
      "text/plain": [
       "array([[  4.07466774e-03,  -2.40267170e-19,  -2.47506846e-19, ...,\n",
       "         -1.15857398e-07,  -4.76535355e-08,   0.00000000e+00],\n",
       "       [ -2.40267170e-19,   4.07134953e-03,  -3.89836694e-34, ...,\n",
       "          8.16842236e-20,   5.02628621e-20,   0.00000000e+00],\n",
       "       [ -2.47506846e-19,  -3.89836694e-34,   4.07134953e-03, ...,\n",
       "          1.36546404e-19,  -8.87354545e-21,   0.00000000e+00],\n",
       "       ..., \n",
       "       [ -1.15857398e-07,   8.16842236e-20,   1.36546404e-19, ...,\n",
       "          4.07191094e-03,   7.60361630e-08,   0.00000000e+00],\n",
       "       [ -4.76535355e-08,   5.02628621e-20,  -8.87354545e-21, ...,\n",
       "          7.60361630e-08,   4.07149242e-03,   0.00000000e+00],\n",
       "       [  0.00000000e+00,   0.00000000e+00,   0.00000000e+00, ...,\n",
       "          0.00000000e+00,   0.00000000e+00,   4.07134953e-03]])"
      ]
     },
     "execution_count": 40,
     "metadata": {},
     "output_type": "execute_result"
    }
   ],
   "source": [
    "pca.get_covariance()"
   ]
  },
  {
   "cell_type": "code",
   "execution_count": 41,
   "metadata": {
    "collapsed": false
   },
   "outputs": [
    {
     "data": {
      "text/plain": [
       "array([ 0.30700428,  0.23217045,  0.19459907,  0.15760145,  0.12178782])"
      ]
     },
     "execution_count": 41,
     "metadata": {},
     "output_type": "execute_result"
    }
   ],
   "source": [
    "pca.explained_variance_"
   ]
  },
  {
   "cell_type": "code",
   "execution_count": 42,
   "metadata": {
    "collapsed": false
   },
   "outputs": [
    {
     "data": {
      "text/plain": [
       "array([ 0.30700428,  0.53917473,  0.7337738 ,  0.89137526,  1.01316308])"
      ]
     },
     "execution_count": 42,
     "metadata": {},
     "output_type": "execute_result"
    }
   ],
   "source": [
    "np.cumsum(pca.explained_variance_)"
   ]
  },
  {
   "cell_type": "code",
   "execution_count": 43,
   "metadata": {
    "collapsed": true
   },
   "outputs": [],
   "source": [
    "train_features=pca.fit_transform(x_train)"
   ]
  },
  {
   "cell_type": "code",
   "execution_count": 44,
   "metadata": {
    "collapsed": false
   },
   "outputs": [
    {
     "data": {
      "text/plain": [
       "(2633, 5)"
      ]
     },
     "execution_count": 44,
     "metadata": {},
     "output_type": "execute_result"
    }
   ],
   "source": [
    "train_features.shape"
   ]
  },
  {
   "cell_type": "markdown",
   "metadata": {},
   "source": [
    "# lets try random forest with full dataset and pca\n",
    "\n",
    "1. using full data set without train test.  I am only doing this to get a list of words for each degree\n",
    "2. using PCA  I did this to see if this predicts my degrees"
   ]
  },
  {
   "cell_type": "code",
   "execution_count": 45,
   "metadata": {
    "collapsed": false
   },
   "outputs": [
    {
     "name": "stdout",
     "output_type": "stream",
     "text": [
      "<type 'numpy.ndarray'> [4 4 4 3 3 3]\n",
      "<class 'pandas.core.frame.DataFrame'>\n"
     ]
    }
   ],
   "source": [
    "#full dataset \n",
    "y=LabelEncoder().fit_transform(listingFile['Degree'])\n",
    "cv = StratifiedKFold(y, n_folds=4, shuffle=True, random_state=41)\n",
    "print type(y), y[0:6]\n",
    "print type(x)"
   ]
  },
  {
   "cell_type": "code",
   "execution_count": 46,
   "metadata": {
    "collapsed": false
   },
   "outputs": [
    {
     "data": {
      "text/plain": [
       "((4390, 5552), (4390,))"
      ]
     },
     "execution_count": 46,
     "metadata": {},
     "output_type": "execute_result"
    }
   ],
   "source": [
    "x.shape, y.shape\n"
   ]
  },
  {
   "cell_type": "code",
   "execution_count": 47,
   "metadata": {
    "collapsed": false
   },
   "outputs": [],
   "source": [
    "rf=RandomForestClassifier(class_weight ='balanced', n_jobs=-1)\n",
    "s=cross_val_score(rf,x.values,y,cv=cv, n_jobs=-1)\n"
   ]
  },
  {
   "cell_type": "code",
   "execution_count": 48,
   "metadata": {
    "collapsed": false
   },
   "outputs": [
    {
     "data": {
      "text/plain": [
       "array([ 0.77868852,  0.79143898,  0.76593807,  0.75638686])"
      ]
     },
     "execution_count": 48,
     "metadata": {},
     "output_type": "execute_result"
    }
   ],
   "source": [
    "s"
   ]
  },
  {
   "cell_type": "code",
   "execution_count": 49,
   "metadata": {
    "collapsed": false
   },
   "outputs": [],
   "source": [
    "rf.fit(x, y)\n",
    "importances = rf.feature_importances_\n",
    "std = np.std([tree.feature_importances_ for tree in rf.estimators_],\n",
    "             axis=0)\n",
    "indices = np.argsort(importances)[::-1]\n"
   ]
  },
  {
   "cell_type": "code",
   "execution_count": 50,
   "metadata": {
    "collapsed": false
   },
   "outputs": [
    {
     "data": {
      "text/plain": [
       "0.97744874715261953"
      ]
     },
     "execution_count": 50,
     "metadata": {},
     "output_type": "execute_result"
    }
   ],
   "source": [
    "#nice score of course it includes all data!\n",
    "rf.score(x, y)"
   ]
  },
  {
   "cell_type": "code",
   "execution_count": 51,
   "metadata": {
    "collapsed": false
   },
   "outputs": [],
   "source": [
    "# for f in range(x.shape[1]):\n",
    "#     print(\"%d. feature %d (%f)\" % (f + 1, indices[f], importances[indices[f]]))"
   ]
  },
  {
   "cell_type": "code",
   "execution_count": 52,
   "metadata": {
    "collapsed": false
   },
   "outputs": [
    {
     "data": {
      "image/png": "[encoded data removed]",
      "text/plain": [
       "<matplotlib.figure.Figure at 0x11bf29510>"
      ]
     },
     "metadata": {},
     "output_type": "display_data"
    }
   ],
   "source": [
    "plt.figure()\n",
    "plt.title(\"Feature importances\")\n",
    "plt.bar(range(x.shape[1]), importances[indices],\n",
    "       color=\"r\", yerr=std[indices], align=\"center\")\n",
    "plt.xticks(range(x.shape[1]), indices)\n",
    "plt.xlim([-1, x.shape[1]])\n",
    "plt.show()"
   ]
  },
  {
   "cell_type": "code",
   "execution_count": 53,
   "metadata": {
    "collapsed": true
   },
   "outputs": [],
   "source": [
    "feature_importancesRF = pd.DataFrame(rf.feature_importances_,\n",
    "                                   index = x.columns,\n",
    "                                    columns=['importance']).sort_values('importance',\n",
    "                                                                        ascending=False)"
   ]
  },
  {
   "cell_type": "code",
   "execution_count": null,
   "metadata": {
    "collapsed": true
   },
   "outputs": [],
   "source": [
    "# Creating a dataframe to hold all important features"
   ]
  },
  {
   "cell_type": "code",
   "execution_count": 68,
   "metadata": {
    "collapsed": true
   },
   "outputs": [],
   "source": [
    "allFeatureImportance=pd.DataFrame()"
   ]
  },
  {
   "cell_type": "code",
   "execution_count": 76,
   "metadata": {
    "collapsed": false
   },
   "outputs": [
    {
     "data": {
      "text/plain": [
       "Index([u'web', u'network', u'support', u'security', u'users', u'software',\n",
       "       u'experience', u'application', u'services', u'user',\n",
       "       ...\n",
       "       u'history', u'hit', u'hits', u'hitting', u'hive', u'hl', u'hmi', u'hog',\n",
       "       u'hold', u'zycron'],\n",
       "      dtype='object', length=5552)"
      ]
     },
     "execution_count": 76,
     "metadata": {},
     "output_type": "execute_result"
    }
   ],
   "source": [
    "type(feature_importancesRF)\n",
    "feature_importancesRF.index"
   ]
  },
  {
   "cell_type": "code",
   "execution_count": 78,
   "metadata": {
    "collapsed": false
   },
   "outputs": [
    {
     "data": {
      "text/html": [
       "<div>\n",
       "<table border=\"1\" class=\"dataframe\">\n",
       "  <thead>\n",
       "    <tr style=\"text-align: right;\">\n",
       "      <th></th>\n",
       "      <th>All Degrees</th>\n",
       "    </tr>\n",
       "  </thead>\n",
       "  <tbody>\n",
       "    <tr>\n",
       "      <th>0</th>\n",
       "      <td>web</td>\n",
       "    </tr>\n",
       "    <tr>\n",
       "      <th>1</th>\n",
       "      <td>network</td>\n",
       "    </tr>\n",
       "    <tr>\n",
       "      <th>2</th>\n",
       "      <td>support</td>\n",
       "    </tr>\n",
       "    <tr>\n",
       "      <th>3</th>\n",
       "      <td>security</td>\n",
       "    </tr>\n",
       "    <tr>\n",
       "      <th>4</th>\n",
       "      <td>users</td>\n",
       "    </tr>\n",
       "    <tr>\n",
       "      <th>5</th>\n",
       "      <td>software</td>\n",
       "    </tr>\n",
       "    <tr>\n",
       "      <th>6</th>\n",
       "      <td>experience</td>\n",
       "    </tr>\n",
       "    <tr>\n",
       "      <th>7</th>\n",
       "      <td>application</td>\n",
       "    </tr>\n",
       "    <tr>\n",
       "      <th>8</th>\n",
       "      <td>services</td>\n",
       "    </tr>\n",
       "    <tr>\n",
       "      <th>9</th>\n",
       "      <td>user</td>\n",
       "    </tr>\n",
       "    <tr>\n",
       "      <th>10</th>\n",
       "      <td>engineer</td>\n",
       "    </tr>\n",
       "    <tr>\n",
       "      <th>11</th>\n",
       "      <td>networks</td>\n",
       "    </tr>\n",
       "    <tr>\n",
       "      <th>12</th>\n",
       "      <td>agile</td>\n",
       "    </tr>\n",
       "    <tr>\n",
       "      <th>13</th>\n",
       "      <td>java</td>\n",
       "    </tr>\n",
       "    <tr>\n",
       "      <th>14</th>\n",
       "      <td>engineers</td>\n",
       "    </tr>\n",
       "    <tr>\n",
       "      <th>15</th>\n",
       "      <td>design</td>\n",
       "    </tr>\n",
       "    <tr>\n",
       "      <th>16</th>\n",
       "      <td>technologies</td>\n",
       "    </tr>\n",
       "    <tr>\n",
       "      <th>17</th>\n",
       "      <td>hardware</td>\n",
       "    </tr>\n",
       "    <tr>\n",
       "      <th>18</th>\n",
       "      <td>using</td>\n",
       "    </tr>\n",
       "    <tr>\n",
       "      <th>19</th>\n",
       "      <td>applications</td>\n",
       "    </tr>\n",
       "    <tr>\n",
       "      <th>20</th>\n",
       "      <td>mobile</td>\n",
       "    </tr>\n",
       "    <tr>\n",
       "      <th>21</th>\n",
       "      <td>years</td>\n",
       "    </tr>\n",
       "    <tr>\n",
       "      <th>22</th>\n",
       "      <td>new</td>\n",
       "    </tr>\n",
       "    <tr>\n",
       "      <th>23</th>\n",
       "      <td>life</td>\n",
       "    </tr>\n",
       "    <tr>\n",
       "      <th>24</th>\n",
       "      <td>teams</td>\n",
       "    </tr>\n",
       "    <tr>\n",
       "      <th>25</th>\n",
       "      <td>demonstrated</td>\n",
       "    </tr>\n",
       "    <tr>\n",
       "      <th>26</th>\n",
       "      <td>mvc</td>\n",
       "    </tr>\n",
       "    <tr>\n",
       "      <th>27</th>\n",
       "      <td>standards</td>\n",
       "    </tr>\n",
       "    <tr>\n",
       "      <th>28</th>\n",
       "      <td>css</td>\n",
       "    </tr>\n",
       "    <tr>\n",
       "      <th>29</th>\n",
       "      <td>cycle</td>\n",
       "    </tr>\n",
       "    <tr>\n",
       "      <th>...</th>\n",
       "      <td>...</td>\n",
       "    </tr>\n",
       "    <tr>\n",
       "      <th>5522</th>\n",
       "      <td>heavily</td>\n",
       "    </tr>\n",
       "    <tr>\n",
       "      <th>5523</th>\n",
       "      <td>heavy</td>\n",
       "    </tr>\n",
       "    <tr>\n",
       "      <th>5524</th>\n",
       "      <td>heidelberg</td>\n",
       "    </tr>\n",
       "    <tr>\n",
       "      <th>5525</th>\n",
       "      <td>heightened</td>\n",
       "    </tr>\n",
       "    <tr>\n",
       "      <th>5526</th>\n",
       "      <td>heights</td>\n",
       "    </tr>\n",
       "    <tr>\n",
       "      <th>5527</th>\n",
       "      <td>held</td>\n",
       "    </tr>\n",
       "    <tr>\n",
       "      <th>5528</th>\n",
       "      <td>helps</td>\n",
       "    </tr>\n",
       "    <tr>\n",
       "      <th>5529</th>\n",
       "      <td>henkel</td>\n",
       "    </tr>\n",
       "    <tr>\n",
       "      <th>5530</th>\n",
       "      <td>herman</td>\n",
       "    </tr>\n",
       "    <tr>\n",
       "      <th>5531</th>\n",
       "      <td>heroku</td>\n",
       "    </tr>\n",
       "    <tr>\n",
       "      <th>5532</th>\n",
       "      <td>heuristic</td>\n",
       "    </tr>\n",
       "    <tr>\n",
       "      <th>5533</th>\n",
       "      <td>hexion</td>\n",
       "    </tr>\n",
       "    <tr>\n",
       "      <th>5534</th>\n",
       "      <td>hfo</td>\n",
       "    </tr>\n",
       "    <tr>\n",
       "      <th>5535</th>\n",
       "      <td>hibu</td>\n",
       "    </tr>\n",
       "    <tr>\n",
       "      <th>5536</th>\n",
       "      <td>highest</td>\n",
       "    </tr>\n",
       "    <tr>\n",
       "      <th>5537</th>\n",
       "      <td>highjump</td>\n",
       "    </tr>\n",
       "    <tr>\n",
       "      <th>5538</th>\n",
       "      <td>hill</td>\n",
       "    </tr>\n",
       "    <tr>\n",
       "      <th>5539</th>\n",
       "      <td>hilti</td>\n",
       "    </tr>\n",
       "    <tr>\n",
       "      <th>5540</th>\n",
       "      <td>hipaa</td>\n",
       "    </tr>\n",
       "    <tr>\n",
       "      <th>5541</th>\n",
       "      <td>hires</td>\n",
       "    </tr>\n",
       "    <tr>\n",
       "      <th>5542</th>\n",
       "      <td>history</td>\n",
       "    </tr>\n",
       "    <tr>\n",
       "      <th>5543</th>\n",
       "      <td>hit</td>\n",
       "    </tr>\n",
       "    <tr>\n",
       "      <th>5544</th>\n",
       "      <td>hits</td>\n",
       "    </tr>\n",
       "    <tr>\n",
       "      <th>5545</th>\n",
       "      <td>hitting</td>\n",
       "    </tr>\n",
       "    <tr>\n",
       "      <th>5546</th>\n",
       "      <td>hive</td>\n",
       "    </tr>\n",
       "    <tr>\n",
       "      <th>5547</th>\n",
       "      <td>hl</td>\n",
       "    </tr>\n",
       "    <tr>\n",
       "      <th>5548</th>\n",
       "      <td>hmi</td>\n",
       "    </tr>\n",
       "    <tr>\n",
       "      <th>5549</th>\n",
       "      <td>hog</td>\n",
       "    </tr>\n",
       "    <tr>\n",
       "      <th>5550</th>\n",
       "      <td>hold</td>\n",
       "    </tr>\n",
       "    <tr>\n",
       "      <th>5551</th>\n",
       "      <td>zycron</td>\n",
       "    </tr>\n",
       "  </tbody>\n",
       "</table>\n",
       "<p>5552 rows × 1 columns</p>\n",
       "</div>"
      ],
      "text/plain": [
       "       All Degrees\n",
       "0              web\n",
       "1          network\n",
       "2          support\n",
       "3         security\n",
       "4            users\n",
       "5         software\n",
       "6       experience\n",
       "7      application\n",
       "8         services\n",
       "9             user\n",
       "10        engineer\n",
       "11        networks\n",
       "12           agile\n",
       "13            java\n",
       "14       engineers\n",
       "15          design\n",
       "16    technologies\n",
       "17        hardware\n",
       "18           using\n",
       "19    applications\n",
       "20          mobile\n",
       "21           years\n",
       "22             new\n",
       "23            life\n",
       "24           teams\n",
       "25    demonstrated\n",
       "26             mvc\n",
       "27       standards\n",
       "28             css\n",
       "29           cycle\n",
       "...            ...\n",
       "5522       heavily\n",
       "5523         heavy\n",
       "5524    heidelberg\n",
       "5525    heightened\n",
       "5526       heights\n",
       "5527          held\n",
       "5528         helps\n",
       "5529        henkel\n",
       "5530        herman\n",
       "5531        heroku\n",
       "5532     heuristic\n",
       "5533        hexion\n",
       "5534           hfo\n",
       "5535          hibu\n",
       "5536       highest\n",
       "5537      highjump\n",
       "5538          hill\n",
       "5539         hilti\n",
       "5540         hipaa\n",
       "5541         hires\n",
       "5542       history\n",
       "5543           hit\n",
       "5544          hits\n",
       "5545       hitting\n",
       "5546          hive\n",
       "5547            hl\n",
       "5548           hmi\n",
       "5549           hog\n",
       "5550          hold\n",
       "5551        zycron\n",
       "\n",
       "[5552 rows x 1 columns]"
      ]
     },
     "execution_count": 78,
     "metadata": {},
     "output_type": "execute_result"
    }
   ],
   "source": [
    "#this is what I want to see\n",
    "allFeatureImportance['All Degrees']=feature_importancesRF.index\n",
    "\n",
    "allFeatureImportance"
   ]
  },
  {
   "cell_type": "code",
   "execution_count": 70,
   "metadata": {
    "collapsed": false
   },
   "outputs": [
    {
     "data": {
      "text/html": [
       "<div>\n",
       "<table border=\"1\" class=\"dataframe\">\n",
       "  <thead>\n",
       "    <tr style=\"text-align: right;\">\n",
       "      <th></th>\n",
       "      <th>All Degrees</th>\n",
       "    </tr>\n",
       "  </thead>\n",
       "  <tbody>\n",
       "  </tbody>\n",
       "</table>\n",
       "</div>"
      ],
      "text/plain": [
       "Empty DataFrame\n",
       "Columns: [All Degrees]\n",
       "Index: []"
      ]
     },
     "execution_count": 70,
     "metadata": {},
     "output_type": "execute_result"
    }
   ],
   "source": [
    "allFeatureImportance.head()"
   ]
  },
  {
   "cell_type": "code",
   "execution_count": 56,
   "metadata": {
    "collapsed": false
   },
   "outputs": [],
   "source": [
    "predictionsRF=rf.predict(x)"
   ]
  },
  {
   "cell_type": "code",
   "execution_count": 57,
   "metadata": {
    "collapsed": false
   },
   "outputs": [
    {
     "name": "stdout",
     "output_type": "stream",
     "text": [
      "[[274   1   0   0   0   0]\n",
      " [  0 540   6   5   1   0]\n",
      " [  2  18 852   0   0   0]\n",
      " [  1   1   1 899   2  24]\n",
      " [  1   1   1   0 895   1]\n",
      " [  2   0   3  27   1 831]]\n"
     ]
    }
   ],
   "source": [
    "print confusion_matrix(y, predictionsRF)"
   ]
  },
  {
   "cell_type": "code",
   "execution_count": 58,
   "metadata": {
    "collapsed": false
   },
   "outputs": [
    {
     "name": "stdout",
     "output_type": "stream",
     "text": [
      "      Pred USSU  Pred SODE  Pred WEDE  Pred NEMA  Pred NEED  Pred CYIT\n",
      "USSU        274          1          0          0          0          0\n",
      "SODE          0        540          6          5          1          0\n",
      "WEDE          2         18        852          0          0          0\n",
      "NEMA          1          1          1        899          2         24\n",
      "NEED          1          1          1          0        895          1\n",
      "CYIT          2          0          3         27          1        831\n"
     ]
    }
   ],
   "source": [
    "#this chart is very meaningfull miss-predictions show overlap of degrees\n",
    "conmat = np.array(confusion_matrix(y, predictionsRF))\n",
    "confusion = pd.DataFrame(conmat, index=['USSU', 'SODE', \n",
    "                         'WEDE', 'NEMA','NEED', 'CYIT'],columns=['Pred USSU', 'Pred SODE', \n",
    "                         'Pred WEDE', 'Pred NEMA','Pred NEED', 'Pred CYIT'])\n",
    "print confusion\n"
   ]
  },
  {
   "cell_type": "code",
   "execution_count": 59,
   "metadata": {
    "collapsed": false
   },
   "outputs": [
    {
     "name": "stdout",
     "output_type": "stream",
     "text": [
      "             precision    recall  f1-score   support\n",
      "\n",
      "          0       0.98      1.00      0.99       275\n",
      "          1       0.96      0.98      0.97       552\n",
      "          2       0.99      0.98      0.98       872\n",
      "          3       0.97      0.97      0.97       928\n",
      "          4       1.00      1.00      1.00       899\n",
      "          5       0.97      0.96      0.97       864\n",
      "\n",
      "avg / total       0.98      0.98      0.98      4390\n",
      "\n"
     ]
    }
   ],
   "source": [
    "print  classification_report(y, predictionsRF)"
   ]
  },
  {
   "cell_type": "markdown",
   "metadata": {},
   "source": [
    "# random forest by degree - want feature importance\n",
    "this will help me understand the job market"
   ]
  },
  {
   "cell_type": "code",
   "execution_count": 60,
   "metadata": {
    "collapsed": false
   },
   "outputs": [
    {
     "data": {
      "text/plain": [
       "Index([u'_adaptive', u'_care', u'aam', u'aarp', u'abb', u'abbott', u'abc',\n",
       "       u'abide', u'abilities', u'ability',\n",
       "       ...\n",
       "       u'zero', u'zone', u'zoning', u'zycron', u'cyber+security',\n",
       "       u'network+engineer', u'network+manager', u'software+development',\n",
       "       u'user+support', u'web+development'],\n",
       "      dtype='object', length=5558)"
      ]
     },
     "execution_count": 60,
     "metadata": {},
     "output_type": "execute_result"
    }
   ],
   "source": [
    "wordDescDegree.columns"
   ]
  },
  {
   "cell_type": "code",
   "execution_count": 61,
   "metadata": {
    "collapsed": false
   },
   "outputs": [],
   "source": [
    "yCYIT=wordDescDegree['cyber+security']\n",
    "yNEEN=wordDescDegree['network+engineer']\n",
    "yNEMA=wordDescDegree['network+manager']\n",
    "ySODE=wordDescDegree['software+development']\n",
    "yUSSU=wordDescDegree['user+support']\n",
    "yWEDE=wordDescDegree['web+development']"
   ]
  },
  {
   "cell_type": "code",
   "execution_count": 79,
   "metadata": {
    "collapsed": false
   },
   "outputs": [
    {
     "name": "stdout",
     "output_type": "stream",
     "text": [
      "0.99589977221\n",
      "                importance\n",
      "security          0.118914\n",
      "information       0.044844\n",
      "cyber             0.042145\n",
      "software          0.024941\n",
      "clearance         0.014412\n",
      "secret            0.012703\n",
      "web               0.010281\n",
      "systems           0.008536\n",
      "support           0.008458\n",
      "description       0.008188\n",
      "intelligence      0.007373\n",
      "implementation    0.006501\n",
      "analyst           0.006018\n",
      "innovations       0.006011\n",
      "network           0.005822\n",
      "risk              0.005728\n",
      "job               0.005657\n",
      "recognized        0.005609\n",
      "user              0.005378\n",
      "project           0.005193\n"
     ]
    }
   ],
   "source": [
    "yDegree=yCYIT\n",
    "rf.fit(x, yDegree)\n",
    "rf.score(x, yDegree)\n",
    "importances = rf.feature_importances_\n",
    "feature_importancesRF_CYIT = pd.DataFrame(rf.feature_importances_,\n",
    "                                   index = x.columns,\n",
    "                                    columns=['importance']).sort_values('importance',\n",
    "                                                                        ascending=False)\n",
    "print rf.score(x, yDegree)\n",
    "print feature_importancesRF_CYIT.head(20)"
   ]
  },
  {
   "cell_type": "code",
   "execution_count": 80,
   "metadata": {
    "collapsed": false
   },
   "outputs": [
    {
     "data": {
      "text/html": [
       "<div>\n",
       "<table border=\"1\" class=\"dataframe\">\n",
       "  <thead>\n",
       "    <tr style=\"text-align: right;\">\n",
       "      <th></th>\n",
       "      <th>All Degrees</th>\n",
       "      <th>CYIT</th>\n",
       "    </tr>\n",
       "  </thead>\n",
       "  <tbody>\n",
       "    <tr>\n",
       "      <th>0</th>\n",
       "      <td>web</td>\n",
       "      <td>security</td>\n",
       "    </tr>\n",
       "    <tr>\n",
       "      <th>1</th>\n",
       "      <td>network</td>\n",
       "      <td>information</td>\n",
       "    </tr>\n",
       "    <tr>\n",
       "      <th>2</th>\n",
       "      <td>support</td>\n",
       "      <td>cyber</td>\n",
       "    </tr>\n",
       "    <tr>\n",
       "      <th>3</th>\n",
       "      <td>security</td>\n",
       "      <td>software</td>\n",
       "    </tr>\n",
       "    <tr>\n",
       "      <th>4</th>\n",
       "      <td>users</td>\n",
       "      <td>clearance</td>\n",
       "    </tr>\n",
       "    <tr>\n",
       "      <th>5</th>\n",
       "      <td>software</td>\n",
       "      <td>secret</td>\n",
       "    </tr>\n",
       "    <tr>\n",
       "      <th>6</th>\n",
       "      <td>experience</td>\n",
       "      <td>web</td>\n",
       "    </tr>\n",
       "    <tr>\n",
       "      <th>7</th>\n",
       "      <td>application</td>\n",
       "      <td>systems</td>\n",
       "    </tr>\n",
       "    <tr>\n",
       "      <th>8</th>\n",
       "      <td>services</td>\n",
       "      <td>support</td>\n",
       "    </tr>\n",
       "    <tr>\n",
       "      <th>9</th>\n",
       "      <td>user</td>\n",
       "      <td>description</td>\n",
       "    </tr>\n",
       "    <tr>\n",
       "      <th>10</th>\n",
       "      <td>engineer</td>\n",
       "      <td>intelligence</td>\n",
       "    </tr>\n",
       "    <tr>\n",
       "      <th>11</th>\n",
       "      <td>networks</td>\n",
       "      <td>implementation</td>\n",
       "    </tr>\n",
       "    <tr>\n",
       "      <th>12</th>\n",
       "      <td>agile</td>\n",
       "      <td>analyst</td>\n",
       "    </tr>\n",
       "    <tr>\n",
       "      <th>13</th>\n",
       "      <td>java</td>\n",
       "      <td>innovations</td>\n",
       "    </tr>\n",
       "    <tr>\n",
       "      <th>14</th>\n",
       "      <td>engineers</td>\n",
       "      <td>network</td>\n",
       "    </tr>\n",
       "    <tr>\n",
       "      <th>15</th>\n",
       "      <td>design</td>\n",
       "      <td>risk</td>\n",
       "    </tr>\n",
       "    <tr>\n",
       "      <th>16</th>\n",
       "      <td>technologies</td>\n",
       "      <td>job</td>\n",
       "    </tr>\n",
       "    <tr>\n",
       "      <th>17</th>\n",
       "      <td>hardware</td>\n",
       "      <td>recognized</td>\n",
       "    </tr>\n",
       "    <tr>\n",
       "      <th>18</th>\n",
       "      <td>using</td>\n",
       "      <td>user</td>\n",
       "    </tr>\n",
       "    <tr>\n",
       "      <th>19</th>\n",
       "      <td>applications</td>\n",
       "      <td>project</td>\n",
       "    </tr>\n",
       "    <tr>\n",
       "      <th>20</th>\n",
       "      <td>mobile</td>\n",
       "      <td>subject</td>\n",
       "    </tr>\n",
       "    <tr>\n",
       "      <th>21</th>\n",
       "      <td>years</td>\n",
       "      <td>cissp</td>\n",
       "    </tr>\n",
       "    <tr>\n",
       "      <th>22</th>\n",
       "      <td>new</td>\n",
       "      <td>investigation</td>\n",
       "    </tr>\n",
       "    <tr>\n",
       "      <th>23</th>\n",
       "      <td>life</td>\n",
       "      <td>technology</td>\n",
       "    </tr>\n",
       "    <tr>\n",
       "      <th>24</th>\n",
       "      <td>teams</td>\n",
       "      <td>infrastructure</td>\n",
       "    </tr>\n",
       "    <tr>\n",
       "      <th>25</th>\n",
       "      <td>demonstrated</td>\n",
       "      <td>afrl</td>\n",
       "    </tr>\n",
       "    <tr>\n",
       "      <th>26</th>\n",
       "      <td>mvc</td>\n",
       "      <td>states</td>\n",
       "    </tr>\n",
       "    <tr>\n",
       "      <th>27</th>\n",
       "      <td>standards</td>\n",
       "      <td>services</td>\n",
       "    </tr>\n",
       "    <tr>\n",
       "      <th>28</th>\n",
       "      <td>css</td>\n",
       "      <td>specializes</td>\n",
       "    </tr>\n",
       "    <tr>\n",
       "      <th>29</th>\n",
       "      <td>cycle</td>\n",
       "      <td>experience</td>\n",
       "    </tr>\n",
       "    <tr>\n",
       "      <th>...</th>\n",
       "      <td>...</td>\n",
       "      <td>...</td>\n",
       "    </tr>\n",
       "    <tr>\n",
       "      <th>5522</th>\n",
       "      <td>heavily</td>\n",
       "      <td>gaming</td>\n",
       "    </tr>\n",
       "    <tr>\n",
       "      <th>5523</th>\n",
       "      <td>heavy</td>\n",
       "      <td>game</td>\n",
       "    </tr>\n",
       "    <tr>\n",
       "      <th>5524</th>\n",
       "      <td>heidelberg</td>\n",
       "      <td>gamble</td>\n",
       "    </tr>\n",
       "    <tr>\n",
       "      <th>5525</th>\n",
       "      <td>heightened</td>\n",
       "      <td>gain</td>\n",
       "    </tr>\n",
       "    <tr>\n",
       "      <th>5526</th>\n",
       "      <td>heights</td>\n",
       "      <td>garment</td>\n",
       "    </tr>\n",
       "    <tr>\n",
       "      <th>5527</th>\n",
       "      <td>held</td>\n",
       "      <td>ga</td>\n",
       "    </tr>\n",
       "    <tr>\n",
       "      <th>5528</th>\n",
       "      <td>helps</td>\n",
       "      <td>fuzzing</td>\n",
       "    </tr>\n",
       "    <tr>\n",
       "      <th>5529</th>\n",
       "      <td>henkel</td>\n",
       "      <td>furniture</td>\n",
       "    </tr>\n",
       "    <tr>\n",
       "      <th>5530</th>\n",
       "      <td>herman</td>\n",
       "      <td>furnishing</td>\n",
       "    </tr>\n",
       "    <tr>\n",
       "      <th>5531</th>\n",
       "      <td>heroku</td>\n",
       "      <td>funds</td>\n",
       "    </tr>\n",
       "    <tr>\n",
       "      <th>5532</th>\n",
       "      <td>heuristic</td>\n",
       "      <td>fundraising</td>\n",
       "    </tr>\n",
       "    <tr>\n",
       "      <th>5533</th>\n",
       "      <td>hexion</td>\n",
       "      <td>garden</td>\n",
       "    </tr>\n",
       "    <tr>\n",
       "      <th>5534</th>\n",
       "      <td>hfo</td>\n",
       "      <td>garments</td>\n",
       "    </tr>\n",
       "    <tr>\n",
       "      <th>5535</th>\n",
       "      <td>hibu</td>\n",
       "      <td>genesys</td>\n",
       "    </tr>\n",
       "    <tr>\n",
       "      <th>5536</th>\n",
       "      <td>highest</td>\n",
       "      <td>generalist</td>\n",
       "    </tr>\n",
       "    <tr>\n",
       "      <th>5537</th>\n",
       "      <td>highjump</td>\n",
       "      <td>generators</td>\n",
       "    </tr>\n",
       "    <tr>\n",
       "      <th>5538</th>\n",
       "      <td>hill</td>\n",
       "      <td>generations</td>\n",
       "    </tr>\n",
       "    <tr>\n",
       "      <th>5539</th>\n",
       "      <td>hilti</td>\n",
       "      <td>generating</td>\n",
       "    </tr>\n",
       "    <tr>\n",
       "      <th>5540</th>\n",
       "      <td>hipaa</td>\n",
       "      <td>generated</td>\n",
       "    </tr>\n",
       "    <tr>\n",
       "      <th>5541</th>\n",
       "      <td>hires</td>\n",
       "      <td>generally</td>\n",
       "    </tr>\n",
       "    <tr>\n",
       "      <th>5542</th>\n",
       "      <td>history</td>\n",
       "      <td>generalists</td>\n",
       "    </tr>\n",
       "    <tr>\n",
       "      <th>5543</th>\n",
       "      <td>hit</td>\n",
       "      <td>gear</td>\n",
       "    </tr>\n",
       "    <tr>\n",
       "      <th>5544</th>\n",
       "      <td>hits</td>\n",
       "      <td>gas</td>\n",
       "    </tr>\n",
       "    <tr>\n",
       "      <th>5545</th>\n",
       "      <td>hitting</td>\n",
       "      <td>gci</td>\n",
       "    </tr>\n",
       "    <tr>\n",
       "      <th>5546</th>\n",
       "      <td>hive</td>\n",
       "      <td>gc</td>\n",
       "    </tr>\n",
       "    <tr>\n",
       "      <th>5547</th>\n",
       "      <td>hl</td>\n",
       "      <td>gbq</td>\n",
       "    </tr>\n",
       "    <tr>\n",
       "      <th>5548</th>\n",
       "      <td>hmi</td>\n",
       "      <td>gatesair</td>\n",
       "    </tr>\n",
       "    <tr>\n",
       "      <th>5549</th>\n",
       "      <td>hog</td>\n",
       "      <td>gates</td>\n",
       "    </tr>\n",
       "    <tr>\n",
       "      <th>5550</th>\n",
       "      <td>hold</td>\n",
       "      <td>gate</td>\n",
       "    </tr>\n",
       "    <tr>\n",
       "      <th>5551</th>\n",
       "      <td>zycron</td>\n",
       "      <td>zycron</td>\n",
       "    </tr>\n",
       "  </tbody>\n",
       "</table>\n",
       "<p>5552 rows × 2 columns</p>\n",
       "</div>"
      ],
      "text/plain": [
       "       All Degrees            CYIT\n",
       "0              web        security\n",
       "1          network     information\n",
       "2          support           cyber\n",
       "3         security        software\n",
       "4            users       clearance\n",
       "5         software          secret\n",
       "6       experience             web\n",
       "7      application         systems\n",
       "8         services         support\n",
       "9             user     description\n",
       "10        engineer    intelligence\n",
       "11        networks  implementation\n",
       "12           agile         analyst\n",
       "13            java     innovations\n",
       "14       engineers         network\n",
       "15          design            risk\n",
       "16    technologies             job\n",
       "17        hardware      recognized\n",
       "18           using            user\n",
       "19    applications         project\n",
       "20          mobile         subject\n",
       "21           years           cissp\n",
       "22             new   investigation\n",
       "23            life      technology\n",
       "24           teams  infrastructure\n",
       "25    demonstrated            afrl\n",
       "26             mvc          states\n",
       "27       standards        services\n",
       "28             css     specializes\n",
       "29           cycle      experience\n",
       "...            ...             ...\n",
       "5522       heavily          gaming\n",
       "5523         heavy            game\n",
       "5524    heidelberg          gamble\n",
       "5525    heightened            gain\n",
       "5526       heights         garment\n",
       "5527          held              ga\n",
       "5528         helps         fuzzing\n",
       "5529        henkel       furniture\n",
       "5530        herman      furnishing\n",
       "5531        heroku           funds\n",
       "5532     heuristic     fundraising\n",
       "5533        hexion          garden\n",
       "5534           hfo        garments\n",
       "5535          hibu         genesys\n",
       "5536       highest      generalist\n",
       "5537      highjump      generators\n",
       "5538          hill     generations\n",
       "5539         hilti      generating\n",
       "5540         hipaa       generated\n",
       "5541         hires       generally\n",
       "5542       history     generalists\n",
       "5543           hit            gear\n",
       "5544          hits             gas\n",
       "5545       hitting             gci\n",
       "5546          hive              gc\n",
       "5547            hl             gbq\n",
       "5548           hmi        gatesair\n",
       "5549           hog           gates\n",
       "5550          hold            gate\n",
       "5551        zycron          zycron\n",
       "\n",
       "[5552 rows x 2 columns]"
      ]
     },
     "execution_count": 80,
     "metadata": {},
     "output_type": "execute_result"
    }
   ],
   "source": [
    "allFeatureImportance['CYIT']=feature_importancesRF_CYIT.index\n",
    "\n",
    "allFeatureImportance"
   ]
  },
  {
   "cell_type": "code",
   "execution_count": 81,
   "metadata": {
    "collapsed": false
   },
   "outputs": [
    {
     "name": "stdout",
     "output_type": "stream",
     "text": [
      "0.987927107062\n",
      "                importance\n",
      "network           0.104062\n",
      "engineer          0.063794\n",
      "implementation    0.038355\n",
      "engineers         0.023063\n",
      "web               0.018461\n",
      "software          0.017919\n",
      "support           0.012409\n",
      "networks          0.011570\n",
      "user              0.007664\n",
      "users             0.005917\n"
     ]
    }
   ],
   "source": [
    "yDegree=yNEEN\n",
    "rf.fit(x, yDegree)\n",
    "rf.score(x, yDegree)\n",
    "importances = rf.feature_importances_\n",
    "feature_importancesRF_NEEN = pd.DataFrame(rf.feature_importances_,\n",
    "                                   index = x.columns,\n",
    "                                    columns=['importance']).sort_values('importance',\n",
    "                                                                        ascending=False)\n",
    "print rf.score(x, yDegree)\n",
    "print feature_importancesRF_NEEN.head(10)"
   ]
  },
  {
   "cell_type": "code",
   "execution_count": 82,
   "metadata": {
    "collapsed": false
   },
   "outputs": [
    {
     "data": {
      "text/html": [
       "<div>\n",
       "<table border=\"1\" class=\"dataframe\">\n",
       "  <thead>\n",
       "    <tr style=\"text-align: right;\">\n",
       "      <th></th>\n",
       "      <th>All Degrees</th>\n",
       "      <th>CYIT</th>\n",
       "      <th>NEEN</th>\n",
       "    </tr>\n",
       "  </thead>\n",
       "  <tbody>\n",
       "    <tr>\n",
       "      <th>0</th>\n",
       "      <td>web</td>\n",
       "      <td>security</td>\n",
       "      <td>network</td>\n",
       "    </tr>\n",
       "    <tr>\n",
       "      <th>1</th>\n",
       "      <td>network</td>\n",
       "      <td>information</td>\n",
       "      <td>engineer</td>\n",
       "    </tr>\n",
       "    <tr>\n",
       "      <th>2</th>\n",
       "      <td>support</td>\n",
       "      <td>cyber</td>\n",
       "      <td>implementation</td>\n",
       "    </tr>\n",
       "    <tr>\n",
       "      <th>3</th>\n",
       "      <td>security</td>\n",
       "      <td>software</td>\n",
       "      <td>engineers</td>\n",
       "    </tr>\n",
       "    <tr>\n",
       "      <th>4</th>\n",
       "      <td>users</td>\n",
       "      <td>clearance</td>\n",
       "      <td>web</td>\n",
       "    </tr>\n",
       "    <tr>\n",
       "      <th>5</th>\n",
       "      <td>software</td>\n",
       "      <td>secret</td>\n",
       "      <td>software</td>\n",
       "    </tr>\n",
       "    <tr>\n",
       "      <th>6</th>\n",
       "      <td>experience</td>\n",
       "      <td>web</td>\n",
       "      <td>support</td>\n",
       "    </tr>\n",
       "    <tr>\n",
       "      <th>7</th>\n",
       "      <td>application</td>\n",
       "      <td>systems</td>\n",
       "      <td>networks</td>\n",
       "    </tr>\n",
       "    <tr>\n",
       "      <th>8</th>\n",
       "      <td>services</td>\n",
       "      <td>support</td>\n",
       "      <td>user</td>\n",
       "    </tr>\n",
       "    <tr>\n",
       "      <th>9</th>\n",
       "      <td>user</td>\n",
       "      <td>description</td>\n",
       "      <td>users</td>\n",
       "    </tr>\n",
       "    <tr>\n",
       "      <th>10</th>\n",
       "      <td>engineer</td>\n",
       "      <td>intelligence</td>\n",
       "      <td>experience</td>\n",
       "    </tr>\n",
       "    <tr>\n",
       "      <th>11</th>\n",
       "      <td>networks</td>\n",
       "      <td>implementation</td>\n",
       "      <td>systems</td>\n",
       "    </tr>\n",
       "    <tr>\n",
       "      <th>12</th>\n",
       "      <td>agile</td>\n",
       "      <td>analyst</td>\n",
       "      <td>electrical</td>\n",
       "    </tr>\n",
       "    <tr>\n",
       "      <th>13</th>\n",
       "      <td>java</td>\n",
       "      <td>innovations</td>\n",
       "      <td>net</td>\n",
       "    </tr>\n",
       "    <tr>\n",
       "      <th>14</th>\n",
       "      <td>engineers</td>\n",
       "      <td>network</td>\n",
       "      <td>agile</td>\n",
       "    </tr>\n",
       "    <tr>\n",
       "      <th>15</th>\n",
       "      <td>design</td>\n",
       "      <td>risk</td>\n",
       "      <td>imaginers</td>\n",
       "    </tr>\n",
       "    <tr>\n",
       "      <th>16</th>\n",
       "      <td>technologies</td>\n",
       "      <td>job</td>\n",
       "      <td>protocols</td>\n",
       "    </tr>\n",
       "    <tr>\n",
       "      <th>17</th>\n",
       "      <td>hardware</td>\n",
       "      <td>recognized</td>\n",
       "      <td>design</td>\n",
       "    </tr>\n",
       "    <tr>\n",
       "      <th>18</th>\n",
       "      <td>using</td>\n",
       "      <td>user</td>\n",
       "      <td>reports</td>\n",
       "    </tr>\n",
       "    <tr>\n",
       "      <th>19</th>\n",
       "      <td>applications</td>\n",
       "      <td>project</td>\n",
       "      <td>business</td>\n",
       "    </tr>\n",
       "    <tr>\n",
       "      <th>20</th>\n",
       "      <td>mobile</td>\n",
       "      <td>subject</td>\n",
       "      <td>cisco</td>\n",
       "    </tr>\n",
       "    <tr>\n",
       "      <th>21</th>\n",
       "      <td>years</td>\n",
       "      <td>cissp</td>\n",
       "      <td>technical</td>\n",
       "    </tr>\n",
       "    <tr>\n",
       "      <th>22</th>\n",
       "      <td>new</td>\n",
       "      <td>investigation</td>\n",
       "      <td>builders</td>\n",
       "    </tr>\n",
       "    <tr>\n",
       "      <th>23</th>\n",
       "      <td>life</td>\n",
       "      <td>technology</td>\n",
       "      <td>communication</td>\n",
       "    </tr>\n",
       "    <tr>\n",
       "      <th>24</th>\n",
       "      <td>teams</td>\n",
       "      <td>infrastructure</td>\n",
       "      <td>senior</td>\n",
       "    </tr>\n",
       "    <tr>\n",
       "      <th>25</th>\n",
       "      <td>demonstrated</td>\n",
       "      <td>afrl</td>\n",
       "      <td>provide</td>\n",
       "    </tr>\n",
       "    <tr>\n",
       "      <th>26</th>\n",
       "      <td>mvc</td>\n",
       "      <td>states</td>\n",
       "      <td>automation</td>\n",
       "    </tr>\n",
       "    <tr>\n",
       "      <th>27</th>\n",
       "      <td>standards</td>\n",
       "      <td>services</td>\n",
       "      <td>local</td>\n",
       "    </tr>\n",
       "    <tr>\n",
       "      <th>28</th>\n",
       "      <td>css</td>\n",
       "      <td>specializes</td>\n",
       "      <td>largest</td>\n",
       "    </tr>\n",
       "    <tr>\n",
       "      <th>29</th>\n",
       "      <td>cycle</td>\n",
       "      <td>experience</td>\n",
       "      <td>seeking</td>\n",
       "    </tr>\n",
       "    <tr>\n",
       "      <th>...</th>\n",
       "      <td>...</td>\n",
       "      <td>...</td>\n",
       "      <td>...</td>\n",
       "    </tr>\n",
       "    <tr>\n",
       "      <th>5522</th>\n",
       "      <td>heavily</td>\n",
       "      <td>gaming</td>\n",
       "      <td>heavily</td>\n",
       "    </tr>\n",
       "    <tr>\n",
       "      <th>5523</th>\n",
       "      <td>heavy</td>\n",
       "      <td>game</td>\n",
       "      <td>heavy</td>\n",
       "    </tr>\n",
       "    <tr>\n",
       "      <th>5524</th>\n",
       "      <td>heidelberg</td>\n",
       "      <td>gamble</td>\n",
       "      <td>heidelberg</td>\n",
       "    </tr>\n",
       "    <tr>\n",
       "      <th>5525</th>\n",
       "      <td>heightened</td>\n",
       "      <td>gain</td>\n",
       "      <td>heightened</td>\n",
       "    </tr>\n",
       "    <tr>\n",
       "      <th>5526</th>\n",
       "      <td>heights</td>\n",
       "      <td>garment</td>\n",
       "      <td>heights</td>\n",
       "    </tr>\n",
       "    <tr>\n",
       "      <th>5527</th>\n",
       "      <td>held</td>\n",
       "      <td>ga</td>\n",
       "      <td>helpful</td>\n",
       "    </tr>\n",
       "    <tr>\n",
       "      <th>5528</th>\n",
       "      <td>helps</td>\n",
       "      <td>fuzzing</td>\n",
       "      <td>helps</td>\n",
       "    </tr>\n",
       "    <tr>\n",
       "      <th>5529</th>\n",
       "      <td>henkel</td>\n",
       "      <td>furniture</td>\n",
       "      <td>henkel</td>\n",
       "    </tr>\n",
       "    <tr>\n",
       "      <th>5530</th>\n",
       "      <td>herman</td>\n",
       "      <td>furnishing</td>\n",
       "      <td>herman</td>\n",
       "    </tr>\n",
       "    <tr>\n",
       "      <th>5531</th>\n",
       "      <td>heroku</td>\n",
       "      <td>funds</td>\n",
       "      <td>heroku</td>\n",
       "    </tr>\n",
       "    <tr>\n",
       "      <th>5532</th>\n",
       "      <td>heuristic</td>\n",
       "      <td>fundraising</td>\n",
       "      <td>heterogeneous</td>\n",
       "    </tr>\n",
       "    <tr>\n",
       "      <th>5533</th>\n",
       "      <td>hexion</td>\n",
       "      <td>garden</td>\n",
       "      <td>heuristic</td>\n",
       "    </tr>\n",
       "    <tr>\n",
       "      <th>5534</th>\n",
       "      <td>hfo</td>\n",
       "      <td>garments</td>\n",
       "      <td>hexion</td>\n",
       "    </tr>\n",
       "    <tr>\n",
       "      <th>5535</th>\n",
       "      <td>hibu</td>\n",
       "      <td>genesys</td>\n",
       "      <td>hibernate</td>\n",
       "    </tr>\n",
       "    <tr>\n",
       "      <th>5536</th>\n",
       "      <td>highest</td>\n",
       "      <td>generalist</td>\n",
       "      <td>hibu</td>\n",
       "    </tr>\n",
       "    <tr>\n",
       "      <th>5537</th>\n",
       "      <td>highjump</td>\n",
       "      <td>generators</td>\n",
       "      <td>highjump</td>\n",
       "    </tr>\n",
       "    <tr>\n",
       "      <th>5538</th>\n",
       "      <td>hill</td>\n",
       "      <td>generations</td>\n",
       "      <td>hill</td>\n",
       "    </tr>\n",
       "    <tr>\n",
       "      <th>5539</th>\n",
       "      <td>hilti</td>\n",
       "      <td>generating</td>\n",
       "      <td>hilti</td>\n",
       "    </tr>\n",
       "    <tr>\n",
       "      <th>5540</th>\n",
       "      <td>hipaa</td>\n",
       "      <td>generated</td>\n",
       "      <td>hipaa</td>\n",
       "    </tr>\n",
       "    <tr>\n",
       "      <th>5541</th>\n",
       "      <td>hires</td>\n",
       "      <td>generally</td>\n",
       "      <td>hired</td>\n",
       "    </tr>\n",
       "    <tr>\n",
       "      <th>5542</th>\n",
       "      <td>history</td>\n",
       "      <td>generalists</td>\n",
       "      <td>hires</td>\n",
       "    </tr>\n",
       "    <tr>\n",
       "      <th>5543</th>\n",
       "      <td>hit</td>\n",
       "      <td>gear</td>\n",
       "      <td>hitting</td>\n",
       "    </tr>\n",
       "    <tr>\n",
       "      <th>5544</th>\n",
       "      <td>hits</td>\n",
       "      <td>gas</td>\n",
       "      <td>hive</td>\n",
       "    </tr>\n",
       "    <tr>\n",
       "      <th>5545</th>\n",
       "      <td>hitting</td>\n",
       "      <td>gci</td>\n",
       "      <td>hl</td>\n",
       "    </tr>\n",
       "    <tr>\n",
       "      <th>5546</th>\n",
       "      <td>hive</td>\n",
       "      <td>gc</td>\n",
       "      <td>hobsons</td>\n",
       "    </tr>\n",
       "    <tr>\n",
       "      <th>5547</th>\n",
       "      <td>hl</td>\n",
       "      <td>gbq</td>\n",
       "      <td>hog</td>\n",
       "    </tr>\n",
       "    <tr>\n",
       "      <th>5548</th>\n",
       "      <td>hmi</td>\n",
       "      <td>gatesair</td>\n",
       "      <td>hold</td>\n",
       "    </tr>\n",
       "    <tr>\n",
       "      <th>5549</th>\n",
       "      <td>hog</td>\n",
       "      <td>gates</td>\n",
       "      <td>holders</td>\n",
       "    </tr>\n",
       "    <tr>\n",
       "      <th>5550</th>\n",
       "      <td>hold</td>\n",
       "      <td>gate</td>\n",
       "      <td>holding</td>\n",
       "    </tr>\n",
       "    <tr>\n",
       "      <th>5551</th>\n",
       "      <td>zycron</td>\n",
       "      <td>zycron</td>\n",
       "      <td>zycron</td>\n",
       "    </tr>\n",
       "  </tbody>\n",
       "</table>\n",
       "<p>5552 rows × 3 columns</p>\n",
       "</div>"
      ],
      "text/plain": [
       "       All Degrees            CYIT            NEEN\n",
       "0              web        security         network\n",
       "1          network     information        engineer\n",
       "2          support           cyber  implementation\n",
       "3         security        software       engineers\n",
       "4            users       clearance             web\n",
       "5         software          secret        software\n",
       "6       experience             web         support\n",
       "7      application         systems        networks\n",
       "8         services         support            user\n",
       "9             user     description           users\n",
       "10        engineer    intelligence      experience\n",
       "11        networks  implementation         systems\n",
       "12           agile         analyst      electrical\n",
       "13            java     innovations             net\n",
       "14       engineers         network           agile\n",
       "15          design            risk       imaginers\n",
       "16    technologies             job       protocols\n",
       "17        hardware      recognized          design\n",
       "18           using            user         reports\n",
       "19    applications         project        business\n",
       "20          mobile         subject           cisco\n",
       "21           years           cissp       technical\n",
       "22             new   investigation        builders\n",
       "23            life      technology   communication\n",
       "24           teams  infrastructure          senior\n",
       "25    demonstrated            afrl         provide\n",
       "26             mvc          states      automation\n",
       "27       standards        services           local\n",
       "28             css     specializes         largest\n",
       "29           cycle      experience         seeking\n",
       "...            ...             ...             ...\n",
       "5522       heavily          gaming         heavily\n",
       "5523         heavy            game           heavy\n",
       "5524    heidelberg          gamble      heidelberg\n",
       "5525    heightened            gain      heightened\n",
       "5526       heights         garment         heights\n",
       "5527          held              ga         helpful\n",
       "5528         helps         fuzzing           helps\n",
       "5529        henkel       furniture          henkel\n",
       "5530        herman      furnishing          herman\n",
       "5531        heroku           funds          heroku\n",
       "5532     heuristic     fundraising   heterogeneous\n",
       "5533        hexion          garden       heuristic\n",
       "5534           hfo        garments          hexion\n",
       "5535          hibu         genesys       hibernate\n",
       "5536       highest      generalist            hibu\n",
       "5537      highjump      generators        highjump\n",
       "5538          hill     generations            hill\n",
       "5539         hilti      generating           hilti\n",
       "5540         hipaa       generated           hipaa\n",
       "5541         hires       generally           hired\n",
       "5542       history     generalists           hires\n",
       "5543           hit            gear         hitting\n",
       "5544          hits             gas            hive\n",
       "5545       hitting             gci              hl\n",
       "5546          hive              gc         hobsons\n",
       "5547            hl             gbq             hog\n",
       "5548           hmi        gatesair            hold\n",
       "5549           hog           gates         holders\n",
       "5550          hold            gate         holding\n",
       "5551        zycron          zycron          zycron\n",
       "\n",
       "[5552 rows x 3 columns]"
      ]
     },
     "execution_count": 82,
     "metadata": {},
     "output_type": "execute_result"
    }
   ],
   "source": [
    "allFeatureImportance['NEEN']=feature_importancesRF_NEEN.index\n",
    "\n",
    "allFeatureImportance"
   ]
  },
  {
   "cell_type": "code",
   "execution_count": 83,
   "metadata": {
    "collapsed": false
   },
   "outputs": [
    {
     "name": "stdout",
     "output_type": "stream",
     "text": [
      "0.988838268793\n",
      "            importance\n",
      "software      0.065015\n",
      "web           0.036723\n",
      "support       0.034307\n",
      "network       0.034207\n",
      "experience    0.024237\n",
      "user          0.022781\n",
      "engineer      0.021520\n",
      "design        0.018425\n",
      "users         0.014670\n",
      "security      0.010547\n"
     ]
    }
   ],
   "source": [
    "yDegree=yNEMA\n",
    "rf.fit(x, yDegree)\n",
    "rf.score(x, yDegree)\n",
    "importances = rf.feature_importances_\n",
    "feature_importancesRF_NEMA = pd.DataFrame(rf.feature_importances_,\n",
    "                                   index = x.columns,\n",
    "                                    columns=['importance']).sort_values('importance',\n",
    "                                                                        ascending=False)\n",
    "print rf.score(x, yDegree)\n",
    "print feature_importancesRF_NEMA.head(10)"
   ]
  },
  {
   "cell_type": "code",
   "execution_count": 84,
   "metadata": {
    "collapsed": false
   },
   "outputs": [
    {
     "data": {
      "text/html": [
       "<div>\n",
       "<table border=\"1\" class=\"dataframe\">\n",
       "  <thead>\n",
       "    <tr style=\"text-align: right;\">\n",
       "      <th></th>\n",
       "      <th>All Degrees</th>\n",
       "      <th>CYIT</th>\n",
       "      <th>NEEN</th>\n",
       "      <th>NEMA</th>\n",
       "    </tr>\n",
       "  </thead>\n",
       "  <tbody>\n",
       "    <tr>\n",
       "      <th>0</th>\n",
       "      <td>web</td>\n",
       "      <td>security</td>\n",
       "      <td>network</td>\n",
       "      <td>software</td>\n",
       "    </tr>\n",
       "    <tr>\n",
       "      <th>1</th>\n",
       "      <td>network</td>\n",
       "      <td>information</td>\n",
       "      <td>engineer</td>\n",
       "      <td>web</td>\n",
       "    </tr>\n",
       "    <tr>\n",
       "      <th>2</th>\n",
       "      <td>support</td>\n",
       "      <td>cyber</td>\n",
       "      <td>implementation</td>\n",
       "      <td>support</td>\n",
       "    </tr>\n",
       "    <tr>\n",
       "      <th>3</th>\n",
       "      <td>security</td>\n",
       "      <td>software</td>\n",
       "      <td>engineers</td>\n",
       "      <td>network</td>\n",
       "    </tr>\n",
       "    <tr>\n",
       "      <th>4</th>\n",
       "      <td>users</td>\n",
       "      <td>clearance</td>\n",
       "      <td>web</td>\n",
       "      <td>experience</td>\n",
       "    </tr>\n",
       "    <tr>\n",
       "      <th>5</th>\n",
       "      <td>software</td>\n",
       "      <td>secret</td>\n",
       "      <td>software</td>\n",
       "      <td>user</td>\n",
       "    </tr>\n",
       "    <tr>\n",
       "      <th>6</th>\n",
       "      <td>experience</td>\n",
       "      <td>web</td>\n",
       "      <td>support</td>\n",
       "      <td>engineer</td>\n",
       "    </tr>\n",
       "    <tr>\n",
       "      <th>7</th>\n",
       "      <td>application</td>\n",
       "      <td>systems</td>\n",
       "      <td>networks</td>\n",
       "      <td>design</td>\n",
       "    </tr>\n",
       "    <tr>\n",
       "      <th>8</th>\n",
       "      <td>services</td>\n",
       "      <td>support</td>\n",
       "      <td>user</td>\n",
       "      <td>users</td>\n",
       "    </tr>\n",
       "    <tr>\n",
       "      <th>9</th>\n",
       "      <td>user</td>\n",
       "      <td>description</td>\n",
       "      <td>users</td>\n",
       "      <td>security</td>\n",
       "    </tr>\n",
       "    <tr>\n",
       "      <th>10</th>\n",
       "      <td>engineer</td>\n",
       "      <td>intelligence</td>\n",
       "      <td>experience</td>\n",
       "      <td>application</td>\n",
       "    </tr>\n",
       "    <tr>\n",
       "      <th>11</th>\n",
       "      <td>networks</td>\n",
       "      <td>implementation</td>\n",
       "      <td>systems</td>\n",
       "      <td>engineers</td>\n",
       "    </tr>\n",
       "    <tr>\n",
       "      <th>12</th>\n",
       "      <td>agile</td>\n",
       "      <td>analyst</td>\n",
       "      <td>electrical</td>\n",
       "      <td>cyber</td>\n",
       "    </tr>\n",
       "    <tr>\n",
       "      <th>13</th>\n",
       "      <td>java</td>\n",
       "      <td>innovations</td>\n",
       "      <td>net</td>\n",
       "      <td>implementation</td>\n",
       "    </tr>\n",
       "    <tr>\n",
       "      <th>14</th>\n",
       "      <td>engineers</td>\n",
       "      <td>network</td>\n",
       "      <td>agile</td>\n",
       "      <td>provide</td>\n",
       "    </tr>\n",
       "    <tr>\n",
       "      <th>15</th>\n",
       "      <td>design</td>\n",
       "      <td>risk</td>\n",
       "      <td>imaginers</td>\n",
       "      <td>end</td>\n",
       "    </tr>\n",
       "    <tr>\n",
       "      <th>16</th>\n",
       "      <td>technologies</td>\n",
       "      <td>job</td>\n",
       "      <td>protocols</td>\n",
       "      <td>project</td>\n",
       "    </tr>\n",
       "    <tr>\n",
       "      <th>17</th>\n",
       "      <td>hardware</td>\n",
       "      <td>recognized</td>\n",
       "      <td>design</td>\n",
       "      <td>using</td>\n",
       "    </tr>\n",
       "    <tr>\n",
       "      <th>18</th>\n",
       "      <td>using</td>\n",
       "      <td>user</td>\n",
       "      <td>reports</td>\n",
       "      <td>requirements</td>\n",
       "    </tr>\n",
       "    <tr>\n",
       "      <th>19</th>\n",
       "      <td>applications</td>\n",
       "      <td>project</td>\n",
       "      <td>business</td>\n",
       "      <td>systems</td>\n",
       "    </tr>\n",
       "    <tr>\n",
       "      <th>20</th>\n",
       "      <td>mobile</td>\n",
       "      <td>subject</td>\n",
       "      <td>cisco</td>\n",
       "      <td>relationships</td>\n",
       "    </tr>\n",
       "    <tr>\n",
       "      <th>21</th>\n",
       "      <td>years</td>\n",
       "      <td>cissp</td>\n",
       "      <td>technical</td>\n",
       "      <td>years</td>\n",
       "    </tr>\n",
       "    <tr>\n",
       "      <th>22</th>\n",
       "      <td>new</td>\n",
       "      <td>investigation</td>\n",
       "      <td>builders</td>\n",
       "      <td>technical</td>\n",
       "    </tr>\n",
       "    <tr>\n",
       "      <th>23</th>\n",
       "      <td>life</td>\n",
       "      <td>technology</td>\n",
       "      <td>communication</td>\n",
       "      <td>assigned</td>\n",
       "    </tr>\n",
       "    <tr>\n",
       "      <th>24</th>\n",
       "      <td>teams</td>\n",
       "      <td>infrastructure</td>\n",
       "      <td>senior</td>\n",
       "      <td>applications</td>\n",
       "    </tr>\n",
       "    <tr>\n",
       "      <th>25</th>\n",
       "      <td>demonstrated</td>\n",
       "      <td>afrl</td>\n",
       "      <td>provide</td>\n",
       "      <td>distribution</td>\n",
       "    </tr>\n",
       "    <tr>\n",
       "      <th>26</th>\n",
       "      <td>mvc</td>\n",
       "      <td>states</td>\n",
       "      <td>automation</td>\n",
       "      <td>retail</td>\n",
       "    </tr>\n",
       "    <tr>\n",
       "      <th>27</th>\n",
       "      <td>standards</td>\n",
       "      <td>services</td>\n",
       "      <td>local</td>\n",
       "      <td>java</td>\n",
       "    </tr>\n",
       "    <tr>\n",
       "      <th>28</th>\n",
       "      <td>css</td>\n",
       "      <td>specializes</td>\n",
       "      <td>largest</td>\n",
       "      <td>regional</td>\n",
       "    </tr>\n",
       "    <tr>\n",
       "      <th>29</th>\n",
       "      <td>cycle</td>\n",
       "      <td>experience</td>\n",
       "      <td>seeking</td>\n",
       "      <td>reports</td>\n",
       "    </tr>\n",
       "    <tr>\n",
       "      <th>...</th>\n",
       "      <td>...</td>\n",
       "      <td>...</td>\n",
       "      <td>...</td>\n",
       "      <td>...</td>\n",
       "    </tr>\n",
       "    <tr>\n",
       "      <th>5522</th>\n",
       "      <td>heavily</td>\n",
       "      <td>gaming</td>\n",
       "      <td>heavily</td>\n",
       "      <td>discharge</td>\n",
       "    </tr>\n",
       "    <tr>\n",
       "      <th>5523</th>\n",
       "      <td>heavy</td>\n",
       "      <td>game</td>\n",
       "      <td>heavy</td>\n",
       "      <td>disabled</td>\n",
       "    </tr>\n",
       "    <tr>\n",
       "      <th>5524</th>\n",
       "      <td>heidelberg</td>\n",
       "      <td>gamble</td>\n",
       "      <td>heidelberg</td>\n",
       "      <td>disa</td>\n",
       "    </tr>\n",
       "    <tr>\n",
       "      <th>5525</th>\n",
       "      <td>heightened</td>\n",
       "      <td>gain</td>\n",
       "      <td>heightened</td>\n",
       "      <td>objectivity</td>\n",
       "    </tr>\n",
       "    <tr>\n",
       "      <th>5526</th>\n",
       "      <td>heights</td>\n",
       "      <td>garment</td>\n",
       "      <td>heights</td>\n",
       "      <td>discrimination</td>\n",
       "    </tr>\n",
       "    <tr>\n",
       "      <th>5527</th>\n",
       "      <td>held</td>\n",
       "      <td>ga</td>\n",
       "      <td>helpful</td>\n",
       "      <td>novel</td>\n",
       "    </tr>\n",
       "    <tr>\n",
       "      <th>5528</th>\n",
       "      <td>helps</td>\n",
       "      <td>fuzzing</td>\n",
       "      <td>helps</td>\n",
       "      <td>notlimited</td>\n",
       "    </tr>\n",
       "    <tr>\n",
       "      <th>5529</th>\n",
       "      <td>henkel</td>\n",
       "      <td>furniture</td>\n",
       "      <td>henkel</td>\n",
       "      <td>notifying</td>\n",
       "    </tr>\n",
       "    <tr>\n",
       "      <th>5530</th>\n",
       "      <td>herman</td>\n",
       "      <td>furnishing</td>\n",
       "      <td>herman</td>\n",
       "      <td>nmap</td>\n",
       "    </tr>\n",
       "    <tr>\n",
       "      <th>5531</th>\n",
       "      <td>heroku</td>\n",
       "      <td>funds</td>\n",
       "      <td>heroku</td>\n",
       "      <td>nmls</td>\n",
       "    </tr>\n",
       "    <tr>\n",
       "      <th>5532</th>\n",
       "      <td>heuristic</td>\n",
       "      <td>fundraising</td>\n",
       "      <td>heterogeneous</td>\n",
       "      <td>nms</td>\n",
       "    </tr>\n",
       "    <tr>\n",
       "      <th>5533</th>\n",
       "      <td>hexion</td>\n",
       "      <td>garden</td>\n",
       "      <td>heuristic</td>\n",
       "      <td>noc</td>\n",
       "    </tr>\n",
       "    <tr>\n",
       "      <th>5534</th>\n",
       "      <td>hfo</td>\n",
       "      <td>garments</td>\n",
       "      <td>hexion</td>\n",
       "      <td>node</td>\n",
       "    </tr>\n",
       "    <tr>\n",
       "      <th>5535</th>\n",
       "      <td>hibu</td>\n",
       "      <td>genesys</td>\n",
       "      <td>hibernate</td>\n",
       "      <td>dispersed</td>\n",
       "    </tr>\n",
       "    <tr>\n",
       "      <th>5536</th>\n",
       "      <td>highest</td>\n",
       "      <td>generalist</td>\n",
       "      <td>hibu</td>\n",
       "      <td>dispensers</td>\n",
       "    </tr>\n",
       "    <tr>\n",
       "      <th>5537</th>\n",
       "      <td>highjump</td>\n",
       "      <td>generators</td>\n",
       "      <td>highjump</td>\n",
       "      <td>nonexempt</td>\n",
       "    </tr>\n",
       "    <tr>\n",
       "      <th>5538</th>\n",
       "      <td>hill</td>\n",
       "      <td>generations</td>\n",
       "      <td>hill</td>\n",
       "      <td>nonprofit</td>\n",
       "    </tr>\n",
       "    <tr>\n",
       "      <th>5539</th>\n",
       "      <td>hilti</td>\n",
       "      <td>generating</td>\n",
       "      <td>hilti</td>\n",
       "      <td>dispenser</td>\n",
       "    </tr>\n",
       "    <tr>\n",
       "      <th>5540</th>\n",
       "      <td>hipaa</td>\n",
       "      <td>generated</td>\n",
       "      <td>hipaa</td>\n",
       "      <td>normal</td>\n",
       "    </tr>\n",
       "    <tr>\n",
       "      <th>5541</th>\n",
       "      <td>hires</td>\n",
       "      <td>generally</td>\n",
       "      <td>hired</td>\n",
       "      <td>normalized</td>\n",
       "    </tr>\n",
       "    <tr>\n",
       "      <th>5542</th>\n",
       "      <td>history</td>\n",
       "      <td>generalists</td>\n",
       "      <td>hires</td>\n",
       "      <td>dispatches</td>\n",
       "    </tr>\n",
       "    <tr>\n",
       "      <th>5543</th>\n",
       "      <td>hit</td>\n",
       "      <td>gear</td>\n",
       "      <td>hitting</td>\n",
       "      <td>northern</td>\n",
       "    </tr>\n",
       "    <tr>\n",
       "      <th>5544</th>\n",
       "      <td>hits</td>\n",
       "      <td>gas</td>\n",
       "      <td>hive</td>\n",
       "      <td>northfield</td>\n",
       "    </tr>\n",
       "    <tr>\n",
       "      <th>5545</th>\n",
       "      <td>hitting</td>\n",
       "      <td>gci</td>\n",
       "      <td>hl</td>\n",
       "      <td>dispatch</td>\n",
       "    </tr>\n",
       "    <tr>\n",
       "      <th>5546</th>\n",
       "      <td>hive</td>\n",
       "      <td>gc</td>\n",
       "      <td>hobsons</td>\n",
       "      <td>northwest</td>\n",
       "    </tr>\n",
       "    <tr>\n",
       "      <th>5547</th>\n",
       "      <td>hl</td>\n",
       "      <td>gbq</td>\n",
       "      <td>hog</td>\n",
       "      <td>discussing</td>\n",
       "    </tr>\n",
       "    <tr>\n",
       "      <th>5548</th>\n",
       "      <td>hmi</td>\n",
       "      <td>gatesair</td>\n",
       "      <td>hold</td>\n",
       "      <td>notification</td>\n",
       "    </tr>\n",
       "    <tr>\n",
       "      <th>5549</th>\n",
       "      <td>hog</td>\n",
       "      <td>gates</td>\n",
       "      <td>holders</td>\n",
       "      <td>notifies</td>\n",
       "    </tr>\n",
       "    <tr>\n",
       "      <th>5550</th>\n",
       "      <td>hold</td>\n",
       "      <td>gate</td>\n",
       "      <td>holding</td>\n",
       "      <td>notify</td>\n",
       "    </tr>\n",
       "    <tr>\n",
       "      <th>5551</th>\n",
       "      <td>zycron</td>\n",
       "      <td>zycron</td>\n",
       "      <td>zycron</td>\n",
       "      <td>_adaptive</td>\n",
       "    </tr>\n",
       "  </tbody>\n",
       "</table>\n",
       "<p>5552 rows × 4 columns</p>\n",
       "</div>"
      ],
      "text/plain": [
       "       All Degrees            CYIT            NEEN            NEMA\n",
       "0              web        security         network        software\n",
       "1          network     information        engineer             web\n",
       "2          support           cyber  implementation         support\n",
       "3         security        software       engineers         network\n",
       "4            users       clearance             web      experience\n",
       "5         software          secret        software            user\n",
       "6       experience             web         support        engineer\n",
       "7      application         systems        networks          design\n",
       "8         services         support            user           users\n",
       "9             user     description           users        security\n",
       "10        engineer    intelligence      experience     application\n",
       "11        networks  implementation         systems       engineers\n",
       "12           agile         analyst      electrical           cyber\n",
       "13            java     innovations             net  implementation\n",
       "14       engineers         network           agile         provide\n",
       "15          design            risk       imaginers             end\n",
       "16    technologies             job       protocols         project\n",
       "17        hardware      recognized          design           using\n",
       "18           using            user         reports    requirements\n",
       "19    applications         project        business         systems\n",
       "20          mobile         subject           cisco   relationships\n",
       "21           years           cissp       technical           years\n",
       "22             new   investigation        builders       technical\n",
       "23            life      technology   communication        assigned\n",
       "24           teams  infrastructure          senior    applications\n",
       "25    demonstrated            afrl         provide    distribution\n",
       "26             mvc          states      automation          retail\n",
       "27       standards        services           local            java\n",
       "28             css     specializes         largest        regional\n",
       "29           cycle      experience         seeking         reports\n",
       "...            ...             ...             ...             ...\n",
       "5522       heavily          gaming         heavily       discharge\n",
       "5523         heavy            game           heavy        disabled\n",
       "5524    heidelberg          gamble      heidelberg            disa\n",
       "5525    heightened            gain      heightened     objectivity\n",
       "5526       heights         garment         heights  discrimination\n",
       "5527          held              ga         helpful           novel\n",
       "5528         helps         fuzzing           helps      notlimited\n",
       "5529        henkel       furniture          henkel       notifying\n",
       "5530        herman      furnishing          herman            nmap\n",
       "5531        heroku           funds          heroku            nmls\n",
       "5532     heuristic     fundraising   heterogeneous             nms\n",
       "5533        hexion          garden       heuristic             noc\n",
       "5534           hfo        garments          hexion            node\n",
       "5535          hibu         genesys       hibernate       dispersed\n",
       "5536       highest      generalist            hibu      dispensers\n",
       "5537      highjump      generators        highjump       nonexempt\n",
       "5538          hill     generations            hill       nonprofit\n",
       "5539         hilti      generating           hilti       dispenser\n",
       "5540         hipaa       generated           hipaa          normal\n",
       "5541         hires       generally           hired      normalized\n",
       "5542       history     generalists           hires      dispatches\n",
       "5543           hit            gear         hitting        northern\n",
       "5544          hits             gas            hive      northfield\n",
       "5545       hitting             gci              hl        dispatch\n",
       "5546          hive              gc         hobsons       northwest\n",
       "5547            hl             gbq             hog      discussing\n",
       "5548           hmi        gatesair            hold    notification\n",
       "5549           hog           gates         holders        notifies\n",
       "5550          hold            gate         holding          notify\n",
       "5551        zycron          zycron          zycron       _adaptive\n",
       "\n",
       "[5552 rows x 4 columns]"
      ]
     },
     "execution_count": 84,
     "metadata": {},
     "output_type": "execute_result"
    }
   ],
   "source": [
    "allFeatureImportance['NEMA']=feature_importancesRF_NEMA.index\n",
    "\n",
    "allFeatureImportance"
   ]
  },
  {
   "cell_type": "code",
   "execution_count": 85,
   "metadata": {
    "collapsed": false
   },
   "outputs": [
    {
     "name": "stdout",
     "output_type": "stream",
     "text": [
      "0.983143507973\n",
      "            importance\n",
      "software      0.145695\n",
      "network       0.043736\n",
      "web           0.027009\n",
      "support       0.020347\n",
      "experience    0.017697\n",
      "security      0.010590\n",
      "cycle         0.009540\n",
      "networks      0.008421\n",
      "users         0.008364\n",
      "user          0.007429\n"
     ]
    }
   ],
   "source": [
    "yDegree=ySODE\n",
    "rf.fit(x, yDegree)\n",
    "rf.score(x, yDegree)\n",
    "importances = rf.feature_importances_\n",
    "feature_importancesRF_SODE = pd.DataFrame(rf.feature_importances_,\n",
    "                                   index = x.columns,\n",
    "                                    columns=['importance']).sort_values('importance',\n",
    "                                                                        ascending=False)\n",
    "print rf.score(x, yDegree)\n",
    "print feature_importancesRF_SODE.head(10)"
   ]
  },
  {
   "cell_type": "code",
   "execution_count": 86,
   "metadata": {
    "collapsed": true
   },
   "outputs": [],
   "source": [
    "allFeatureImportance['SODE']=feature_importancesRF_SODE.index\n",
    "\n",
    "#allFeatureImportance"
   ]
  },
  {
   "cell_type": "code",
   "execution_count": 87,
   "metadata": {
    "collapsed": false
   },
   "outputs": [
    {
     "name": "stdout",
     "output_type": "stream",
     "text": [
      "0.99589977221\n",
      "          importance\n",
      "support     0.223972\n",
      "user        0.075650\n",
      "users       0.040590\n",
      "provide     0.033645\n",
      "web         0.027221\n",
      "network     0.022544\n",
      "software    0.015030\n",
      "supports    0.009726\n",
      "end         0.009447\n",
      "desktop     0.007738\n"
     ]
    }
   ],
   "source": [
    "yDegree=yUSSU\n",
    "rf.fit(x, yDegree)\n",
    "rf.score(x, yDegree)\n",
    "importances = rf.feature_importances_\n",
    "feature_importancesRF_USSU = pd.DataFrame(rf.feature_importances_,\n",
    "                                   index = x.columns,\n",
    "                                    columns=['importance']).sort_values('importance',\n",
    "                                                                        ascending=False)\n",
    "print rf.score(x, yDegree)\n",
    "print feature_importancesRF_USSU.head(10)"
   ]
  },
  {
   "cell_type": "code",
   "execution_count": 88,
   "metadata": {
    "collapsed": false
   },
   "outputs": [
    {
     "data": {
      "text/html": [
       "<div>\n",
       "<table border=\"1\" class=\"dataframe\">\n",
       "  <thead>\n",
       "    <tr style=\"text-align: right;\">\n",
       "      <th></th>\n",
       "      <th>All Degrees</th>\n",
       "      <th>CYIT</th>\n",
       "      <th>NEEN</th>\n",
       "      <th>NEMA</th>\n",
       "      <th>SODE</th>\n",
       "    </tr>\n",
       "  </thead>\n",
       "  <tbody>\n",
       "    <tr>\n",
       "      <th>0</th>\n",
       "      <td>web</td>\n",
       "      <td>security</td>\n",
       "      <td>network</td>\n",
       "      <td>software</td>\n",
       "      <td>software</td>\n",
       "    </tr>\n",
       "    <tr>\n",
       "      <th>1</th>\n",
       "      <td>network</td>\n",
       "      <td>information</td>\n",
       "      <td>engineer</td>\n",
       "      <td>web</td>\n",
       "      <td>network</td>\n",
       "    </tr>\n",
       "    <tr>\n",
       "      <th>2</th>\n",
       "      <td>support</td>\n",
       "      <td>cyber</td>\n",
       "      <td>implementation</td>\n",
       "      <td>support</td>\n",
       "      <td>web</td>\n",
       "    </tr>\n",
       "    <tr>\n",
       "      <th>3</th>\n",
       "      <td>security</td>\n",
       "      <td>software</td>\n",
       "      <td>engineers</td>\n",
       "      <td>network</td>\n",
       "      <td>support</td>\n",
       "    </tr>\n",
       "    <tr>\n",
       "      <th>4</th>\n",
       "      <td>users</td>\n",
       "      <td>clearance</td>\n",
       "      <td>web</td>\n",
       "      <td>experience</td>\n",
       "      <td>experience</td>\n",
       "    </tr>\n",
       "    <tr>\n",
       "      <th>5</th>\n",
       "      <td>software</td>\n",
       "      <td>secret</td>\n",
       "      <td>software</td>\n",
       "      <td>user</td>\n",
       "      <td>security</td>\n",
       "    </tr>\n",
       "    <tr>\n",
       "      <th>6</th>\n",
       "      <td>experience</td>\n",
       "      <td>web</td>\n",
       "      <td>support</td>\n",
       "      <td>engineer</td>\n",
       "      <td>cycle</td>\n",
       "    </tr>\n",
       "    <tr>\n",
       "      <th>7</th>\n",
       "      <td>application</td>\n",
       "      <td>systems</td>\n",
       "      <td>networks</td>\n",
       "      <td>design</td>\n",
       "      <td>networks</td>\n",
       "    </tr>\n",
       "    <tr>\n",
       "      <th>8</th>\n",
       "      <td>services</td>\n",
       "      <td>support</td>\n",
       "      <td>user</td>\n",
       "      <td>users</td>\n",
       "      <td>users</td>\n",
       "    </tr>\n",
       "    <tr>\n",
       "      <th>9</th>\n",
       "      <td>user</td>\n",
       "      <td>description</td>\n",
       "      <td>users</td>\n",
       "      <td>security</td>\n",
       "      <td>user</td>\n",
       "    </tr>\n",
       "    <tr>\n",
       "      <th>10</th>\n",
       "      <td>engineer</td>\n",
       "      <td>intelligence</td>\n",
       "      <td>experience</td>\n",
       "      <td>application</td>\n",
       "      <td>years</td>\n",
       "    </tr>\n",
       "    <tr>\n",
       "      <th>11</th>\n",
       "      <td>networks</td>\n",
       "      <td>implementation</td>\n",
       "      <td>systems</td>\n",
       "      <td>engineers</td>\n",
       "      <td>test</td>\n",
       "    </tr>\n",
       "    <tr>\n",
       "      <th>12</th>\n",
       "      <td>agile</td>\n",
       "      <td>analyst</td>\n",
       "      <td>electrical</td>\n",
       "      <td>cyber</td>\n",
       "      <td>cyber</td>\n",
       "    </tr>\n",
       "    <tr>\n",
       "      <th>13</th>\n",
       "      <td>java</td>\n",
       "      <td>innovations</td>\n",
       "      <td>net</td>\n",
       "      <td>implementation</td>\n",
       "      <td>knowledge</td>\n",
       "    </tr>\n",
       "    <tr>\n",
       "      <th>14</th>\n",
       "      <td>engineers</td>\n",
       "      <td>network</td>\n",
       "      <td>agile</td>\n",
       "      <td>provide</td>\n",
       "      <td>design</td>\n",
       "    </tr>\n",
       "    <tr>\n",
       "      <th>15</th>\n",
       "      <td>design</td>\n",
       "      <td>risk</td>\n",
       "      <td>imaginers</td>\n",
       "      <td>end</td>\n",
       "      <td>services</td>\n",
       "    </tr>\n",
       "    <tr>\n",
       "      <th>16</th>\n",
       "      <td>technologies</td>\n",
       "      <td>job</td>\n",
       "      <td>protocols</td>\n",
       "      <td>project</td>\n",
       "      <td>lifecycle</td>\n",
       "    </tr>\n",
       "    <tr>\n",
       "      <th>17</th>\n",
       "      <td>hardware</td>\n",
       "      <td>recognized</td>\n",
       "      <td>design</td>\n",
       "      <td>using</td>\n",
       "      <td>testing</td>\n",
       "    </tr>\n",
       "    <tr>\n",
       "      <th>18</th>\n",
       "      <td>using</td>\n",
       "      <td>user</td>\n",
       "      <td>reports</td>\n",
       "      <td>requirements</td>\n",
       "      <td>hardware</td>\n",
       "    </tr>\n",
       "    <tr>\n",
       "      <th>19</th>\n",
       "      <td>applications</td>\n",
       "      <td>project</td>\n",
       "      <td>business</td>\n",
       "      <td>systems</td>\n",
       "      <td>applications</td>\n",
       "    </tr>\n",
       "    <tr>\n",
       "      <th>20</th>\n",
       "      <td>mobile</td>\n",
       "      <td>subject</td>\n",
       "      <td>cisco</td>\n",
       "      <td>relationships</td>\n",
       "      <td>sales</td>\n",
       "    </tr>\n",
       "    <tr>\n",
       "      <th>21</th>\n",
       "      <td>years</td>\n",
       "      <td>cissp</td>\n",
       "      <td>technical</td>\n",
       "      <td>years</td>\n",
       "      <td>regional</td>\n",
       "    </tr>\n",
       "    <tr>\n",
       "      <th>22</th>\n",
       "      <td>new</td>\n",
       "      <td>investigation</td>\n",
       "      <td>builders</td>\n",
       "      <td>technical</td>\n",
       "      <td>debugging</td>\n",
       "    </tr>\n",
       "    <tr>\n",
       "      <th>23</th>\n",
       "      <td>life</td>\n",
       "      <td>technology</td>\n",
       "      <td>communication</td>\n",
       "      <td>assigned</td>\n",
       "      <td>needs</td>\n",
       "    </tr>\n",
       "    <tr>\n",
       "      <th>24</th>\n",
       "      <td>teams</td>\n",
       "      <td>infrastructure</td>\n",
       "      <td>senior</td>\n",
       "      <td>applications</td>\n",
       "      <td>teams</td>\n",
       "    </tr>\n",
       "    <tr>\n",
       "      <th>25</th>\n",
       "      <td>demonstrated</td>\n",
       "      <td>afrl</td>\n",
       "      <td>provide</td>\n",
       "      <td>distribution</td>\n",
       "      <td>technical</td>\n",
       "    </tr>\n",
       "    <tr>\n",
       "      <th>26</th>\n",
       "      <td>mvc</td>\n",
       "      <td>states</td>\n",
       "      <td>automation</td>\n",
       "      <td>retail</td>\n",
       "      <td>engineering</td>\n",
       "    </tr>\n",
       "    <tr>\n",
       "      <th>27</th>\n",
       "      <td>standards</td>\n",
       "      <td>services</td>\n",
       "      <td>local</td>\n",
       "      <td>java</td>\n",
       "      <td>sdlc</td>\n",
       "    </tr>\n",
       "    <tr>\n",
       "      <th>28</th>\n",
       "      <td>css</td>\n",
       "      <td>specializes</td>\n",
       "      <td>largest</td>\n",
       "      <td>regional</td>\n",
       "      <td>systems</td>\n",
       "    </tr>\n",
       "    <tr>\n",
       "      <th>29</th>\n",
       "      <td>cycle</td>\n",
       "      <td>experience</td>\n",
       "      <td>seeking</td>\n",
       "      <td>reports</td>\n",
       "      <td>using</td>\n",
       "    </tr>\n",
       "    <tr>\n",
       "      <th>...</th>\n",
       "      <td>...</td>\n",
       "      <td>...</td>\n",
       "      <td>...</td>\n",
       "      <td>...</td>\n",
       "      <td>...</td>\n",
       "    </tr>\n",
       "    <tr>\n",
       "      <th>5522</th>\n",
       "      <td>heavily</td>\n",
       "      <td>gaming</td>\n",
       "      <td>heavily</td>\n",
       "      <td>discharge</td>\n",
       "      <td>hvac</td>\n",
       "    </tr>\n",
       "    <tr>\n",
       "      <th>5523</th>\n",
       "      <td>heavy</td>\n",
       "      <td>game</td>\n",
       "      <td>heavy</td>\n",
       "      <td>disabled</td>\n",
       "      <td>imaging</td>\n",
       "    </tr>\n",
       "    <tr>\n",
       "      <th>5524</th>\n",
       "      <td>heidelberg</td>\n",
       "      <td>gamble</td>\n",
       "      <td>heidelberg</td>\n",
       "      <td>disa</td>\n",
       "      <td>hx</td>\n",
       "    </tr>\n",
       "    <tr>\n",
       "      <th>5525</th>\n",
       "      <td>heightened</td>\n",
       "      <td>gain</td>\n",
       "      <td>heightened</td>\n",
       "      <td>objectivity</td>\n",
       "      <td>hybrid</td>\n",
       "    </tr>\n",
       "    <tr>\n",
       "      <th>5526</th>\n",
       "      <td>heights</td>\n",
       "      <td>garment</td>\n",
       "      <td>heights</td>\n",
       "      <td>discrimination</td>\n",
       "      <td>hybris</td>\n",
       "    </tr>\n",
       "    <tr>\n",
       "      <th>5527</th>\n",
       "      <td>held</td>\n",
       "      <td>ga</td>\n",
       "      <td>helpful</td>\n",
       "      <td>novel</td>\n",
       "      <td>iam</td>\n",
       "    </tr>\n",
       "    <tr>\n",
       "      <th>5528</th>\n",
       "      <td>helps</td>\n",
       "      <td>fuzzing</td>\n",
       "      <td>helps</td>\n",
       "      <td>notlimited</td>\n",
       "      <td>ibatis</td>\n",
       "    </tr>\n",
       "    <tr>\n",
       "      <th>5529</th>\n",
       "      <td>henkel</td>\n",
       "      <td>furniture</td>\n",
       "      <td>henkel</td>\n",
       "      <td>notifying</td>\n",
       "      <td>ibgp</td>\n",
       "    </tr>\n",
       "    <tr>\n",
       "      <th>5530</th>\n",
       "      <td>herman</td>\n",
       "      <td>furnishing</td>\n",
       "      <td>herman</td>\n",
       "      <td>nmap</td>\n",
       "      <td>icbm</td>\n",
       "    </tr>\n",
       "    <tr>\n",
       "      <th>5531</th>\n",
       "      <td>heroku</td>\n",
       "      <td>funds</td>\n",
       "      <td>heroku</td>\n",
       "      <td>nmls</td>\n",
       "      <td>icgs</td>\n",
       "    </tr>\n",
       "    <tr>\n",
       "      <th>5532</th>\n",
       "      <td>heuristic</td>\n",
       "      <td>fundraising</td>\n",
       "      <td>heterogeneous</td>\n",
       "      <td>nms</td>\n",
       "      <td>icims</td>\n",
       "    </tr>\n",
       "    <tr>\n",
       "      <th>5533</th>\n",
       "      <td>hexion</td>\n",
       "      <td>garden</td>\n",
       "      <td>heuristic</td>\n",
       "      <td>noc</td>\n",
       "      <td>icons</td>\n",
       "    </tr>\n",
       "    <tr>\n",
       "      <th>5534</th>\n",
       "      <td>hfo</td>\n",
       "      <td>garments</td>\n",
       "      <td>hexion</td>\n",
       "      <td>node</td>\n",
       "      <td>ict</td>\n",
       "    </tr>\n",
       "    <tr>\n",
       "      <th>5535</th>\n",
       "      <td>hibu</td>\n",
       "      <td>genesys</td>\n",
       "      <td>hibernate</td>\n",
       "      <td>dispersed</td>\n",
       "      <td>id</td>\n",
       "    </tr>\n",
       "    <tr>\n",
       "      <th>5536</th>\n",
       "      <td>highest</td>\n",
       "      <td>generalist</td>\n",
       "      <td>hibu</td>\n",
       "      <td>dispensers</td>\n",
       "      <td>identified</td>\n",
       "    </tr>\n",
       "    <tr>\n",
       "      <th>5537</th>\n",
       "      <td>highjump</td>\n",
       "      <td>generators</td>\n",
       "      <td>highjump</td>\n",
       "      <td>nonexempt</td>\n",
       "      <td>idfs</td>\n",
       "    </tr>\n",
       "    <tr>\n",
       "      <th>5538</th>\n",
       "      <td>hill</td>\n",
       "      <td>generations</td>\n",
       "      <td>hill</td>\n",
       "      <td>nonprofit</td>\n",
       "      <td>idl</td>\n",
       "    </tr>\n",
       "    <tr>\n",
       "      <th>5539</th>\n",
       "      <td>hilti</td>\n",
       "      <td>generating</td>\n",
       "      <td>hilti</td>\n",
       "      <td>dispenser</td>\n",
       "      <td>idps</td>\n",
       "    </tr>\n",
       "    <tr>\n",
       "      <th>5540</th>\n",
       "      <td>hipaa</td>\n",
       "      <td>generated</td>\n",
       "      <td>hipaa</td>\n",
       "      <td>normal</td>\n",
       "      <td>ies</td>\n",
       "    </tr>\n",
       "    <tr>\n",
       "      <th>5541</th>\n",
       "      <td>hires</td>\n",
       "      <td>generally</td>\n",
       "      <td>hired</td>\n",
       "      <td>normalized</td>\n",
       "      <td>ifm</td>\n",
       "    </tr>\n",
       "    <tr>\n",
       "      <th>5542</th>\n",
       "      <td>history</td>\n",
       "      <td>generalists</td>\n",
       "      <td>hires</td>\n",
       "      <td>dispatches</td>\n",
       "      <td>ifs</td>\n",
       "    </tr>\n",
       "    <tr>\n",
       "      <th>5543</th>\n",
       "      <td>hit</td>\n",
       "      <td>gear</td>\n",
       "      <td>hitting</td>\n",
       "      <td>northern</td>\n",
       "      <td>iglobal</td>\n",
       "    </tr>\n",
       "    <tr>\n",
       "      <th>5544</th>\n",
       "      <td>hits</td>\n",
       "      <td>gas</td>\n",
       "      <td>hive</td>\n",
       "      <td>northfield</td>\n",
       "      <td>ihi</td>\n",
       "    </tr>\n",
       "    <tr>\n",
       "      <th>5545</th>\n",
       "      <td>hitting</td>\n",
       "      <td>gci</td>\n",
       "      <td>hl</td>\n",
       "      <td>dispatch</td>\n",
       "      <td>ihs</td>\n",
       "    </tr>\n",
       "    <tr>\n",
       "      <th>5546</th>\n",
       "      <td>hive</td>\n",
       "      <td>gc</td>\n",
       "      <td>hobsons</td>\n",
       "      <td>northwest</td>\n",
       "      <td>iib</td>\n",
       "    </tr>\n",
       "    <tr>\n",
       "      <th>5547</th>\n",
       "      <td>hl</td>\n",
       "      <td>gbq</td>\n",
       "      <td>hog</td>\n",
       "      <td>discussing</td>\n",
       "      <td>iis</td>\n",
       "    </tr>\n",
       "    <tr>\n",
       "      <th>5548</th>\n",
       "      <td>hmi</td>\n",
       "      <td>gatesair</td>\n",
       "      <td>hold</td>\n",
       "      <td>notification</td>\n",
       "      <td>il</td>\n",
       "    </tr>\n",
       "    <tr>\n",
       "      <th>5549</th>\n",
       "      <td>hog</td>\n",
       "      <td>gates</td>\n",
       "      <td>holders</td>\n",
       "      <td>notifies</td>\n",
       "      <td>ilt</td>\n",
       "    </tr>\n",
       "    <tr>\n",
       "      <th>5550</th>\n",
       "      <td>hold</td>\n",
       "      <td>gate</td>\n",
       "      <td>holding</td>\n",
       "      <td>notify</td>\n",
       "      <td>images</td>\n",
       "    </tr>\n",
       "    <tr>\n",
       "      <th>5551</th>\n",
       "      <td>zycron</td>\n",
       "      <td>zycron</td>\n",
       "      <td>zycron</td>\n",
       "      <td>_adaptive</td>\n",
       "      <td>zycron</td>\n",
       "    </tr>\n",
       "  </tbody>\n",
       "</table>\n",
       "<p>5552 rows × 5 columns</p>\n",
       "</div>"
      ],
      "text/plain": [
       "       All Degrees            CYIT            NEEN            NEMA  \\\n",
       "0              web        security         network        software   \n",
       "1          network     information        engineer             web   \n",
       "2          support           cyber  implementation         support   \n",
       "3         security        software       engineers         network   \n",
       "4            users       clearance             web      experience   \n",
       "5         software          secret        software            user   \n",
       "6       experience             web         support        engineer   \n",
       "7      application         systems        networks          design   \n",
       "8         services         support            user           users   \n",
       "9             user     description           users        security   \n",
       "10        engineer    intelligence      experience     application   \n",
       "11        networks  implementation         systems       engineers   \n",
       "12           agile         analyst      electrical           cyber   \n",
       "13            java     innovations             net  implementation   \n",
       "14       engineers         network           agile         provide   \n",
       "15          design            risk       imaginers             end   \n",
       "16    technologies             job       protocols         project   \n",
       "17        hardware      recognized          design           using   \n",
       "18           using            user         reports    requirements   \n",
       "19    applications         project        business         systems   \n",
       "20          mobile         subject           cisco   relationships   \n",
       "21           years           cissp       technical           years   \n",
       "22             new   investigation        builders       technical   \n",
       "23            life      technology   communication        assigned   \n",
       "24           teams  infrastructure          senior    applications   \n",
       "25    demonstrated            afrl         provide    distribution   \n",
       "26             mvc          states      automation          retail   \n",
       "27       standards        services           local            java   \n",
       "28             css     specializes         largest        regional   \n",
       "29           cycle      experience         seeking         reports   \n",
       "...            ...             ...             ...             ...   \n",
       "5522       heavily          gaming         heavily       discharge   \n",
       "5523         heavy            game           heavy        disabled   \n",
       "5524    heidelberg          gamble      heidelberg            disa   \n",
       "5525    heightened            gain      heightened     objectivity   \n",
       "5526       heights         garment         heights  discrimination   \n",
       "5527          held              ga         helpful           novel   \n",
       "5528         helps         fuzzing           helps      notlimited   \n",
       "5529        henkel       furniture          henkel       notifying   \n",
       "5530        herman      furnishing          herman            nmap   \n",
       "5531        heroku           funds          heroku            nmls   \n",
       "5532     heuristic     fundraising   heterogeneous             nms   \n",
       "5533        hexion          garden       heuristic             noc   \n",
       "5534           hfo        garments          hexion            node   \n",
       "5535          hibu         genesys       hibernate       dispersed   \n",
       "5536       highest      generalist            hibu      dispensers   \n",
       "5537      highjump      generators        highjump       nonexempt   \n",
       "5538          hill     generations            hill       nonprofit   \n",
       "5539         hilti      generating           hilti       dispenser   \n",
       "5540         hipaa       generated           hipaa          normal   \n",
       "5541         hires       generally           hired      normalized   \n",
       "5542       history     generalists           hires      dispatches   \n",
       "5543           hit            gear         hitting        northern   \n",
       "5544          hits             gas            hive      northfield   \n",
       "5545       hitting             gci              hl        dispatch   \n",
       "5546          hive              gc         hobsons       northwest   \n",
       "5547            hl             gbq             hog      discussing   \n",
       "5548           hmi        gatesair            hold    notification   \n",
       "5549           hog           gates         holders        notifies   \n",
       "5550          hold            gate         holding          notify   \n",
       "5551        zycron          zycron          zycron       _adaptive   \n",
       "\n",
       "              SODE  \n",
       "0         software  \n",
       "1          network  \n",
       "2              web  \n",
       "3          support  \n",
       "4       experience  \n",
       "5         security  \n",
       "6            cycle  \n",
       "7         networks  \n",
       "8            users  \n",
       "9             user  \n",
       "10           years  \n",
       "11            test  \n",
       "12           cyber  \n",
       "13       knowledge  \n",
       "14          design  \n",
       "15        services  \n",
       "16       lifecycle  \n",
       "17         testing  \n",
       "18        hardware  \n",
       "19    applications  \n",
       "20           sales  \n",
       "21        regional  \n",
       "22       debugging  \n",
       "23           needs  \n",
       "24           teams  \n",
       "25       technical  \n",
       "26     engineering  \n",
       "27            sdlc  \n",
       "28         systems  \n",
       "29           using  \n",
       "...            ...  \n",
       "5522          hvac  \n",
       "5523       imaging  \n",
       "5524            hx  \n",
       "5525        hybrid  \n",
       "5526        hybris  \n",
       "5527           iam  \n",
       "5528        ibatis  \n",
       "5529          ibgp  \n",
       "5530          icbm  \n",
       "5531          icgs  \n",
       "5532         icims  \n",
       "5533         icons  \n",
       "5534           ict  \n",
       "5535            id  \n",
       "5536    identified  \n",
       "5537          idfs  \n",
       "5538           idl  \n",
       "5539          idps  \n",
       "5540           ies  \n",
       "5541           ifm  \n",
       "5542           ifs  \n",
       "5543       iglobal  \n",
       "5544           ihi  \n",
       "5545           ihs  \n",
       "5546           iib  \n",
       "5547           iis  \n",
       "5548            il  \n",
       "5549           ilt  \n",
       "5550        images  \n",
       "5551        zycron  \n",
       "\n",
       "[5552 rows x 5 columns]"
      ]
     },
     "execution_count": 88,
     "metadata": {},
     "output_type": "execute_result"
    }
   ],
   "source": [
    "allFeatureImportance['SODE']=feature_importancesRF_SODE.index\n",
    "\n",
    "#allFeatureImportance"
   ]
  },
  {
   "cell_type": "code",
   "execution_count": 89,
   "metadata": {
    "collapsed": false
   },
   "outputs": [
    {
     "name": "stdout",
     "output_type": "stream",
     "text": [
      "0.983599088838\n",
      "             importance\n",
      "web            0.108226\n",
      "network        0.056231\n",
      "support        0.028759\n",
      "services       0.010705\n",
      "engineer       0.010088\n",
      "application    0.008656\n",
      "systems        0.008626\n",
      "html           0.008018\n",
      "software       0.007682\n",
      "experience     0.007541\n"
     ]
    }
   ],
   "source": [
    "yDegree=yWEDE\n",
    "rf.fit(x, yDegree)\n",
    "rf.score(x, yDegree)\n",
    "importances = rf.feature_importances_\n",
    "feature_importancesRF_WEDE = pd.DataFrame(rf.feature_importances_,\n",
    "                                   index = x.columns,\n",
    "                                    columns=['importance']).sort_values('importance',\n",
    "                                                                        ascending=False)\n",
    "print rf.score(x, yDegree)\n",
    "print feature_importancesRF_WEDE.head(10)"
   ]
  },
  {
   "cell_type": "code",
   "execution_count": 90,
   "metadata": {
    "collapsed": false
   },
   "outputs": [
    {
     "data": {
      "text/html": [
       "<div>\n",
       "<table border=\"1\" class=\"dataframe\">\n",
       "  <thead>\n",
       "    <tr style=\"text-align: right;\">\n",
       "      <th></th>\n",
       "      <th>All Degrees</th>\n",
       "      <th>CYIT</th>\n",
       "      <th>NEEN</th>\n",
       "      <th>NEMA</th>\n",
       "      <th>SODE</th>\n",
       "      <th>WEDE</th>\n",
       "    </tr>\n",
       "  </thead>\n",
       "  <tbody>\n",
       "    <tr>\n",
       "      <th>0</th>\n",
       "      <td>web</td>\n",
       "      <td>security</td>\n",
       "      <td>network</td>\n",
       "      <td>software</td>\n",
       "      <td>software</td>\n",
       "      <td>web</td>\n",
       "    </tr>\n",
       "    <tr>\n",
       "      <th>1</th>\n",
       "      <td>network</td>\n",
       "      <td>information</td>\n",
       "      <td>engineer</td>\n",
       "      <td>web</td>\n",
       "      <td>network</td>\n",
       "      <td>network</td>\n",
       "    </tr>\n",
       "    <tr>\n",
       "      <th>2</th>\n",
       "      <td>support</td>\n",
       "      <td>cyber</td>\n",
       "      <td>implementation</td>\n",
       "      <td>support</td>\n",
       "      <td>web</td>\n",
       "      <td>support</td>\n",
       "    </tr>\n",
       "    <tr>\n",
       "      <th>3</th>\n",
       "      <td>security</td>\n",
       "      <td>software</td>\n",
       "      <td>engineers</td>\n",
       "      <td>network</td>\n",
       "      <td>support</td>\n",
       "      <td>services</td>\n",
       "    </tr>\n",
       "    <tr>\n",
       "      <th>4</th>\n",
       "      <td>users</td>\n",
       "      <td>clearance</td>\n",
       "      <td>web</td>\n",
       "      <td>experience</td>\n",
       "      <td>experience</td>\n",
       "      <td>engineer</td>\n",
       "    </tr>\n",
       "    <tr>\n",
       "      <th>5</th>\n",
       "      <td>software</td>\n",
       "      <td>secret</td>\n",
       "      <td>software</td>\n",
       "      <td>user</td>\n",
       "      <td>security</td>\n",
       "      <td>application</td>\n",
       "    </tr>\n",
       "    <tr>\n",
       "      <th>6</th>\n",
       "      <td>experience</td>\n",
       "      <td>web</td>\n",
       "      <td>support</td>\n",
       "      <td>engineer</td>\n",
       "      <td>cycle</td>\n",
       "      <td>systems</td>\n",
       "    </tr>\n",
       "    <tr>\n",
       "      <th>7</th>\n",
       "      <td>application</td>\n",
       "      <td>systems</td>\n",
       "      <td>networks</td>\n",
       "      <td>design</td>\n",
       "      <td>networks</td>\n",
       "      <td>html</td>\n",
       "    </tr>\n",
       "    <tr>\n",
       "      <th>8</th>\n",
       "      <td>services</td>\n",
       "      <td>support</td>\n",
       "      <td>user</td>\n",
       "      <td>users</td>\n",
       "      <td>users</td>\n",
       "      <td>software</td>\n",
       "    </tr>\n",
       "    <tr>\n",
       "      <th>9</th>\n",
       "      <td>user</td>\n",
       "      <td>description</td>\n",
       "      <td>users</td>\n",
       "      <td>security</td>\n",
       "      <td>user</td>\n",
       "      <td>experience</td>\n",
       "    </tr>\n",
       "    <tr>\n",
       "      <th>10</th>\n",
       "      <td>engineer</td>\n",
       "      <td>intelligence</td>\n",
       "      <td>experience</td>\n",
       "      <td>application</td>\n",
       "      <td>years</td>\n",
       "      <td>applications</td>\n",
       "    </tr>\n",
       "    <tr>\n",
       "      <th>11</th>\n",
       "      <td>networks</td>\n",
       "      <td>implementation</td>\n",
       "      <td>systems</td>\n",
       "      <td>engineers</td>\n",
       "      <td>test</td>\n",
       "      <td>security</td>\n",
       "    </tr>\n",
       "    <tr>\n",
       "      <th>12</th>\n",
       "      <td>agile</td>\n",
       "      <td>analyst</td>\n",
       "      <td>electrical</td>\n",
       "      <td>cyber</td>\n",
       "      <td>cyber</td>\n",
       "      <td>years</td>\n",
       "    </tr>\n",
       "    <tr>\n",
       "      <th>13</th>\n",
       "      <td>java</td>\n",
       "      <td>innovations</td>\n",
       "      <td>net</td>\n",
       "      <td>implementation</td>\n",
       "      <td>knowledge</td>\n",
       "      <td>mobile</td>\n",
       "    </tr>\n",
       "    <tr>\n",
       "      <th>14</th>\n",
       "      <td>engineers</td>\n",
       "      <td>network</td>\n",
       "      <td>agile</td>\n",
       "      <td>provide</td>\n",
       "      <td>design</td>\n",
       "      <td>design</td>\n",
       "    </tr>\n",
       "    <tr>\n",
       "      <th>15</th>\n",
       "      <td>design</td>\n",
       "      <td>risk</td>\n",
       "      <td>imaginers</td>\n",
       "      <td>end</td>\n",
       "      <td>services</td>\n",
       "      <td>based</td>\n",
       "    </tr>\n",
       "    <tr>\n",
       "      <th>16</th>\n",
       "      <td>technologies</td>\n",
       "      <td>job</td>\n",
       "      <td>protocols</td>\n",
       "      <td>project</td>\n",
       "      <td>lifecycle</td>\n",
       "      <td>users</td>\n",
       "    </tr>\n",
       "    <tr>\n",
       "      <th>17</th>\n",
       "      <td>hardware</td>\n",
       "      <td>recognized</td>\n",
       "      <td>design</td>\n",
       "      <td>using</td>\n",
       "      <td>testing</td>\n",
       "      <td>networks</td>\n",
       "    </tr>\n",
       "    <tr>\n",
       "      <th>18</th>\n",
       "      <td>using</td>\n",
       "      <td>user</td>\n",
       "      <td>reports</td>\n",
       "      <td>requirements</td>\n",
       "      <td>hardware</td>\n",
       "      <td>provide</td>\n",
       "    </tr>\n",
       "    <tr>\n",
       "      <th>19</th>\n",
       "      <td>applications</td>\n",
       "      <td>project</td>\n",
       "      <td>business</td>\n",
       "      <td>systems</td>\n",
       "      <td>applications</td>\n",
       "      <td>engineers</td>\n",
       "    </tr>\n",
       "    <tr>\n",
       "      <th>20</th>\n",
       "      <td>mobile</td>\n",
       "      <td>subject</td>\n",
       "      <td>cisco</td>\n",
       "      <td>relationships</td>\n",
       "      <td>sales</td>\n",
       "      <td>java</td>\n",
       "    </tr>\n",
       "    <tr>\n",
       "      <th>21</th>\n",
       "      <td>years</td>\n",
       "      <td>cissp</td>\n",
       "      <td>technical</td>\n",
       "      <td>years</td>\n",
       "      <td>regional</td>\n",
       "      <td>cyber</td>\n",
       "    </tr>\n",
       "    <tr>\n",
       "      <th>22</th>\n",
       "      <td>new</td>\n",
       "      <td>investigation</td>\n",
       "      <td>builders</td>\n",
       "      <td>technical</td>\n",
       "      <td>debugging</td>\n",
       "      <td>company</td>\n",
       "    </tr>\n",
       "    <tr>\n",
       "      <th>23</th>\n",
       "      <td>life</td>\n",
       "      <td>technology</td>\n",
       "      <td>communication</td>\n",
       "      <td>assigned</td>\n",
       "      <td>needs</td>\n",
       "      <td>technologies</td>\n",
       "    </tr>\n",
       "    <tr>\n",
       "      <th>24</th>\n",
       "      <td>teams</td>\n",
       "      <td>infrastructure</td>\n",
       "      <td>senior</td>\n",
       "      <td>applications</td>\n",
       "      <td>teams</td>\n",
       "      <td>net</td>\n",
       "    </tr>\n",
       "    <tr>\n",
       "      <th>25</th>\n",
       "      <td>demonstrated</td>\n",
       "      <td>afrl</td>\n",
       "      <td>provide</td>\n",
       "      <td>distribution</td>\n",
       "      <td>technical</td>\n",
       "      <td>hardware</td>\n",
       "    </tr>\n",
       "    <tr>\n",
       "      <th>26</th>\n",
       "      <td>mvc</td>\n",
       "      <td>states</td>\n",
       "      <td>automation</td>\n",
       "      <td>retail</td>\n",
       "      <td>engineering</td>\n",
       "      <td>xml</td>\n",
       "    </tr>\n",
       "    <tr>\n",
       "      <th>27</th>\n",
       "      <td>standards</td>\n",
       "      <td>services</td>\n",
       "      <td>local</td>\n",
       "      <td>java</td>\n",
       "      <td>sdlc</td>\n",
       "      <td>jee</td>\n",
       "    </tr>\n",
       "    <tr>\n",
       "      <th>28</th>\n",
       "      <td>css</td>\n",
       "      <td>specializes</td>\n",
       "      <td>largest</td>\n",
       "      <td>regional</td>\n",
       "      <td>systems</td>\n",
       "      <td>knowledge</td>\n",
       "    </tr>\n",
       "    <tr>\n",
       "      <th>29</th>\n",
       "      <td>cycle</td>\n",
       "      <td>experience</td>\n",
       "      <td>seeking</td>\n",
       "      <td>reports</td>\n",
       "      <td>using</td>\n",
       "      <td>user</td>\n",
       "    </tr>\n",
       "    <tr>\n",
       "      <th>...</th>\n",
       "      <td>...</td>\n",
       "      <td>...</td>\n",
       "      <td>...</td>\n",
       "      <td>...</td>\n",
       "      <td>...</td>\n",
       "      <td>...</td>\n",
       "    </tr>\n",
       "    <tr>\n",
       "      <th>5522</th>\n",
       "      <td>heavily</td>\n",
       "      <td>gaming</td>\n",
       "      <td>heavily</td>\n",
       "      <td>discharge</td>\n",
       "      <td>hvac</td>\n",
       "      <td>icbm</td>\n",
       "    </tr>\n",
       "    <tr>\n",
       "      <th>5523</th>\n",
       "      <td>heavy</td>\n",
       "      <td>game</td>\n",
       "      <td>heavy</td>\n",
       "      <td>disabled</td>\n",
       "      <td>imaging</td>\n",
       "      <td>ibgp</td>\n",
       "    </tr>\n",
       "    <tr>\n",
       "      <th>5524</th>\n",
       "      <td>heidelberg</td>\n",
       "      <td>gamble</td>\n",
       "      <td>heidelberg</td>\n",
       "      <td>disa</td>\n",
       "      <td>hx</td>\n",
       "      <td>homeguage</td>\n",
       "    </tr>\n",
       "    <tr>\n",
       "      <th>5525</th>\n",
       "      <td>heightened</td>\n",
       "      <td>gain</td>\n",
       "      <td>heightened</td>\n",
       "      <td>objectivity</td>\n",
       "      <td>hybrid</td>\n",
       "      <td>homeland</td>\n",
       "    </tr>\n",
       "    <tr>\n",
       "      <th>5526</th>\n",
       "      <td>heights</td>\n",
       "      <td>garment</td>\n",
       "      <td>heights</td>\n",
       "      <td>discrimination</td>\n",
       "      <td>hybris</td>\n",
       "      <td>honesty</td>\n",
       "    </tr>\n",
       "    <tr>\n",
       "      <th>5527</th>\n",
       "      <td>held</td>\n",
       "      <td>ga</td>\n",
       "      <td>helpful</td>\n",
       "      <td>novel</td>\n",
       "      <td>iam</td>\n",
       "      <td>honeywell</td>\n",
       "    </tr>\n",
       "    <tr>\n",
       "      <th>5528</th>\n",
       "      <td>helps</td>\n",
       "      <td>fuzzing</td>\n",
       "      <td>helps</td>\n",
       "      <td>notlimited</td>\n",
       "      <td>ibatis</td>\n",
       "      <td>hope</td>\n",
       "    </tr>\n",
       "    <tr>\n",
       "      <th>5529</th>\n",
       "      <td>henkel</td>\n",
       "      <td>furniture</td>\n",
       "      <td>henkel</td>\n",
       "      <td>notifying</td>\n",
       "      <td>ibgp</td>\n",
       "      <td>horizon</td>\n",
       "    </tr>\n",
       "    <tr>\n",
       "      <th>5530</th>\n",
       "      <td>herman</td>\n",
       "      <td>furnishing</td>\n",
       "      <td>herman</td>\n",
       "      <td>nmap</td>\n",
       "      <td>icbm</td>\n",
       "      <td>hospitals</td>\n",
       "    </tr>\n",
       "    <tr>\n",
       "      <th>5531</th>\n",
       "      <td>heroku</td>\n",
       "      <td>funds</td>\n",
       "      <td>heroku</td>\n",
       "      <td>nmls</td>\n",
       "      <td>icgs</td>\n",
       "      <td>host</td>\n",
       "    </tr>\n",
       "    <tr>\n",
       "      <th>5532</th>\n",
       "      <td>heuristic</td>\n",
       "      <td>fundraising</td>\n",
       "      <td>heterogeneous</td>\n",
       "      <td>nms</td>\n",
       "      <td>icims</td>\n",
       "      <td>hosted</td>\n",
       "    </tr>\n",
       "    <tr>\n",
       "      <th>5533</th>\n",
       "      <td>hexion</td>\n",
       "      <td>garden</td>\n",
       "      <td>heuristic</td>\n",
       "      <td>noc</td>\n",
       "      <td>icons</td>\n",
       "      <td>hotdocs</td>\n",
       "    </tr>\n",
       "    <tr>\n",
       "      <th>5534</th>\n",
       "      <td>hfo</td>\n",
       "      <td>garments</td>\n",
       "      <td>hexion</td>\n",
       "      <td>node</td>\n",
       "      <td>ict</td>\n",
       "      <td>hour</td>\n",
       "    </tr>\n",
       "    <tr>\n",
       "      <th>5535</th>\n",
       "      <td>hibu</td>\n",
       "      <td>genesys</td>\n",
       "      <td>hibernate</td>\n",
       "      <td>dispersed</td>\n",
       "      <td>id</td>\n",
       "      <td>hourly</td>\n",
       "    </tr>\n",
       "    <tr>\n",
       "      <th>5536</th>\n",
       "      <td>highest</td>\n",
       "      <td>generalist</td>\n",
       "      <td>hibu</td>\n",
       "      <td>dispensers</td>\n",
       "      <td>identified</td>\n",
       "      <td>hris</td>\n",
       "    </tr>\n",
       "    <tr>\n",
       "      <th>5537</th>\n",
       "      <td>highjump</td>\n",
       "      <td>generators</td>\n",
       "      <td>highjump</td>\n",
       "      <td>nonexempt</td>\n",
       "      <td>idfs</td>\n",
       "      <td>hrs</td>\n",
       "    </tr>\n",
       "    <tr>\n",
       "      <th>5538</th>\n",
       "      <td>hill</td>\n",
       "      <td>generations</td>\n",
       "      <td>hill</td>\n",
       "      <td>nonprofit</td>\n",
       "      <td>idl</td>\n",
       "      <td>hsrp</td>\n",
       "    </tr>\n",
       "    <tr>\n",
       "      <th>5539</th>\n",
       "      <td>hilti</td>\n",
       "      <td>generating</td>\n",
       "      <td>hilti</td>\n",
       "      <td>dispenser</td>\n",
       "      <td>idps</td>\n",
       "      <td>htcj</td>\n",
       "    </tr>\n",
       "    <tr>\n",
       "      <th>5540</th>\n",
       "      <td>hipaa</td>\n",
       "      <td>generated</td>\n",
       "      <td>hipaa</td>\n",
       "      <td>normal</td>\n",
       "      <td>ies</td>\n",
       "      <td>hub</td>\n",
       "    </tr>\n",
       "    <tr>\n",
       "      <th>5541</th>\n",
       "      <td>hires</td>\n",
       "      <td>generally</td>\n",
       "      <td>hired</td>\n",
       "      <td>normalized</td>\n",
       "      <td>ifm</td>\n",
       "      <td>hubs</td>\n",
       "    </tr>\n",
       "    <tr>\n",
       "      <th>5542</th>\n",
       "      <td>history</td>\n",
       "      <td>generalists</td>\n",
       "      <td>hires</td>\n",
       "      <td>dispatches</td>\n",
       "      <td>ifs</td>\n",
       "      <td>hud</td>\n",
       "    </tr>\n",
       "    <tr>\n",
       "      <th>5543</th>\n",
       "      <td>hit</td>\n",
       "      <td>gear</td>\n",
       "      <td>hitting</td>\n",
       "      <td>northern</td>\n",
       "      <td>iglobal</td>\n",
       "      <td>huntington</td>\n",
       "    </tr>\n",
       "    <tr>\n",
       "      <th>5544</th>\n",
       "      <td>hits</td>\n",
       "      <td>gas</td>\n",
       "      <td>hive</td>\n",
       "      <td>northfield</td>\n",
       "      <td>ihi</td>\n",
       "      <td>hut</td>\n",
       "    </tr>\n",
       "    <tr>\n",
       "      <th>5545</th>\n",
       "      <td>hitting</td>\n",
       "      <td>gci</td>\n",
       "      <td>hl</td>\n",
       "      <td>dispatch</td>\n",
       "      <td>ihs</td>\n",
       "      <td>hx</td>\n",
       "    </tr>\n",
       "    <tr>\n",
       "      <th>5546</th>\n",
       "      <td>hive</td>\n",
       "      <td>gc</td>\n",
       "      <td>hobsons</td>\n",
       "      <td>northwest</td>\n",
       "      <td>iib</td>\n",
       "      <td>hybris</td>\n",
       "    </tr>\n",
       "    <tr>\n",
       "      <th>5547</th>\n",
       "      <td>hl</td>\n",
       "      <td>gbq</td>\n",
       "      <td>hog</td>\n",
       "      <td>discussing</td>\n",
       "      <td>iis</td>\n",
       "      <td>iai</td>\n",
       "    </tr>\n",
       "    <tr>\n",
       "      <th>5548</th>\n",
       "      <td>hmi</td>\n",
       "      <td>gatesair</td>\n",
       "      <td>hold</td>\n",
       "      <td>notification</td>\n",
       "      <td>il</td>\n",
       "      <td>iam</td>\n",
       "    </tr>\n",
       "    <tr>\n",
       "      <th>5549</th>\n",
       "      <td>hog</td>\n",
       "      <td>gates</td>\n",
       "      <td>holders</td>\n",
       "      <td>notifies</td>\n",
       "      <td>ilt</td>\n",
       "      <td>iap</td>\n",
       "    </tr>\n",
       "    <tr>\n",
       "      <th>5550</th>\n",
       "      <td>hold</td>\n",
       "      <td>gate</td>\n",
       "      <td>holding</td>\n",
       "      <td>notify</td>\n",
       "      <td>images</td>\n",
       "      <td>ibatis</td>\n",
       "    </tr>\n",
       "    <tr>\n",
       "      <th>5551</th>\n",
       "      <td>zycron</td>\n",
       "      <td>zycron</td>\n",
       "      <td>zycron</td>\n",
       "      <td>_adaptive</td>\n",
       "      <td>zycron</td>\n",
       "      <td>zycron</td>\n",
       "    </tr>\n",
       "  </tbody>\n",
       "</table>\n",
       "<p>5552 rows × 6 columns</p>\n",
       "</div>"
      ],
      "text/plain": [
       "       All Degrees            CYIT            NEEN            NEMA  \\\n",
       "0              web        security         network        software   \n",
       "1          network     information        engineer             web   \n",
       "2          support           cyber  implementation         support   \n",
       "3         security        software       engineers         network   \n",
       "4            users       clearance             web      experience   \n",
       "5         software          secret        software            user   \n",
       "6       experience             web         support        engineer   \n",
       "7      application         systems        networks          design   \n",
       "8         services         support            user           users   \n",
       "9             user     description           users        security   \n",
       "10        engineer    intelligence      experience     application   \n",
       "11        networks  implementation         systems       engineers   \n",
       "12           agile         analyst      electrical           cyber   \n",
       "13            java     innovations             net  implementation   \n",
       "14       engineers         network           agile         provide   \n",
       "15          design            risk       imaginers             end   \n",
       "16    technologies             job       protocols         project   \n",
       "17        hardware      recognized          design           using   \n",
       "18           using            user         reports    requirements   \n",
       "19    applications         project        business         systems   \n",
       "20          mobile         subject           cisco   relationships   \n",
       "21           years           cissp       technical           years   \n",
       "22             new   investigation        builders       technical   \n",
       "23            life      technology   communication        assigned   \n",
       "24           teams  infrastructure          senior    applications   \n",
       "25    demonstrated            afrl         provide    distribution   \n",
       "26             mvc          states      automation          retail   \n",
       "27       standards        services           local            java   \n",
       "28             css     specializes         largest        regional   \n",
       "29           cycle      experience         seeking         reports   \n",
       "...            ...             ...             ...             ...   \n",
       "5522       heavily          gaming         heavily       discharge   \n",
       "5523         heavy            game           heavy        disabled   \n",
       "5524    heidelberg          gamble      heidelberg            disa   \n",
       "5525    heightened            gain      heightened     objectivity   \n",
       "5526       heights         garment         heights  discrimination   \n",
       "5527          held              ga         helpful           novel   \n",
       "5528         helps         fuzzing           helps      notlimited   \n",
       "5529        henkel       furniture          henkel       notifying   \n",
       "5530        herman      furnishing          herman            nmap   \n",
       "5531        heroku           funds          heroku            nmls   \n",
       "5532     heuristic     fundraising   heterogeneous             nms   \n",
       "5533        hexion          garden       heuristic             noc   \n",
       "5534           hfo        garments          hexion            node   \n",
       "5535          hibu         genesys       hibernate       dispersed   \n",
       "5536       highest      generalist            hibu      dispensers   \n",
       "5537      highjump      generators        highjump       nonexempt   \n",
       "5538          hill     generations            hill       nonprofit   \n",
       "5539         hilti      generating           hilti       dispenser   \n",
       "5540         hipaa       generated           hipaa          normal   \n",
       "5541         hires       generally           hired      normalized   \n",
       "5542       history     generalists           hires      dispatches   \n",
       "5543           hit            gear         hitting        northern   \n",
       "5544          hits             gas            hive      northfield   \n",
       "5545       hitting             gci              hl        dispatch   \n",
       "5546          hive              gc         hobsons       northwest   \n",
       "5547            hl             gbq             hog      discussing   \n",
       "5548           hmi        gatesair            hold    notification   \n",
       "5549           hog           gates         holders        notifies   \n",
       "5550          hold            gate         holding          notify   \n",
       "5551        zycron          zycron          zycron       _adaptive   \n",
       "\n",
       "              SODE          WEDE  \n",
       "0         software           web  \n",
       "1          network       network  \n",
       "2              web       support  \n",
       "3          support      services  \n",
       "4       experience      engineer  \n",
       "5         security   application  \n",
       "6            cycle       systems  \n",
       "7         networks          html  \n",
       "8            users      software  \n",
       "9             user    experience  \n",
       "10           years  applications  \n",
       "11            test      security  \n",
       "12           cyber         years  \n",
       "13       knowledge        mobile  \n",
       "14          design        design  \n",
       "15        services         based  \n",
       "16       lifecycle         users  \n",
       "17         testing      networks  \n",
       "18        hardware       provide  \n",
       "19    applications     engineers  \n",
       "20           sales          java  \n",
       "21        regional         cyber  \n",
       "22       debugging       company  \n",
       "23           needs  technologies  \n",
       "24           teams           net  \n",
       "25       technical      hardware  \n",
       "26     engineering           xml  \n",
       "27            sdlc           jee  \n",
       "28         systems     knowledge  \n",
       "29           using          user  \n",
       "...            ...           ...  \n",
       "5522          hvac          icbm  \n",
       "5523       imaging          ibgp  \n",
       "5524            hx     homeguage  \n",
       "5525        hybrid      homeland  \n",
       "5526        hybris       honesty  \n",
       "5527           iam     honeywell  \n",
       "5528        ibatis          hope  \n",
       "5529          ibgp       horizon  \n",
       "5530          icbm     hospitals  \n",
       "5531          icgs          host  \n",
       "5532         icims        hosted  \n",
       "5533         icons       hotdocs  \n",
       "5534           ict          hour  \n",
       "5535            id        hourly  \n",
       "5536    identified          hris  \n",
       "5537          idfs           hrs  \n",
       "5538           idl          hsrp  \n",
       "5539          idps          htcj  \n",
       "5540           ies           hub  \n",
       "5541           ifm          hubs  \n",
       "5542           ifs           hud  \n",
       "5543       iglobal    huntington  \n",
       "5544           ihi           hut  \n",
       "5545           ihs            hx  \n",
       "5546           iib        hybris  \n",
       "5547           iis           iai  \n",
       "5548            il           iam  \n",
       "5549           ilt           iap  \n",
       "5550        images        ibatis  \n",
       "5551        zycron        zycron  \n",
       "\n",
       "[5552 rows x 6 columns]"
      ]
     },
     "execution_count": 90,
     "metadata": {},
     "output_type": "execute_result"
    }
   ],
   "source": [
    "allFeatureImportance['WEDE']=feature_importancesRF_WEDE.index\n",
    "\n",
    "allFeatureImportance"
   ]
  },
  {
   "cell_type": "markdown",
   "metadata": {},
   "source": [
    "# Random Forest on  train test"
   ]
  },
  {
   "cell_type": "code",
   "execution_count": 91,
   "metadata": {
    "collapsed": true
   },
   "outputs": [],
   "source": [
    "train_features=pca.fit_transform(x_train)"
   ]
  },
  {
   "cell_type": "code",
   "execution_count": 92,
   "metadata": {
    "collapsed": false
   },
   "outputs": [
    {
     "data": {
      "text/plain": [
       "((2633, 5552), (2633, 5), (2633,))"
      ]
     },
     "execution_count": 92,
     "metadata": {},
     "output_type": "execute_result"
    }
   ],
   "source": [
    "x_train.shape, train_features.shape,y_train.shape\n"
   ]
  },
  {
   "cell_type": "code",
   "execution_count": 93,
   "metadata": {
    "collapsed": false
   },
   "outputs": [],
   "source": [
    "rfTTS=RandomForestClassifier(class_weight ='balanced', n_jobs=-1)\n"
   ]
  },
  {
   "cell_type": "code",
   "execution_count": 94,
   "metadata": {
    "collapsed": false
   },
   "outputs": [
    {
     "data": {
      "text/plain": [
       "Unnamed: 0                                                       2788\n",
       "City Location                                          Cincinnati, OH\n",
       "Company Name                                              Zones, Inc.\n",
       "Degree                                                web+development\n",
       "Description         \\nWeb & Email Gateways. The design of your sol...\n",
       "Job Title           Solutions Architect, Networking Infrastructure...\n",
       "Search Criteria                                       web+development\n",
       "Source                                                         Indeed\n",
       "english                                                            en\n",
       "CleanDescription    web & email gateways. the design of your solut...\n",
       "encodedDegree                                                       5\n",
       "Name: 2634, dtype: object"
      ]
     },
     "execution_count": 94,
     "metadata": {},
     "output_type": "execute_result"
    }
   ],
   "source": [
    "listingFile.ix[2634]"
   ]
  },
  {
   "cell_type": "code",
   "execution_count": 95,
   "metadata": {
    "collapsed": true
   },
   "outputs": [],
   "source": [
    "cv = StratifiedKFold(y_train, n_folds=4, shuffle=True, random_state=41)\n",
    "# print type(y), y[0:6]\n",
    "# print type(x)"
   ]
  },
  {
   "cell_type": "code",
   "execution_count": 96,
   "metadata": {
    "collapsed": false
   },
   "outputs": [],
   "source": [
    "sTTS=cross_val_score(rfTTS,train_features,y_train,cv=cv, n_jobs=-1)"
   ]
  },
  {
   "cell_type": "code",
   "execution_count": 97,
   "metadata": {
    "collapsed": false
   },
   "outputs": [],
   "source": [
    "# s"
   ]
  },
  {
   "cell_type": "code",
   "execution_count": 98,
   "metadata": {
    "collapsed": false
   },
   "outputs": [],
   "source": [
    "rfTTS.fit(train_features, y_train)\n",
    "importances = rfTTS.feature_importances_\n",
    "std = np.std([tree.feature_importances_ for tree in rf.estimators_],\n",
    "             axis=0)\n",
    "indices = np.argsort(importances)[::-1]\n"
   ]
  },
  {
   "cell_type": "code",
   "execution_count": 99,
   "metadata": {
    "collapsed": false
   },
   "outputs": [
    {
     "data": {
      "text/plain": [
       "0.97341435624762629"
      ]
     },
     "execution_count": 99,
     "metadata": {},
     "output_type": "execute_result"
    }
   ],
   "source": [
    "rfTTS.score(train_features, y_train)"
   ]
  },
  {
   "cell_type": "code",
   "execution_count": 100,
   "metadata": {
    "collapsed": false
   },
   "outputs": [
    {
     "data": {
      "image/png": "[encoded data removed]",
      "text/plain": [
       "<matplotlib.figure.Figure at 0x118d5d810>"
      ]
     },
     "metadata": {},
     "output_type": "display_data"
    }
   ],
   "source": [
    "plt.figure()\n",
    "plt.title(\"Feature importances\")\n",
    "plt.bar(range(train_features.shape[1]), importances[indices],\n",
    "       color=\"r\", yerr=std[indices], align=\"center\")\n",
    "plt.xticks(range(train_features.shape[1]), indices)\n",
    "plt.xlim([-1, train_features.shape[1]])\n",
    "plt.show()"
   ]
  },
  {
   "cell_type": "markdown",
   "metadata": {
    "collapsed": true
   },
   "source": [
    "# RF model built with PCA test data"
   ]
  },
  {
   "cell_type": "code",
   "execution_count": 101,
   "metadata": {
    "collapsed": false
   },
   "outputs": [
    {
     "data": {
      "text/plain": [
       "((2633, 5), (1757, 5552))"
      ]
     },
     "execution_count": 101,
     "metadata": {},
     "output_type": "execute_result"
    }
   ],
   "source": [
    "train_features.shape, x_test.shape\n"
   ]
  },
  {
   "cell_type": "code",
   "execution_count": 102,
   "metadata": {
    "collapsed": true
   },
   "outputs": [],
   "source": [
    "test_features=pca.transform(x_test)"
   ]
  },
  {
   "cell_type": "code",
   "execution_count": 103,
   "metadata": {
    "collapsed": false
   },
   "outputs": [
    {
     "data": {
      "text/plain": [
       "0.73420603301081389"
      ]
     },
     "execution_count": 103,
     "metadata": {},
     "output_type": "execute_result"
    }
   ],
   "source": [
    "rfTTS.score(test_features, y_test)"
   ]
  },
  {
   "cell_type": "code",
   "execution_count": 104,
   "metadata": {
    "collapsed": false
   },
   "outputs": [],
   "source": [
    "predictionsRF_test=rfTTS.predict(test_features)"
   ]
  },
  {
   "cell_type": "code",
   "execution_count": 105,
   "metadata": {
    "collapsed": false
   },
   "outputs": [
    {
     "data": {
      "text/plain": [
       "((1757,), (1757,))"
      ]
     },
     "execution_count": 105,
     "metadata": {},
     "output_type": "execute_result"
    }
   ],
   "source": [
    "y_test.shape, predictionsRF_test.shape"
   ]
  },
  {
   "cell_type": "code",
   "execution_count": 106,
   "metadata": {
    "collapsed": false
   },
   "outputs": [
    {
     "name": "stdout",
     "output_type": "stream",
     "text": [
      "[[ 73  12   9   3   7   6]\n",
      " [ 12 124  63   8  12   2]\n",
      " [  9  49 257   7  14  13]\n",
      " [  6  26  16 283  13  27]\n",
      " [  1   8  21  18 308   4]\n",
      " [  3   7  24  49  18 245]]\n"
     ]
    }
   ],
   "source": [
    "print confusion_matrix(y_test, predictionsRF_test)"
   ]
  },
  {
   "cell_type": "code",
   "execution_count": 107,
   "metadata": {
    "collapsed": false
   },
   "outputs": [
    {
     "name": "stdout",
     "output_type": "stream",
     "text": [
      "      Pred USSU  Pred SODE  Pred WEDE  Pred NEMA  Pred NEEN  Pred CYIT\n",
      "USSU         73         12          9          3          7          6\n",
      "SODE         12        124         63          8         12          2\n",
      "WEDE          9         49        257          7         14         13\n",
      "NEMA          6         26         16        283         13         27\n",
      "NEED          1          8         21         18        308          4\n",
      "CYIT          3          7         24         49         18        245\n"
     ]
    }
   ],
   "source": [
    "#this matrix is very telling\n",
    "conmat = np.array(confusion_matrix(y_test, predictionsRF_test))\n",
    "confusion = pd.DataFrame(conmat, index=['USSU', 'SODE', \n",
    "                         'WEDE', 'NEMA','NEED', 'CYIT'],columns=['Pred USSU', 'Pred SODE', \n",
    "                         'Pred WEDE', 'Pred NEMA','Pred NEEN', 'Pred CYIT'])\n",
    "print confusion"
   ]
  },
  {
   "cell_type": "code",
   "execution_count": 108,
   "metadata": {
    "collapsed": false
   },
   "outputs": [
    {
     "name": "stdout",
     "output_type": "stream",
     "text": [
      "             precision    recall  f1-score   support\n",
      "\n",
      "          0       0.70      0.66      0.68       110\n",
      "          1       0.55      0.56      0.55       221\n",
      "          2       0.66      0.74      0.70       349\n",
      "          3       0.77      0.76      0.77       371\n",
      "          4       0.83      0.86      0.84       360\n",
      "          5       0.82      0.71      0.76       346\n",
      "\n",
      "avg / total       0.74      0.73      0.73      1757\n",
      "\n"
     ]
    }
   ],
   "source": [
    "print  classification_report(y_test, predictionsRF_test)"
   ]
  },
  {
   "cell_type": "markdown",
   "metadata": {},
   "source": [
    "# K nearest neighbors entire dataset - first\n"
   ]
  },
  {
   "cell_type": "code",
   "execution_count": 109,
   "metadata": {
    "collapsed": false
   },
   "outputs": [],
   "source": [
    "x=wordsDescription"
   ]
  },
  {
   "cell_type": "code",
   "execution_count": 110,
   "metadata": {
    "collapsed": true
   },
   "outputs": [],
   "source": [
    "y=listingFile['encodedDegree']\n",
    "y.column='degree'"
   ]
  },
  {
   "cell_type": "code",
   "execution_count": 111,
   "metadata": {
    "collapsed": true
   },
   "outputs": [],
   "source": [
    "knn=KNeighborsClassifier(n_neighbors=5)\n",
    "#5 closest neighbors"
   ]
  },
  {
   "cell_type": "code",
   "execution_count": 112,
   "metadata": {
    "collapsed": false
   },
   "outputs": [
    {
     "data": {
      "text/plain": [
       "KNeighborsClassifier(algorithm='auto', leaf_size=30, metric='minkowski',\n",
       "           metric_params=None, n_jobs=1, n_neighbors=5, p=2,\n",
       "           weights='uniform')"
      ]
     },
     "execution_count": 112,
     "metadata": {},
     "output_type": "execute_result"
    }
   ],
   "source": [
    "knn.fit(x,y)"
   ]
  },
  {
   "cell_type": "code",
   "execution_count": 113,
   "metadata": {
    "collapsed": false
   },
   "outputs": [
    {
     "data": {
      "text/plain": [
       "0.76036446469248287"
      ]
     },
     "execution_count": 113,
     "metadata": {},
     "output_type": "execute_result"
    }
   ],
   "source": [
    "knn.score(x,y)"
   ]
  },
  {
   "cell_type": "code",
   "execution_count": 114,
   "metadata": {
    "collapsed": true
   },
   "outputs": [],
   "source": [
    "scores=cross_val_score(knn,x.values,y,cv=5,scoring = 'accuracy')"
   ]
  },
  {
   "cell_type": "code",
   "execution_count": 115,
   "metadata": {
    "collapsed": true
   },
   "outputs": [],
   "source": [
    "predictionsKNN=knn.predict(x)"
   ]
  },
  {
   "cell_type": "code",
   "execution_count": 116,
   "metadata": {
    "collapsed": false
   },
   "outputs": [
    {
     "name": "stdout",
     "output_type": "stream",
     "text": [
      "[[239   7  10  13   1   5]\n",
      " [ 25 369  71  71  10   6]\n",
      " [ 16  42 751  35   8  20]\n",
      " [  4   2  24 852   5  41]\n",
      " [ 23  11 110 169 567  19]\n",
      " [ 14   5  53 224   8 560]]\n"
     ]
    }
   ],
   "source": [
    "print confusion_matrix(y, predictionsKNN)\n",
    "# conmat = np.array(confusion_matrix(y, predictionsKNN))\n",
    "# confusion = pd.DataFrame(conmat, index=['USSU', 'SODE', \n",
    "#                          'WEDE', 'NEMA','NEED', 'CYIT'],columns=['Pred USSU', 'Pred SODE', \n",
    "#                          'Pred WEDE', 'Pred NEMA','Pred NEEN', 'Pred CYIT'])\n",
    "# print confusion"
   ]
  },
  {
   "cell_type": "code",
   "execution_count": 117,
   "metadata": {
    "collapsed": false
   },
   "outputs": [
    {
     "name": "stdout",
     "output_type": "stream",
     "text": [
      "      Pred USSU  Pred SODE  Pred WEDE  Pred NEMA  Pred NEEN  Pred CYIT\n",
      "USSU        239          7         10         13          1          5\n",
      "SODE         25        369         71         71         10          6\n",
      "WEDE         16         42        751         35          8         20\n",
      "NEMA          4          2         24        852          5         41\n",
      "NEED         23         11        110        169        567         19\n",
      "CYIT         14          5         53        224          8        560\n"
     ]
    }
   ],
   "source": [
    "conmat = np.array(confusion_matrix(y, predictionsKNN))\n",
    "confusion = pd.DataFrame(conmat, index=['USSU', 'SODE', \n",
    "                         'WEDE', 'NEMA','NEED', 'CYIT'],columns=['Pred USSU', 'Pred SODE', \n",
    "                         'Pred WEDE', 'Pred NEMA','Pred NEEN', 'Pred CYIT'])\n",
    "print confusion"
   ]
  },
  {
   "cell_type": "code",
   "execution_count": 118,
   "metadata": {
    "collapsed": false
   },
   "outputs": [
    {
     "name": "stdout",
     "output_type": "stream",
     "text": [
      "             precision    recall  f1-score   support\n",
      "\n",
      "          0       0.74      0.87      0.80       275\n",
      "          1       0.85      0.67      0.75       552\n",
      "          2       0.74      0.86      0.79       872\n",
      "          3       0.62      0.92      0.74       928\n",
      "          4       0.95      0.63      0.76       899\n",
      "          5       0.86      0.65      0.74       864\n",
      "\n",
      "avg / total       0.79      0.76      0.76      4390\n",
      "\n"
     ]
    }
   ],
   "source": [
    "print  classification_report(y, predictionsKNN)"
   ]
  },
  {
   "cell_type": "code",
   "execution_count": null,
   "metadata": {
    "collapsed": true
   },
   "outputs": [],
   "source": []
  },
  {
   "cell_type": "markdown",
   "metadata": {},
   "source": [
    "# Knn on PCA training set "
   ]
  },
  {
   "cell_type": "code",
   "execution_count": null,
   "metadata": {
    "collapsed": true
   },
   "outputs": [],
   "source": [
    "knnTTS=KNeighborsClassifier(n_neighbors=5)"
   ]
  },
  {
   "cell_type": "code",
   "execution_count": null,
   "metadata": {
    "collapsed": false
   },
   "outputs": [],
   "source": [
    "knnTTS.fit(train_features,y_train)"
   ]
  },
  {
   "cell_type": "code",
   "execution_count": null,
   "metadata": {
    "collapsed": false
   },
   "outputs": [],
   "source": [
    "knnTTS.score(train_features,y_train)"
   ]
  },
  {
   "cell_type": "code",
   "execution_count": null,
   "metadata": {
    "collapsed": true
   },
   "outputs": [],
   "source": [
    "predictionsKNN=knnTTS.predict(train_features)"
   ]
  },
  {
   "cell_type": "code",
   "execution_count": null,
   "metadata": {
    "collapsed": false
   },
   "outputs": [],
   "source": [
    "print confusion_matrix(y_train, predictionsKNN)"
   ]
  },
  {
   "cell_type": "code",
   "execution_count": null,
   "metadata": {
    "collapsed": true
   },
   "outputs": [],
   "source": []
  },
  {
   "cell_type": "markdown",
   "metadata": {},
   "source": [
    "# Knn on test data after being trained on training data"
   ]
  },
  {
   "cell_type": "code",
   "execution_count": null,
   "metadata": {
    "collapsed": true
   },
   "outputs": [],
   "source": [
    "test_featuresKNN_TTS=pca.transform(x_test)"
   ]
  },
  {
   "cell_type": "code",
   "execution_count": null,
   "metadata": {
    "collapsed": false
   },
   "outputs": [],
   "source": [
    "knnTTS.score(test_featuresKNN_TTS,y_test)"
   ]
  },
  {
   "cell_type": "code",
   "execution_count": null,
   "metadata": {
    "collapsed": true
   },
   "outputs": [],
   "source": [
    "predictionsKNN_TTS=knnTTS.predict(test_featuresKNN_TTS)"
   ]
  },
  {
   "cell_type": "code",
   "execution_count": null,
   "metadata": {
    "collapsed": false
   },
   "outputs": [],
   "source": [
    "print confusion_matrix(y_test, predictionsKNN_TTS)"
   ]
  },
  {
   "cell_type": "code",
   "execution_count": null,
   "metadata": {
    "collapsed": false
   },
   "outputs": [],
   "source": [
    "conmat = np.array(confusion_matrix(y_test, predictionsKNN_TTS))\n",
    "confusion = pd.DataFrame(conmat, index=['USSU', 'SODE', \n",
    "                         'WEDE', 'NEMA','NEED', 'CYIT'],columns=['Pred USSU', 'Pred SODE', \n",
    "                         'Pred WEDE', 'Pred NEMA','Pred NEEN', 'Pred CYIT'])\n",
    "print confusion"
   ]
  },
  {
   "cell_type": "code",
   "execution_count": null,
   "metadata": {
    "collapsed": false
   },
   "outputs": [],
   "source": [
    "print  classification_report(y_test, predictionsKNN_TTS)"
   ]
  },
  {
   "cell_type": "code",
   "execution_count": null,
   "metadata": {
    "collapsed": true
   },
   "outputs": [],
   "source": []
  },
  {
   "cell_type": "markdown",
   "metadata": {},
   "source": [
    "# Naive Bayes for clustering not going to use"
   ]
  },
  {
   "cell_type": "code",
   "execution_count": null,
   "metadata": {
    "collapsed": true
   },
   "outputs": [],
   "source": [
    "mnb=MultinomialNB()"
   ]
  },
  {
   "cell_type": "code",
   "execution_count": null,
   "metadata": {
    "collapsed": false
   },
   "outputs": [],
   "source": [
    "mnb.fit(x,y)"
   ]
  },
  {
   "cell_type": "code",
   "execution_count": null,
   "metadata": {
    "collapsed": false
   },
   "outputs": [],
   "source": [
    "mnb.score(x,y)"
   ]
  },
  {
   "cell_type": "code",
   "execution_count": null,
   "metadata": {
    "collapsed": true
   },
   "outputs": [],
   "source": [
    "y_hat=mnb.predict(x)"
   ]
  },
  {
   "cell_type": "code",
   "execution_count": null,
   "metadata": {
    "collapsed": false
   },
   "outputs": [],
   "source": [
    "print classification_report(y, y_hat)"
   ]
  },
  {
   "cell_type": "code",
   "execution_count": null,
   "metadata": {
    "collapsed": false
   },
   "outputs": [],
   "source": [
    "confusion_matrix(y,y_hat)"
   ]
  },
  {
   "cell_type": "code",
   "execution_count": null,
   "metadata": {
    "collapsed": false
   },
   "outputs": [],
   "source": [
    "predicted_probabilities=mnb.predict_proba(x)\n",
    "predicted_probabilities[0:5]"
   ]
  },
  {
   "cell_type": "code",
   "execution_count": null,
   "metadata": {
    "collapsed": true
   },
   "outputs": [],
   "source": []
  },
  {
   "cell_type": "code",
   "execution_count": null,
   "metadata": {
    "collapsed": true
   },
   "outputs": [],
   "source": []
  },
  {
   "cell_type": "markdown",
   "metadata": {},
   "source": [
    "# K means"
   ]
  },
  {
   "cell_type": "code",
   "execution_count": null,
   "metadata": {
    "collapsed": true
   },
   "outputs": [],
   "source": [
    "#standarizing x  Richard made me do this. I liked my results from the non-transformed data\n",
    "#but he said for KMeans the data needs to be transformed\n",
    "#everything clustered together in to one cluster\n",
    "# I think when I enter data from job description I will be able to use this\n",
    "standardizedFeatures=StandardScaler().fit_transform(wordsDescription)"
   ]
  },
  {
   "cell_type": "code",
   "execution_count": null,
   "metadata": {
    "collapsed": true
   },
   "outputs": [],
   "source": [
    "kmeans=KMeans(6)\n",
    "kmeans.fit(standardizedFeatures)\n",
    "predicts=kmeans.predict(standardizedFeatures)"
   ]
  },
  {
   "cell_type": "code",
   "execution_count": null,
   "metadata": {
    "collapsed": false
   },
   "outputs": [],
   "source": [
    "distortions = []\n",
    "for i in range(1, 11):\n",
    "    km = KMeans(n_clusters=i, init='k-means++', n_init=10, max_iter=300, random_state=0)\n",
    "    km.fit(standardizedFeatures)\n",
    "    distortions.append(km.inertia_)\n",
    "plt.plot(range(1,11), distortions, marker='o')\n",
    "plt.xlabel('Number of clusters')\n",
    "plt.ylabel('Distortion')\n",
    "plt.show()"
   ]
  },
  {
   "cell_type": "code",
   "execution_count": null,
   "metadata": {
    "collapsed": false
   },
   "outputs": [],
   "source": [
    "df = pd.DataFrame(standardizedFeatures, columns=wordsDescription.columns)\n",
    "\n",
    "# df.development.describe()\n",
    "# df.head()"
   ]
  },
  {
   "cell_type": "code",
   "execution_count": null,
   "metadata": {
    "collapsed": false
   },
   "outputs": [],
   "source": [
    "wordsDescription.sum().sort_values().plot(kind='hist')"
   ]
  },
  {
   "cell_type": "code",
   "execution_count": null,
   "metadata": {
    "collapsed": false
   },
   "outputs": [],
   "source": [
    "\n",
    "type(listingFile)"
   ]
  },
  {
   "cell_type": "code",
   "execution_count": null,
   "metadata": {
    "collapsed": false
   },
   "outputs": [],
   "source": [
    "df.shape"
   ]
  },
  {
   "cell_type": "code",
   "execution_count": null,
   "metadata": {
    "collapsed": false
   },
   "outputs": [],
   "source": [
    "df = listingFile.join(pd.DataFrame(kmeans.predict(standardizedFeatures), \n",
    "                 columns=['with standardized wordsDescription']))"
   ]
  },
  {
   "cell_type": "code",
   "execution_count": null,
   "metadata": {
    "collapsed": false
   },
   "outputs": [],
   "source": [
    "df.tail()"
   ]
  },
  {
   "cell_type": "code",
   "execution_count": null,
   "metadata": {
    "collapsed": false
   },
   "outputs": [],
   "source": [
    "# resultsOFClustering=df[['Degree','Search Criteria','encodedDegree','predictions_k6']]"
   ]
  },
  {
   "cell_type": "code",
   "execution_count": null,
   "metadata": {
    "collapsed": false
   },
   "outputs": [],
   "source": [
    "#resultsOFClustering.head(1)"
   ]
  },
  {
   "cell_type": "code",
   "execution_count": null,
   "metadata": {
    "collapsed": true
   },
   "outputs": [],
   "source": [
    "# for n_clusters in range(0,6):\n",
    "#     fig, (ax1, ax2)=plt.subplots(1,2)\n",
    "#     fig.set_size_inches(18,7)"
   ]
  },
  {
   "cell_type": "code",
   "execution_count": null,
   "metadata": {
    "collapsed": false
   },
   "outputs": [],
   "source": [
    "clusterer = AgglomerativeClustering(n_clusters=2)\n",
    "cluster_labels = clusterer.fit_predict(standardizedFeatures)"
   ]
  },
  {
   "cell_type": "code",
   "execution_count": null,
   "metadata": {
    "collapsed": false
   },
   "outputs": [],
   "source": []
  },
  {
   "cell_type": "code",
   "execution_count": null,
   "metadata": {
    "collapsed": false
   },
   "outputs": [],
   "source": [
    "#new_df = listingFile.join(pd.DataFrame(cluster_labels, columns=['labels']))\n",
    "#new_df.loc[(new_df['labels'] == 1), 'CleanDescription'].values # to see the actual description\n",
    "#new_df.loc[(new_df['labels'] == 1)]"
   ]
  },
  {
   "cell_type": "code",
   "execution_count": null,
   "metadata": {
    "collapsed": false
   },
   "outputs": [],
   "source": [
    "#new_df.tail()"
   ]
  },
  {
   "cell_type": "code",
   "execution_count": null,
   "metadata": {
    "collapsed": false
   },
   "outputs": [],
   "source": [
    "# from sklearn.cluster import AgglomerativeClustering\n",
    "\n",
    "range_n_clusters = range(2, 5)\n",
    "\n",
    "for n_clusters in range_n_clusters:\n",
    "    # Create a subplot with 1 row and 2 columns\n",
    "    fig, ax1 = plt.subplots(1)\n",
    "    fig.set_size_inches(18, 7)\n",
    "\n",
    "    # The 1st subplot is the silhouette plot\n",
    "    # The silhouette coefficient can range from -1, 1 but in this example all\n",
    "    # lie within [-0.1, 1]\n",
    "    ax1.set_xlim([-0.1, 1])\n",
    "    # The (n_clusters+1)*10 is for inserting blank space between silhouette\n",
    "    # plots of individual clusters, to demarcate them clearly.\n",
    "    ax1.set_ylim([0, len(standardizedFeatures) + (n_clusters + 1) * 10])\n",
    "\n",
    "    # Initialize the clusterer with n_clusters value and a random generator\n",
    "    # seed of 10 for reproducibility.\n",
    "    clusterer = AgglomerativeClustering(n_clusters=n_clusters)\n",
    "    cluster_labels = clusterer.fit_predict(standardizedFeatures)\n",
    "\n",
    "    # The silhouette_score gives the average value for all the samples.\n",
    "    # This gives a perspective into the density and separation of the formed\n",
    "    # clusters\n",
    "    silhouette_avg = silhouette_score(standardizedFeatures, cluster_labels)\n",
    "    print(\"For n_clusters =\", n_clusters,\n",
    "          \"The average silhouette_score is :\", silhouette_avg)\n",
    "\n",
    "    # Compute the silhouette scores for each sample\n",
    "    sample_silhouette_values = silhouette_samples(standardizedFeatures, cluster_labels)\n",
    "\n",
    "    y_lower = 10\n",
    "    for i in range(n_clusters):\n",
    "        # Aggregate the silhouette scores for samples belonging to\n",
    "        # cluster i, and sort them\n",
    "        ith_cluster_silhouette_values = \\\n",
    "            sample_silhouette_values[cluster_labels == i]\n",
    "\n",
    "        ith_cluster_silhouette_values.sort()\n",
    "\n",
    "        size_cluster_i = ith_cluster_silhouette_values.shape[0]\n",
    "        y_upper = y_lower + size_cluster_i\n",
    "\n",
    "        color = cm.spectral(float(i) / n_clusters)\n",
    "        ax1.fill_betweenx(np.arange(y_lower, y_upper),\n",
    "                          0, ith_cluster_silhouette_values,\n",
    "                          facecolor=color, edgecolor=color, alpha=0.7)\n",
    "\n",
    "        # Label the silhouette plots with their cluster numbers at the middle\n",
    "        ax1.text(-0.05, y_lower + 0.5 * size_cluster_i, str(i))\n",
    "\n",
    "        # Compute the new y_lower for next plot\n",
    "        y_lower = y_upper + 10  # 10 for the 0 samples\n",
    "\n",
    "    ax1.set_title(\"The silhouette plot for the various clusters.\")\n",
    "    ax1.set_xlabel(\"The silhouette coefficient values\")\n",
    "    ax1.set_ylabel(\"Cluster label\")\n",
    "\n",
    "    # The vertical line for average silhouette score of all the values\n",
    "    ax1.axvline(x=silhouette_avg, color=\"red\", linestyle=\"--\")\n",
    "\n",
    "    ax1.set_yticks([])  # Clear the yaxis labels / ticks\n",
    "    ax1.set_xticks([-0.1, 0, 0.2, 0.4, 0.6, 0.8, 1])\n",
    "\n",
    "    plt.show()"
   ]
  },
  {
   "cell_type": "markdown",
   "metadata": {
    "collapsed": true
   },
   "source": [
    "# without scaler so the following code is worthless - too bad\n",
    "because I like the results\n"
   ]
  },
  {
   "cell_type": "code",
   "execution_count": null,
   "metadata": {
    "collapsed": true
   },
   "outputs": [],
   "source": [
    "kmeans=KMeans(6)\n",
    "kmeans.fit(x)\n",
    "predicts=kmeans.predict(x)"
   ]
  },
  {
   "cell_type": "code",
   "execution_count": null,
   "metadata": {
    "collapsed": false
   },
   "outputs": [],
   "source": [
    "distortions = []\n",
    "for i in range(1, 11):\n",
    "    km = KMeans(n_clusters=i, init='k-means++', n_init=10, max_iter=300, random_state=0)\n",
    "    km.fit(x)\n",
    "    distortions.append(km.inertia_)\n",
    "plt.plot(range(1,11), distortions, marker='o')\n",
    "plt.xlabel('Number of clusters')\n",
    "plt.ylabel('Distortion')\n",
    "plt.show()"
   ]
  },
  {
   "cell_type": "code",
   "execution_count": null,
   "metadata": {
    "collapsed": true
   },
   "outputs": [],
   "source": [
    "df = listingFile.join(\n",
    "    pd.DataFrame(kmeans.predict(x), \n",
    "                 columns=['predictions_k6'])\n",
    ")"
   ]
  },
  {
   "cell_type": "code",
   "execution_count": null,
   "metadata": {
    "collapsed": false
   },
   "outputs": [],
   "source": [
    "df.head()"
   ]
  },
  {
   "cell_type": "code",
   "execution_count": null,
   "metadata": {
    "collapsed": true
   },
   "outputs": [],
   "source": [
    "resultsOFClustering=df[['Degree','Search Criteria','encodedDegree','predictions_k6']]"
   ]
  },
  {
   "cell_type": "code",
   "execution_count": null,
   "metadata": {
    "collapsed": false
   },
   "outputs": [],
   "source": [
    "resultsOFClustering.head(1)"
   ]
  },
  {
   "cell_type": "code",
   "execution_count": null,
   "metadata": {
    "collapsed": true
   },
   "outputs": [],
   "source": []
  },
  {
   "cell_type": "code",
   "execution_count": null,
   "metadata": {
    "collapsed": false
   },
   "outputs": [],
   "source": [
    "range_n_clusters = range(4, 12)\n",
    "\n",
    "for n_clusters in range_n_clusters:\n",
    "    # Create a subplot with 1 row and 2 columns\n",
    "    fig, ax1 = plt.subplots(1)\n",
    "    fig.set_size_inches(18, 7)\n",
    "\n",
    "    # The 1st subplot is the silhouette plot\n",
    "    # The silhouette coefficient can range from -1, 1 but in this example all\n",
    "    # lie within [-0.1, 1]\n",
    "    ax1.set_xlim([-0.1, 1])\n",
    "    # The (n_clusters+1)*10 is for inserting blank space between silhouette\n",
    "    # plots of individual clusters, to demarcate them clearly.\n",
    "    ax1.set_ylim([0, len(x) + (n_clusters + 1) * 10])\n",
    "\n",
    "    # Initialize the clusterer with n_clusters value and a random generator\n",
    "    # seed of 10 for reproducibility.\n",
    "    clusterer = KMeans(n_clusters=n_clusters, random_state=10)\n",
    "    cluster_labels = clusterer.fit_predict(x)\n",
    "\n",
    "    # The silhouette_score gives the average value for all the samples.\n",
    "    # This gives a perspective into the density and separation of the formed\n",
    "    # clusters\n",
    "    silhouette_avg = silhouette_score(x, cluster_labels)\n",
    "    print(\"For n_clusters =\", n_clusters,\n",
    "          \"The average silhouette_score is :\", silhouette_avg)\n",
    "\n",
    "    # Compute the silhouette scores for each sample\n",
    "    sample_silhouette_values = silhouette_samples(x, cluster_labels)\n",
    "\n",
    "    y_lower = 10\n",
    "    for i in range(n_clusters):\n",
    "        # Aggregate the silhouette scores for samples belonging to\n",
    "        # cluster i, and sort them\n",
    "        ith_cluster_silhouette_values = \\\n",
    "            sample_silhouette_values[cluster_labels == i]\n",
    "\n",
    "        ith_cluster_silhouette_values.sort()\n",
    "\n",
    "        size_cluster_i = ith_cluster_silhouette_values.shape[0]\n",
    "        y_upper = y_lower + size_cluster_i\n",
    "\n",
    "        color = cm.spectral(float(i) / n_clusters)\n",
    "        ax1.fill_betweenx(np.arange(y_lower, y_upper),\n",
    "                          0, ith_cluster_silhouette_values,\n",
    "                          facecolor=color, edgecolor=color, alpha=0.7)\n",
    "\n",
    "        # Label the silhouette plots with their cluster numbers at the middle\n",
    "        ax1.text(-0.05, y_lower + 0.5 * size_cluster_i, str(i))\n",
    "\n",
    "        # Compute the new y_lower for next plot\n",
    "        y_lower = y_upper + 10  # 10 for the 0 samples\n",
    "\n",
    "    ax1.set_title(\"The silhouette plot for the various clusters.\")\n",
    "    ax1.set_xlabel(\"The silhouette coefficient values\")\n",
    "    ax1.set_ylabel(\"Cluster label\")\n",
    "\n",
    "    # The vertical line for average silhouette score of all the values\n",
    "    ax1.axvline(x=silhouette_avg, color=\"red\", linestyle=\"--\")\n",
    "\n",
    "    ax1.set_yticks([])  # Clear the yaxis labels / ticks\n",
    "    ax1.set_xticks([-0.1, 0, 0.2, 0.4, 0.6, 0.8, 1])\n",
    "\n",
    "    plt.show()"
   ]
  },
  {
   "cell_type": "code",
   "execution_count": null,
   "metadata": {
    "collapsed": true
   },
   "outputs": [],
   "source": []
  },
  {
   "cell_type": "code",
   "execution_count": null,
   "metadata": {
    "collapsed": true
   },
   "outputs": [],
   "source": []
  },
  {
   "cell_type": "code",
   "execution_count": null,
   "metadata": {
    "collapsed": true
   },
   "outputs": [],
   "source": []
  },
  {
   "cell_type": "code",
   "execution_count": null,
   "metadata": {
    "collapsed": true
   },
   "outputs": [],
   "source": []
  },
  {
   "cell_type": "code",
   "execution_count": null,
   "metadata": {
    "collapsed": true
   },
   "outputs": [],
   "source": []
  },
  {
   "cell_type": "markdown",
   "metadata": {},
   "source": [
    "# Visualizing the data with TSNE so sad I cannot use it \n",
    "# since the data was not standardized"
   ]
  },
  {
   "cell_type": "code",
   "execution_count": null,
   "metadata": {
    "collapsed": false
   },
   "outputs": [],
   "source": [
    "from sklearn.manifold import TSNE"
   ]
  },
  {
   "cell_type": "code",
   "execution_count": null,
   "metadata": {
    "collapsed": true
   },
   "outputs": [],
   "source": [
    "tsne = TSNE()"
   ]
  },
  {
   "cell_type": "code",
   "execution_count": null,
   "metadata": {
    "collapsed": true
   },
   "outputs": [],
   "source": [
    "graphing_data = tsne.fit_transform(x)"
   ]
  },
  {
   "cell_type": "code",
   "execution_count": null,
   "metadata": {
    "collapsed": false
   },
   "outputs": [],
   "source": [
    "graphing_data[0:5]"
   ]
  },
  {
   "cell_type": "code",
   "execution_count": null,
   "metadata": {
    "collapsed": false
   },
   "outputs": [],
   "source": [
    "plt.scatter(graphing_data[:,0], graphing_data[:,1])"
   ]
  },
  {
   "cell_type": "code",
   "execution_count": null,
   "metadata": {
    "collapsed": false
   },
   "outputs": [],
   "source": [
    "plt.scatter(graphing_data[:,0], graphing_data[:,1],\n",
    "           c=kmeans.predict(x)) "
   ]
  },
  {
   "cell_type": "code",
   "execution_count": null,
   "metadata": {
    "collapsed": true
   },
   "outputs": [],
   "source": []
  }
 ],
 "metadata": {
  "kernelspec": {
   "display_name": "Python [Root]",
   "language": "python",
   "name": "Python [Root]"
  },
  "language_info": {
   "codemirror_mode": {
    "name": "ipython",
    "version": 2
   },
   "file_extension": ".py",
   "mimetype": "text/x-python",
   "name": "python",
   "nbconvert_exporter": "python",
   "pygments_lexer": "ipython2",
   "version": "2.7.12"
  }
 },
 "nbformat": 4,
 "nbformat_minor": 0
}
