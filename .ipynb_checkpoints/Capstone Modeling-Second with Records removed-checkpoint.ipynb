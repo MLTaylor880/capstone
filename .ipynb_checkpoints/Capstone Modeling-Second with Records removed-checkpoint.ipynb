{
 "cells": [
  {
   "cell_type": "code",
   "execution_count": 1,
   "metadata": {
    "collapsed": true
   },
   "outputs": [],
   "source": [
    "import csv\n",
    "import pandas as pd\n",
    "import numpy as np\n",
    "import matplotlib.pyplot as plt\n",
    "%matplotlib inline\n",
    "import sys  \n",
    "\n",
    "#extraction and npl\n",
    "from sklearn.feature_extraction.text import CountVectorizer\n",
    "import nltk\n",
    "from nltk.stem.wordnet import WordNetLemmatizer\n",
    "from nltk.stem import PorterStemmer\n",
    "from nltk import word_tokenize\n",
    "from sklearn.feature_selection import SelectKBest\n",
    "from sklearn.feature_extraction import DictVectorizer\n",
    "from sklearn.feature_selection import RFE\n",
    "from sklearn.feature_extraction.text import TfidfVectorizer\n",
    "from sklearn import preprocessing\n",
    "\n",
    "from sklearn.cross_validation import train_test_split\n",
    "from sklearn.cross_validation import StratifiedShuffleSplit\n",
    "\n",
    "from sklearn.cluster import KMeans\n",
    "\n",
    "from sklearn.grid_search import GridSearchCV\n",
    "from sklearn.linear_model import LogisticRegression\n",
    "from sklearn.metrics import confusion_matrix, classification_report\n",
    "\n",
    "\n",
    "#forest\n",
    "from sklearn.tree import DecisionTreeClassifier\n",
    "from sklearn.tree import DecisionTreeRegressor\n",
    "#bagging\n",
    "from sklearn.ensemble import BaggingClassifier\n",
    "#forests\n",
    "from sklearn.ensemble import RandomForestClassifier, ExtraTreesClassifier\n",
    "from sklearn.datasets import make_classification\n",
    "\n",
    "#Knn\n",
    "from sklearn.neighbors import KNeighborsClassifier\n",
    "\n",
    "\n",
    "\n",
    "from sklearn.preprocessing import LabelEncoder\n",
    "\n",
    "\n",
    "from sklearn.cross_validation import cross_val_score, StratifiedKFold\n",
    "from sklearn import datasets\n",
    "\n",
    "import string\n",
    "\n",
    "from sklearn.decomposition import PCA\n",
    "\n",
    "from sklearn.naive_bayes import MultinomialNB\n",
    "\n",
    "from sklearn.datasets import make_blobs\n",
    "from sklearn.metrics import silhouette_samples,silhouette_score\n",
    "import matplotlib.cm as cm\n",
    "from sklearn.preprocessing import StandardScaler\n",
    "from sklearn.cluster import AgglomerativeClustering"
   ]
  },
  {
   "cell_type": "markdown",
   "metadata": {},
   "source": [
    "#  I scraped data in another workbook \n",
    "I scraped Indeed.com \n",
    "The search terms are my degrees. I only search my geographical region"
   ]
  },
  {
   "cell_type": "code",
   "execution_count": 2,
   "metadata": {
    "collapsed": true
   },
   "outputs": [],
   "source": [
    "#importing the CSV file with the data from Indeed\n",
    "listingFile =pd.read_csv(\"Listings7.csv\",encoding='utf-8')"
   ]
  },
  {
   "cell_type": "code",
   "execution_count": 3,
   "metadata": {
    "collapsed": false
   },
   "outputs": [
    {
     "data": {
      "text/plain": [
       "(4390, 8)"
      ]
     },
     "execution_count": 3,
     "metadata": {},
     "output_type": "execute_result"
    }
   ],
   "source": [
    "listingFile.shape"
   ]
  },
  {
   "cell_type": "code",
   "execution_count": 4,
   "metadata": {
    "collapsed": false
   },
   "outputs": [
    {
     "data": {
      "text/html": [
       "<div>\n",
       "<table border=\"1\" class=\"dataframe\">\n",
       "  <thead>\n",
       "    <tr style=\"text-align: right;\">\n",
       "      <th></th>\n",
       "      <th>Unnamed: 0</th>\n",
       "      <th>City Location</th>\n",
       "      <th>Company Name</th>\n",
       "      <th>Degree</th>\n",
       "      <th>Description</th>\n",
       "      <th>Job Title</th>\n",
       "      <th>Search Criteria</th>\n",
       "      <th>Source</th>\n",
       "    </tr>\n",
       "  </thead>\n",
       "  <tbody>\n",
       "    <tr>\n",
       "      <th>0</th>\n",
       "      <td>0</td>\n",
       "      <td>Cincinnati, OH</td>\n",
       "      <td>Pro4ia, Inc.</td>\n",
       "      <td>user+support</td>\n",
       "      <td>Day-to-day desktop support. Input all service ...</td>\n",
       "      <td>Level 1/2 Desktop Support</td>\n",
       "      <td>user+support</td>\n",
       "      <td>Indeed</td>\n",
       "    </tr>\n",
       "  </tbody>\n",
       "</table>\n",
       "</div>"
      ],
      "text/plain": [
       "   Unnamed: 0   City Location  Company Name        Degree  \\\n",
       "0           0  Cincinnati, OH  Pro4ia, Inc.  user+support   \n",
       "\n",
       "                                         Description  \\\n",
       "0  Day-to-day desktop support. Input all service ...   \n",
       "\n",
       "                   Job Title Search Criteria  Source  \n",
       "0  Level 1/2 Desktop Support    user+support  Indeed  "
      ]
     },
     "execution_count": 4,
     "metadata": {},
     "output_type": "execute_result"
    }
   ],
   "source": [
    "listingFile.head(1)"
   ]
  },
  {
   "cell_type": "code",
   "execution_count": 5,
   "metadata": {
    "collapsed": true
   },
   "outputs": [],
   "source": [
    "#Richard tried this.  You will see at the end when we tried unstructured clustering. It\n",
    "#was a disaster so he thought there might be some foreign language listings. Not so.  I tried to \n",
    "#remove words (see below). Also did not work\n",
    "from guess_language import guessLanguage"
   ]
  },
  {
   "cell_type": "code",
   "execution_count": 6,
   "metadata": {
    "collapsed": true
   },
   "outputs": [],
   "source": [
    "listingFile['english']=listingFile['Description'].apply(lambda x: guessLanguage(x))"
   ]
  },
  {
   "cell_type": "code",
   "execution_count": 7,
   "metadata": {
    "collapsed": false
   },
   "outputs": [
    {
     "data": {
      "text/plain": [
       "en     4198\n",
       "fr       91\n",
       "ca       39\n",
       "la       16\n",
       "af        9\n",
       "da        9\n",
       "it        6\n",
       "de        5\n",
       "nb        4\n",
       "pt        4\n",
       "es        3\n",
       "nl        2\n",
       "ro        2\n",
       "sv        1\n",
       "ceb       1\n",
       "Name: english, dtype: int64"
      ]
     },
     "execution_count": 7,
     "metadata": {},
     "output_type": "execute_result"
    }
   ],
   "source": [
    "listingFile['english'].value_counts()"
   ]
  },
  {
   "cell_type": "code",
   "execution_count": null,
   "metadata": {
    "collapsed": true
   },
   "outputs": [],
   "source": []
  },
  {
   "cell_type": "code",
   "execution_count": 8,
   "metadata": {
    "collapsed": false
   },
   "outputs": [
    {
     "data": {
      "text/plain": [
       "software+development    928\n",
       "user+support            899\n",
       "network+manager         872\n",
       "web+development         864\n",
       "network+engineer        552\n",
       "cyber+security          275\n",
       "Name: Degree, dtype: int64"
      ]
     },
     "execution_count": 8,
     "metadata": {},
     "output_type": "execute_result"
    }
   ],
   "source": [
    "listingFile['Degree'].value_counts()"
   ]
  },
  {
   "cell_type": "markdown",
   "metadata": {},
   "source": [
    "# Data Cleaning"
   ]
  },
  {
   "cell_type": "code",
   "execution_count": 9,
   "metadata": {
    "collapsed": true
   },
   "outputs": [],
   "source": [
    "#now make all words in description lower case\n",
    "listingFile['CleanDescription']=listingFile['Description'].apply(lambda x: x.lower())"
   ]
  },
  {
   "cell_type": "code",
   "execution_count": 10,
   "metadata": {
    "collapsed": true
   },
   "outputs": [],
   "source": [
    "#removing numbers\n",
    "listingFile['CleanDescription']= listingFile['CleanDescription'].apply(lambda x: ''.join([i for i in x if not i.isdigit()]))"
   ]
  },
  {
   "cell_type": "code",
   "execution_count": 11,
   "metadata": {
    "collapsed": true
   },
   "outputs": [],
   "source": [
    "#remove punctuation - code could be more efficient\n",
    "listingFile['CleanDescription']= listingFile['CleanDescription'].apply(lambda x: x.strip(','))\n",
    "listingFile['CleanDescription']= listingFile['CleanDescription'].apply(lambda x: x.strip('.'))\n",
    "#listingFile['CleanDescription']= listingFile['CleanDescription'].apply(lambda x: x.replace('\\('))\n",
    "\n"
   ]
  },
  {
   "cell_type": "code",
   "execution_count": 12,
   "metadata": {
    "collapsed": true
   },
   "outputs": [],
   "source": [
    "#removing numbers from the descriptions\n",
    "listingFile['CleanDescription']= listingFile['CleanDescription'].apply(lambda x: x.lstrip().replace('\\n',''))"
   ]
  },
  {
   "cell_type": "code",
   "execution_count": 13,
   "metadata": {
    "collapsed": false
   },
   "outputs": [
    {
     "data": {
      "text/plain": [
       "Unnamed: 0          0\n",
       "City Location       0\n",
       "Company Name        0\n",
       "Degree              0\n",
       "Description         0\n",
       "Job Title           0\n",
       "Search Criteria     0\n",
       "Source              0\n",
       "english             0\n",
       "CleanDescription    0\n",
       "dtype: int64"
      ]
     },
     "execution_count": 13,
     "metadata": {},
     "output_type": "execute_result"
    }
   ],
   "source": [
    "#checking to see if any null characters\n",
    "listingFile.isnull().sum()"
   ]
  },
  {
   "cell_type": "code",
   "execution_count": 14,
   "metadata": {
    "collapsed": false
   },
   "outputs": [
    {
     "name": "stdout",
     "output_type": "stream",
     "text": [
      "(4390, 10)\n",
      "(4390, 10)\n"
     ]
    }
   ],
   "source": [
    "#drop duplicates\n",
    "print listingFile.shape\n",
    "listingFile=listingFile.drop_duplicates()\n",
    "print listingFile.shape"
   ]
  },
  {
   "cell_type": "code",
   "execution_count": 15,
   "metadata": {
    "collapsed": false
   },
   "outputs": [],
   "source": [
    "# Removing certain words to see if this will improve my clustering. It did not."
   ]
  },
  {
   "cell_type": "code",
   "execution_count": 16,
   "metadata": {
    "collapsed": true
   },
   "outputs": [],
   "source": [
    "listingFile['CleanDescription']= listingFile['CleanDescription'].apply(lambda x: x.replace('development',''))"
   ]
  },
  {
   "cell_type": "code",
   "execution_count": 17,
   "metadata": {
    "collapsed": true
   },
   "outputs": [],
   "source": [
    "listingFile['CleanDescription']= listingFile['CleanDescription'].apply(lambda x: x.replace('manager',''))"
   ]
  },
  {
   "cell_type": "code",
   "execution_count": 18,
   "metadata": {
    "collapsed": true
   },
   "outputs": [],
   "source": [
    "listingFile['CleanDescription']= listingFile['CleanDescription'].apply(lambda x: x.replace('*',''))"
   ]
  },
  {
   "cell_type": "code",
   "execution_count": 19,
   "metadata": {
    "collapsed": false
   },
   "outputs": [],
   "source": [
    "\n",
    "# listingFile['CleanDescription']=listingFile['CleanDescription'].apply(lambda x: x.strip('development'))"
   ]
  },
  {
   "cell_type": "code",
   "execution_count": 20,
   "metadata": {
    "collapsed": true
   },
   "outputs": [],
   "source": [
    "# listingFile['CleanDescription']=listingFile['CleanDescription'].apply(lambda x: x.strip('manager'))"
   ]
  },
  {
   "cell_type": "code",
   "execution_count": 21,
   "metadata": {
    "collapsed": false
   },
   "outputs": [
    {
     "data": {
      "text/plain": [
       "0     day-to-day desktop support. input all service ...\n",
       "1     is seeking a yardi voyager support specialist....\n",
       "2     knowledge/experience supporting mobile users. ...\n",
       "3     produce detailed specifications for software r...\n",
       "4     software  and hardware integration experience....\n",
       "5     advanced html/css  (responsive design/mobile f...\n",
       "6     we are looking for a front-end web designer/de...\n",
       "7     blue laser design is actively looking to add a...\n",
       "8      of enterprise web . applications • database d...\n",
       "9     advanced or formal training in network technol...\n",
       "10    network services . support and develop corpora...\n",
       "11    as head of ops tech network engineering, you w...\n",
       "12    field network engineer. integrate with other s...\n",
       "13    due to our rapid growth, lang company is looki...\n",
       "14    assists in the , implementation and maintenanc...\n",
       "15    apply knowledge of latest cyber security indus...\n",
       "16    ability to obtain and maintain a secret securi...\n",
       "17    the network information security analyst will ...\n",
       "18    provides internal consulting, technical guidan...\n",
       "19    windows systems that support the administrativ...\n",
       "20    to develop intuitive user interfaces. support ...\n",
       "21    in addition to providing direct end-user suppo...\n",
       "22    communicating with users to understand issues ...\n",
       "23    the it help desk technician will be responsibl...\n",
       "24    manages customer support analyst workload by r...\n",
       "25    supervisor, system support. ensure outstanding...\n",
       "26    this position will work with other members of ...\n",
       "27    active participation in user acceptance testin...\n",
       "28    proactively provides support to children, serv...\n",
       "29    the it support assistant will provide support ...\n",
       "Name: CleanDescription, dtype: object"
      ]
     },
     "execution_count": 21,
     "metadata": {},
     "output_type": "execute_result"
    }
   ],
   "source": [
    "listingFile['CleanDescription'].head(30)"
   ]
  },
  {
   "cell_type": "markdown",
   "metadata": {},
   "source": [
    "# looking at degrees and graduates"
   ]
  },
  {
   "cell_type": "code",
   "execution_count": 22,
   "metadata": {
    "collapsed": false
   },
   "outputs": [
    {
     "data": {
      "text/html": [
       "<div>\n",
       "<table border=\"1\" class=\"dataframe\">\n",
       "  <thead>\n",
       "    <tr style=\"text-align: right;\">\n",
       "      <th></th>\n",
       "      <th>Degree</th>\n",
       "      <th>Number of Grads</th>\n",
       "      <th>Number Listings</th>\n",
       "      <th>pctGradsToListing</th>\n",
       "    </tr>\n",
       "  </thead>\n",
       "  <tbody>\n",
       "    <tr>\n",
       "      <th>0</th>\n",
       "      <td>user+support</td>\n",
       "      <td>30</td>\n",
       "      <td>899</td>\n",
       "      <td>0.033370</td>\n",
       "    </tr>\n",
       "    <tr>\n",
       "      <th>1</th>\n",
       "      <td>software+development</td>\n",
       "      <td>71</td>\n",
       "      <td>928</td>\n",
       "      <td>0.076509</td>\n",
       "    </tr>\n",
       "    <tr>\n",
       "      <th>2</th>\n",
       "      <td>web+development</td>\n",
       "      <td>31</td>\n",
       "      <td>864</td>\n",
       "      <td>0.035880</td>\n",
       "    </tr>\n",
       "    <tr>\n",
       "      <th>3</th>\n",
       "      <td>network+manager</td>\n",
       "      <td>77</td>\n",
       "      <td>872</td>\n",
       "      <td>0.088303</td>\n",
       "    </tr>\n",
       "    <tr>\n",
       "      <th>4</th>\n",
       "      <td>network+engineer</td>\n",
       "      <td>79</td>\n",
       "      <td>552</td>\n",
       "      <td>0.143116</td>\n",
       "    </tr>\n",
       "    <tr>\n",
       "      <th>5</th>\n",
       "      <td>cyber+security</td>\n",
       "      <td>8</td>\n",
       "      <td>275</td>\n",
       "      <td>0.029091</td>\n",
       "    </tr>\n",
       "  </tbody>\n",
       "</table>\n",
       "</div>"
      ],
      "text/plain": [
       "                 Degree  Number of Grads  Number Listings  pctGradsToListing\n",
       "0          user+support               30              899           0.033370\n",
       "1  software+development               71              928           0.076509\n",
       "2       web+development               31              864           0.035880\n",
       "3       network+manager               77              872           0.088303\n",
       "4      network+engineer               79              552           0.143116\n",
       "5        cyber+security                8              275           0.029091"
      ]
     },
     "execution_count": 22,
     "metadata": {},
     "output_type": "execute_result"
    }
   ],
   "source": [
    "#creating a table of actual degrees and certificates the college awarded per degree\n",
    "#this is public information and was manually entered\n",
    "#degree included short term certificates\n",
    "tempFile =listingFile.groupby('Degree').count()\n",
    "tempFile=pd.DataFrame(tempFile['Unnamed: 0'])\n",
    "tempFile.reset_index(inplace=True)\n",
    "\n",
    "collegeDegreesVSJobs=pd.DataFrame({'DegreeArea': ['user+support', 'software+development', \n",
    "                         'web+development', 'network+manager', 'network+engineer', \n",
    "                         'cyber+security'],'Number of': [30,71,31,77,79,8]})\n",
    "collegeDegreesVSJobs.columns=[['Degree', 'Number of Grads']]\n",
    "collegeDF= pd.merge(collegeDegreesVSJobs, tempFile, on='Degree')\n",
    "collegeDF.columns=[['Degree', 'Number of Grads', 'Number Listings']]\n",
    "collegeDF['pctGradsToListing']=collegeDF['Number of Grads']/collegeDF['Number Listings']\n",
    "collegeDF"
   ]
  },
  {
   "cell_type": "code",
   "execution_count": 23,
   "metadata": {
    "collapsed": false
   },
   "outputs": [
    {
     "data": {
      "image/png": "[encoded data removed]",
      "text/plain": [
       "<matplotlib.figure.Figure at 0x118ba5210>"
      ]
     },
     "metadata": {},
     "output_type": "display_data"
    }
   ],
   "source": [
    "#bar chart\n",
    "yCollege=collegeDF['Number of Grads']\n",
    "xCollege=collegeDF['Degree']\n",
    "plt.bar(range(0, len(xCollege)) ,yCollege)\n",
    "labels=['user+support', 'software+development', \n",
    "                         'web+development', 'network+manager', 'network+engineer', \n",
    "                         'cyber+security']\n",
    "\n",
    "plt.xticks(range(6), labels, rotation='vertical')\n",
    "plt.title('Number of Degrees and Certificates');\n",
    "\n"
   ]
  },
  {
   "cell_type": "code",
   "execution_count": 24,
   "metadata": {
    "collapsed": false
   },
   "outputs": [
    {
     "data": {
      "image/png": "[encoded data removed]",
      "text/plain": [
       "<matplotlib.figure.Figure at 0x118d6f6d0>"
      ]
     },
     "metadata": {},
     "output_type": "display_data"
    }
   ],
   "source": [
    "#bar chart\n",
    "yCollege=collegeDF['pctGradsToListing']\n",
    "xCollege=collegeDF['Degree']\n",
    "plt.bar(range(0, len(xCollege)) ,yCollege)\n",
    "labels=['user+support', 'software+development', \n",
    "                         'web+development', 'network+manager', 'network+engineer', \n",
    "                         'cyber+security']\n",
    "\n",
    "plt.xticks(range(6), labels, rotation='vertical')\n",
    "plt.title('Percent Grads to Listings');"
   ]
  },
  {
   "cell_type": "markdown",
   "metadata": {},
   "source": [
    "# this is where I would add stemmers lammers\n",
    "talk with Richard  not enough time!"
   ]
  },
  {
   "cell_type": "code",
   "execution_count": null,
   "metadata": {
    "collapsed": true
   },
   "outputs": [],
   "source": []
  },
  {
   "cell_type": "markdown",
   "metadata": {},
   "source": [
    "# Label encoder for degrees"
   ]
  },
  {
   "cell_type": "code",
   "execution_count": 25,
   "metadata": {
    "collapsed": false
   },
   "outputs": [
    {
     "data": {
      "text/plain": [
       "LabelEncoder()"
      ]
     },
     "execution_count": 25,
     "metadata": {},
     "output_type": "execute_result"
    }
   ],
   "source": [
    "label_encoder = preprocessing.LabelEncoder()\n",
    "input_classes = ['user+support', 'software+development', 'web+development', 'network+manager',\n",
    "        'network+engineer', 'cyber+security']\n",
    "label_encoder.fit(input_classes)\n"
   ]
  },
  {
   "cell_type": "code",
   "execution_count": 26,
   "metadata": {
    "collapsed": false
   },
   "outputs": [
    {
     "name": "stdout",
     "output_type": "stream",
     "text": [
      "\n",
      "Labels = ['user+support', 'software+development', 'web+development', 'network+manager', 'network+engineer', 'cyber+security']\n",
      "Encoded labels = [4, 3, 5, 2, 1, 0]\n"
     ]
    }
   ],
   "source": [
    "encoded_labels = label_encoder.transform(input_classes)\n",
    "print \"\\nLabels =\", input_classes \n",
    "print \"Encoded labels =\", list(encoded_labels)"
   ]
  },
  {
   "cell_type": "code",
   "execution_count": 27,
   "metadata": {
    "collapsed": true
   },
   "outputs": [],
   "source": [
    "#creating a column for encoded degree\n",
    "listingFile['encodedDegree']=label_encoder.transform(listingFile['Degree'])"
   ]
  },
  {
   "cell_type": "code",
   "execution_count": null,
   "metadata": {
    "collapsed": true
   },
   "outputs": [],
   "source": []
  },
  {
   "cell_type": "markdown",
   "metadata": {},
   "source": [
    "# count vectorizer of the cleanDescription"
   ]
  },
  {
   "cell_type": "code",
   "execution_count": 28,
   "metadata": {
    "collapsed": true
   },
   "outputs": [],
   "source": [
    "# will not limit the number of words\n",
    "cvec = CountVectorizer()\n",
    "v = CountVectorizer(\n",
    "    binary=True,  \n",
    "    stop_words='english')\n",
    "#,max_features=500\n"
   ]
  },
  {
   "cell_type": "code",
   "execution_count": 29,
   "metadata": {
    "collapsed": false
   },
   "outputs": [
    {
     "data": {
      "text/plain": [
       "(4390, 5552)"
      ]
     },
     "execution_count": 29,
     "metadata": {},
     "output_type": "execute_result"
    }
   ],
   "source": [
    "wordsDescription = v.fit_transform(listingFile['CleanDescription']).todense()\n",
    "wordsDescription = pd.DataFrame(wordsDescription, columns=v.get_feature_names())\n",
    "wordsDescription.shape"
   ]
  },
  {
   "cell_type": "code",
   "execution_count": 30,
   "metadata": {
    "collapsed": false
   },
   "outputs": [
    {
     "data": {
      "text/html": [
       "<div>\n",
       "<table border=\"1\" class=\"dataframe\">\n",
       "  <thead>\n",
       "    <tr style=\"text-align: right;\">\n",
       "      <th></th>\n",
       "      <th>_adaptive</th>\n",
       "      <th>_care</th>\n",
       "      <th>aam</th>\n",
       "      <th>aarp</th>\n",
       "      <th>abb</th>\n",
       "      <th>abbott</th>\n",
       "      <th>abc</th>\n",
       "      <th>abide</th>\n",
       "      <th>abilities</th>\n",
       "      <th>ability</th>\n",
       "      <th>...</th>\n",
       "      <th>yes</th>\n",
       "      <th>young</th>\n",
       "      <th>youth</th>\n",
       "      <th>yp</th>\n",
       "      <th>yrs</th>\n",
       "      <th>yslow</th>\n",
       "      <th>zero</th>\n",
       "      <th>zone</th>\n",
       "      <th>zoning</th>\n",
       "      <th>zycron</th>\n",
       "    </tr>\n",
       "  </thead>\n",
       "  <tbody>\n",
       "    <tr>\n",
       "      <th>0</th>\n",
       "      <td>0</td>\n",
       "      <td>0</td>\n",
       "      <td>0</td>\n",
       "      <td>0</td>\n",
       "      <td>0</td>\n",
       "      <td>0</td>\n",
       "      <td>0</td>\n",
       "      <td>0</td>\n",
       "      <td>0</td>\n",
       "      <td>0</td>\n",
       "      <td>...</td>\n",
       "      <td>0</td>\n",
       "      <td>0</td>\n",
       "      <td>0</td>\n",
       "      <td>0</td>\n",
       "      <td>0</td>\n",
       "      <td>0</td>\n",
       "      <td>0</td>\n",
       "      <td>0</td>\n",
       "      <td>0</td>\n",
       "      <td>0</td>\n",
       "    </tr>\n",
       "  </tbody>\n",
       "</table>\n",
       "<p>1 rows × 5552 columns</p>\n",
       "</div>"
      ],
      "text/plain": [
       "   _adaptive  _care  aam  aarp  abb  abbott  abc  abide  abilities  ability  \\\n",
       "0          0      0    0     0    0       0    0      0          0        0   \n",
       "\n",
       "    ...    yes  young  youth  yp  yrs  yslow  zero  zone  zoning  zycron  \n",
       "0   ...      0      0      0   0    0      0     0     0       0       0  \n",
       "\n",
       "[1 rows x 5552 columns]"
      ]
     },
     "execution_count": 30,
     "metadata": {},
     "output_type": "execute_result"
    }
   ],
   "source": [
    "wordsDescription.head(1)"
   ]
  },
  {
   "cell_type": "markdown",
   "metadata": {},
   "source": [
    "# create dummies from the degree to see if words can predict degree"
   ]
  },
  {
   "cell_type": "code",
   "execution_count": 31,
   "metadata": {
    "collapsed": false
   },
   "outputs": [
    {
     "data": {
      "text/html": [
       "<div>\n",
       "<table border=\"1\" class=\"dataframe\">\n",
       "  <thead>\n",
       "    <tr style=\"text-align: right;\">\n",
       "      <th></th>\n",
       "      <th>_adaptive</th>\n",
       "      <th>_care</th>\n",
       "      <th>aam</th>\n",
       "      <th>aarp</th>\n",
       "      <th>abb</th>\n",
       "      <th>abbott</th>\n",
       "      <th>abc</th>\n",
       "      <th>abide</th>\n",
       "      <th>abilities</th>\n",
       "      <th>ability</th>\n",
       "      <th>...</th>\n",
       "      <th>zero</th>\n",
       "      <th>zone</th>\n",
       "      <th>zoning</th>\n",
       "      <th>zycron</th>\n",
       "      <th>cyber+security</th>\n",
       "      <th>network+engineer</th>\n",
       "      <th>network+manager</th>\n",
       "      <th>software+development</th>\n",
       "      <th>user+support</th>\n",
       "      <th>web+development</th>\n",
       "    </tr>\n",
       "  </thead>\n",
       "  <tbody>\n",
       "    <tr>\n",
       "      <th>0</th>\n",
       "      <td>0</td>\n",
       "      <td>0</td>\n",
       "      <td>0</td>\n",
       "      <td>0</td>\n",
       "      <td>0</td>\n",
       "      <td>0</td>\n",
       "      <td>0</td>\n",
       "      <td>0</td>\n",
       "      <td>0</td>\n",
       "      <td>0</td>\n",
       "      <td>...</td>\n",
       "      <td>0</td>\n",
       "      <td>0</td>\n",
       "      <td>0</td>\n",
       "      <td>0</td>\n",
       "      <td>0.0</td>\n",
       "      <td>0.0</td>\n",
       "      <td>0.0</td>\n",
       "      <td>0.0</td>\n",
       "      <td>1.0</td>\n",
       "      <td>0.0</td>\n",
       "    </tr>\n",
       "  </tbody>\n",
       "</table>\n",
       "<p>1 rows × 5558 columns</p>\n",
       "</div>"
      ],
      "text/plain": [
       "   _adaptive  _care  aam  aarp  abb  abbott  abc  abide  abilities  ability  \\\n",
       "0          0      0    0     0    0       0    0      0          0        0   \n",
       "\n",
       "        ...         zero  zone  zoning  zycron  cyber+security  \\\n",
       "0       ...            0     0       0       0             0.0   \n",
       "\n",
       "   network+engineer  network+manager  software+development  user+support  \\\n",
       "0               0.0              0.0                   0.0           1.0   \n",
       "\n",
       "   web+development  \n",
       "0              0.0  \n",
       "\n",
       "[1 rows x 5558 columns]"
      ]
     },
     "execution_count": 31,
     "metadata": {},
     "output_type": "execute_result"
    }
   ],
   "source": [
    "degreeDummies=pd.get_dummies(listingFile['Degree'])\n",
    "wordDescDegree=pd.DataFrame(wordsDescription).join(pd.DataFrame(degreeDummies))\n",
    "wordDescDegree.head(1)"
   ]
  },
  {
   "cell_type": "code",
   "execution_count": 32,
   "metadata": {
    "collapsed": true
   },
   "outputs": [],
   "source": [
    "allDegreeData=pd.DataFrame(listingFile['encodedDegree']).join(pd.DataFrame(listingFile['Degree'])).join(pd.DataFrame(degreeDummies))"
   ]
  },
  {
   "cell_type": "code",
   "execution_count": 33,
   "metadata": {
    "collapsed": false
   },
   "outputs": [
    {
     "data": {
      "text/html": [
       "<div>\n",
       "<table border=\"1\" class=\"dataframe\">\n",
       "  <thead>\n",
       "    <tr style=\"text-align: right;\">\n",
       "      <th></th>\n",
       "      <th>encodedDegree</th>\n",
       "      <th>Degree</th>\n",
       "      <th>cyber+security</th>\n",
       "      <th>network+engineer</th>\n",
       "      <th>network+manager</th>\n",
       "      <th>software+development</th>\n",
       "      <th>user+support</th>\n",
       "      <th>web+development</th>\n",
       "    </tr>\n",
       "  </thead>\n",
       "  <tbody>\n",
       "    <tr>\n",
       "      <th>0</th>\n",
       "      <td>4</td>\n",
       "      <td>user+support</td>\n",
       "      <td>0.0</td>\n",
       "      <td>0.0</td>\n",
       "      <td>0.0</td>\n",
       "      <td>0.0</td>\n",
       "      <td>1.0</td>\n",
       "      <td>0.0</td>\n",
       "    </tr>\n",
       "  </tbody>\n",
       "</table>\n",
       "</div>"
      ],
      "text/plain": [
       "   encodedDegree        Degree  cyber+security  network+engineer  \\\n",
       "0              4  user+support             0.0               0.0   \n",
       "\n",
       "   network+manager  software+development  user+support  web+development  \n",
       "0              0.0                   0.0           1.0              0.0  "
      ]
     },
     "execution_count": 33,
     "metadata": {},
     "output_type": "execute_result"
    }
   ],
   "source": [
    "allDegreeData.head(1)"
   ]
  },
  {
   "cell_type": "code",
   "execution_count": null,
   "metadata": {
    "collapsed": true
   },
   "outputs": [],
   "source": []
  },
  {
   "cell_type": "markdown",
   "metadata": {},
   "source": [
    "# create train test"
   ]
  },
  {
   "cell_type": "code",
   "execution_count": 34,
   "metadata": {
    "collapsed": false
   },
   "outputs": [
    {
     "data": {
      "text/plain": [
       "((4390, 5552), (4390,))"
      ]
     },
     "execution_count": 34,
     "metadata": {},
     "output_type": "execute_result"
    }
   ],
   "source": [
    "wordsDescription.shape , listingFile['encodedDegree'].shape"
   ]
  },
  {
   "cell_type": "markdown",
   "metadata": {},
   "source": [
    "## setting the x and y"
   ]
  },
  {
   "cell_type": "code",
   "execution_count": 35,
   "metadata": {
    "collapsed": true
   },
   "outputs": [],
   "source": [
    "x=wordsDescription\n",
    "y=listingFile['encodedDegree']"
   ]
  },
  {
   "cell_type": "code",
   "execution_count": 36,
   "metadata": {
    "collapsed": true
   },
   "outputs": [],
   "source": [
    "x_train, x_test, y_train, y_test= train_test_split(x.values,y.values, test_size=.4, stratify=y )"
   ]
  },
  {
   "cell_type": "code",
   "execution_count": 37,
   "metadata": {
    "collapsed": false
   },
   "outputs": [
    {
     "data": {
      "text/plain": [
       "((2633, 5552), (1757, 5552), (2633,), (1757,))"
      ]
     },
     "execution_count": 37,
     "metadata": {},
     "output_type": "execute_result"
    }
   ],
   "source": [
    "x_train.shape, x_test.shape, y_train.shape, y_test.shape"
   ]
  },
  {
   "cell_type": "markdown",
   "metadata": {},
   "source": [
    "# creating dimension reduction PCA on Train Dataset"
   ]
  },
  {
   "cell_type": "code",
   "execution_count": 38,
   "metadata": {
    "collapsed": false
   },
   "outputs": [],
   "source": [
    "# I tried a series of components  decided on 5"
   ]
  },
  {
   "cell_type": "code",
   "execution_count": 39,
   "metadata": {
    "collapsed": false
   },
   "outputs": [
    {
     "data": {
      "text/plain": [
       "array([[ 0.20958142, -0.18648531,  0.67390974, -0.63555002,  0.07270982],\n",
       "       [ 0.17374592, -0.19757503,  0.52075029, -0.50487833,  0.23389339],\n",
       "       [-0.29421481, -0.11002042,  0.09568819, -0.26575917, -0.48507871],\n",
       "       ..., \n",
       "       [-0.02858219, -0.25012087, -0.01445554, -0.36597287,  0.01764085],\n",
       "       [-0.22521445,  0.15661947,  0.13678231, -0.33420616, -0.22099934],\n",
       "       [-0.71920661,  0.60359217,  0.17439366,  0.05287688, -0.19006315]])"
      ]
     },
     "execution_count": 39,
     "metadata": {},
     "output_type": "execute_result"
    }
   ],
   "source": [
    "pca=PCA(n_components=5)\n",
    "pca.fit(x_train)\n",
    "pca.fit_transform(x_train)"
   ]
  },
  {
   "cell_type": "code",
   "execution_count": 40,
   "metadata": {
    "collapsed": false
   },
   "outputs": [
    {
     "data": {
      "text/plain": [
       "array([[  4.08482087e-03,  -3.66588885e-07,  -1.83563699e-07, ...,\n",
       "          0.00000000e+00,  -2.84784820e-08,  -4.21184139e-07],\n",
       "       [ -3.66588885e-07,   4.08226463e-03,  -1.94140445e-07, ...,\n",
       "          0.00000000e+00,  -8.15437526e-08,   5.34092656e-07],\n",
       "       [ -1.83563699e-07,  -1.94140445e-07,   4.08174475e-03, ...,\n",
       "          0.00000000e+00,   1.15291299e-07,  -5.39841092e-08],\n",
       "       ..., \n",
       "       [  0.00000000e+00,   0.00000000e+00,   0.00000000e+00, ...,\n",
       "          4.08150855e-03,   0.00000000e+00,   0.00000000e+00],\n",
       "       [ -2.84784820e-08,  -8.15437526e-08,   1.15291299e-07, ...,\n",
       "          0.00000000e+00,   4.08164044e-03,   7.13076931e-08],\n",
       "       [ -4.21184139e-07,   5.34092656e-07,  -5.39841092e-08, ...,\n",
       "          0.00000000e+00,   7.13076931e-08,   4.08213514e-03]])"
      ]
     },
     "execution_count": 40,
     "metadata": {},
     "output_type": "execute_result"
    }
   ],
   "source": [
    "pca.get_covariance()"
   ]
  },
  {
   "cell_type": "code",
   "execution_count": 41,
   "metadata": {
    "collapsed": false
   },
   "outputs": [
    {
     "data": {
      "text/plain": [
       "array([ 0.30413065,  0.23598596,  0.19113964,  0.1591685 ,  0.12363231])"
      ]
     },
     "execution_count": 41,
     "metadata": {},
     "output_type": "execute_result"
    }
   ],
   "source": [
    "pca.explained_variance_"
   ]
  },
  {
   "cell_type": "code",
   "execution_count": 42,
   "metadata": {
    "collapsed": false
   },
   "outputs": [
    {
     "data": {
      "text/plain": [
       "array([ 0.30413065,  0.54011661,  0.73125625,  0.89042475,  1.01405706])"
      ]
     },
     "execution_count": 42,
     "metadata": {},
     "output_type": "execute_result"
    }
   ],
   "source": [
    "np.cumsum(pca.explained_variance_)"
   ]
  },
  {
   "cell_type": "code",
   "execution_count": 43,
   "metadata": {
    "collapsed": true
   },
   "outputs": [],
   "source": [
    "train_features=pca.fit_transform(x_train)"
   ]
  },
  {
   "cell_type": "code",
   "execution_count": 44,
   "metadata": {
    "collapsed": false
   },
   "outputs": [
    {
     "data": {
      "text/plain": [
       "(2633, 5)"
      ]
     },
     "execution_count": 44,
     "metadata": {},
     "output_type": "execute_result"
    }
   ],
   "source": [
    "train_features.shape"
   ]
  },
  {
   "cell_type": "markdown",
   "metadata": {},
   "source": [
    "# lets try random forest with full dataset and pca\n",
    "\n",
    "1. using full data set without train test.  I am only doing this to get a list of words for each degree\n",
    "2. using PCA  I did this to see if this predicts my degrees"
   ]
  },
  {
   "cell_type": "code",
   "execution_count": 45,
   "metadata": {
    "collapsed": false
   },
   "outputs": [
    {
     "name": "stdout",
     "output_type": "stream",
     "text": [
      "<type 'numpy.ndarray'> [4 4 4 3 3 3]\n",
      "<class 'pandas.core.frame.DataFrame'>\n"
     ]
    }
   ],
   "source": [
    "#full dataset \n",
    "y=LabelEncoder().fit_transform(listingFile['Degree'])\n",
    "cv = StratifiedKFold(y, n_folds=4, shuffle=True, random_state=41)\n",
    "print type(y), y[0:6]\n",
    "print type(x)"
   ]
  },
  {
   "cell_type": "code",
   "execution_count": 46,
   "metadata": {
    "collapsed": false
   },
   "outputs": [
    {
     "data": {
      "text/plain": [
       "((4390, 5552), (4390,))"
      ]
     },
     "execution_count": 46,
     "metadata": {},
     "output_type": "execute_result"
    }
   ],
   "source": [
    "x.shape, y.shape\n"
   ]
  },
  {
   "cell_type": "code",
   "execution_count": 47,
   "metadata": {
    "collapsed": false
   },
   "outputs": [],
   "source": [
    "rf=RandomForestClassifier(class_weight ='balanced', n_jobs=-1)\n",
    "s=cross_val_score(rf,x.values,y,cv=cv, n_jobs=-1)\n"
   ]
  },
  {
   "cell_type": "code",
   "execution_count": 48,
   "metadata": {
    "collapsed": false
   },
   "outputs": [
    {
     "data": {
      "text/plain": [
       "array([ 0.76867031,  0.79143898,  0.77504554,  0.7399635 ])"
      ]
     },
     "execution_count": 48,
     "metadata": {},
     "output_type": "execute_result"
    }
   ],
   "source": [
    "s"
   ]
  },
  {
   "cell_type": "code",
   "execution_count": 49,
   "metadata": {
    "collapsed": false
   },
   "outputs": [],
   "source": [
    "rf.fit(x, y)\n",
    "importances = rf.feature_importances_\n",
    "std = np.std([tree.feature_importances_ for tree in rf.estimators_],\n",
    "             axis=0)\n",
    "indices = np.argsort(importances)[::-1]\n"
   ]
  },
  {
   "cell_type": "code",
   "execution_count": 50,
   "metadata": {
    "collapsed": false
   },
   "outputs": [
    {
     "data": {
      "text/plain": [
       "0.97517084282460131"
      ]
     },
     "execution_count": 50,
     "metadata": {},
     "output_type": "execute_result"
    }
   ],
   "source": [
    "#nice score of course it includes all data!\n",
    "rf.score(x, y)"
   ]
  },
  {
   "cell_type": "code",
   "execution_count": 51,
   "metadata": {
    "collapsed": false
   },
   "outputs": [],
   "source": [
    "# for f in range(x.shape[1]):\n",
    "#     print(\"%d. feature %d (%f)\" % (f + 1, indices[f], importances[indices[f]]))"
   ]
  },
  {
   "cell_type": "code",
   "execution_count": 52,
   "metadata": {
    "collapsed": false
   },
   "outputs": [
    {
     "data": {
      "image/png": "[encoded data removed]",
      "text/plain": [
       "<matplotlib.figure.Figure at 0x11be18e10>"
      ]
     },
     "metadata": {},
     "output_type": "display_data"
    }
   ],
   "source": [
    "plt.figure()\n",
    "plt.title(\"Feature importances\")\n",
    "plt.bar(range(x.shape[1]), importances[indices],\n",
    "       color=\"r\", yerr=std[indices], align=\"center\")\n",
    "plt.xticks(range(x.shape[1]), indices)\n",
    "plt.xlim([-1, x.shape[1]])\n",
    "plt.show()"
   ]
  },
  {
   "cell_type": "code",
   "execution_count": 53,
   "metadata": {
    "collapsed": true
   },
   "outputs": [],
   "source": [
    "feature_importancesRF = pd.DataFrame(rf.feature_importances_,\n",
    "                                   index = x.columns,\n",
    "                                    columns=['importance']).sort_values('importance',\n",
    "                                                                        ascending=False)"
   ]
  },
  {
   "cell_type": "code",
   "execution_count": 54,
   "metadata": {
    "collapsed": false
   },
   "outputs": [
    {
     "data": {
      "text/html": [
       "<div>\n",
       "<table border=\"1\" class=\"dataframe\">\n",
       "  <thead>\n",
       "    <tr style=\"text-align: right;\">\n",
       "      <th></th>\n",
       "      <th>importance</th>\n",
       "    </tr>\n",
       "  </thead>\n",
       "  <tbody>\n",
       "    <tr>\n",
       "      <th>security</th>\n",
       "      <td>0.055859</td>\n",
       "    </tr>\n",
       "    <tr>\n",
       "      <th>web</th>\n",
       "      <td>0.044164</td>\n",
       "    </tr>\n",
       "    <tr>\n",
       "      <th>software</th>\n",
       "      <td>0.040000</td>\n",
       "    </tr>\n",
       "    <tr>\n",
       "      <th>support</th>\n",
       "      <td>0.038529</td>\n",
       "    </tr>\n",
       "    <tr>\n",
       "      <th>network</th>\n",
       "      <td>0.035976</td>\n",
       "    </tr>\n",
       "    <tr>\n",
       "      <th>engineer</th>\n",
       "      <td>0.022892</td>\n",
       "    </tr>\n",
       "    <tr>\n",
       "      <th>user</th>\n",
       "      <td>0.017778</td>\n",
       "    </tr>\n",
       "    <tr>\n",
       "      <th>users</th>\n",
       "      <td>0.017773</td>\n",
       "    </tr>\n",
       "    <tr>\n",
       "      <th>implementation</th>\n",
       "      <td>0.009286</td>\n",
       "    </tr>\n",
       "    <tr>\n",
       "      <th>engineers</th>\n",
       "      <td>0.008150</td>\n",
       "    </tr>\n",
       "  </tbody>\n",
       "</table>\n",
       "</div>"
      ],
      "text/plain": [
       "                importance\n",
       "security          0.055859\n",
       "web               0.044164\n",
       "software          0.040000\n",
       "support           0.038529\n",
       "network           0.035976\n",
       "engineer          0.022892\n",
       "user              0.017778\n",
       "users             0.017773\n",
       "implementation    0.009286\n",
       "engineers         0.008150"
      ]
     },
     "execution_count": 54,
     "metadata": {},
     "output_type": "execute_result"
    }
   ],
   "source": [
    "#this is what I want to see\n",
    "feature_importancesRF.head(10)"
   ]
  },
  {
   "cell_type": "code",
   "execution_count": 55,
   "metadata": {
    "collapsed": false
   },
   "outputs": [],
   "source": [
    "predictionsRF=rf.predict(x)"
   ]
  },
  {
   "cell_type": "code",
   "execution_count": 56,
   "metadata": {
    "collapsed": false
   },
   "outputs": [
    {
     "name": "stdout",
     "output_type": "stream",
     "text": [
      "[[274   0   0   0   0   1]\n",
      " [  2 536  10   3   1   0]\n",
      " [  0  14 854   3   0   1]\n",
      " [  1   3   0 894   2  28]\n",
      " [  1   0   2   0 896   0]\n",
      " [  0   2   6  28   1 827]]\n"
     ]
    }
   ],
   "source": [
    "print confusion_matrix(y, predictionsRF)"
   ]
  },
  {
   "cell_type": "code",
   "execution_count": 57,
   "metadata": {
    "collapsed": false
   },
   "outputs": [
    {
     "name": "stdout",
     "output_type": "stream",
     "text": [
      "      Pred USSU  Pred SODE  Pred WEDE  Pred NEMA  Pred NEED  Pred CYIT\n",
      "USSU        274          0          0          0          0          1\n",
      "SODE          2        536         10          3          1          0\n",
      "WEDE          0         14        854          3          0          1\n",
      "NEMA          1          3          0        894          2         28\n",
      "NEED          1          0          2          0        896          0\n",
      "CYIT          0          2          6         28          1        827\n"
     ]
    }
   ],
   "source": [
    "#this chart is very meaningfull miss-predictions show overlap of degrees\n",
    "conmat = np.array(confusion_matrix(y, predictionsRF))\n",
    "confusion = pd.DataFrame(conmat, index=['USSU', 'SODE', \n",
    "                         'WEDE', 'NEMA','NEED', 'CYIT'],columns=['Pred USSU', 'Pred SODE', \n",
    "                         'Pred WEDE', 'Pred NEMA','Pred NEED', 'Pred CYIT'])\n",
    "print confusion\n"
   ]
  },
  {
   "cell_type": "code",
   "execution_count": 58,
   "metadata": {
    "collapsed": false
   },
   "outputs": [
    {
     "name": "stdout",
     "output_type": "stream",
     "text": [
      "             precision    recall  f1-score   support\n",
      "\n",
      "          0       0.99      1.00      0.99       275\n",
      "          1       0.97      0.97      0.97       552\n",
      "          2       0.98      0.98      0.98       872\n",
      "          3       0.96      0.96      0.96       928\n",
      "          4       1.00      1.00      1.00       899\n",
      "          5       0.96      0.96      0.96       864\n",
      "\n",
      "avg / total       0.98      0.98      0.98      4390\n",
      "\n"
     ]
    }
   ],
   "source": [
    "print  classification_report(y, predictionsRF)"
   ]
  },
  {
   "cell_type": "markdown",
   "metadata": {},
   "source": [
    "# random forest by degree - want feature importance\n",
    "this will help me understand the job market"
   ]
  },
  {
   "cell_type": "code",
   "execution_count": 59,
   "metadata": {
    "collapsed": false
   },
   "outputs": [
    {
     "data": {
      "text/plain": [
       "Index([u'_adaptive', u'_care', u'aam', u'aarp', u'abb', u'abbott', u'abc',\n",
       "       u'abide', u'abilities', u'ability',\n",
       "       ...\n",
       "       u'zero', u'zone', u'zoning', u'zycron', u'cyber+security',\n",
       "       u'network+engineer', u'network+manager', u'software+development',\n",
       "       u'user+support', u'web+development'],\n",
       "      dtype='object', length=5558)"
      ]
     },
     "execution_count": 59,
     "metadata": {},
     "output_type": "execute_result"
    }
   ],
   "source": [
    "wordDescDegree.columns"
   ]
  },
  {
   "cell_type": "code",
   "execution_count": 60,
   "metadata": {
    "collapsed": false
   },
   "outputs": [],
   "source": [
    "yCYIT=wordDescDegree['cyber+security']\n",
    "yNEEN=wordDescDegree['network+engineer']\n",
    "yNEMA=wordDescDegree['network+manager']\n",
    "ySODE=wordDescDegree['software+development']\n",
    "yUSSU=wordDescDegree['user+support']\n",
    "yWEDE=wordDescDegree['web+development']"
   ]
  },
  {
   "cell_type": "code",
   "execution_count": 61,
   "metadata": {
    "collapsed": false
   },
   "outputs": [
    {
     "name": "stdout",
     "output_type": "stream",
     "text": [
      "0.997038724374\n",
      "              importance\n",
      "security        0.112529\n",
      "cyber           0.094642\n",
      "software        0.033880\n",
      "information     0.019154\n",
      "clearance       0.016480\n",
      "support         0.014560\n",
      "web             0.013507\n",
      "risk            0.013407\n",
      "united          0.010320\n",
      "secret          0.009838\n",
      "technology      0.008711\n",
      "intelligence    0.008235\n",
      "analyst         0.008155\n",
      "job             0.007742\n",
      "users           0.007383\n",
      "network         0.007244\n",
      "fastest         0.007179\n",
      "user            0.006863\n",
      "strategic       0.006601\n",
      "description     0.005953\n"
     ]
    }
   ],
   "source": [
    "yDegree=yCYIT\n",
    "rf.fit(x, yDegree)\n",
    "rf.score(x, yDegree)\n",
    "importances = rf.feature_importances_\n",
    "feature_importancesRF = pd.DataFrame(rf.feature_importances_,\n",
    "                                   index = x.columns,\n",
    "                                    columns=['importance']).sort_values('importance',\n",
    "                                                                        ascending=False)\n",
    "print rf.score(x, yDegree)\n",
    "print feature_importancesRF.head(20)"
   ]
  },
  {
   "cell_type": "code",
   "execution_count": 62,
   "metadata": {
    "collapsed": false
   },
   "outputs": [
    {
     "name": "stdout",
     "output_type": "stream",
     "text": [
      "0.98861047836\n",
      "                 importance\n",
      "engineer           0.080127\n",
      "network            0.063944\n",
      "implementation     0.037229\n",
      "engineers          0.036592\n",
      "networks           0.024434\n",
      "web                0.021199\n",
      "software           0.015029\n",
      "user               0.007493\n",
      "troubleshooting    0.006489\n",
      "support            0.006450\n",
      "communication      0.006154\n",
      "experience         0.005866\n",
      "infrastructure     0.005549\n",
      "cisco              0.005210\n",
      "electrical         0.005059\n",
      "systems            0.004806\n",
      "storage            0.004643\n",
      "ip                 0.004639\n",
      "reports            0.004357\n",
      "local              0.004240\n",
      "users              0.004102\n",
      "integration        0.004041\n",
      "seeking            0.003630\n",
      "technical          0.003470\n",
      "ge                 0.003351\n",
      "understanding      0.003214\n",
      "end                0.003090\n",
      "layers             0.002999\n",
      "manufacturing      0.002834\n",
      "practicality       0.002762\n"
     ]
    }
   ],
   "source": [
    "yDegree=yNEEN\n",
    "rf.fit(x, yDegree)\n",
    "rf.score(x, yDegree)\n",
    "importances = rf.feature_importances_\n",
    "feature_importancesRF = pd.DataFrame(rf.feature_importances_,\n",
    "                                   index = x.columns,\n",
    "                                    columns=['importance']).sort_values('importance',\n",
    "                                                                        ascending=False)\n",
    "print rf.score(x, yDegree)\n",
    "print feature_importancesRF.head(30)"
   ]
  },
  {
   "cell_type": "code",
   "execution_count": 63,
   "metadata": {
    "collapsed": false
   },
   "outputs": [
    {
     "name": "stdout",
     "output_type": "stream",
     "text": [
      "0.990432801822\n",
      "                importance\n",
      "network           0.062332\n",
      "software          0.051917\n",
      "web               0.039827\n",
      "user              0.033019\n",
      "engineer          0.018618\n",
      "experience        0.017612\n",
      "design            0.017070\n",
      "users             0.017003\n",
      "support           0.013483\n",
      "security          0.011067\n",
      "networks          0.010794\n",
      "application       0.010441\n",
      "reports           0.007689\n",
      "account           0.006902\n",
      "engineers         0.006838\n",
      "implementation    0.005927\n",
      "test              0.005681\n",
      "cyber             0.005660\n",
      "systems           0.005556\n",
      "relationships     0.005490\n",
      "case              0.005183\n",
      "sales             0.004389\n",
      "end               0.004367\n",
      "project           0.004336\n",
      "java              0.004071\n",
      "technical         0.003728\n",
      "lifecycle         0.003710\n",
      "regional          0.003284\n",
      "years             0.003179\n",
      "understanding     0.003060\n"
     ]
    }
   ],
   "source": [
    "yDegree=yNEMA\n",
    "rf.fit(x, yDegree)\n",
    "rf.score(x, yDegree)\n",
    "importances = rf.feature_importances_\n",
    "feature_importancesRF = pd.DataFrame(rf.feature_importances_,\n",
    "                                   index = x.columns,\n",
    "                                    columns=['importance']).sort_values('importance',\n",
    "                                                                        ascending=False)\n",
    "print rf.score(x, yDegree)\n",
    "print feature_importancesRF.head(30)"
   ]
  },
  {
   "cell_type": "code",
   "execution_count": 64,
   "metadata": {
    "collapsed": false
   },
   "outputs": [
    {
     "name": "stdout",
     "output_type": "stream",
     "text": [
      "0.980637813212\n",
      "              importance\n",
      "software        0.126886\n",
      "network         0.067460\n",
      "web             0.025591\n",
      "support         0.024593\n",
      "user            0.012989\n",
      "security        0.012582\n",
      "users           0.011577\n",
      "experience      0.011165\n",
      "networks        0.008725\n",
      "design          0.007817\n",
      "cycle           0.007721\n",
      "testing         0.007327\n",
      "agile           0.006144\n",
      "lifecycle       0.006093\n",
      "developer       0.005415\n",
      "hardware        0.005094\n",
      "test            0.004873\n",
      "end             0.004873\n",
      "years           0.004713\n",
      "services        0.004180\n",
      "using           0.003922\n",
      "knowledge       0.003810\n",
      "provide         0.003543\n",
      "engineering     0.003495\n",
      "applications    0.003372\n",
      "systems         0.003308\n",
      "use             0.003283\n",
      "application     0.003189\n",
      "cyber           0.002998\n",
      "business        0.002916\n"
     ]
    }
   ],
   "source": [
    "yDegree=ySODE\n",
    "rf.fit(x, yDegree)\n",
    "rf.score(x, yDegree)\n",
    "importances = rf.feature_importances_\n",
    "feature_importancesRF = pd.DataFrame(rf.feature_importances_,\n",
    "                                   index = x.columns,\n",
    "                                    columns=['importance']).sort_values('importance',\n",
    "                                                                        ascending=False)\n",
    "print rf.score(x, yDegree)\n",
    "print feature_importancesRF.head(30)"
   ]
  },
  {
   "cell_type": "code",
   "execution_count": 65,
   "metadata": {
    "collapsed": false
   },
   "outputs": [
    {
     "name": "stdout",
     "output_type": "stream",
     "text": [
      "0.997949886105\n",
      "            importance\n",
      "support       0.151998\n",
      "user          0.115573\n",
      "users         0.059059\n",
      "network       0.029467\n",
      "software      0.019354\n",
      "web           0.019249\n",
      "provide       0.014997\n",
      "end           0.013186\n",
      "supports      0.010444\n",
      "engineer      0.009049\n",
      "providing     0.006931\n",
      "networks      0.006425\n",
      "business      0.006303\n",
      "experience    0.006294\n",
      "engineers     0.005824\n",
      "analyst       0.005732\n",
      "desktop       0.005216\n",
      "cycle         0.004628\n",
      "provides      0.004450\n",
      "customer      0.004240\n"
     ]
    }
   ],
   "source": [
    "yDegree=yUSSU\n",
    "rf.fit(x, yDegree)\n",
    "rf.score(x, yDegree)\n",
    "importances = rf.feature_importances_\n",
    "feature_importancesRF = pd.DataFrame(rf.feature_importances_,\n",
    "                                   index = x.columns,\n",
    "                                    columns=['importance']).sort_values('importance',\n",
    "                                                                        ascending=False)\n",
    "print rf.score(x, yDegree)\n",
    "print feature_importancesRF.head(20)"
   ]
  },
  {
   "cell_type": "code",
   "execution_count": 66,
   "metadata": {
    "collapsed": false
   },
   "outputs": [
    {
     "name": "stdout",
     "output_type": "stream",
     "text": [
      "0.981093394077\n",
      "              importance\n",
      "web             0.114242\n",
      "network         0.028011\n",
      "experience      0.026395\n",
      "support         0.014156\n",
      "application     0.011492\n",
      "user            0.010387\n",
      "security        0.009987\n",
      "services        0.009935\n",
      "users           0.009690\n",
      "applications    0.009657\n",
      "systems         0.008094\n",
      "hardware        0.007429\n",
      "content         0.006591\n",
      "java            0.006223\n",
      "mobile          0.005773\n",
      "networks        0.005765\n",
      "javascript      0.005698\n",
      "software        0.005230\n",
      "using           0.004917\n",
      "engineer        0.004445\n"
     ]
    }
   ],
   "source": [
    "yDegree=yWEDE\n",
    "rf.fit(x, yDegree)\n",
    "rf.score(x, yDegree)\n",
    "importances = rf.feature_importances_\n",
    "feature_importancesRF = pd.DataFrame(rf.feature_importances_,\n",
    "                                   index = x.columns,\n",
    "                                    columns=['importance']).sort_values('importance',\n",
    "                                                                        ascending=False)\n",
    "print rf.score(x, yDegree)\n",
    "print feature_importancesRF.head(20)"
   ]
  },
  {
   "cell_type": "markdown",
   "metadata": {},
   "source": [
    "# Random Forest on  train test"
   ]
  },
  {
   "cell_type": "code",
   "execution_count": 67,
   "metadata": {
    "collapsed": true
   },
   "outputs": [],
   "source": [
    "train_features=pca.fit_transform(x_train)"
   ]
  },
  {
   "cell_type": "code",
   "execution_count": 68,
   "metadata": {
    "collapsed": false
   },
   "outputs": [
    {
     "data": {
      "text/plain": [
       "((2633, 5552), (2633, 5), (2633,))"
      ]
     },
     "execution_count": 68,
     "metadata": {},
     "output_type": "execute_result"
    }
   ],
   "source": [
    "x_train.shape, train_features.shape,y_train.shape\n"
   ]
  },
  {
   "cell_type": "code",
   "execution_count": 69,
   "metadata": {
    "collapsed": false
   },
   "outputs": [],
   "source": [
    "rfTTS=RandomForestClassifier(class_weight ='balanced', n_jobs=-1)\n"
   ]
  },
  {
   "cell_type": "code",
   "execution_count": 70,
   "metadata": {
    "collapsed": false
   },
   "outputs": [
    {
     "data": {
      "text/plain": [
       "Unnamed: 0                                                       2788\n",
       "City Location                                          Cincinnati, OH\n",
       "Company Name                                              Zones, Inc.\n",
       "Degree                                                web+development\n",
       "Description         \\nWeb & Email Gateways. The design of your sol...\n",
       "Job Title           Solutions Architect, Networking Infrastructure...\n",
       "Search Criteria                                       web+development\n",
       "Source                                                         Indeed\n",
       "english                                                            en\n",
       "CleanDescription    web & email gateways. the design of your solut...\n",
       "encodedDegree                                                       5\n",
       "Name: 2634, dtype: object"
      ]
     },
     "execution_count": 70,
     "metadata": {},
     "output_type": "execute_result"
    }
   ],
   "source": [
    "listingFile.ix[2634]"
   ]
  },
  {
   "cell_type": "code",
   "execution_count": 71,
   "metadata": {
    "collapsed": true
   },
   "outputs": [],
   "source": [
    "cv = StratifiedKFold(y_train, n_folds=4, shuffle=True, random_state=41)\n",
    "# print type(y), y[0:6]\n",
    "# print type(x)"
   ]
  },
  {
   "cell_type": "code",
   "execution_count": 72,
   "metadata": {
    "collapsed": false
   },
   "outputs": [],
   "source": [
    "sTTS=cross_val_score(rfTTS,train_features,y_train,cv=cv, n_jobs=-1)"
   ]
  },
  {
   "cell_type": "code",
   "execution_count": 73,
   "metadata": {
    "collapsed": false
   },
   "outputs": [],
   "source": [
    "# s"
   ]
  },
  {
   "cell_type": "code",
   "execution_count": 74,
   "metadata": {
    "collapsed": false
   },
   "outputs": [],
   "source": [
    "rfTTS.fit(train_features, y_train)\n",
    "importances = rfTTS.feature_importances_\n",
    "std = np.std([tree.feature_importances_ for tree in rf.estimators_],\n",
    "             axis=0)\n",
    "indices = np.argsort(importances)[::-1]\n"
   ]
  },
  {
   "cell_type": "code",
   "execution_count": 75,
   "metadata": {
    "collapsed": false
   },
   "outputs": [
    {
     "data": {
      "text/plain": [
       "0.97303456133687805"
      ]
     },
     "execution_count": 75,
     "metadata": {},
     "output_type": "execute_result"
    }
   ],
   "source": [
    "rfTTS.score(train_features, y_train)"
   ]
  },
  {
   "cell_type": "code",
   "execution_count": 76,
   "metadata": {
    "collapsed": false
   },
   "outputs": [
    {
     "data": {
      "image/png": "[encoded data removed]",
      "text/plain": [
       "<matplotlib.figure.Figure at 0x118deb590>"
      ]
     },
     "metadata": {},
     "output_type": "display_data"
    }
   ],
   "source": [
    "plt.figure()\n",
    "plt.title(\"Feature importances\")\n",
    "plt.bar(range(train_features.shape[1]), importances[indices],\n",
    "       color=\"r\", yerr=std[indices], align=\"center\")\n",
    "plt.xticks(range(train_features.shape[1]), indices)\n",
    "plt.xlim([-1, train_features.shape[1]])\n",
    "plt.show()"
   ]
  },
  {
   "cell_type": "markdown",
   "metadata": {
    "collapsed": true
   },
   "source": [
    "# RF model built with PCA test data"
   ]
  },
  {
   "cell_type": "code",
   "execution_count": 77,
   "metadata": {
    "collapsed": false
   },
   "outputs": [
    {
     "data": {
      "text/plain": [
       "((2633, 5), (1757, 5552))"
      ]
     },
     "execution_count": 77,
     "metadata": {},
     "output_type": "execute_result"
    }
   ],
   "source": [
    "train_features.shape, x_test.shape\n"
   ]
  },
  {
   "cell_type": "code",
   "execution_count": 78,
   "metadata": {
    "collapsed": true
   },
   "outputs": [],
   "source": [
    "test_features=pca.transform(x_test)"
   ]
  },
  {
   "cell_type": "code",
   "execution_count": 79,
   "metadata": {
    "collapsed": false
   },
   "outputs": [
    {
     "data": {
      "text/plain": [
       "0.73705179282868527"
      ]
     },
     "execution_count": 79,
     "metadata": {},
     "output_type": "execute_result"
    }
   ],
   "source": [
    "rfTTS.score(test_features, y_test)"
   ]
  },
  {
   "cell_type": "code",
   "execution_count": 80,
   "metadata": {
    "collapsed": false
   },
   "outputs": [],
   "source": [
    "predictionsRF_test=rfTTS.predict(test_features)"
   ]
  },
  {
   "cell_type": "code",
   "execution_count": 81,
   "metadata": {
    "collapsed": false
   },
   "outputs": [
    {
     "data": {
      "text/plain": [
       "((1757,), (1757,))"
      ]
     },
     "execution_count": 81,
     "metadata": {},
     "output_type": "execute_result"
    }
   ],
   "source": [
    "y_test.shape, predictionsRF_test.shape"
   ]
  },
  {
   "cell_type": "code",
   "execution_count": 82,
   "metadata": {
    "collapsed": false
   },
   "outputs": [
    {
     "name": "stdout",
     "output_type": "stream",
     "text": [
      "[[ 80   8  13   3   5   1]\n",
      " [  6 132  53  14  11   5]\n",
      " [  5  66 237   9  19  13]\n",
      " [  1   6  20 294  15  35]\n",
      " [  3   6   8  14 322   7]\n",
      " [  4   8  29  61  14 230]]\n"
     ]
    }
   ],
   "source": [
    "print confusion_matrix(y_test, predictionsRF_test)"
   ]
  },
  {
   "cell_type": "code",
   "execution_count": 83,
   "metadata": {
    "collapsed": false
   },
   "outputs": [
    {
     "name": "stdout",
     "output_type": "stream",
     "text": [
      "      Pred USSU  Pred SODE  Pred WEDE  Pred NEMA  Pred NEED  Pred CYIT\n",
      "USSU         80          8         13          3          5          1\n",
      "SODE          6        132         53         14         11          5\n",
      "WEDE          5         66        237          9         19         13\n",
      "NEMA          1          6         20        294         15         35\n",
      "NEED          3          6          8         14        322          7\n",
      "CYIT          4          8         29         61         14        230\n"
     ]
    }
   ],
   "source": [
    "#this matrix is very telling\n",
    "conmat = np.array(confusion_matrix(y_test, predictionsRF_test))\n",
    "confusion = pd.DataFrame(conmat, index=['USSU', 'SODE', \n",
    "                         'WEDE', 'NEMA','NEED', 'CYIT'],columns=['Pred USSU', 'Pred SODE', \n",
    "                         'Pred WEDE', 'Pred NEMA','Pred NEED', 'Pred CYIT'])\n",
    "print confusion"
   ]
  },
  {
   "cell_type": "markdown",
   "metadata": {},
   "source": [
    "# K nearest neighbors entire dataset - first\n"
   ]
  },
  {
   "cell_type": "code",
   "execution_count": 84,
   "metadata": {
    "collapsed": false
   },
   "outputs": [],
   "source": [
    "x=wordsDescription"
   ]
  },
  {
   "cell_type": "code",
   "execution_count": 85,
   "metadata": {
    "collapsed": true
   },
   "outputs": [],
   "source": [
    "y=listingFile['encodedDegree']\n",
    "y.column='degree'"
   ]
  },
  {
   "cell_type": "code",
   "execution_count": 86,
   "metadata": {
    "collapsed": true
   },
   "outputs": [],
   "source": [
    "knn=KNeighborsClassifier(n_neighbors=5)\n",
    "#5 closest neighbors"
   ]
  },
  {
   "cell_type": "code",
   "execution_count": 87,
   "metadata": {
    "collapsed": false
   },
   "outputs": [
    {
     "data": {
      "text/plain": [
       "KNeighborsClassifier(algorithm='auto', leaf_size=30, metric='minkowski',\n",
       "           metric_params=None, n_jobs=1, n_neighbors=5, p=2,\n",
       "           weights='uniform')"
      ]
     },
     "execution_count": 87,
     "metadata": {},
     "output_type": "execute_result"
    }
   ],
   "source": [
    "knn.fit(x,y)"
   ]
  },
  {
   "cell_type": "code",
   "execution_count": 88,
   "metadata": {
    "collapsed": false
   },
   "outputs": [
    {
     "data": {
      "text/plain": [
       "0.76036446469248287"
      ]
     },
     "execution_count": 88,
     "metadata": {},
     "output_type": "execute_result"
    }
   ],
   "source": [
    "knn.score(x,y)"
   ]
  },
  {
   "cell_type": "code",
   "execution_count": 89,
   "metadata": {
    "collapsed": true
   },
   "outputs": [],
   "source": [
    "scores=cross_val_score(knn,x.values,y,cv=5,scoring = 'accuracy')"
   ]
  },
  {
   "cell_type": "code",
   "execution_count": 90,
   "metadata": {
    "collapsed": true
   },
   "outputs": [],
   "source": [
    "predictionsKNN=knn.predict(x)"
   ]
  },
  {
   "cell_type": "code",
   "execution_count": 91,
   "metadata": {
    "collapsed": false
   },
   "outputs": [
    {
     "name": "stdout",
     "output_type": "stream",
     "text": [
      "[[239   7  10  13   1   5]\n",
      " [ 25 369  71  71  10   6]\n",
      " [ 16  42 751  35   8  20]\n",
      " [  4   2  24 852   5  41]\n",
      " [ 23  11 110 169 567  19]\n",
      " [ 14   5  53 224   8 560]]\n"
     ]
    }
   ],
   "source": [
    "print confusion_matrix(y, predictionsKNN)"
   ]
  },
  {
   "cell_type": "code",
   "execution_count": 92,
   "metadata": {
    "collapsed": false
   },
   "outputs": [
    {
     "name": "stdout",
     "output_type": "stream",
     "text": [
      "      Pred USSU  Pred SODE  Pred WEDE  Pred NEMA  Pred NEED  Pred CYIT\n",
      "USSU        239          7         10         13          1          5\n",
      "SODE         25        369         71         71         10          6\n",
      "WEDE         16         42        751         35          8         20\n",
      "NEMA          4          2         24        852          5         41\n",
      "NEED         23         11        110        169        567         19\n",
      "CYIT         14          5         53        224          8        560\n"
     ]
    }
   ],
   "source": [
    "conmat = np.array(confusion_matrix(y, predictionsKNN))\n",
    "confusion = pd.DataFrame(conmat, index=['USSU', 'SODE', \n",
    "                         'WEDE', 'NEMA','NEED', 'CYIT'],columns=['Pred USSU', 'Pred SODE', \n",
    "                         'Pred WEDE', 'Pred NEMA','Pred NEED', 'Pred CYIT'])\n",
    "print confusion"
   ]
  },
  {
   "cell_type": "code",
   "execution_count": 93,
   "metadata": {
    "collapsed": false
   },
   "outputs": [
    {
     "name": "stdout",
     "output_type": "stream",
     "text": [
      "             precision    recall  f1-score   support\n",
      "\n",
      "          0       0.74      0.87      0.80       275\n",
      "          1       0.85      0.67      0.75       552\n",
      "          2       0.74      0.86      0.79       872\n",
      "          3       0.62      0.92      0.74       928\n",
      "          4       0.95      0.63      0.76       899\n",
      "          5       0.86      0.65      0.74       864\n",
      "\n",
      "avg / total       0.79      0.76      0.76      4390\n",
      "\n"
     ]
    }
   ],
   "source": [
    "print  classification_report(y, predictionsKNN)"
   ]
  },
  {
   "cell_type": "code",
   "execution_count": null,
   "metadata": {
    "collapsed": true
   },
   "outputs": [],
   "source": []
  },
  {
   "cell_type": "markdown",
   "metadata": {},
   "source": [
    "# Knn on PCA training set "
   ]
  },
  {
   "cell_type": "code",
   "execution_count": 94,
   "metadata": {
    "collapsed": true
   },
   "outputs": [],
   "source": [
    "knnTTS=KNeighborsClassifier(n_neighbors=5)"
   ]
  },
  {
   "cell_type": "code",
   "execution_count": 95,
   "metadata": {
    "collapsed": false
   },
   "outputs": [
    {
     "data": {
      "text/plain": [
       "KNeighborsClassifier(algorithm='auto', leaf_size=30, metric='minkowski',\n",
       "           metric_params=None, n_jobs=1, n_neighbors=5, p=2,\n",
       "           weights='uniform')"
      ]
     },
     "execution_count": 95,
     "metadata": {},
     "output_type": "execute_result"
    }
   ],
   "source": [
    "knnTTS.fit(train_features,y_train)"
   ]
  },
  {
   "cell_type": "code",
   "execution_count": 96,
   "metadata": {
    "collapsed": false
   },
   "outputs": [
    {
     "data": {
      "text/plain": [
       "0.79111279908849219"
      ]
     },
     "execution_count": 96,
     "metadata": {},
     "output_type": "execute_result"
    }
   ],
   "source": [
    "knnTTS.score(train_features,y_train)"
   ]
  },
  {
   "cell_type": "code",
   "execution_count": 97,
   "metadata": {
    "collapsed": true
   },
   "outputs": [],
   "source": [
    "predictionsKNN=knnTTS.predict(train_features)"
   ]
  },
  {
   "cell_type": "code",
   "execution_count": 98,
   "metadata": {
    "collapsed": false
   },
   "outputs": [
    {
     "name": "stdout",
     "output_type": "stream",
     "text": [
      "[[110  11  22   5   9   8]\n",
      " [ 12 218  77  13   4   7]\n",
      " [ 10  46 435   8  12  12]\n",
      " [  5  11  28 448  18  47]\n",
      " [  4   8  18  23 480   6]\n",
      " [  6  10  30  60  20 392]]\n"
     ]
    }
   ],
   "source": [
    "print confusion_matrix(y_train, predictionsKNN)"
   ]
  },
  {
   "cell_type": "code",
   "execution_count": null,
   "metadata": {
    "collapsed": true
   },
   "outputs": [],
   "source": []
  },
  {
   "cell_type": "markdown",
   "metadata": {},
   "source": [
    "# Knn on test data after being trained on training data"
   ]
  },
  {
   "cell_type": "code",
   "execution_count": 99,
   "metadata": {
    "collapsed": true
   },
   "outputs": [],
   "source": [
    "test_featuresKNN_TTS=pca.transform(x_test)"
   ]
  },
  {
   "cell_type": "code",
   "execution_count": 100,
   "metadata": {
    "collapsed": false
   },
   "outputs": [
    {
     "data": {
      "text/plain": [
       "0.73648264086511095"
      ]
     },
     "execution_count": 100,
     "metadata": {},
     "output_type": "execute_result"
    }
   ],
   "source": [
    "knnTTS.score(test_featuresKNN_TTS,y_test)"
   ]
  },
  {
   "cell_type": "code",
   "execution_count": 101,
   "metadata": {
    "collapsed": true
   },
   "outputs": [],
   "source": [
    "predictionsKNN_TTS=knnTTS.predict(test_featuresKNN_TTS)"
   ]
  },
  {
   "cell_type": "code",
   "execution_count": 102,
   "metadata": {
    "collapsed": false
   },
   "outputs": [
    {
     "name": "stdout",
     "output_type": "stream",
     "text": [
      "[[ 82   7  12   4   3   2]\n",
      " [  8 120  69  12   9   3]\n",
      " [  4  44 270   8  14   9]\n",
      " [  1  11  24 294  15  26]\n",
      " [  4  12  11  24 304   5]\n",
      " [  4  10  34  56  18 224]]\n"
     ]
    }
   ],
   "source": [
    "print confusion_matrix(y_test, predictionsKNN_TTS)"
   ]
  },
  {
   "cell_type": "code",
   "execution_count": 103,
   "metadata": {
    "collapsed": false
   },
   "outputs": [
    {
     "name": "stdout",
     "output_type": "stream",
     "text": [
      "      Pred USSU  Pred SODE  Pred WEDE  Pred NEMA  Pred NEED  Pred CYIT\n",
      "USSU         82          7         12          4          3          2\n",
      "SODE          8        120         69         12          9          3\n",
      "WEDE          4         44        270          8         14          9\n",
      "NEMA          1         11         24        294         15         26\n",
      "NEED          4         12         11         24        304          5\n",
      "CYIT          4         10         34         56         18        224\n"
     ]
    }
   ],
   "source": [
    "conmat = np.array(confusion_matrix(y_test, predictionsKNN_TTS))\n",
    "confusion = pd.DataFrame(conmat, index=['USSU', 'SODE', \n",
    "                         'WEDE', 'NEMA','NEED', 'CYIT'],columns=['Pred USSU', 'Pred SODE', \n",
    "                         'Pred WEDE', 'Pred NEMA','Pred NEED', 'Pred CYIT'])\n",
    "print confusion"
   ]
  },
  {
   "cell_type": "code",
   "execution_count": null,
   "metadata": {
    "collapsed": true
   },
   "outputs": [],
   "source": []
  },
  {
   "cell_type": "markdown",
   "metadata": {},
   "source": [
    "# Naive Bayes for clustering not going to use"
   ]
  },
  {
   "cell_type": "code",
   "execution_count": 104,
   "metadata": {
    "collapsed": true
   },
   "outputs": [],
   "source": [
    "mnb=MultinomialNB()"
   ]
  },
  {
   "cell_type": "code",
   "execution_count": 105,
   "metadata": {
    "collapsed": false
   },
   "outputs": [
    {
     "data": {
      "text/plain": [
       "MultinomialNB(alpha=1.0, class_prior=None, fit_prior=True)"
      ]
     },
     "execution_count": 105,
     "metadata": {},
     "output_type": "execute_result"
    }
   ],
   "source": [
    "mnb.fit(x,y)"
   ]
  },
  {
   "cell_type": "code",
   "execution_count": 106,
   "metadata": {
    "collapsed": false
   },
   "outputs": [
    {
     "data": {
      "text/plain": [
       "0.87175398633257406"
      ]
     },
     "execution_count": 106,
     "metadata": {},
     "output_type": "execute_result"
    }
   ],
   "source": [
    "mnb.score(x,y)"
   ]
  },
  {
   "cell_type": "code",
   "execution_count": 107,
   "metadata": {
    "collapsed": true
   },
   "outputs": [],
   "source": [
    "y_hat=mnb.predict(x)"
   ]
  },
  {
   "cell_type": "code",
   "execution_count": 108,
   "metadata": {
    "collapsed": false
   },
   "outputs": [
    {
     "name": "stdout",
     "output_type": "stream",
     "text": [
      "             precision    recall  f1-score   support\n",
      "\n",
      "          0       0.92      0.85      0.88       275\n",
      "          1       0.85      0.86      0.86       552\n",
      "          2       0.91      0.86      0.88       872\n",
      "          3       0.83      0.87      0.85       928\n",
      "          4       0.87      0.96      0.91       899\n",
      "          5       0.88      0.82      0.85       864\n",
      "\n",
      "avg / total       0.87      0.87      0.87      4390\n",
      "\n"
     ]
    }
   ],
   "source": [
    "print classification_report(y, y_hat)"
   ]
  },
  {
   "cell_type": "code",
   "execution_count": 109,
   "metadata": {
    "collapsed": false
   },
   "outputs": [
    {
     "data": {
      "text/plain": [
       "array([[233,  11,   5,   8,  10,   8],\n",
       "       [  5, 475,  25,  25,  18,   4],\n",
       "       [  5,  57, 747,  18,  34,  11],\n",
       "       [  4,   6,  13, 806,  36,  63],\n",
       "       [  1,   5,   7,  15, 861,  10],\n",
       "       [  6,   5,  21,  98,  29, 705]])"
      ]
     },
     "execution_count": 109,
     "metadata": {},
     "output_type": "execute_result"
    }
   ],
   "source": [
    "confusion_matrix(y,y_hat)"
   ]
  },
  {
   "cell_type": "code",
   "execution_count": 110,
   "metadata": {
    "collapsed": false
   },
   "outputs": [
    {
     "data": {
      "text/plain": [
       "array([[  6.14364497e-08,   8.54431458e-07,   2.80123165e-04,\n",
       "          2.42797263e-07,   9.99712438e-01,   6.27971586e-06],\n",
       "       [  1.67003867e-06,   4.27528885e-06,   2.34279916e-06,\n",
       "          1.20358367e-06,   9.99990477e-01,   3.09474982e-08],\n",
       "       [  2.09176733e-09,   1.41954694e-06,   5.73284086e-07,\n",
       "          2.97047222e-08,   9.99996145e-01,   1.83059203e-06],\n",
       "       [  4.73303420e-07,   5.27727447e-04,   2.54797621e-06,\n",
       "          9.95878352e-01,   3.58429684e-03,   6.60218636e-06],\n",
       "       [  1.72846279e-07,   1.20771876e-03,   1.03562591e-06,\n",
       "          9.98605078e-01,   9.08423865e-06,   1.76910758e-04]])"
      ]
     },
     "execution_count": 110,
     "metadata": {},
     "output_type": "execute_result"
    }
   ],
   "source": [
    "predicted_probabilities=mnb.predict_proba(x)\n",
    "predicted_probabilities[0:5]"
   ]
  },
  {
   "cell_type": "code",
   "execution_count": null,
   "metadata": {
    "collapsed": true
   },
   "outputs": [],
   "source": []
  },
  {
   "cell_type": "code",
   "execution_count": null,
   "metadata": {
    "collapsed": true
   },
   "outputs": [],
   "source": []
  },
  {
   "cell_type": "markdown",
   "metadata": {},
   "source": [
    "# K means"
   ]
  },
  {
   "cell_type": "code",
   "execution_count": 111,
   "metadata": {
    "collapsed": true
   },
   "outputs": [],
   "source": [
    "#standarizing x  Richard made me do this. I liked my results from the non-transformed data\n",
    "#but he said for KMeans the data needs to be transformed\n",
    "#everything clustered together in to one cluster\n",
    "# I think when I enter data from job description I will be able to use this\n",
    "standardizedFeatures=StandardScaler().fit_transform(wordsDescription)"
   ]
  },
  {
   "cell_type": "code",
   "execution_count": 112,
   "metadata": {
    "collapsed": true
   },
   "outputs": [],
   "source": [
    "kmeans=KMeans(6)\n",
    "kmeans.fit(standardizedFeatures)\n",
    "predicts=kmeans.predict(standardizedFeatures)"
   ]
  },
  {
   "cell_type": "code",
   "execution_count": 113,
   "metadata": {
    "collapsed": false
   },
   "outputs": [
    {
     "data": {
      "image/png": "[encoded data removed]",
      "text/plain": [
       "<matplotlib.figure.Figure at 0x188e90790>"
      ]
     },
     "metadata": {},
     "output_type": "display_data"
    }
   ],
   "source": [
    "distortions = []\n",
    "for i in range(1, 11):\n",
    "    km = KMeans(n_clusters=i, init='k-means++', n_init=10, max_iter=300, random_state=0)\n",
    "    km.fit(standardizedFeatures)\n",
    "    distortions.append(km.inertia_)\n",
    "plt.plot(range(1,11), distortions, marker='o')\n",
    "plt.xlabel('Number of clusters')\n",
    "plt.ylabel('Distortion')\n",
    "plt.show()"
   ]
  },
  {
   "cell_type": "code",
   "execution_count": 114,
   "metadata": {
    "collapsed": false
   },
   "outputs": [],
   "source": [
    "df = pd.DataFrame(standardizedFeatures, columns=wordsDescription.columns)\n",
    "\n",
    "# df.development.describe()\n",
    "# df.head()"
   ]
  },
  {
   "cell_type": "code",
   "execution_count": 115,
   "metadata": {
    "collapsed": false
   },
   "outputs": [
    {
     "data": {
      "text/plain": [
       "<matplotlib.axes._subplots.AxesSubplot at 0x11be06c10>"
      ]
     },
     "execution_count": 115,
     "metadata": {},
     "output_type": "execute_result"
    },
    {
     "data": {
      "image/png": "[encoded data removed]",
      "text/plain": [
       "<matplotlib.figure.Figure at 0x188eb5450>"
      ]
     },
     "metadata": {},
     "output_type": "display_data"
    }
   ],
   "source": [
    "wordsDescription.sum().sort_values().plot(kind='hist')"
   ]
  },
  {
   "cell_type": "code",
   "execution_count": 116,
   "metadata": {
    "collapsed": false
   },
   "outputs": [
    {
     "data": {
      "text/plain": [
       "pandas.core.frame.DataFrame"
      ]
     },
     "execution_count": 116,
     "metadata": {},
     "output_type": "execute_result"
    }
   ],
   "source": [
    "\n",
    "type(listingFile)"
   ]
  },
  {
   "cell_type": "code",
   "execution_count": 117,
   "metadata": {
    "collapsed": false
   },
   "outputs": [
    {
     "data": {
      "text/plain": [
       "(4390, 5552)"
      ]
     },
     "execution_count": 117,
     "metadata": {},
     "output_type": "execute_result"
    }
   ],
   "source": [
    "df.shape"
   ]
  },
  {
   "cell_type": "code",
   "execution_count": 118,
   "metadata": {
    "collapsed": false
   },
   "outputs": [],
   "source": [
    "df = listingFile.join(pd.DataFrame(kmeans.predict(standardizedFeatures), \n",
    "                 columns=['with standardized wordsDescription']))"
   ]
  },
  {
   "cell_type": "code",
   "execution_count": 119,
   "metadata": {
    "collapsed": false
   },
   "outputs": [
    {
     "data": {
      "text/html": [
       "<div>\n",
       "<table border=\"1\" class=\"dataframe\">\n",
       "  <thead>\n",
       "    <tr style=\"text-align: right;\">\n",
       "      <th></th>\n",
       "      <th>Unnamed: 0</th>\n",
       "      <th>City Location</th>\n",
       "      <th>Company Name</th>\n",
       "      <th>Degree</th>\n",
       "      <th>Description</th>\n",
       "      <th>Job Title</th>\n",
       "      <th>Search Criteria</th>\n",
       "      <th>Source</th>\n",
       "      <th>english</th>\n",
       "      <th>CleanDescription</th>\n",
       "      <th>encodedDegree</th>\n",
       "      <th>with standardized wordsDescription</th>\n",
       "    </tr>\n",
       "  </thead>\n",
       "  <tbody>\n",
       "    <tr>\n",
       "      <th>4385</th>\n",
       "      <td>5990</td>\n",
       "      <td>Covington, KY</td>\n",
       "      <td>Pro Mach, Inc.</td>\n",
       "      <td>network+manager</td>\n",
       "      <td>\\nCorporate Audit Manager - Job Description:. ...</td>\n",
       "      <td>Corporate Audit Manager</td>\n",
       "      <td>network+manager</td>\n",
       "      <td>Indeed</td>\n",
       "      <td>en</td>\n",
       "      <td>corporate audit  - job description:. strong in...</td>\n",
       "      <td>2</td>\n",
       "      <td>0</td>\n",
       "    </tr>\n",
       "    <tr>\n",
       "      <th>4386</th>\n",
       "      <td>5991</td>\n",
       "      <td>Dayton, OH</td>\n",
       "      <td>Kettering Health Network</td>\n",
       "      <td>network+manager</td>\n",
       "      <td>\\nReports directly to the Administrative Direc...</td>\n",
       "      <td>PHYSICAL THERAPIST</td>\n",
       "      <td>network+manager</td>\n",
       "      <td>Indeed</td>\n",
       "      <td>en</td>\n",
       "      <td>reports directly to the administrative directo...</td>\n",
       "      <td>2</td>\n",
       "      <td>0</td>\n",
       "    </tr>\n",
       "    <tr>\n",
       "      <th>4387</th>\n",
       "      <td>5992</td>\n",
       "      <td>Columbus, OH</td>\n",
       "      <td>Huntington</td>\n",
       "      <td>network+manager</td>\n",
       "      <td>\\nCompliance Group Manager - Deposit Products ...</td>\n",
       "      <td>Compliance Group Manager - Deposit Products &amp; ...</td>\n",
       "      <td>network+manager</td>\n",
       "      <td>Indeed</td>\n",
       "      <td>en</td>\n",
       "      <td>compliance group  - deposit products &amp; busines...</td>\n",
       "      <td>2</td>\n",
       "      <td>0</td>\n",
       "    </tr>\n",
       "    <tr>\n",
       "      <th>4388</th>\n",
       "      <td>5993</td>\n",
       "      <td>Springfield, OH</td>\n",
       "      <td>AMERICAN CANCER SOCIETY</td>\n",
       "      <td>network+manager</td>\n",
       "      <td>\\nCollaborate with Hospital Account Manager to...</td>\n",
       "      <td>Patient Navigator</td>\n",
       "      <td>network+manager</td>\n",
       "      <td>Indeed</td>\n",
       "      <td>en</td>\n",
       "      <td>collaborate with hospital account  to develop ...</td>\n",
       "      <td>2</td>\n",
       "      <td>0</td>\n",
       "    </tr>\n",
       "    <tr>\n",
       "      <th>4389</th>\n",
       "      <td>5994</td>\n",
       "      <td>Columbus, OH</td>\n",
       "      <td>Molina Healthcare</td>\n",
       "      <td>network+manager</td>\n",
       "      <td>\\nCertified Case Manager (CCM). RNs provide co...</td>\n",
       "      <td>Case Manager (RN)</td>\n",
       "      <td>network+manager</td>\n",
       "      <td>Indeed</td>\n",
       "      <td>en</td>\n",
       "      <td>certified case  (ccm). rns provide consultatio...</td>\n",
       "      <td>2</td>\n",
       "      <td>0</td>\n",
       "    </tr>\n",
       "  </tbody>\n",
       "</table>\n",
       "</div>"
      ],
      "text/plain": [
       "      Unnamed: 0    City Location              Company Name           Degree  \\\n",
       "4385        5990    Covington, KY            Pro Mach, Inc.  network+manager   \n",
       "4386        5991       Dayton, OH  Kettering Health Network  network+manager   \n",
       "4387        5992     Columbus, OH                Huntington  network+manager   \n",
       "4388        5993  Springfield, OH   AMERICAN CANCER SOCIETY  network+manager   \n",
       "4389        5994     Columbus, OH         Molina Healthcare  network+manager   \n",
       "\n",
       "                                            Description  \\\n",
       "4385  \\nCorporate Audit Manager - Job Description:. ...   \n",
       "4386  \\nReports directly to the Administrative Direc...   \n",
       "4387  \\nCompliance Group Manager - Deposit Products ...   \n",
       "4388  \\nCollaborate with Hospital Account Manager to...   \n",
       "4389  \\nCertified Case Manager (CCM). RNs provide co...   \n",
       "\n",
       "                                              Job Title  Search Criteria  \\\n",
       "4385                            Corporate Audit Manager  network+manager   \n",
       "4386                                 PHYSICAL THERAPIST  network+manager   \n",
       "4387  Compliance Group Manager - Deposit Products & ...  network+manager   \n",
       "4388                                  Patient Navigator  network+manager   \n",
       "4389                                  Case Manager (RN)  network+manager   \n",
       "\n",
       "      Source english                                   CleanDescription  \\\n",
       "4385  Indeed      en  corporate audit  - job description:. strong in...   \n",
       "4386  Indeed      en  reports directly to the administrative directo...   \n",
       "4387  Indeed      en  compliance group  - deposit products & busines...   \n",
       "4388  Indeed      en  collaborate with hospital account  to develop ...   \n",
       "4389  Indeed      en  certified case  (ccm). rns provide consultatio...   \n",
       "\n",
       "      encodedDegree  with standardized wordsDescription  \n",
       "4385              2                                   0  \n",
       "4386              2                                   0  \n",
       "4387              2                                   0  \n",
       "4388              2                                   0  \n",
       "4389              2                                   0  "
      ]
     },
     "execution_count": 119,
     "metadata": {},
     "output_type": "execute_result"
    }
   ],
   "source": [
    "df.tail()"
   ]
  },
  {
   "cell_type": "code",
   "execution_count": 120,
   "metadata": {
    "collapsed": false
   },
   "outputs": [],
   "source": [
    "# resultsOFClustering=df[['Degree','Search Criteria','encodedDegree','predictions_k6']]"
   ]
  },
  {
   "cell_type": "code",
   "execution_count": 121,
   "metadata": {
    "collapsed": false
   },
   "outputs": [],
   "source": [
    "#resultsOFClustering.head(1)"
   ]
  },
  {
   "cell_type": "code",
   "execution_count": 122,
   "metadata": {
    "collapsed": true
   },
   "outputs": [],
   "source": [
    "# for n_clusters in range(0,6):\n",
    "#     fig, (ax1, ax2)=plt.subplots(1,2)\n",
    "#     fig.set_size_inches(18,7)"
   ]
  },
  {
   "cell_type": "code",
   "execution_count": 123,
   "metadata": {
    "collapsed": false
   },
   "outputs": [],
   "source": [
    "clusterer = AgglomerativeClustering(n_clusters=2)\n",
    "cluster_labels = clusterer.fit_predict(standardizedFeatures)"
   ]
  },
  {
   "cell_type": "code",
   "execution_count": null,
   "metadata": {
    "collapsed": false
   },
   "outputs": [],
   "source": []
  },
  {
   "cell_type": "code",
   "execution_count": 124,
   "metadata": {
    "collapsed": false
   },
   "outputs": [],
   "source": [
    "#new_df = listingFile.join(pd.DataFrame(cluster_labels, columns=['labels']))\n",
    "#new_df.loc[(new_df['labels'] == 1), 'CleanDescription'].values # to see the actual description\n",
    "#new_df.loc[(new_df['labels'] == 1)]"
   ]
  },
  {
   "cell_type": "code",
   "execution_count": 125,
   "metadata": {
    "collapsed": false
   },
   "outputs": [],
   "source": [
    "#new_df.tail()"
   ]
  },
  {
   "cell_type": "code",
   "execution_count": 126,
   "metadata": {
    "collapsed": false
   },
   "outputs": [
    {
     "name": "stdout",
     "output_type": "stream",
     "text": [
      "('For n_clusters =', 2, 'The average silhouette_score is :', 0.57654355866850082)\n"
     ]
    },
    {
     "data": {
      "image/png": "[encoded data removed]",
      "text/plain": [
       "<matplotlib.figure.Figure at 0x189b69a50>"
      ]
     },
     "metadata": {},
     "output_type": "display_data"
    },
    {
     "name": "stdout",
     "output_type": "stream",
     "text": [
      "('For n_clusters =', 3, 'The average silhouette_score is :', 0.54453830704757156)\n"
     ]
    },
    {
     "data": {
      "image/png": "[encoded data removed]",
      "text/plain": [
       "<matplotlib.figure.Figure at 0x103eac790>"
      ]
     },
     "metadata": {},
     "output_type": "display_data"
    },
    {
     "name": "stdout",
     "output_type": "stream",
     "text": [
      "('For n_clusters =', 4, 'The average silhouette_score is :', 0.53759138458220057)\n"
     ]
    },
    {
     "data": {
      "image/png": "[encoded data removed]",
      "text/plain": [
       "<matplotlib.figure.Figure at 0x11bcb0550>"
      ]
     },
     "metadata": {},
     "output_type": "display_data"
    }
   ],
   "source": [
    "# from sklearn.cluster import AgglomerativeClustering\n",
    "\n",
    "range_n_clusters = range(2, 5)\n",
    "\n",
    "for n_clusters in range_n_clusters:\n",
    "    # Create a subplot with 1 row and 2 columns\n",
    "    fig, ax1 = plt.subplots(1)\n",
    "    fig.set_size_inches(18, 7)\n",
    "\n",
    "    # The 1st subplot is the silhouette plot\n",
    "    # The silhouette coefficient can range from -1, 1 but in this example all\n",
    "    # lie within [-0.1, 1]\n",
    "    ax1.set_xlim([-0.1, 1])\n",
    "    # The (n_clusters+1)*10 is for inserting blank space between silhouette\n",
    "    # plots of individual clusters, to demarcate them clearly.\n",
    "    ax1.set_ylim([0, len(standardizedFeatures) + (n_clusters + 1) * 10])\n",
    "\n",
    "    # Initialize the clusterer with n_clusters value and a random generator\n",
    "    # seed of 10 for reproducibility.\n",
    "    clusterer = AgglomerativeClustering(n_clusters=n_clusters)\n",
    "    cluster_labels = clusterer.fit_predict(standardizedFeatures)\n",
    "\n",
    "    # The silhouette_score gives the average value for all the samples.\n",
    "    # This gives a perspective into the density and separation of the formed\n",
    "    # clusters\n",
    "    silhouette_avg = silhouette_score(standardizedFeatures, cluster_labels)\n",
    "    print(\"For n_clusters =\", n_clusters,\n",
    "          \"The average silhouette_score is :\", silhouette_avg)\n",
    "\n",
    "    # Compute the silhouette scores for each sample\n",
    "    sample_silhouette_values = silhouette_samples(standardizedFeatures, cluster_labels)\n",
    "\n",
    "    y_lower = 10\n",
    "    for i in range(n_clusters):\n",
    "        # Aggregate the silhouette scores for samples belonging to\n",
    "        # cluster i, and sort them\n",
    "        ith_cluster_silhouette_values = \\\n",
    "            sample_silhouette_values[cluster_labels == i]\n",
    "\n",
    "        ith_cluster_silhouette_values.sort()\n",
    "\n",
    "        size_cluster_i = ith_cluster_silhouette_values.shape[0]\n",
    "        y_upper = y_lower + size_cluster_i\n",
    "\n",
    "        color = cm.spectral(float(i) / n_clusters)\n",
    "        ax1.fill_betweenx(np.arange(y_lower, y_upper),\n",
    "                          0, ith_cluster_silhouette_values,\n",
    "                          facecolor=color, edgecolor=color, alpha=0.7)\n",
    "\n",
    "        # Label the silhouette plots with their cluster numbers at the middle\n",
    "        ax1.text(-0.05, y_lower + 0.5 * size_cluster_i, str(i))\n",
    "\n",
    "        # Compute the new y_lower for next plot\n",
    "        y_lower = y_upper + 10  # 10 for the 0 samples\n",
    "\n",
    "    ax1.set_title(\"The silhouette plot for the various clusters.\")\n",
    "    ax1.set_xlabel(\"The silhouette coefficient values\")\n",
    "    ax1.set_ylabel(\"Cluster label\")\n",
    "\n",
    "    # The vertical line for average silhouette score of all the values\n",
    "    ax1.axvline(x=silhouette_avg, color=\"red\", linestyle=\"--\")\n",
    "\n",
    "    ax1.set_yticks([])  # Clear the yaxis labels / ticks\n",
    "    ax1.set_xticks([-0.1, 0, 0.2, 0.4, 0.6, 0.8, 1])\n",
    "\n",
    "    plt.show()"
   ]
  },
  {
   "cell_type": "markdown",
   "metadata": {
    "collapsed": true
   },
   "source": [
    "# without scaler so the following code is worthless - too bad\n",
    "because I like the results\n"
   ]
  },
  {
   "cell_type": "code",
   "execution_count": 128,
   "metadata": {
    "collapsed": true
   },
   "outputs": [],
   "source": [
    "kmeans=KMeans(6)\n",
    "kmeans.fit(x)\n",
    "predicts=kmeans.predict(x)"
   ]
  },
  {
   "cell_type": "code",
   "execution_count": 129,
   "metadata": {
    "collapsed": false
   },
   "outputs": [
    {
     "data": {
      "image/png": "[encoded data removed]",
      "text/plain": [
       "<matplotlib.figure.Figure at 0x15f6bf8d0>"
      ]
     },
     "metadata": {},
     "output_type": "display_data"
    }
   ],
   "source": [
    "distortions = []\n",
    "for i in range(1, 11):\n",
    "    km = KMeans(n_clusters=i, init='k-means++', n_init=10, max_iter=300, random_state=0)\n",
    "    km.fit(x)\n",
    "    distortions.append(km.inertia_)\n",
    "plt.plot(range(1,11), distortions, marker='o')\n",
    "plt.xlabel('Number of clusters')\n",
    "plt.ylabel('Distortion')\n",
    "plt.show()"
   ]
  },
  {
   "cell_type": "code",
   "execution_count": 130,
   "metadata": {
    "collapsed": true
   },
   "outputs": [],
   "source": [
    "df = listingFile.join(\n",
    "    pd.DataFrame(kmeans.predict(x), \n",
    "                 columns=['predictions_k6'])\n",
    ")"
   ]
  },
  {
   "cell_type": "code",
   "execution_count": 131,
   "metadata": {
    "collapsed": false
   },
   "outputs": [
    {
     "data": {
      "text/html": [
       "<div>\n",
       "<table border=\"1\" class=\"dataframe\">\n",
       "  <thead>\n",
       "    <tr style=\"text-align: right;\">\n",
       "      <th></th>\n",
       "      <th>Unnamed: 0</th>\n",
       "      <th>City Location</th>\n",
       "      <th>Company Name</th>\n",
       "      <th>Degree</th>\n",
       "      <th>Description</th>\n",
       "      <th>Job Title</th>\n",
       "      <th>Search Criteria</th>\n",
       "      <th>Source</th>\n",
       "      <th>english</th>\n",
       "      <th>CleanDescription</th>\n",
       "      <th>encodedDegree</th>\n",
       "      <th>predictions_k6</th>\n",
       "    </tr>\n",
       "  </thead>\n",
       "  <tbody>\n",
       "    <tr>\n",
       "      <th>0</th>\n",
       "      <td>0</td>\n",
       "      <td>Cincinnati, OH</td>\n",
       "      <td>Pro4ia, Inc.</td>\n",
       "      <td>user+support</td>\n",
       "      <td>Day-to-day desktop support. Input all service ...</td>\n",
       "      <td>Level 1/2 Desktop Support</td>\n",
       "      <td>user+support</td>\n",
       "      <td>Indeed</td>\n",
       "      <td>en</td>\n",
       "      <td>day-to-day desktop support. input all service ...</td>\n",
       "      <td>4</td>\n",
       "      <td>0</td>\n",
       "    </tr>\n",
       "    <tr>\n",
       "      <th>1</th>\n",
       "      <td>1</td>\n",
       "      <td>Columbus, OH 43215</td>\n",
       "      <td>The Woda Group, Inc.</td>\n",
       "      <td>user+support</td>\n",
       "      <td>, is seeking a *Yardi Voyager Support Speciali...</td>\n",
       "      <td>Yardi Voyager Support Specialist</td>\n",
       "      <td>user+support</td>\n",
       "      <td>Indeed</td>\n",
       "      <td>en</td>\n",
       "      <td>is seeking a yardi voyager support specialist....</td>\n",
       "      <td>4</td>\n",
       "      <td>0</td>\n",
       "    </tr>\n",
       "    <tr>\n",
       "      <th>2</th>\n",
       "      <td>2</td>\n",
       "      <td>Fort Wayne, IN</td>\n",
       "      <td>ENS Group, Inc.</td>\n",
       "      <td>user+support</td>\n",
       "      <td>Knowledge/experience supporting mobile users. ...</td>\n",
       "      <td>Service Desk Technician</td>\n",
       "      <td>user+support</td>\n",
       "      <td>Indeed</td>\n",
       "      <td>fr</td>\n",
       "      <td>knowledge/experience supporting mobile users. ...</td>\n",
       "      <td>4</td>\n",
       "      <td>0</td>\n",
       "    </tr>\n",
       "    <tr>\n",
       "      <th>3</th>\n",
       "      <td>12</td>\n",
       "      <td>Dayton, OH</td>\n",
       "      <td>Riverside Research</td>\n",
       "      <td>software+development</td>\n",
       "      <td>Produce detailed specifications for software r...</td>\n",
       "      <td>Software Developer</td>\n",
       "      <td>software+development</td>\n",
       "      <td>Indeed</td>\n",
       "      <td>en</td>\n",
       "      <td>produce detailed specifications for software r...</td>\n",
       "      <td>3</td>\n",
       "      <td>1</td>\n",
       "    </tr>\n",
       "    <tr>\n",
       "      <th>4</th>\n",
       "      <td>13</td>\n",
       "      <td>Wright-Patterson AFB, OH</td>\n",
       "      <td>Riverside Research</td>\n",
       "      <td>software+development</td>\n",
       "      <td>Software development and hardware integration ...</td>\n",
       "      <td>Software Engineer</td>\n",
       "      <td>software+development</td>\n",
       "      <td>Indeed</td>\n",
       "      <td>en</td>\n",
       "      <td>software  and hardware integration experience....</td>\n",
       "      <td>3</td>\n",
       "      <td>1</td>\n",
       "    </tr>\n",
       "  </tbody>\n",
       "</table>\n",
       "</div>"
      ],
      "text/plain": [
       "   Unnamed: 0             City Location          Company Name  \\\n",
       "0           0            Cincinnati, OH          Pro4ia, Inc.   \n",
       "1           1        Columbus, OH 43215  The Woda Group, Inc.   \n",
       "2           2            Fort Wayne, IN       ENS Group, Inc.   \n",
       "3          12                Dayton, OH    Riverside Research   \n",
       "4          13  Wright-Patterson AFB, OH    Riverside Research   \n",
       "\n",
       "                 Degree                                        Description  \\\n",
       "0          user+support  Day-to-day desktop support. Input all service ...   \n",
       "1          user+support  , is seeking a *Yardi Voyager Support Speciali...   \n",
       "2          user+support  Knowledge/experience supporting mobile users. ...   \n",
       "3  software+development  Produce detailed specifications for software r...   \n",
       "4  software+development  Software development and hardware integration ...   \n",
       "\n",
       "                          Job Title       Search Criteria  Source english  \\\n",
       "0         Level 1/2 Desktop Support          user+support  Indeed      en   \n",
       "1  Yardi Voyager Support Specialist          user+support  Indeed      en   \n",
       "2           Service Desk Technician          user+support  Indeed      fr   \n",
       "3                Software Developer  software+development  Indeed      en   \n",
       "4                 Software Engineer  software+development  Indeed      en   \n",
       "\n",
       "                                    CleanDescription  encodedDegree  \\\n",
       "0  day-to-day desktop support. input all service ...              4   \n",
       "1  is seeking a yardi voyager support specialist....              4   \n",
       "2  knowledge/experience supporting mobile users. ...              4   \n",
       "3  produce detailed specifications for software r...              3   \n",
       "4  software  and hardware integration experience....              3   \n",
       "\n",
       "   predictions_k6  \n",
       "0               0  \n",
       "1               0  \n",
       "2               0  \n",
       "3               1  \n",
       "4               1  "
      ]
     },
     "execution_count": 131,
     "metadata": {},
     "output_type": "execute_result"
    }
   ],
   "source": [
    "df.head()"
   ]
  },
  {
   "cell_type": "code",
   "execution_count": 132,
   "metadata": {
    "collapsed": true
   },
   "outputs": [],
   "source": [
    "resultsOFClustering=df[['Degree','Search Criteria','encodedDegree','predictions_k6']]"
   ]
  },
  {
   "cell_type": "code",
   "execution_count": 133,
   "metadata": {
    "collapsed": false
   },
   "outputs": [
    {
     "data": {
      "text/html": [
       "<div>\n",
       "<table border=\"1\" class=\"dataframe\">\n",
       "  <thead>\n",
       "    <tr style=\"text-align: right;\">\n",
       "      <th></th>\n",
       "      <th>Degree</th>\n",
       "      <th>Search Criteria</th>\n",
       "      <th>encodedDegree</th>\n",
       "      <th>predictions_k6</th>\n",
       "    </tr>\n",
       "  </thead>\n",
       "  <tbody>\n",
       "    <tr>\n",
       "      <th>0</th>\n",
       "      <td>user+support</td>\n",
       "      <td>user+support</td>\n",
       "      <td>4</td>\n",
       "      <td>0</td>\n",
       "    </tr>\n",
       "  </tbody>\n",
       "</table>\n",
       "</div>"
      ],
      "text/plain": [
       "         Degree Search Criteria  encodedDegree  predictions_k6\n",
       "0  user+support    user+support              4               0"
      ]
     },
     "execution_count": 133,
     "metadata": {},
     "output_type": "execute_result"
    }
   ],
   "source": [
    "resultsOFClustering.head(1)"
   ]
  },
  {
   "cell_type": "code",
   "execution_count": null,
   "metadata": {
    "collapsed": true
   },
   "outputs": [],
   "source": []
  },
  {
   "cell_type": "code",
   "execution_count": 134,
   "metadata": {
    "collapsed": false
   },
   "outputs": [
    {
     "name": "stdout",
     "output_type": "stream",
     "text": [
      "('For n_clusters =', 4, 'The average silhouette_score is :', 0.016349863103616392)\n"
     ]
    },
    {
     "data": {
      "image/png": "[encoded data removed]",
      "text/plain": [
       "<matplotlib.figure.Figure at 0x186c7d0d0>"
      ]
     },
     "metadata": {},
     "output_type": "display_data"
    },
    {
     "name": "stdout",
     "output_type": "stream",
     "text": [
      "('For n_clusters =', 5, 'The average silhouette_score is :', 0.018410479041044304)\n"
     ]
    },
    {
     "data": {
      "image/png": "[encoded data removed]",
      "text/plain": [
       "<matplotlib.figure.Figure at 0x1191d8f10>"
      ]
     },
     "metadata": {},
     "output_type": "display_data"
    },
    {
     "name": "stdout",
     "output_type": "stream",
     "text": [
      "('For n_clusters =', 6, 'The average silhouette_score is :', 0.019061747842804708)\n"
     ]
    },
    {
     "data": {
      "image/png": "[encoded data removed]",
      "text/plain": [
       "<matplotlib.figure.Figure at 0x157996e10>"
      ]
     },
     "metadata": {},
     "output_type": "display_data"
    },
    {
     "name": "stdout",
     "output_type": "stream",
     "text": [
      "('For n_clusters =', 7, 'The average silhouette_score is :', 0.019773683815561643)\n"
     ]
    },
    {
     "data": {
      "image/png": "[encoded data removed]",
      "text/plain": [
       "<matplotlib.figure.Figure at 0x11bf68510>"
      ]
     },
     "metadata": {},
     "output_type": "display_data"
    },
    {
     "name": "stdout",
     "output_type": "stream",
     "text": [
      "('For n_clusters =', 8, 'The average silhouette_score is :', 0.012580439451854953)\n"
     ]
    },
    {
     "data": {
      "image/png": "[encoded data removed]",
      "text/plain": [
       "<matplotlib.figure.Figure at 0x158413690>"
      ]
     },
     "metadata": {},
     "output_type": "display_data"
    },
    {
     "name": "stdout",
     "output_type": "stream",
     "text": [
      "('For n_clusters =', 9, 'The average silhouette_score is :', 0.013146234396470433)\n"
     ]
    },
    {
     "data": {
      "image/png": "[encoded data removed]",
      "text/plain": [
       "<matplotlib.figure.Figure at 0x11bfac110>"
      ]
     },
     "metadata": {},
     "output_type": "display_data"
    },
    {
     "name": "stdout",
     "output_type": "stream",
     "text": [
      "('For n_clusters =', 10, 'The average silhouette_score is :', 0.013322110006263767)\n"
     ]
    },
    {
     "data": {
      "image/png": "[encoded data removed]",
      "text/plain": [
       "<matplotlib.figure.Figure at 0x189b69d50>"
      ]
     },
     "metadata": {},
     "output_type": "display_data"
    },
    {
     "name": "stdout",
     "output_type": "stream",
     "text": [
      "('For n_clusters =', 11, 'The average silhouette_score is :', 0.012502007043009286)\n"
     ]
    },
    {
     "data": {
      "image/png": "[encoded data removed]",
      "text/plain": [
       "<matplotlib.figure.Figure at 0x11bd5dad0>"
      ]
     },
     "metadata": {},
     "output_type": "display_data"
    }
   ],
   "source": [
    "range_n_clusters = range(4, 12)\n",
    "\n",
    "for n_clusters in range_n_clusters:\n",
    "    # Create a subplot with 1 row and 2 columns\n",
    "    fig, ax1 = plt.subplots(1)\n",
    "    fig.set_size_inches(18, 7)\n",
    "\n",
    "    # The 1st subplot is the silhouette plot\n",
    "    # The silhouette coefficient can range from -1, 1 but in this example all\n",
    "    # lie within [-0.1, 1]\n",
    "    ax1.set_xlim([-0.1, 1])\n",
    "    # The (n_clusters+1)*10 is for inserting blank space between silhouette\n",
    "    # plots of individual clusters, to demarcate them clearly.\n",
    "    ax1.set_ylim([0, len(x) + (n_clusters + 1) * 10])\n",
    "\n",
    "    # Initialize the clusterer with n_clusters value and a random generator\n",
    "    # seed of 10 for reproducibility.\n",
    "    clusterer = KMeans(n_clusters=n_clusters, random_state=10)\n",
    "    cluster_labels = clusterer.fit_predict(x)\n",
    "\n",
    "    # The silhouette_score gives the average value for all the samples.\n",
    "    # This gives a perspective into the density and separation of the formed\n",
    "    # clusters\n",
    "    silhouette_avg = silhouette_score(x, cluster_labels)\n",
    "    print(\"For n_clusters =\", n_clusters,\n",
    "          \"The average silhouette_score is :\", silhouette_avg)\n",
    "\n",
    "    # Compute the silhouette scores for each sample\n",
    "    sample_silhouette_values = silhouette_samples(x, cluster_labels)\n",
    "\n",
    "    y_lower = 10\n",
    "    for i in range(n_clusters):\n",
    "        # Aggregate the silhouette scores for samples belonging to\n",
    "        # cluster i, and sort them\n",
    "        ith_cluster_silhouette_values = \\\n",
    "            sample_silhouette_values[cluster_labels == i]\n",
    "\n",
    "        ith_cluster_silhouette_values.sort()\n",
    "\n",
    "        size_cluster_i = ith_cluster_silhouette_values.shape[0]\n",
    "        y_upper = y_lower + size_cluster_i\n",
    "\n",
    "        color = cm.spectral(float(i) / n_clusters)\n",
    "        ax1.fill_betweenx(np.arange(y_lower, y_upper),\n",
    "                          0, ith_cluster_silhouette_values,\n",
    "                          facecolor=color, edgecolor=color, alpha=0.7)\n",
    "\n",
    "        # Label the silhouette plots with their cluster numbers at the middle\n",
    "        ax1.text(-0.05, y_lower + 0.5 * size_cluster_i, str(i))\n",
    "\n",
    "        # Compute the new y_lower for next plot\n",
    "        y_lower = y_upper + 10  # 10 for the 0 samples\n",
    "\n",
    "    ax1.set_title(\"The silhouette plot for the various clusters.\")\n",
    "    ax1.set_xlabel(\"The silhouette coefficient values\")\n",
    "    ax1.set_ylabel(\"Cluster label\")\n",
    "\n",
    "    # The vertical line for average silhouette score of all the values\n",
    "    ax1.axvline(x=silhouette_avg, color=\"red\", linestyle=\"--\")\n",
    "\n",
    "    ax1.set_yticks([])  # Clear the yaxis labels / ticks\n",
    "    ax1.set_xticks([-0.1, 0, 0.2, 0.4, 0.6, 0.8, 1])\n",
    "\n",
    "    plt.show()"
   ]
  },
  {
   "cell_type": "code",
   "execution_count": null,
   "metadata": {
    "collapsed": true
   },
   "outputs": [],
   "source": []
  },
  {
   "cell_type": "code",
   "execution_count": null,
   "metadata": {
    "collapsed": true
   },
   "outputs": [],
   "source": []
  },
  {
   "cell_type": "code",
   "execution_count": null,
   "metadata": {
    "collapsed": true
   },
   "outputs": [],
   "source": []
  },
  {
   "cell_type": "code",
   "execution_count": null,
   "metadata": {
    "collapsed": true
   },
   "outputs": [],
   "source": []
  },
  {
   "cell_type": "code",
   "execution_count": null,
   "metadata": {
    "collapsed": true
   },
   "outputs": [],
   "source": []
  },
  {
   "cell_type": "markdown",
   "metadata": {},
   "source": [
    "# Visualizing the data with TSNE"
   ]
  },
  {
   "cell_type": "code",
   "execution_count": 135,
   "metadata": {
    "collapsed": false
   },
   "outputs": [],
   "source": [
    "from sklearn.manifold import TSNE"
   ]
  },
  {
   "cell_type": "code",
   "execution_count": 136,
   "metadata": {
    "collapsed": true
   },
   "outputs": [],
   "source": [
    "tsne = TSNE()"
   ]
  },
  {
   "cell_type": "code",
   "execution_count": 137,
   "metadata": {
    "collapsed": true
   },
   "outputs": [],
   "source": [
    "graphing_data = tsne.fit_transform(x)"
   ]
  },
  {
   "cell_type": "code",
   "execution_count": 138,
   "metadata": {
    "collapsed": false
   },
   "outputs": [
    {
     "data": {
      "text/plain": [
       "array([[ -0.70569078,   4.41075587],\n",
       "       [ -5.48811839,   4.89968198],\n",
       "       [ -8.20480846,   3.53602801],\n",
       "       [ -2.43236473, -10.04377149],\n",
       "       [ -3.65460777,  -9.19675684]])"
      ]
     },
     "execution_count": 138,
     "metadata": {},
     "output_type": "execute_result"
    }
   ],
   "source": [
    "graphing_data[0:5]"
   ]
  },
  {
   "cell_type": "code",
   "execution_count": 139,
   "metadata": {
    "collapsed": false
   },
   "outputs": [
    {
     "data": {
      "text/plain": [
       "<matplotlib.collections.PathCollection at 0x1889df3d0>"
      ]
     },
     "execution_count": 139,
     "metadata": {},
     "output_type": "execute_result"
    },
    {
     "data": {
      "image/png": "[encoded data removed]",
      "text/plain": [
       "<matplotlib.figure.Figure at 0x188b0cc90>"
      ]
     },
     "metadata": {},
     "output_type": "display_data"
    }
   ],
   "source": [
    "plt.scatter(graphing_data[:,0], graphing_data[:,1])"
   ]
  },
  {
   "cell_type": "code",
   "execution_count": 140,
   "metadata": {
    "collapsed": false
   },
   "outputs": [
    {
     "data": {
      "text/plain": [
       "<matplotlib.collections.PathCollection at 0x1584aa2d0>"
      ]
     },
     "execution_count": 140,
     "metadata": {},
     "output_type": "execute_result"
    },
    {
     "data": {
      "image/png": "[encoded data removed]",
      "text/plain": [
       "<matplotlib.figure.Figure at 0x188ea0d50>"
      ]
     },
     "metadata": {},
     "output_type": "display_data"
    }
   ],
   "source": [
    "plt.scatter(graphing_data[:,0], graphing_data[:,1],\n",
    "           c=kmeans.predict(x)) "
   ]
  },
  {
   "cell_type": "code",
   "execution_count": null,
   "metadata": {
    "collapsed": true
   },
   "outputs": [],
   "source": []
  }
 ],
 "metadata": {
  "kernelspec": {
   "display_name": "Python [Root]",
   "language": "python",
   "name": "Python [Root]"
  },
  "language_info": {
   "codemirror_mode": {
    "name": "ipython",
    "version": 2
   },
   "file_extension": ".py",
   "mimetype": "text/x-python",
   "name": "python",
   "nbconvert_exporter": "python",
   "pygments_lexer": "ipython2",
   "version": "2.7.12"
  }
 },
 "nbformat": 4,
 "nbformat_minor": 0
}
